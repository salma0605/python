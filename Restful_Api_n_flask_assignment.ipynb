{
  "cells": [
    {
      "cell_type": "markdown",
      "metadata": {
        "id": "hdpbkSYscJeo"
      },
      "source": [
        "## Restful Api & Flask  Assignment questions\n"
      ]
    },
    {
      "cell_type": "markdown",
      "metadata": {
        "id": "IczqVFLwccfU"
      },
      "source": [
        "1. What is a RESTful API?\n",
        "\n",
        "Ans: A RESTful API (Representational State Transfer Application Programming Interface) in Python is an interface that allows communication between different systems over the internet, following the principles of REST architectural style. It uses standard HTTP methods (GET, POST, PUT, DELETE, PATCH) to perform operations on resources.\n",
        "\n",
        "\n",
        "Here's a breakdown of key concepts of RESTful APIs:\n",
        "\n",
        " - Resources: Everything is a resource (e.g., a user, a product, an order). Resources are identified by URIs (Uniform Resource Identifiers).\n",
        "\n",
        " - Representations: Resources have different representations (e.g., JSON, XML, HTML). Clients request the representation they need.\n",
        "\n",
        " - Statelessness: Each request from a client to a server must contain all the information needed to understand and complete the request. The server should not store any client context between requests.\n",
        "\n",
        " - Client-Server: The client and server are separate concerns. The client doesn't need to know about the server's implementation details, and vice versa.\n",
        "\n",
        " - Cacheable: Responses should be defined as cacheable or non-cacheable to improve performance.\n",
        "\n",
        " - Layered System: A client cannot ordinarily tell whether it is connected directly to the end server, or to an intermediary.\n",
        "\n",
        "\n",
        "When you build a RESTful API in Python using a framework, you'll typically define endpoints (URLs) that map to specific resources and HTTP methods.\n",
        "\n",
        "For example:\n",
        "\n",
        "  - GET /users: Get a list of all users.\n",
        "  - GET /users/{id}: Get a specific user by ID.\n",
        "  - POST /users: Create a new user.\n",
        "  - PUT /users/{id}: Update a user by ID.\n",
        "  - DELETE /users/{id}: Delete a user by ID.\n",
        "\n",
        "\n",
        "These frameworks handle the underlying complexities of web communication, allowing you to focus on the logic of your application and how it interacts with data.\n",
        "\n"
      ]
    },
    {
      "cell_type": "markdown",
      "metadata": {
        "id": "ZdACfXRWdzN-"
      },
      "source": [
        "2. Explain the concept of API specification?\n",
        "\n",
        "\n",
        "Ans:API specification in Python refers to a detailed document that outlines how an API (Application Programming Interface) functions. It serves as a contract between the API provider and the API user, detailing the available endpoints, the data format, the request and response structures, and the authentication methods.\n",
        "\n",
        "\n",
        "Key aspects of API specification:\n",
        "\n",
        " - Clarity:\n",
        "It provides a clear and unambiguous description of the API's functionality and behavior.\n",
        "\n",
        " - Standardization:\n",
        "It adheres to a specific format like OpenAPI (formerly Swagger), which allows for machine-readable descriptions. This enables automated tools to generate documentation, client libraries, and test cases.\n",
        "\n",
        " - Communication:\n",
        "It facilitates communication between developers by providing a common understanding of how the API works.\n",
        "\n",
        " - Development:\n",
        "It aids in the development process by providing a blueprint that developers can follow.\n",
        "\n",
        " - Testing:\n",
        "It allows for automated testing of the API, ensuring that it meets the specified requirements.\n",
        "\n",
        " - Maintenance:\n",
        "It simplifies API maintenance by providing a reference point for understanding and modifying the API.\n",
        "\n",
        "How API specifications are used:\n",
        "\n",
        "\n",
        " - Documentation:\n",
        "API specifications can be used to generate interactive documentation that developers can use to understand and use the API.\n",
        "\n",
        " - Code generation:\n",
        "Tools can use API specifications to generate client libraries in various programming languages, simplifying API integration.\n",
        "\n",
        " - Testing:\n",
        "API specifications can be used to generate test cases that can be used to verify the API's functionality.\n",
        "\n",
        " - API gateway:\n",
        "API specifications can be used by API gateways to route requests to the appropriate API endpoints.\n",
        "\n",
        "Popular Python tools and libraries for API specification:\n",
        "\n",
        " - OpenAPI (Swagger): A widely used standard for describing RESTful APIs.\n",
        "\n",
        " - FastAPI: A modern, high-performance web framework that automatically generates OpenAPI specifications.\n",
        "\n",
        " - Flask-RESTx: An extension for Flask that provides a set of tools for building RESTful APIs with OpenAPI support.\n",
        "\n",
        " - drf-yasg: A library for Django REST Framework that generates OpenAPI specifications.\n",
        "\n",
        "\n",
        "API specification in Python is a critical aspect of API development, ensuring that APIs are well-defined, easy to use, and maintainable. It promotes interoperability and reduces the effort required to integrate different systems."
      ]
    },
    {
      "cell_type": "markdown",
      "metadata": {
        "id": "tarJcyoDfHH6"
      },
      "source": [
        "3.  What is Flask, and why is it popular for building APIs?\n",
        "\n",
        "\n",
        "Ans:Flask is a lightweight and flexible micro web framework for Python. It's called a \"micro\" framework because it doesn't include built-in features for things like database abstraction, form validation, or other components that larger frameworks like Django provide out-of-the-box. Instead, Flask provides the core necessities for building web applications and allows developers to choose and integrate extensions for additional functionality as needed.\n",
        "\n",
        "Here's why Flask is popular for building APIs in Python:\n",
        "\n",
        " - Simplicity and Minimalism: Flask has a small core and is easy to learn and understand. This makes it quick to get started and build simple APIs.\n",
        "\n",
        " - Flexibility: Due to its minimalist nature, Flask doesn't impose many constraints on how you structure your project. You have a lot of freedom to design your API in the way that best suits your needs.\n",
        "\n",
        " - Extensibility: Flask has a rich ecosystem of extensions that provide various functionalities, such as:\n",
        "\n",
        " - Flask-RESTful or Flask-RESTx: For building RESTful APIs with features like resource routing, request parsing, and response formatting.\n",
        "\n",
        " - Flask-SQLAlchemy: For working with databases.\n",
        "\n",
        " - Flask-JWT-Extended: For implementing JSON Web Token (JWT) based authentication.\n",
        "\n",
        " - Flask-Marshmallow: For object serialization and deserialization.\n",
        "\n",
        " - Flask-Cors: For handling Cross-Origin Resource Sharing (CORS).\n",
        "\n",
        " - Large Community and Documentation: Flask has a large and active community, which means you can easily find resources, tutorials, and help when you encounter issues. The documentation is also well-written and comprehensive.\n",
        "\n",
        " - Suitable for Microservices: Its lightweight nature makes Flask a good choice for building microservices, where you need small, independent services that communicate with each other through APIs.\n",
        "\n",
        " - Easy to Integrate: Flask can be easily integrated with other libraries and tools in the Python ecosystem.\n",
        "\n",
        "While Flask requires you to make more decisions and add more components yourself compared to a full-stack framework like Django, its simplicity and flexibility are often preferred for building APIs, especially when you want fine-grained control over your application's structure and dependencies. It allows you to build exactly what you need without carrying the overhead of features you might not use."
      ]
    },
    {
      "cell_type": "markdown",
      "metadata": {
        "id": "E1v8SKrigI2m"
      },
      "source": [
        "4.  What is routing in Flask?\n",
        "\n",
        "\n",
        "Ans:Routing in Flask is the process of mapping URLs to specific functions in your Python code. It allows you to define how your application should respond to different requests from users. When a user enters a URL in their browser, Flask uses routing to determine which function should be executed and what content should be displayed.\n",
        "\n",
        "\n",
        "In other words In Flask, routing is the mechanism that links a specific URL path to a Python function within your application. Think of it as directing incoming web requests to the correct part of your code that's designed to handle them.\n",
        "\n",
        "When a user types a URL into their browser or a client makes an API call to your Flask application, Flask looks at the URL path. Based on the routes you've defined, it determines which Python function should be executed to generate the response.\n",
        "\n",
        "You define routes in Flask using the @app.route() decorator. You place this decorator directly above the function that you want to handle requests for a particular URL.\n",
        "\n",
        "\n",
        "\n",
        "Here are the key concepts of routing in Flask:\n",
        "\n",
        "\n",
        " - Route Decorator:\n",
        "The @app.route() decorator is used to bind a URL to a function. It takes the URL as an argument and is placed above the function that should handle that route.\n",
        "\n",
        " - URL Mapping:\n",
        "Flask maintains a mapping of URLs to Python functions. When a request comes in, Flask looks for a matching URL and executes the corresponding function.\n",
        "\n",
        " - Dynamic URLs:\n",
        "Flask allows you to create dynamic URLs by using variable parts within the URL. For example, you can define a route like /user/<username> where <username> is a variable that can be accessed within the function.\n",
        "\n",
        " - HTTP Methods:\n",
        "You can specify which HTTP methods (GET, POST, etc.) a route should handle. This allows you to have different functions for handling different types of requests to the same URL.\n",
        "\n",
        " - Multiple Routes:\n",
        "You can bind multiple URLs to the same function by using multiple route decorators above the function.\n",
        "\n",
        " - URL Generation:\n",
        "Flask provides the url_for() function to generate URLs based on the name of the function, which is useful for creating links within your application.\n",
        "\n",
        "\n",
        "\n",
        "\n",
        "Routing in Flask is a crucial mechanism that allows you to structure your web application by mapping URLs to specific functionalities. It provides flexibility and control over how your application handles different requests."
      ]
    },
    {
      "cell_type": "markdown",
      "metadata": {
        "id": "1fk-bj-xjbNS"
      },
      "source": [
        "5. How do you create a simple Flask application?\n",
        "\n",
        "Ans:Here's how to create a basic Flask application in Python:\n",
        "\n",
        "1. Installation\n",
        "Make sure you have Python installed and Install Flask using pip.\n",
        "\n",
        "\n",
        "\n",
        "2. Create a Python file\n",
        "Create a file named app.py (or any name you like).\n",
        "\n",
        "\n",
        "3. Write the Code\n",
        "Add the following code to your app.py file:\n",
        "\n",
        "\n",
        "    from flask import Flask\n",
        "\n",
        "    app = Flask(__name__)\n",
        "\n",
        "    @app.route('/')\n",
        "    def hello_world():\n",
        "        return 'Hello, World!'\n",
        "\n",
        "    if __name__ == '__main__':\n",
        "        app.run(debug=True)\n",
        "\n",
        "\n",
        "4. Explanation\n",
        "\n",
        " - from flask import Flask: Imports the Flask class.\n",
        "\n",
        " - app = Flask(__name__): Creates an instance of the Flask class. __name__ helps Flask locate resources.\n",
        "\n",
        " - @app.route('/'): Decorator that associates the / URL route with the hello_world function.\n",
        "\n",
        " - def hello_world():: Defines the function that will be executed when the / route is accessed. It returns \"Hello, World!\"\n",
        "\n",
        " - if __name__ == '__main__':: Ensures the app is run only when the script is executed directly.\n",
        "app.run(debug=True): Starts the development server in debug mode.\n",
        "\n",
        "\n",
        "5. Run the Application\n",
        "Open your terminal or command prompt.\n",
        "Navigate to the directory containing your app.py file.\n"
      ]
    },
    {
      "cell_type": "markdown",
      "metadata": {
        "id": "tqfowsE0lG8R"
      },
      "source": [
        "6.  What are HTTP methods used in RESTful APIs?\n",
        "\n",
        "\n",
        "Ans: In RESTful APIs, HTTP methods (also known as HTTP verbs) are used to indicate the desired action to be performed on a resource. When building RESTful APIs in Python, you'll primarily work with the following standard HTTP methods:\n",
        "\n",
        "1.  GET: Used to request data from a specified resource. GET requests should only retrieve data and should have no other effect on the data.\n",
        "\n",
        " - Python Usage: In Flask or other frameworks, you define a route that responds to GET requests using @app.route('/resource', methods=['GET']) or just @app.route('/resource') as GET is the default.\n",
        "\n",
        "2. POST: Used to send data to a server to create or update a resource. The data is included in the body of the request.\n",
        "\n",
        " - Python Usage: You define a route that responds to POST requests using @app.route('/resource', methods=['POST']). You would typically access the data sent in the request body using request.form, request.json, or similar objects provided by the framework.\n",
        "\n",
        "3. PUT: Used to update a resource or create a new resource if it doesn't exist. PUT is idempotent, meaning that making the same PUT request multiple times should have the same effect as making it once.\n",
        "\n",
        " - Python Usage: You define a route that responds to PUT requests using @app.route('/resource/<id>', methods=['PUT']). The <id> in the URL indicates the specific resource to be updated.\n",
        "\n",
        "4. DELETE: Used to delete a specified resource.\n",
        "\n",
        " - Python Usage: You define a route that responds to DELETE requests using @app.route('/resource/<id>', methods=['DELETE']). The <id> indicates the resource to be deleted.\n",
        "\n",
        "5.  PATCH: Used to apply partial modifications to a resource. Unlike PUT, which replaces the entire resource, PATCH applies incremental changes.\n",
        "\n",
        " - Python Usage: You define a route that responds to PATCH requests using @app.route('/resource/<id>', methods=['PATCH']). You would process the partial data sent in the request body to update the resource.\n",
        "\n",
        "6. HEAD: Similar to GET, but it only requests the headers of a response, not the body. This is useful for checking if a resource exists or getting metadata about a resource without downloading the entire content.\n",
        "\n",
        " - Python Usage: You can define a route with methods=['HEAD'].\n",
        "\n",
        "7. OPTIONS: Used to describe the communication options for the target resource. A client can use this to determine which HTTP methods are allowed on a resource.\n",
        "\n",
        " - Python Usage: Frameworks often handle OPTIONS requests automatically, especially in the context of CORS (Cross-Origin Resource Sharing).\n",
        "\n",
        "When building RESTful APIs in Python, you'll use these HTTP methods in conjunction with your routes to define the actions that can be performed on your resources. The framework you use (like Flask, Django REST Framework, or FastAPI) provides the tools to easily handle these different request types and access the data sent by the client."
      ]
    },
    {
      "cell_type": "markdown",
      "metadata": {
        "id": "HR2xwgGbm9UG"
      },
      "source": [
        "  7. What is the purpose of the @app.route() decorator in Flask?\n",
        "\n",
        "  Ans:The @app.route() decorator in Flask is a fundamental tool used to establish URL routing. Its primary purpose is to associate a specific URL path with a Python function that should be executed when a request is made to that URL.\n",
        "\n",
        "In simpler terms, it tells your Flask application: \"When you receive an HTTP request for this URL path, run this particular Python function.\"\n",
        "\n",
        "Here's a breakdown of its purpose and how it works:\n",
        "\n",
        "1. Mapping URLs to Functions: The core function of @app.route() is to create a mapping between a URL string (like /, /users, or /products/<int:product_id>) and the function defined immediately below the decorator. This allows you to organize your application logic by associating different pieces of functionality with different URLs.\n",
        "\n",
        "\n",
        "2. Handling Incoming Requests: When a client (like a web browser or another application) sends an HTTP request to your Flask server, Flask examines the requested URL. It then looks for a matching route that you've defined using @app.route(). If a match is found, the corresponding function is executed.\n",
        "\n",
        "3. Defining Endpoints: In the context of building APIs, each @app.route() definition represents an API endpoint. Clients interact with your API by sending requests to these defined endpoints.\n",
        "\n",
        "4. Specifying HTTP Methods: The @app.route() decorator also allows you to specify which HTTP methods (GET, POST, PUT, DELETE, etc.) the route should respond to using the methods argument (e.g., @app.route('/data', methods=['POST'])). This is essential for building RESTful APIs where different methods on the same URL perform different actions.\n",
        "\n",
        "5. Creating Dynamic URLs: The decorator supports variable parts in the URL (e.g., <username> in /users/<username>). These variable parts are captured by Flask and passed as arguments to the decorated function, allowing you to create dynamic routes that can handle requests for different resources based on the URL.\n",
        "\n",
        "\n",
        "The @app.route() decorator is the cornerstone of defining how your Flask application responds to incoming web requests, directing traffic to the appropriate functions based on the requested URL and HTTP method."
      ]
    },
    {
      "cell_type": "markdown",
      "metadata": {
        "id": "her6T7q6pDG8"
      },
      "source": [
        "8. What is the difference between GET and POST HTTP methods?\n",
        "\n",
        "\n",
        "Ans:The GET and POST HTTP methods are two of the most fundamental methods used in web communication, and understanding their differences is crucial when building web applications and APIs in Python (or any other language).\n",
        "\n",
        "Here's a breakdown of their key distinctions:\n",
        "\n",
        "-GET Method:\n",
        "\n",
        "1. Purpose: Used to request data from a specified resource.\n",
        "\n",
        "2. Data Transmission: Data is sent in the URL as query parameters (e.g., /users?id=123&status=active).\n",
        "\n",
        "3. Visibility: Data sent in GET requests is visible in the URL and browser history.\n",
        "\n",
        "4. Security: Not suitable for sending sensitive data (like passwords) because the data is exposed in the URL.\n",
        "\n",
        "5. Idempotence: GET requests should be idempotent, meaning that making the same GET request multiple times should have the same effect as making it once (it just retrieves data, it doesn't change the server state).\n",
        "\n",
        "6. Cacheable: GET responses can be cached by browsers and intermediaries.\n",
        "\n",
        "7. Request Body: GET requests typically do not have a request body.\n",
        "\n",
        "\n",
        "-POST Method:\n",
        "\n",
        "1. Purpose: Used to send data to a server to create or update a resource.\n",
        "\n",
        "2. Data Transmission: Data is sent in the body of the HTTP request, not in the URL.\n",
        "\n",
        "3. Visibility: Data sent in POST requests is not visible in the URL (though it can be seen in network requests).\n",
        "\n",
        "4. Security: More suitable for sending sensitive data because the data is not exposed in the URL.\n",
        "\n",
        "5. Idempotence: POST requests are generally not idempotent. Making the same POST request multiple times can result in multiple creations or changes on the server.\n",
        "\n",
        "6. Cacheable: POST responses are generally not cacheable by default.\n",
        "\n",
        "7.Request Body: POST requests typically have a request body containing the data to be sent to the server.\n",
        "\n",
        "-In the context of Python (Flask, Django, FastAPI, etc.):\n",
        "\n",
        " - You define routes in your framework to handle specific HTTP methods.\n",
        "\n",
        " - For a GET request in Flask, you might access query parameters using request.args.\n",
        "\n",
        " - For a POST request in Flask, you would access the data in the request body using request.form (for form data) or request.json (for JSON data).\n",
        "\n",
        "\n",
        "-Analogy:\n",
        "\n",
        "Imagine you're asking for information from a library:\n",
        "\n",
        " - GET: You tell the librarian the book title and author out loud (in the URL) to get the book. You can ask for the same book multiple times, and you'll get the same result.\n",
        "\n",
        " - POST: You fill out a form with details about a new book you want to donate (in the request body) and give it to the librarian. Filling out the form multiple times would mean donating multiple copies of the book.\n",
        "\n",
        "\n",
        "use GET for retrieving data and POST for submitting data that creates or modifies resources on the server."
      ]
    },
    {
      "cell_type": "markdown",
      "metadata": {
        "id": "F-Ioh6nUqx1_"
      },
      "source": [
        "9.  How do you handle errors in Flask APIs?\n",
        "\n",
        "\n",
        "Ans:Handling errors gracefully is a crucial part of building robust APIs. In Flask, you can handle errors in several ways:\n",
        "\n",
        "1. Using abort():\n",
        "\n",
        " - The flask.abort() function is the simplest way to raise an HTTP error. You pass it an HTTP status code (e.g., 400 for a bad request, 404 for not found, 500 for internal server error).\n",
        "\n",
        " - When abort() is called, Flask stops processing the request and returns a standard error response with the specified status code.\n",
        "\n",
        "\n",
        "\n",
        " 2. Using errorhandler() Decorator:\n",
        "\n",
        "   - The @app.errorhandler() decorator allows you to define custom response functions for specific HTTP status codes or exceptions.\n",
        "\n",
        "   - This is useful for providing more informative or user-friendly error messages, often in a structured format like JSON for APIs.\n",
        "\n",
        "  - The decorated function receives the error as an argument.\n",
        "\n",
        "3. Returning a Tuple:\n",
        "\n",
        " - A common pattern in Flask is to return a tuple from a view function: (response, status_code, headers). You can use this to explicitly set the HTTP status code for a response, including error responses.\n",
        "\n",
        "4. Handling Exceptions:\n",
        "\n",
        " - You can use standard Python try...except blocks to catch specific exceptions that might occur during request processing.\n",
        "\n",
        " - Within the except block, you can return an appropriate error response.\n",
        "\n",
        "-Best Practices for API Error Handling:\n",
        "\n",
        " - Use Appropriate HTTP Status Codes: Always return the correct HTTP status code to indicate the type of error (e.g., 4xx for client errors, 5xx for server errors).\n",
        "\n",
        " - Provide Consistent Error Responses: Structure your error responses consistently (e.g., always return a JSON object with an \"error\" key and a descriptive message).\n",
        "\n",
        " - Include Descriptive Error Messages: Provide clear and helpful messages that explain what went wrong.\n",
        "\n",
        " - Avoid Leaking Sensitive Information: Do not include internal error details or sensitive information in error responses that are exposed to clients.\n",
        "\n",
        " - Log Errors: Log errors on the server-side for debugging and monitoring.\n",
        "\n",
        "By implementing these error handling strategies, you can build more robust and user-friendly Flask APIs"
      ]
    },
    {
      "cell_type": "markdown",
      "metadata": {
        "id": "lhiycwITtAos"
      },
      "source": [
        "10.  How do you connect Flask to a SQL database?\n",
        "\n",
        "\n",
        "Ans:Connecting Flask to a SQL database is a common task when building web applications and APIs. A popular and flexible way to do this in Python is by using SQLAlchemy, a powerful and versatile Object-Relational Mapper (ORM).\n",
        "\n",
        "Here's a step-by-step guide using Flask-SQLAlchemy, a Flask extension that integrates SQLAlchemy with Flask:\n",
        "\n",
        "1. Install Necessary Libraries\n",
        "\n",
        "You'll need Flask and Flask-SQLAlchemy. If you're using a specific database like SQLite, PostgreSQL, or MySQL, you'll also need the corresponding database connector library (e.g., psycopg2 for PostgreSQL, mysql-connector-python for MySQL). For this example, we'll use SQLite, which doesn't require an extra connector as it's built into Python.\n",
        "\n",
        "\n",
        "2. Configure the Database Connection\n",
        "\n",
        "You need to tell your Flask application where your database is located. You do this by setting the SQLALCHEMY_DATABASE_URI configuration key. For SQLite, you can use a relative path.\n",
        "\n",
        "\n",
        "3. Define a Database Model\n",
        "\n",
        "Using SQLAlchemy's ORM, you define Python classes that represent your database tables. These classes inherit from db.Model.\n",
        "\n",
        "\n",
        "\n",
        "    \n",
        "4. Create the Database Tables\n",
        "\n",
        "After defining your models, you need to create the actual tables in your database. You can do this from within a Python shell or a separate script.\n",
        "\n",
        "\n",
        "5. Add Data and Query the Database\n",
        "\n",
        "Now you can use SQLAlchemy's session to add, query, update, and delete data in your database within your Flask routes.\n",
        "\n",
        "Running the Application:\n",
        "\n",
        "1. Save the code as a Python file (e.g., app.py).\n",
        "\n",
        "2. Open a terminal or command prompt.\n",
        "\n",
        "3. Navigate to the directory where you saved the file.\n",
        "\n",
        "4. Run the db.create_all() step first (you might need to run it in an interactive Python session or a separate script with the app context).\n",
        "\n",
        "5. Then, run your Flask application: python app.py.\n",
        "\n",
        "6. In Google Colab, you'll get a public URL to access your running application. You can then visit /add_user/yourusername/youremail@example.com to add a user and /users to see the list of users.\n",
        "\n",
        "\n",
        "Key points:\n",
        "\n",
        " - Database URI: The SQLALCHEMY_DATABASE_URI config determines the database type and connection details.\n",
        "\n",
        " - Models: Classes that represent database tables.\n",
        "\n",
        " - SQLAlchemy: Provides methods for querying, adding, updating, and deleting data.\n",
        "\n",
        " - Sessions: Used for managing database transactions.\n",
        "\n",
        " - create_all(): Creates the database tables based on your models.\n",
        "\n",
        " - app_context(): Ensures that database operations are performed within the Flask application context.\n",
        "\n",
        "\n",
        "\n"
      ]
    },
    {
      "cell_type": "markdown",
      "metadata": {
        "id": "KMSfGNA1v0Cu"
      },
      "source": [
        "11. What is the role of Flask-SQLAlchemy?\n",
        "\n",
        "\n",
        "\n",
        "Ans:Flask-SQLAlchemy is a Flask extension that simplifies the use of SQLAlchemy with Flask applications. SQLAlchemy is a powerful SQL toolkit and Object-Relational Mapper (ORM) for Python. Flask-SQLAlchemy provides tools and methods to interact with databases in a Flask application through SQLAlchemy.\n",
        "\n",
        "Here's a breakdown of its role:\n",
        "\n",
        "1. Database Interaction:\n",
        "Flask-SQLAlchemy enables Flask applications to easily connect to and interact with relational databases like SQLite, MySQL, and PostgreSQL.\n",
        "It allows developers to perform common database tasks such as creating, reading, updating, and deleting data.\n",
        "\n",
        "\n",
        "2. Object-Relational Mapping (ORM):\n",
        "It provides an ORM, allowing you to define database models as Python classes. This means you can interact with the database using Python objects and methods instead of writing raw SQL queries.\n",
        "The ORM simplifies database operations by abstracting away the complexities of SQL.\n",
        "\n",
        "\n",
        "3. Simplified Database Management:\n",
        "Flask-SQLAlchemy supports database migrations, making it easier to manage changes to your database schema over time.\n",
        "It integrates with Flask-Migrate, a Flask extension based on Alembic, to manage database migrations.\n",
        "\n",
        "\n",
        "4. Integration with Flask:\n",
        "It seamlessly integrates with Flask, providing a convenient way to manage database connections and perform operations within your Flask application.\n",
        "It minimizes conflicts with Flask, allowing you to refer to the Flask documentation without problems.\n",
        "\n",
        "\n",
        "5. Abstraction of SQL:\n",
        "By providing an ORM, Flask-SQLAlchemy allows you to interact with databases using Pythonic code, reducing the need to write and manage SQL queries directly.\n",
        "It automatically translates Python code into SQL queries, making it easier to develop and maintain database-driven applications.\n",
        "\n",
        "6. Supported Databases:\n",
        "Flask-SQLAlchemy supports multiple database systems, including SQLite, MySQL, and PostgreSQL.\n",
        "\n",
        "\n",
        "Flask-SQLAlchemy bridges the gap between Flask and SQLAlchemy, providing a simplified and efficient way to manage databases in Flask applications. It offers an ORM that allows you to interact with databases using Python objects, making database operations more intuitive and less error-prone."
      ]
    },
    {
      "cell_type": "markdown",
      "metadata": {
        "id": "d38uobLFwwYn"
      },
      "source": [
        "12. What are Flask blueprints, and how are they useful?\n",
        "\n",
        "\n",
        "Ans:Flask Blueprints are a way to organize your Flask application into smaller, reusable components. They allow you to structure your application in a modular way, especially as it grows in size and complexity.\n",
        "\n",
        "Think of a blueprint as a template or a section of your application that can define:\n",
        "\n",
        " - Routes: URL endpoints and the functions that handle them.\n",
        "\n",
        " - Templates: HTML files for rendering responses.\n",
        "\n",
        " - Static Files: CSS, JavaScript, and image files.\n",
        "\n",
        " - Error Handlers: Custom functions to handle errors within the blueprint.\n",
        "\n",
        " - Other application-specific configurations.\n",
        "\n",
        "\n",
        "How they are useful:\n",
        "\n",
        " - Modularity and Organization: Blueprints help break down a large application into logical, self-contained parts. For example, you could have separate blueprints for user management, blog posts, and an admin panel. This makes your codebase easier to understand, maintain, and navigate.\n",
        "\n",
        " - Reusability: A blueprint can be registered with multiple Flask applications. This is particularly useful if you have common functionality that you want to share across different projects or different parts of the same large project.\n",
        "\n",
        " - URL Prefixing: Blueprints can be registered with a URL prefix. This means all routes defined within that blueprint will automatically have the specified prefix. For example, if you register a \"admin\" blueprint with the prefix /admin, a route defined as /dashboard within the blueprint will be accessible at /admin/dashboard.\n",
        "\n",
        " - Separation of Concerns: Blueprints promote the separation of concerns by allowing you to group related functionalities together. This makes your code cleaner and easier to manage.\n",
        "\n",
        " - Scalability: As your application grows, using blueprints helps manage the increasing number of routes, views, and other components, making the application more scalable.\n",
        "\n",
        "\n",
        "Example:\n",
        "\n",
        " - Imagine you have a Flask application with user authentication and blog features. Without blueprints, all your routes and views would be in one large file. With blueprints, you could create:\n",
        "\n",
        " - A auth_bp blueprint for registration, login, and logout routes.\n",
        "A blog_bp blueprint for creating, viewing, and editing blog posts.\n",
        "You would then register these blueprints with your main Flask application instance.\n",
        "\n",
        "\n",
        "\n",
        "Flask blueprints are a powerful feature for structuring your Flask applications in a modular, organized, and reusable way, which is essential for building larger and more maintainable web applications and APIs."
      ]
    },
    {
      "cell_type": "markdown",
      "metadata": {
        "id": "vMhHQfHIx-da"
      },
      "source": [
        "13. What is the purpose of Flask's request object?\n",
        "\n",
        "\n",
        "\n",
        "Ans:In Flask, the request object is a global object that holds all the incoming request data from the client. It's a crucial part of handling requests in your Flask application because it provides access to information like:\n",
        "\n",
        " - Request Method: The HTTP method used for the request (GET, POST, PUT, DELETE, etc.). You can access this using request.method.\n",
        "\n",
        " - URL Data: Information from the URL, such as the path (request.path), the full URL (request.url), and any query parameters (request.args). request.args is a dictionary-like object containing the key-value pairs from the query string.\n",
        "\n",
        " - Request Body Data: For methods like POST, PUT, and PATCH, the request object provides access to the data sent in the request body.\n",
        "\n",
        "  - request.form: For form data (e.g., data from HTML forms with enctype=\"application/x-www-form-urlencoded\").\n",
        "\n",
        "  - request.json: For JSON data sent in the request body. This is very common in APIs. Flask automatically parses the JSON data into a Python dictionary if the Content-Type header is application/json.\n",
        "\n",
        "   - request.data: Contains the raw request body data as bytes.\n",
        "\n",
        " - Headers: Access to the request headers sent by the client (request.headers). This is a dictionary-like object where keys are header names (case-insensitive).\n",
        "\n",
        "\n",
        " - Cookies: Access to cookies sent by the client (request.cookies). This is a dictionary-like object.\n",
        "\n",
        " - Files: Access to uploaded files (request.files). This is a dictionary-like object where keys are the names of the file input fields in the form.\n",
        "\n",
        " - Client Information: Information about the client, such as the remote address (request.remote_addr).\n",
        "\n",
        "\n",
        "-Why is the request object important:\n",
        "\n",
        "When a client sends a request to your Flask application, the request object is populated with all the details of that request. Your view functions (the Python functions that handle routes) use the request object to:\n",
        "\n",
        " - Determine what the client is asking for (based on the URL and HTTP method).\n",
        "\n",
        " - Access data sent by the client (e.g., form submissions, JSON payloads, query parameters).\n",
        "\n",
        " - Retrieve information about the client or the request itself (headers, cookies, etc.).\n",
        "\n",
        "\n",
        "\n",
        "The request object is your gateway to accessing all the information about an incoming client request in Flask, enabling your application to understand and respond to client interactions."
      ]
    },
    {
      "cell_type": "markdown",
      "metadata": {
        "id": "OzCOr-G8zx9c"
      },
      "source": [
        "14. How do you create a RESTful API endpoint using Flask?\n",
        "\n",
        "\n",
        "\n",
        "Ans:Here's how to create a RESTful API endpoint using Flask in Python:\n",
        "\n",
        "\n",
        "1. Set up your environment:\n",
        "install flask.\n",
        "\n",
        "You may also need flask-restful for more advanced features:\n",
        "pip install flask-restful.\n",
        "\n",
        "2. Create a Flask Application:\n",
        "Create a Python file (e.g., api.py) and import Flask:\n",
        "\n",
        "3. Define Resources (Endpoints):\n",
        "Using Flask-RESTful.\n",
        "\n",
        " - This creates a resource HelloWorld that responds to GET requests at the root URL (/). Using Flask directly.\n",
        "\n",
        "    \n",
        "\n",
        "4. Implement HTTP Methods:\n",
        "\n",
        " - GET: Retrieve data.\n",
        "\n",
        " - POST: Create new data.\n",
        "\n",
        " - PUT: Update existing data.\n",
        "\n",
        " - DELETE: Remove data.\n",
        "\n",
        "5. Run the Flask App:\n",
        "Add the following to the end of your api.py file.\n",
        "\n",
        "\n",
        "    \n",
        "Key Points:\n",
        "\n",
        "\n",
        " - Use jsonify to return JSON responses.\n",
        "\n",
        " - Use request to access data from incoming requests (e.g., request.get_json()).\n",
        "\n",
        " - Use status codes (e.g., 200 for OK, 201 for Created, 404 for Not Found).\n",
        "\n",
        " - Use dynamic URLs to handle specific resources (e.g., /items/123).\n",
        "\n",
        " - Consider using Flask-RESTful for more structured APIs.\n",
        "\n",
        " - For production, disable debug=True"
      ]
    },
    {
      "cell_type": "markdown",
      "metadata": {
        "id": "jlAWxuGB2VF0"
      },
      "source": [
        "15. What is the purpose of Flask's jsonify() function?\n",
        "\n",
        "\n",
        "\n",
        "Ans:The jsonify() function in Flask serves to convert Python data structures, such as dictionaries and lists, into a JSON (JavaScript Object Notation) formatted response. This is essential for building web APIs that communicate with clients using JSON, a standard data format for web communication.\n",
        "\n",
        "Here's a breakdown of its purpose:\n",
        "\n",
        " - Automatic JSON Conversion:\n",
        "It takes Python objects and serializes them into a JSON string, which is the format required for web responses.\n",
        "\n",
        " - Setting Content-Type Header:\n",
        "jsonify() automatically sets the Content-Type header of the HTTP response to application/json. This tells the client that the response is in JSON format, enabling proper parsing and interpretation.\n",
        "\n",
        " - Flask Response Object:\n",
        "It returns a Flask Response object, which encapsulates the JSON data and headers. This object is what Flask uses to send data back to the client.\n",
        "\n",
        " - Simplified API Development:\n",
        "Using jsonify() simplifies the process of creating JSON responses in Flask, making code cleaner and more readable. It eliminates the need to manually serialize data to JSON and set the correct headers.\n",
        "\n",
        " - Consistency:\n",
        "It ensures that your JSON responses are consistent and adhere to web standards.\n",
        "\n",
        "\n",
        "jsonify() is a convenient and crucial function in Flask for creating JSON-based APIs. It automates the process of formatting data into JSON and setting the appropriate response headers, making it easier to build web applications that communicate effectively with clients."
      ]
    },
    {
      "cell_type": "markdown",
      "metadata": {
        "id": "ppvtjVw4QqbT"
      },
      "source": [
        "16. Explain Flask's url_for() function?\n",
        "\n",
        "\n",
        "\n",
        "Ans:url_for() is a Flask function that generates a URL to a specific function dynamically. It accepts the name of the view function as its first argument and any keyword arguments corresponding to the variable parts of the URL rule.\n",
        "\n",
        "Here's how it works:\n",
        "\n",
        " - Function Name:\n",
        "The first argument to url_for() is the name of the view function you want to link to. For example, if you have a view function named home(), you would pass 'home' as the first argument.\n",
        "\n",
        " - Variable Parts:\n",
        "If your URL rule has variable parts (e.g., /user/<username>), you can pass keyword arguments to url_for() to fill in those parts. For example, url_for('user', username='john') would generate a URL like /user/john.\n",
        "\n",
        " - Dynamic URL Generation:\n",
        "url_for() generates URLs dynamically based on your Flask application's routing configuration. This means that if you change your URL rules, you won't have to manually update all the links in your templates or code.\n",
        "\n",
        " - Avoiding Hard-coding:\n",
        "Using url_for() avoids hard-coding URLs in your templates or code, making your application more maintainable and flexible.\n",
        "\n",
        " - Query Parameters:\n",
        "If there are any keyword arguments not used in the URL rule, they are appended to the URL as query parameters.\n",
        "\n",
        "\n",
        "\n",
        "\n",
        "url_for() is essential for creating dynamic and maintainable web applications in Flask."
      ]
    },
    {
      "cell_type": "markdown",
      "metadata": {
        "id": "bdiIZV2SRfPX"
      },
      "source": [
        "17. How does Flask handle static files (CSS, JavaScript, etc.)?\n",
        "\n",
        "Ans:Flask handles static files like CSS, JavaScript, and images by serving them from a designated directory, typically named \"static,\" located in the same directory as your main Python application file.\n",
        "\n",
        "Here's a breakdown of how it works:\n",
        "\n",
        " - Static Folder:\n",
        "Flask automatically looks for a folder named \"static\" within your application's directory. This folder is where you should place all your static files.\n",
        "\n",
        " - URL Mapping:\n",
        "Flask maps the /static URL path to this directory. For example, if you have a file named style.css inside the static folder, it can be accessed via the URL /static/style.css.\n",
        "\n",
        " - url_for() Function:\n",
        "Instead of hardcoding the /static URL, it's recommended to use the url_for() function to generate the URL for static files. This function takes the directory name \"static\" and the filename as arguments, and it returns the correct URL. This approach is more flexible and less prone to errors if the static directory is moved or renamed.\n",
        "\n",
        " - Template Integration:\n",
        "In your HTML templates, you can use the url_for() function to link to your static files. For instance, to include the style.css file, you would use <link rel=\"stylesheet\" href=\"{{ url_for('static', filename='style.css') }}\">. This ensures that the correct URL is generated dynamically."
      ]
    },
    {
      "cell_type": "markdown",
      "metadata": {
        "id": "Ae67_3rOTFyD"
      },
      "source": [
        "18. What is an API specification, and how does it help in building a Flask API?\n",
        "\n",
        "\n",
        "\n",
        "\n",
        "Ans:An API specification is a formal documentation or blueprint that defines how a client can interact with an API. It outlines endpoints, request methods, parameters, request/response formats, status codes, and sometimes authentication requirements. When you're building a Flask API in Python, an API specification helps in the following ways.\n",
        "\n",
        "\n",
        "An API specification describes:\n",
        "\n",
        " - Endpoints: URLs like /users, /products/{id}\n",
        "\n",
        " - Methods: HTTP verbs like GET, POST, PUT, DELETE\n",
        "\n",
        " - Parameters: Query or path parameters (?name=salma, /user/42)\n",
        "\n",
        " - Request Body: What data should the client send (usually JSON)\n",
        "\n",
        " - Response Format: What data the API will return\n",
        "\n",
        " - Status Codes: Like 200 OK, 404 Not Found, 500 Internal Server Error\n",
        "\n",
        "Authentication/Authorization (if needed)\n",
        "\n",
        "Common tools for writing API specs:\n",
        "\n",
        " - OpenAPI (Swagger) the most widely used\n",
        "\n",
        " - RAML, API Blueprint (less common now)\n",
        "\n",
        "\n",
        "\n",
        "\n",
        "\n",
        "How It Helps in Building a Flask API\n",
        "\n",
        "1. Design Before Code:\n",
        "\n",
        " - You define how your API should behave before implementing it.\n",
        "\n",
        " - Helps you plan the structure and avoid design mistakes.\n",
        "\n",
        "2. Clear Communication:\n",
        "\n",
        " - Teams (frontend/backend/devops) know exactly how the API works.\n",
        "\n",
        " - Clients can use your API without asking for details.\n",
        "\n",
        "3. Validation:\n",
        "\n",
        " - Tools can automatically validate requests and responses based on the spec.\n",
        "\n",
        " - Example: With Flask-RESTX or Connexion, the API spec ensures the input/output format is correct.\n",
        "\n",
        "4. Documentation Generation:\n",
        "\n",
        " - You can auto-generate beautiful docs like Swagger UI from the spec.\n",
        "\n",
        "  - Helps users try out endpoints interactively.\n",
        "\n",
        "5. Client SDK Generation:\n",
        "\n",
        " - Tools can auto-generate Python/JavaScript clients from the spec.\n",
        "\n",
        " - Saves time writing client-side code.\n",
        "\n",
        "6. Testing and Mocking:\n",
        "\n",
        " - You can generate mock servers or use automated tests based on the spec.\n",
        "\n",
        " - Ensures reliability and faster development.\n",
        "\n",
        "\n",
        "\n",
        "\n",
        "\n",
        "\n",
        "\n",
        " An API specification is a contract between your API and its consumers. In Flask development:\n",
        "\n",
        " - It brings clarity, automation, and standardization\n",
        "\n",
        " - It speeds up development and minimizes bugs\n",
        "\n",
        " - It's essential for scalable, maintainable API design\n",
        "\n",
        "\n",
        "\n",
        "\n"
      ]
    },
    {
      "cell_type": "markdown",
      "metadata": {
        "id": "Ejuen4CWXgVR"
      },
      "source": [
        "19. What are HTTP status codes, and why are they important in a Flask API ?\n",
        "\n",
        "\n",
        "Ans:HTTP status codes are three-digit numbers that a web server sends to a client (e.g., a browser or an application) in response to a request. They indicate the outcome of the request, whether it was successful, encountered an error, or requires further action.\n",
        "\n",
        "These codes are crucial in a Flask API for the following reasons:\n",
        "\n",
        " - Communication:\n",
        "They provide a standardized way for the server to communicate the result of a request to the client. This allows the client to understand what happened and take appropriate action.\n",
        "\n",
        " - Error Handling:\n",
        "Status codes help differentiate between various error types (e.g., client-side errors like bad requests and server-side errors). This enables specific error handling on the client side.\n",
        "\n",
        " - API Design:\n",
        "Utilizing appropriate status codes is vital for building RESTful APIs. They provide clear feedback on the success or failure of operations, making the API more predictable and user-friendly.\n",
        "\n",
        " - Debugging:\n",
        "When issues arise, status codes help in identifying the source of the problem, whether it's on the client side or the server side.\n",
        "\n",
        " - SEO:\n",
        "Search engine crawlers also use HTTP status codes to understand the state of web pages, which impacts SEO.\n",
        "\n",
        "Common Status Code Categories:\n",
        "\n",
        " - 1xx (Informational): Request received and being processed.\n",
        "\n",
        " - 2xx (Success): Request was successful (e.g., 200 OK, 201 Created).\n",
        "\n",
        " - 3xx (Redirection): Further action is required to complete the request (e.g., 301 Moved Permanently, 302 Found).\n",
        "\n",
        " - 4xx (Client Error): Request contains an error or cannot be fulfilled (e.g., 400 Bad Request, 404 Not Found).\n",
        "\n",
        " - 5xx (Server Error): Server encountered an error while processing the request (e.g., 500 Internal Server Error, 503 Service Unavailable).\n",
        "\n",
        "\n",
        "\n",
        "\n",
        " By using HTTP status codes correctly, you can create a robust, reliable, and understandable API using Flask."
      ]
    },
    {
      "cell_type": "markdown",
      "metadata": {
        "id": "O-OD9yfGYZ_H"
      },
      "source": [
        "20. How do you handle POST requests in Flask?\n",
        "\n",
        "\n",
        "\n",
        "Ans:Handling POST requests in Flask involves using the request object to access data sent by the client. The request object can be accessed after importing it from the Flask library: from flask import request.\n",
        "\n",
        "Here's a breakdown of how to handle POST requests:\n",
        "\n",
        "1. Define a route with the POST method:\n",
        "Use the @app.route() decorator, specifying methods=['POST'] to indicate that the route should handle POST requests.\n",
        "\n",
        "\n",
        "\n",
        "2. Accessing form data:\n",
        "Use request.form to access data submitted through an HTML form. It returns a dictionary-like object where keys are the form field names.\n",
        "\n",
        "\n",
        "\n",
        "3. Accessing JSON data:\n",
        "Use request.get_json() to access data submitted as JSON\n",
        "\n",
        "\n",
        "4. Handling file uploads:\n",
        "If your form includes file uploads, access the files using request.files, a dictionary-like object with file names as keys.\n",
        "\n",
        "\n",
        "5. Handling Different Methods:\n",
        "You can handle both GET and POST requests within a single route by checking the request.method\n",
        "\n",
        "Important Considerations:\n",
        "\n",
        "\n",
        " - Security: Sanitize and validate user inputs to prevent vulnerabilities.\n",
        "\n",
        " - Error Handling: Implement proper error handling for cases like missing fields or invalid data.\n",
        "\n",
        " - Response Codes: Return appropriate HTTP status codes (e.g., 200 OK, 201 Created, 400 Bad Request).\n",
        "\n",
        " - Data Validation: Validate data before processing.\n",
        "\n",
        "\n",
        "These steps provide a comprehensive approach to handling POST requests in Flask."
      ]
    },
    {
      "cell_type": "markdown",
      "metadata": {
        "id": "Spb8p21NZNf3"
      },
      "source": [
        "21. How would you secure a Flask API?\n",
        "\n",
        "\n",
        "\n",
        "Ans:Here is how to secure a Flask API:\n",
        "\n",
        "1. Authentication and Authorization:\n",
        "\n",
        " - Token-Based Authentication:\n",
        "Use JSON Web Tokens (JWT) to authenticate users. After a successful login, issue a JWT to the client. The client then sends this token with each request for authorization.\n",
        "\n",
        " - OAuth 2.0:\n",
        "Implement OAuth 2.0 for more robust authorization scenarios, especially when dealing with third-party access.\n",
        "\n",
        " - API Keys:\n",
        "Use API keys for simpler authentication, particularly for machine-to-machine communication.\n",
        "\n",
        " - Flask-Security:\n",
        "Use the Flask-Security extension to add common security mechanisms.\n",
        "\n",
        "2. Input Validation:\n",
        "\n",
        " - Data Sanitization: Always sanitize and validate user inputs to prevent injection attacks (SQL injection, XSS).\n",
        "\n",
        " - Schema Validation: Use libraries like Marshmallow to define and validate request schemas.\n",
        "\n",
        "3. Data Protection:\n",
        "\n",
        " - HTTPS: Enforce HTTPS to encrypt data in transit.\n",
        "\n",
        " - Encryption: Encrypt sensitive data at rest. Use strong encryption algorithms and manage keys securely.\n",
        "\n",
        " - Secure Secret Key: Generate a strong, random secret key for Flask and store it securely. Avoid hardcoding it in your code.\n",
        "\n",
        "4. Security Headers:\n",
        "\n",
        " - CORS: Configure Cross-Origin Resource Sharing (CORS) to control which domains can access your API.\n",
        "\n",
        " - X-Frame-Options: Use X-Frame-Options to prevent clickjacking.\n",
        "\n",
        "  - Content Security Policy (CSP): Use CSP to mitigate XSS attacks.\n",
        "\n",
        " - HSTS: Implement HTTP Strict Transport Security (HSTS) to enforce HTTPS.\n",
        "\n",
        "5. Rate Limiting:\n",
        "\n",
        " - Limit Requests: Implement rate limiting to prevent brute-force attacks and denial-of-service (DoS) attacks.\n",
        "\n",
        "6. Error Handling:\n",
        "\n",
        " - Avoid Detailed Errors: Do not expose detailed error messages to clients. Log errors for debugging purposes.\n",
        "\n",
        " - Custom Error Responses: Provide consistent and informative error responses.\n",
        "\n",
        "7. Dependencies:\n",
        "\n",
        " - Keep Updated: Regularly update Flask and all dependencies to patch security vulnerabilities.\n",
        "\n",
        "8. Security Audits:\n",
        "\n",
        " - Regularly Test: Conduct regular security audits and penetration testing.\n",
        "\n",
        "9. API Gateway:\n",
        "Use an API Gateway to manage and secure your API endpoints."
      ]
    },
    {
      "cell_type": "markdown",
      "metadata": {
        "id": "1y2mQgUNa8XA"
      },
      "source": [
        "22. What is the significance of the Flask-RESTful extension ?\n",
        "\n",
        "\n",
        "Ans:Flask-RESTful is a Flask extension that simplifies the creation of RESTful APIs by providing tools and conventions for structuring API endpoints and handling requests and responses.\n",
        "\n",
        "Here are some key aspects of its significance:\n",
        "\n",
        " - Resource-Based Approach:\n",
        "It encourages organizing API logic into resources, which are classes that handle requests for specific endpoints. This promotes cleaner, more maintainable code.\n",
        "\n",
        " - HTTP Method Mapping:\n",
        "It provides a clear way to map HTTP methods (GET, POST, PUT, DELETE) to methods within resource classes, making it easy to define how your API should respond to different types of requests.\n",
        "\n",
        " - Request Parsing and Validation:\n",
        "It offers tools for parsing incoming request data and validating it against expected formats, reducing the amount of manual parsing and validation you need to do.\n",
        "\n",
        " - Automatic Response Formatting:\n",
        "It can automatically format API responses into various formats, such as JSON, making it easier to work with different clients.\n",
        "\n",
        " - Error Handling:\n",
        "It provides mechanisms for handling errors and returning appropriate HTTP status codes and error messages, improving the robustness of your API.\n",
        "\n",
        " - Extensibility:\n",
        "It integrates well with other Flask extensions, allowing you to build more complex APIs with features like authentication, database access, and more.\n",
        "\n",
        "Flask-RESTful streamlines the development of RESTful APIs in Flask by providing a structured, efficient, and maintainable approach."
      ]
    },
    {
      "cell_type": "markdown",
      "metadata": {
        "id": "r2JOWKewbiU6"
      },
      "source": [
        "23. What is the role of Flask's session object?\n",
        "\n",
        "\n",
        "\n",
        "\n",
        "Ans:The Flask session object is a dictionary-like object that allows you to store information specific to a user during their session. It uses cookies to store the data on the user's browser, but unlike regular cookies, it's signed with a secret key to prevent tampering.\n",
        "\n",
        "Here's a breakdown of its role:\n",
        "\n",
        "1. Maintaining User State:\n",
        "\n",
        "It enables you to keep track of user-specific data across multiple requests. This is crucial for features like:\n",
        "User authentication (knowing if a user is logged in)\n",
        "Shopping carts (remembering items added)\n",
        "User preferences (language, theme, etc.)\n",
        "\n",
        "2. How it Works:\n",
        "\n",
        "When a user visits your Flask application, the session object acts like a dictionary. You can add, update, or remove data using key-value pairs.\n",
        "Flask serializes this data and stores it in an encrypted cookie on the user's browser.\n",
        "On subsequent requests from the same user, the browser sends back this cookie, and Flask deserializes it to restore the session data.\n",
        "\n",
        "\n",
        "3. Security:\n",
        "\n",
        "The session data is signed using a secret key, which you need to configure in your Flask app. This ensures that the user cannot modify the session data without the key.\n",
        "The session data is still stored in the browser, so it's not secure for sensitive information like passwords.\n",
        "\n",
        "\n",
        "4. Usage:\n",
        "\n",
        "You access the session object via flask.session. It behaves like a standard Python dictionary.\n",
        "To use it, import session from flask and add a secret key to the app.\n",
        "\n",
        "5. Client-Side Sessions:\n",
        "\n",
        "Flask uses client-side sessions by default, meaning data is stored in the browser cookie.\n",
        "This can be less secure and has size limitations, but it's generally faster and easier to scale.\n",
        "\n",
        "6. Server-Side Sessions:\n",
        "\n",
        "For more sensitive data or larger session sizes, you can use server-side sessions with extensions like Flask-Session, which stores data on the server and uses a session ID in the cookie.\n",
        "\n",
        "The Flask session object is a fundamental tool for managing user-specific data across requests, providing a way to create dynamic and personalized web applications"
      ]
    },
    {
      "cell_type": "code",
      "source": [],
      "metadata": {
        "id": "dj6THhMtei74"
      },
      "execution_count": null,
      "outputs": []
    },
    {
      "cell_type": "markdown",
      "metadata": {
        "id": "CzBNSAJMb_xP"
      },
      "source": [
        "# PRACTICAL QUESTIONS"
      ]
    },
    {
      "cell_type": "code",
      "execution_count": null,
      "metadata": {
        "colab": {
          "base_uri": "https://localhost:8080/"
        },
        "id": "jhg6oDZg3KMk",
        "outputId": "40716115-18c4-4923-f400-9fffa44e6dc0"
      },
      "outputs": [
        {
          "output_type": "stream",
          "name": "stdout",
          "text": [
            "Requirement already satisfied: Flask in /usr/local/lib/python3.11/dist-packages (3.1.1)\n",
            "Requirement already satisfied: blinker>=1.9.0 in /usr/local/lib/python3.11/dist-packages (from Flask) (1.9.0)\n",
            "Requirement already satisfied: click>=8.1.3 in /usr/local/lib/python3.11/dist-packages (from Flask) (8.2.1)\n",
            "Requirement already satisfied: itsdangerous>=2.2.0 in /usr/local/lib/python3.11/dist-packages (from Flask) (2.2.0)\n",
            "Requirement already satisfied: jinja2>=3.1.2 in /usr/local/lib/python3.11/dist-packages (from Flask) (3.1.6)\n",
            "Requirement already satisfied: markupsafe>=2.1.1 in /usr/local/lib/python3.11/dist-packages (from Flask) (3.0.2)\n",
            "Requirement already satisfied: werkzeug>=3.1.0 in /usr/local/lib/python3.11/dist-packages (from Flask) (3.1.3)\n",
            " * Serving Flask app '__main__'\n",
            " * Debug mode: on\n"
          ]
        },
        {
          "output_type": "stream",
          "name": "stderr",
          "text": [
            "INFO:werkzeug:\u001b[31m\u001b[1mWARNING: This is a development server. Do not use it in a production deployment. Use a production WSGI server instead.\u001b[0m\n",
            " * Running on http://127.0.0.1:5000\n",
            "INFO:werkzeug:\u001b[33mPress CTRL+C to quit\u001b[0m\n",
            "INFO:werkzeug: * Restarting with stat\n"
          ]
        }
      ],
      "source": [
        "# 1. How do you create a basic Flask application?\n",
        "\n",
        "\n",
        "!pip install Flask\n",
        "from flask import Flask\n",
        "\n",
        "# Create a Flask application instance\n",
        "app = Flask(__name__)\n",
        "\n",
        "# Define a route and a view function\n",
        "@app.route('/')\n",
        "def home():\n",
        "    return \"Hello, Flask!\"\n",
        "\n",
        "# Run the Flask app\n",
        "if __name__ == '__main__':\n",
        "    app.run(debug=True)"
      ]
    },
    {
      "cell_type": "code",
      "metadata": {
        "colab": {
          "base_uri": "https://localhost:8080/"
        },
        "id": "a4b3ef22",
        "outputId": "77e45d9b-370e-4089-b58a-8c1c6257c7dc"
      },
      "source": [
        "# 2. How do you serve static files like images or CSS in Flask?\n",
        "\n",
        "\n",
        "from flask import Flask, render_template\n",
        "\n",
        "app = Flask(__name__)\n",
        "\n",
        "@app.route('/')\n",
        "def home():\n",
        "    return render_template('index.html')\n",
        "app.run(debug=True)"
      ],
      "execution_count": null,
      "outputs": [
        {
          "output_type": "stream",
          "name": "stdout",
          "text": [
            " * Serving Flask app '__main__'\n",
            " * Debug mode: on\n"
          ]
        },
        {
          "output_type": "stream",
          "name": "stderr",
          "text": [
            "INFO:werkzeug:\u001b[31m\u001b[1mWARNING: This is a development server. Do not use it in a production deployment. Use a production WSGI server instead.\u001b[0m\n",
            " * Running on http://127.0.0.1:5000\n",
            "INFO:werkzeug:\u001b[33mPress CTRL+C to quit\u001b[0m\n",
            "INFO:werkzeug: * Restarting with stat\n"
          ]
        }
      ]
    },
    {
      "cell_type": "code",
      "source": [
        "# 3. How do you define different routes with different HTTP methods in Flask?\n",
        "\n",
        "\n",
        "from flask import Flask, request, jsonify\n",
        "\n",
        "app = Flask(__name__)\n",
        "\n",
        "# Route for GET method\n",
        "@app.route('/hello', methods=['GET'])\n",
        "def get_hello():\n",
        "    return \"Hello! This is a GET request\"\n",
        "\n",
        "# Route for POST method\n",
        "@app.route('/submit', methods=['POST'])\n",
        "def post_submit():\n",
        "    data = request.json\n",
        "    return jsonify(message=\"POST request received\", data=data)\n",
        "\n",
        "# Route for PUT method\n",
        "@app.route('/update', methods=['PUT'])\n",
        "def put_update():\n",
        "    data = request.json\n",
        "    return jsonify(message=\"PUT request successful\", updated_data=data)\n",
        "\n",
        "# Route for DELETE method\n",
        "@app.route('/delete/<int:item_id>', methods=['DELETE'])\n",
        "def delete_item(item_id):\n",
        "    return jsonify(message=f\"Item {item_id} deleted\")\n",
        "\n",
        "# Route for both GET and POST\n",
        "@app.route('/login', methods=['GET', 'POST'])\n",
        "def login():\n",
        "    if request.method == 'GET':\n",
        "        return \"Login Page - GET\"\n",
        "    elif request.method == 'POST':\n",
        "        username = request.form.get('username')\n",
        "        return f\"Logged in as: {username}\"\n",
        "\n",
        "if __name__ == '__main__':\n",
        "    app.run(debug=True)\n"
      ],
      "metadata": {
        "colab": {
          "base_uri": "https://localhost:8080/"
        },
        "id": "xNUZKBixqK1P",
        "outputId": "03ed4a79-4acb-40af-fcf6-075b9c23f40f"
      },
      "execution_count": null,
      "outputs": [
        {
          "output_type": "stream",
          "name": "stdout",
          "text": [
            " * Serving Flask app '__main__'\n",
            " * Debug mode: on\n"
          ]
        },
        {
          "output_type": "stream",
          "name": "stderr",
          "text": [
            "INFO:werkzeug:\u001b[31m\u001b[1mWARNING: This is a development server. Do not use it in a production deployment. Use a production WSGI server instead.\u001b[0m\n",
            " * Running on http://127.0.0.1:5000\n",
            "INFO:werkzeug:\u001b[33mPress CTRL+C to quit\u001b[0m\n",
            "INFO:werkzeug: * Restarting with stat\n"
          ]
        }
      ]
    },
    {
      "cell_type": "code",
      "source": [
        "# 4.  How do you render HTML templates in Flask?\n",
        "\n",
        "\n",
        "from flask import Flask, render_template\n",
        "\n",
        "app = Flask(__name__)\n",
        "\n",
        "@app.route('/')\n",
        "def home():\n",
        "    return render_template('index.html')  # Renders the HTML template\n",
        "\n",
        "if __name__ == '__main__':\n",
        "    app.run(debug=True)\n"
      ],
      "metadata": {
        "colab": {
          "base_uri": "https://localhost:8080/"
        },
        "id": "Owl6xGe4sjNB",
        "outputId": "6932f0d6-e45c-4e51-c8c7-763b80ba5d4b"
      },
      "execution_count": null,
      "outputs": [
        {
          "output_type": "stream",
          "name": "stdout",
          "text": [
            " * Serving Flask app '__main__'\n",
            " * Debug mode: on\n"
          ]
        },
        {
          "output_type": "stream",
          "name": "stderr",
          "text": [
            "INFO:werkzeug:\u001b[31m\u001b[1mWARNING: This is a development server. Do not use it in a production deployment. Use a production WSGI server instead.\u001b[0m\n",
            " * Running on http://127.0.0.1:5000\n",
            "INFO:werkzeug:\u001b[33mPress CTRL+C to quit\u001b[0m\n",
            "INFO:werkzeug: * Restarting with stat\n"
          ]
        }
      ]
    },
    {
      "cell_type": "code",
      "source": [
        " # 5.  How can you generate URLs for routes in Flask using url_for?\n",
        "\n",
        "from flask import Flask, url_for, redirect, render_template\n",
        "\n",
        "app = Flask(__name__)\n",
        "\n",
        "@app.route('/')\n",
        "def home():\n",
        "    # Generate URL for the 'about' route\n",
        "    about_url = url_for('about')\n",
        "    return render_template('home.html', about_url=about_url)\n",
        "\n",
        "@app.route('/about')\n",
        "def about():\n",
        "    return \"This is the About Page\"\n",
        "\n",
        "@app.route('/go-to-about')\n",
        "def go_to_about():\n",
        "    # Redirect to the 'about' page using url_for\n",
        "    return redirect(url_for('about'))\n",
        "\n",
        "if __name__ == '__main__':\n",
        "    app.run(debug=True)\n"
      ],
      "metadata": {
        "colab": {
          "base_uri": "https://localhost:8080/"
        },
        "id": "QIn3pwGrtXRQ",
        "outputId": "41476ee6-a45a-466b-cdd2-428e23310787"
      },
      "execution_count": null,
      "outputs": [
        {
          "output_type": "stream",
          "name": "stdout",
          "text": [
            " * Serving Flask app '__main__'\n",
            " * Debug mode: on\n"
          ]
        },
        {
          "output_type": "stream",
          "name": "stderr",
          "text": [
            "INFO:werkzeug:\u001b[31m\u001b[1mWARNING: This is a development server. Do not use it in a production deployment. Use a production WSGI server instead.\u001b[0m\n",
            " * Running on http://127.0.0.1:5000\n",
            "INFO:werkzeug:\u001b[33mPress CTRL+C to quit\u001b[0m\n",
            "INFO:werkzeug: * Restarting with stat\n"
          ]
        }
      ]
    },
    {
      "cell_type": "code",
      "source": [
        "# 6.How do you handle forms in Flask?\n",
        "\n",
        "from flask import Flask, render_template, request, redirect, url_for\n",
        "\n",
        "app = Flask(__name__)\n",
        "\n",
        "@app.route('/', methods=['GET', 'POST'])\n",
        "def index():\n",
        "    name = None\n",
        "    if request.method == 'POST':\n",
        "        name = request.form.get('name', '').strip()\n",
        "        if name:\n",
        "            return render_template('greet.html', name=name)\n",
        "        else:\n",
        "            error = \"Please enter your name.\"\n",
        "            return render_template('index_manual.html', error=error)\n",
        "    return render_template('index_manual.html', error=None)\n",
        "\n",
        "if __name__ == '__main__':\n",
        "    app.run(debug=True)\n"
      ],
      "metadata": {
        "id": "9QE_WblKtyVV",
        "colab": {
          "base_uri": "https://localhost:8080/"
        },
        "outputId": "9b91ebd8-9ff8-4570-d5bc-a11ac2656008"
      },
      "execution_count": null,
      "outputs": [
        {
          "output_type": "stream",
          "name": "stdout",
          "text": [
            " * Serving Flask app '__main__'\n",
            " * Debug mode: on\n"
          ]
        },
        {
          "output_type": "stream",
          "name": "stderr",
          "text": [
            "INFO:werkzeug:\u001b[31m\u001b[1mWARNING: This is a development server. Do not use it in a production deployment. Use a production WSGI server instead.\u001b[0m\n",
            " * Running on http://127.0.0.1:5000\n",
            "INFO:werkzeug:\u001b[33mPress CTRL+C to quit\u001b[0m\n",
            "INFO:werkzeug: * Restarting with stat\n"
          ]
        }
      ]
    },
    {
      "cell_type": "code",
      "source": [
        "# 7.  How can you validate form data in Flask?\n",
        "\n",
        "\n",
        "from flask import Flask, render_template, request, redirect, url_for, flash\n",
        "\n",
        "app = Flask(__name__)\n",
        "app.config['SECRET_KEY'] = 'your-secret'\n",
        "\n",
        "@app.route('/manual', methods=['GET', 'POST'])\n",
        "def manual():\n",
        "    errors = {}\n",
        "    name = ''\n",
        "    if request.method == 'POST':\n",
        "        name = request.form.get('name', '').strip()\n",
        "        if not name:\n",
        "            errors['name'] = 'Name cannot be empty.'\n",
        "        elif len(name) < 3:\n",
        "            errors['name'] = 'Name must be at least 3 characters.'\n",
        "        if not errors:\n",
        "            flash(f'Hello, {name}!', 'success')\n",
        "            return redirect(url_for('manual'))\n",
        "    return render_template('manual.html', name=name, errors=errors)\n",
        "\n",
        "if __name__ == '__main__':\n",
        "    app.run(debug=True)\n"
      ],
      "metadata": {
        "colab": {
          "base_uri": "https://localhost:8080/"
        },
        "id": "ZlZXtkvf19GJ",
        "outputId": "1502387c-68e7-4634-804d-e7d3d376b6d0"
      },
      "execution_count": null,
      "outputs": [
        {
          "output_type": "stream",
          "name": "stdout",
          "text": [
            " * Serving Flask app '__main__'\n",
            " * Debug mode: on\n"
          ]
        },
        {
          "output_type": "stream",
          "name": "stderr",
          "text": [
            "INFO:werkzeug:\u001b[31m\u001b[1mWARNING: This is a development server. Do not use it in a production deployment. Use a production WSGI server instead.\u001b[0m\n",
            " * Running on http://127.0.0.1:5000\n",
            "INFO:werkzeug:\u001b[33mPress CTRL+C to quit\u001b[0m\n",
            "INFO:werkzeug: * Restarting with stat\n"
          ]
        }
      ]
    },
    {
      "cell_type": "code",
      "source": [
        "# 8. How do you manage sessions in Flask?\n",
        "\n",
        "from flask import Flask, session, redirect, url_for, request, render_template\n",
        "from datetime import timedelta\n",
        "import secrets\n",
        "\n",
        "app = Flask(__name__)\n",
        "app.secret_key = secrets.token_hex()  # Strong, random secret key :contentReference[oaicite:2]{index=2}\n",
        "app.config['PERMANENT_SESSION_LIFETIME'] = timedelta(minutes=30)\n",
        "app.config['SESSION_COOKIE_SECURE'] = True  # HTTPS only :contentReference[oaicite:3]{index=3}\n",
        "app.config['SESSION_COOKIE_HTTPONLY'] = True  # Inaccessible to JS :contentReference[oaicite:4]{index=4}\n",
        "app.config['SESSION_COOKIE_SAMESITE'] = 'Lax'\n",
        "\n",
        "@app.route('/login', methods=['GET', 'POST'])\n",
        "def login():\n",
        "    if request.method == 'POST':\n",
        "        user = request.form['username']\n",
        "        session.permanent = True  # Use the lifetime above\n",
        "        session['username'] = user\n",
        "        return redirect(url_for('profile'))\n",
        "    return render_template('login.html')\n",
        "\n",
        "@app.route('/profile')\n",
        "def profile():\n",
        "    user = session.get('username')\n",
        "    if not user:\n",
        "        return redirect(url_for('login'))\n",
        "    return f'Hello, {user}!'\n",
        "\n",
        "@app.route('/logout')\n",
        "def logout():\n",
        "    session.clear()\n",
        "    return redirect(url_for('login'))\n",
        "\n",
        "if __name__ == '__main__':\n",
        "    app.run(ssl_context='adhoc', debug=True)\n"
      ],
      "metadata": {
        "colab": {
          "base_uri": "https://localhost:8080/"
        },
        "id": "bhi45C782ubI",
        "outputId": "8be65877-1dda-42fe-aff4-edc9ea55886a"
      },
      "execution_count": null,
      "outputs": [
        {
          "output_type": "stream",
          "name": "stdout",
          "text": [
            " * Serving Flask app '__main__'\n",
            " * Debug mode: on\n"
          ]
        },
        {
          "output_type": "stream",
          "name": "stderr",
          "text": [
            "INFO:werkzeug:\u001b[31m\u001b[1mWARNING: This is a development server. Do not use it in a production deployment. Use a production WSGI server instead.\u001b[0m\n",
            " * Running on https://127.0.0.1:5000\n",
            "INFO:werkzeug:\u001b[33mPress CTRL+C to quit\u001b[0m\n",
            "INFO:werkzeug: * Restarting with stat\n"
          ]
        }
      ]
    },
    {
      "cell_type": "code",
      "source": [
        "# 9.How do you redirect to a different route in Flask?\n",
        "\n",
        "from flask import Flask, redirect, url_for, render_template, request\n",
        "\n",
        "app = Flask(__name__)\n",
        "\n",
        "@app.route('/')\n",
        "def home():\n",
        "    # Redirect internally to the login page\n",
        "    return redirect(url_for('login'))\n",
        "\n",
        "@app.route('/login', methods=['GET', 'POST'])\n",
        "def login():\n",
        "    if request.method == 'POST':\n",
        "        username = request.form.get('username', '')\n",
        "        if username == 'admin':\n",
        "            # Redirect to dashboard for admin\n",
        "            return redirect(url_for('dashboard'))\n",
        "        else:\n",
        "            # Redirect back to login on failure\n",
        "            return redirect(url_for('login'))\n",
        "    # GET request: render login form\n",
        "    return render_template('login.html')\n",
        "\n",
        "@app.route('/dashboard')\n",
        "def dashboard():\n",
        "    return \"🌟 Welcome to the dashboard!\"\n",
        "\n",
        "@app.route('/external')\n",
        "def external_redirect():\n",
        "    # Redirect externally to another website\n",
        "    return redirect(\"https://www.example.com\", code=302)\n",
        "\n",
        "if __name__ == '__main__':\n",
        "    app.run(debug=True)\n"
      ],
      "metadata": {
        "colab": {
          "base_uri": "https://localhost:8080/"
        },
        "id": "3dUvWW8QAAiY",
        "outputId": "bedb9a27-4d66-44d6-d6be-a80c186bd2e8"
      },
      "execution_count": 52,
      "outputs": [
        {
          "metadata": {
            "tags": null
          },
          "name": "stdout",
          "output_type": "stream",
          "text": [
            " * Serving Flask app '__main__'\n",
            " * Debug mode: on\n"
          ]
        },
        {
          "metadata": {
            "tags": null
          },
          "name": "stderr",
          "output_type": "stream",
          "text": [
            "INFO:werkzeug:\u001b[31m\u001b[1mWARNING: This is a development server. Do not use it in a production deployment. Use a production WSGI server instead.\u001b[0m\n",
            " * Running on http://127.0.0.1:5000\n",
            "INFO:werkzeug:\u001b[33mPress CTRL+C to quit\u001b[0m\n",
            "INFO:werkzeug: * Restarting with stat\n"
          ]
        }
      ]
    },
    {
      "cell_type": "code",
      "source": [
        "# 10. How do you handle errors in Flask (e.g., 404)?\n",
        "\n",
        "# app.py\n",
        "from flask import Flask, render_template, abort\n",
        "\n",
        "app = Flask(__name__)\n",
        "\n",
        "# Example route causing 500 via deliberate error\n",
        "@app.route('/boom')\n",
        "def boom():\n",
        "    raise ValueError(\"Oops!\")  # uncaught → 500\n",
        "\n",
        "# Example route that may 404 based on data\n",
        "@app.route('/item/<int:id>')\n",
        "def item(id):\n",
        "    items = {1: 'Apple', 2: 'Banana'}\n",
        "    if id not in items:\n",
        "        abort(404)  # trigger Not Found\n",
        "    return f\"Item: {items[id]}\"\n",
        "\n",
        "# Custom handler for 404 errors\n",
        "@app.errorhandler(404)\n",
        "def not_found(e):\n",
        "    return render_template('404.html'), 404\n",
        "\n",
        "# Custom handler for 500 errors\n",
        "@app.errorhandler(500)\n",
        "def internal_error(e):\n",
        "    return render_template('500.html'), 500\n",
        "\n",
        "if __name__ == '__main__':\n",
        "    app.run(debug=False)\n"
      ],
      "metadata": {
        "colab": {
          "base_uri": "https://localhost:8080/"
        },
        "id": "pdXCNcrH36RQ",
        "outputId": "b23e9ea7-a96b-4b23-991c-44194d5de113"
      },
      "execution_count": null,
      "outputs": [
        {
          "output_type": "stream",
          "name": "stdout",
          "text": [
            " * Serving Flask app '__main__'\n",
            " * Debug mode: off\n"
          ]
        },
        {
          "output_type": "stream",
          "name": "stderr",
          "text": [
            "INFO:werkzeug:\u001b[31m\u001b[1mWARNING: This is a development server. Do not use it in a production deployment. Use a production WSGI server instead.\u001b[0m\n",
            " * Running on http://127.0.0.1:5000\n",
            "INFO:werkzeug:\u001b[33mPress CTRL+C to quit\u001b[0m\n"
          ]
        }
      ]
    },
    {
      "cell_type": "code",
      "source": [
        "# 11. How do you structure a Flask app using Blueprints?\n",
        "\n",
        "my_flask_app/\n",
        "├── app/\n",
        "│   ├── __init__.py\n",
        "│   ├── main/\n",
        "│   │   ├── __init__.py\n",
        "│   │   └── views.py\n",
        "│   └── auth/\n",
        "│       ├── __init__.py\n",
        "│       └── views.py\n",
        "├── templates/\n",
        "│   ├── main/\n",
        "│   │   └── home.html\n",
        "│   └── auth/\n",
        "│       └── login.html\n",
        "└── run.py\n",
        "\n",
        "\n"
      ],
      "metadata": {
        "id": "t-eAAEkP4XPD"
      },
      "execution_count": null,
      "outputs": []
    },
    {
      "cell_type": "code",
      "source": [
        "# 12.  How do you define a custom Jinja filter in Flask?\n",
        "\n",
        "# app.py\n",
        "from flask import Flask, render_template_string\n",
        "import datetime\n",
        "\n",
        "app = Flask(__name__)\n",
        "\n",
        "# 1️. Define the filter function\n",
        "def pretty_date(value):\n",
        "    \"\"\"Format a datetime.date or datetime.datetime as MM/DD/YYYY.\"\"\"\n",
        "    if isinstance(value, (datetime.date, datetime.datetime)):\n",
        "        return value.strftime(\"%m/%d/%Y\")\n",
        "    return value\n",
        "\n",
        "# 2️.  Register the filter with Flask\n",
        "# Option A: Decorator\n",
        "@app.template_filter('pretty_date')\n",
        "def pretty_date_filter(value):\n",
        "    return pretty_date(value)\n",
        "\n",
        "# Option B: Manual registration (instead of decorator)\n",
        "# app.jinja_env.filters['pretty_date'] = pretty_date\n",
        "\n",
        "# 3️.  Use in a route to demonstrate functionality\n",
        "@app.route(\"/\")\n",
        "def index():\n",
        "    example_date = datetime.date(2025, 6, 16)\n",
        "    template = \"\"\"\n",
        "    <h1>Custom Jinja Filter Demo</h1>\n",
        "    <p>Today's date formatted: {{ example_date | pretty_date }}</p>\n",
        "    \"\"\"\n",
        "    return render_template_string(template, example_date=example_date)\n",
        "\n",
        "if __name__ == \"__main__\":\n",
        "    app.run(debug=True)\n"
      ],
      "metadata": {
        "id": "RhO8-PK7HaKm",
        "colab": {
          "base_uri": "https://localhost:8080/"
        },
        "outputId": "f6e5965e-655d-4505-d381-f85d9e419cd0"
      },
      "execution_count": 1,
      "outputs": [
        {
          "output_type": "stream",
          "name": "stdout",
          "text": [
            " * Serving Flask app '__main__'\n",
            " * Debug mode: on\n"
          ]
        },
        {
          "output_type": "stream",
          "name": "stderr",
          "text": [
            "INFO:werkzeug:\u001b[31m\u001b[1mWARNING: This is a development server. Do not use it in a production deployment. Use a production WSGI server instead.\u001b[0m\n",
            " * Running on http://127.0.0.1:5000\n",
            "INFO:werkzeug:\u001b[33mPress CTRL+C to quit\u001b[0m\n",
            "INFO:werkzeug: * Restarting with stat\n"
          ]
        }
      ]
    },
    {
      "cell_type": "code",
      "source": [
        "# 13. How can you redirect with query parameters in Flask?\n",
        "\n",
        "\n",
        "from flask import Flask, redirect, url_for, request\n",
        "\n",
        "app = Flask(__name__)\n",
        "\n",
        "@app.route('/')\n",
        "def index():\n",
        "    # Option A: redirect to /target with static query params\n",
        "    return redirect('/target?param1=value1&param2=value2')\n",
        "\n",
        "@app.route('/dynamic_redirect')\n",
        "def dynamic_redirect():\n",
        "    # Option B: dynamically build parameters\n",
        "    params = {'param1': 'valueA', 'param2': 'valueB'}\n",
        "    return redirect(url_for('target', **params))\n",
        "\n",
        "@app.route('/target')\n",
        "def target():\n",
        "    # Capture query parameters\n",
        "    p1 = request.args.get('param1')\n",
        "    p2 = request.args.get('param2')\n",
        "    return f\"Received: param1 = {p1}, param2 = {p2}\"\n",
        "\n",
        "if __name__ == \"__main__\":\n",
        "    app.run(debug=True)\n"
      ],
      "metadata": {
        "colab": {
          "base_uri": "https://localhost:8080/"
        },
        "id": "t79aF3f480sN",
        "outputId": "1b2b1eb9-b337-4570-c85d-fed13ebf4c0c"
      },
      "execution_count": null,
      "outputs": [
        {
          "output_type": "stream",
          "name": "stdout",
          "text": [
            " * Serving Flask app '__main__'\n",
            " * Debug mode: on\n"
          ]
        },
        {
          "output_type": "stream",
          "name": "stderr",
          "text": [
            "INFO:werkzeug:\u001b[31m\u001b[1mWARNING: This is a development server. Do not use it in a production deployment. Use a production WSGI server instead.\u001b[0m\n",
            " * Running on http://127.0.0.1:5000\n",
            "INFO:werkzeug:\u001b[33mPress CTRL+C to quit\u001b[0m\n",
            "INFO:werkzeug: * Restarting with stat\n"
          ]
        }
      ]
    },
    {
      "cell_type": "code",
      "source": [
        "# 14. How do you return JSON responses in Flask?\n",
        "\n",
        "from flask import Flask, jsonify, request\n",
        "\n",
        "app = Flask(__name__)\n",
        "\n",
        "@app.route('/api/user/<username>')\n",
        "def get_user(username):\n",
        "    # Option 1: Explicitly using jsonify()\n",
        "    data = {\n",
        "        'username': username,\n",
        "        'email': f'{username}@example.com'\n",
        "    }\n",
        "    return jsonify(data), 200\n",
        "\n",
        "@app.route('/api/info')\n",
        "def get_info():\n",
        "    # Option 2: Returning a dict directly (Flask ≥1.1)\n",
        "    return {\n",
        "        'version': '1.0',\n",
        "        'features': ['api', 'json', 'flask']\n",
        "    }, 200\n",
        "\n",
        "if __name__ == '__main__':\n",
        "    app.run(debug=True)\n"
      ],
      "metadata": {
        "colab": {
          "base_uri": "https://localhost:8080/"
        },
        "id": "ABPzxgA48J_C",
        "outputId": "15bc8903-5867-4690-f550-17574f844ba4"
      },
      "execution_count": null,
      "outputs": [
        {
          "output_type": "stream",
          "name": "stdout",
          "text": [
            " * Serving Flask app '__main__'\n",
            " * Debug mode: on\n"
          ]
        },
        {
          "output_type": "stream",
          "name": "stderr",
          "text": [
            "INFO:werkzeug:\u001b[31m\u001b[1mWARNING: This is a development server. Do not use it in a production deployment. Use a production WSGI server instead.\u001b[0m\n",
            " * Running on http://127.0.0.1:5000\n",
            "INFO:werkzeug:\u001b[33mPress CTRL+C to quit\u001b[0m\n",
            "INFO:werkzeug: * Restarting with stat\n"
          ]
        }
      ]
    },
    {
      "cell_type": "code",
      "source": [
        "  # 15. How do you capture URL parameters in Flask?\n",
        "\n",
        "from flask import Flask, request\n",
        "\n",
        "app = Flask(__name__)\n",
        "\n",
        "@app.route('/user/<username>')\n",
        "def show_user(username):\n",
        "    # captures path parameter 'username'\n",
        "    return f\"Profile page for: {username}\"\n",
        "\n",
        "@app.route('/search')\n",
        "def search():\n",
        "    # captures query params ?q=...&page=...\n",
        "    term = request.args.get('q', '', type=str)\n",
        "    page = request.args.get('page', 1, type=int)\n",
        "    return f\"Searching for '{term}', page {page}\"\n",
        "\n",
        "if __name__ == '__main__':\n",
        "    app.run(debug=True)\n"
      ],
      "metadata": {
        "colab": {
          "base_uri": "https://localhost:8080/"
        },
        "id": "M6Z65W9B7JQB",
        "outputId": "8cd765a3-2587-46be-c1d8-ce2502ed2960"
      },
      "execution_count": null,
      "outputs": [
        {
          "output_type": "stream",
          "name": "stdout",
          "text": [
            " * Serving Flask app '__main__'\n",
            " * Debug mode: on\n"
          ]
        },
        {
          "output_type": "stream",
          "name": "stderr",
          "text": [
            "INFO:werkzeug:\u001b[31m\u001b[1mWARNING: This is a development server. Do not use it in a production deployment. Use a production WSGI server instead.\u001b[0m\n",
            " * Running on http://127.0.0.1:5000\n",
            "INFO:werkzeug:\u001b[33mPress CTRL+C to quit\u001b[0m\n",
            "INFO:werkzeug: * Restarting with stat\n"
          ]
        }
      ]
    }
  ],
  "metadata": {
    "colab": {
      "provenance": []
    },
    "kernelspec": {
      "display_name": "Python 3",
      "name": "python3"
    },
    "language_info": {
      "name": "python"
    }
  },
  "nbformat": 4,
  "nbformat_minor": 0
}