{
  "nbformat": 4,
  "nbformat_minor": 0,
  "metadata": {
    "colab": {
      "provenance": []
    },
    "kernelspec": {
      "name": "python3",
      "display_name": "Python 3"
    },
    "language_info": {
      "name": "python"
    }
  },
  "cells": [
    {
      "cell_type": "markdown",
      "source": [
        "# Files, exceptional handling,logging and memory management Questions"
      ],
      "metadata": {
        "id": "joPUeViiOliV"
      }
    },
    {
      "cell_type": "markdown",
      "source": [
        "1. What is the difference between interpreted and complied languages?\n",
        "\n",
        "\n",
        "Ans: Interpreted Languages:\n",
        "\n",
        " - Execution: Code is executed line by line by an interpreter.\n",
        "\n",
        " - Translation: The interpreter translates and runs the code simultaneously.\n",
        "\n",
        " - Speed: Generally slower than compiled languages due to the on-the-fly translation.\n",
        "\n",
        " - Flexibility: Easier to develop and debug as changes can be made and tested quickly.\n",
        "\n",
        " - Example: Python, JavaScript, Ruby\n",
        "\n",
        "-Compiled Languages:\n",
        "\n",
        " - Execution: Code is translated into machine code (binary) before execution by a compiler.\n",
        "\n",
        " - Translation: The entire code is translated first, creating an executable file.\n",
        "\n",
        " - Speed: Generally faster than interpreted languages because the translation is done beforehand.\n",
        "\n",
        " - Flexibility: Changes require recompilation, which can slow down the development cycle.\n",
        "\n",
        " - Example: C, C++, Java\n",
        "\n",
        "-Python's Case:\n",
        "\n",
        "Python is often referred to as an interpreted language. However, it's slightly more nuanced. Python code is first compiled into an intermediate form called bytecode, which is then executed by the Python Virtual Machine (PVM). This makes it a hybrid approach, often described as \"bytecode interpreted.\"\n",
        "\n",
        "The key takeaway is that Python code is not directly translated into machine code before execution like compiled languages. It goes through an intermediate step of bytecode compilation and then execution by the PVM."
      ],
      "metadata": {
        "id": "u5TxF60nO7C-"
      }
    },
    {
      "cell_type": "markdown",
      "source": [
        "2. What is exception handling in python?\n",
        "\n",
        "\n",
        "Ans:  Exception handling\n",
        " In Python is a mechanism that allows you to manage errors or exceptional conditions that occur during the execution of a program, so it doesn’t crash unexpectedly. It helps you write more robust and user-friendly code by responding to errors gracefully.\n",
        "\n",
        "-Key Concepts\n",
        "\n",
        " - Exception: An error that occurs during program execution (e.g., dividing by zero, accessing a missing file).\n",
        "\n",
        " - Try Block: The code that might raise an exception is placed inside a `try` block.\n",
        "\n",
        " - Except Block: Code that handles the exception goes inside one or more `except` blocks.\n",
        "\n",
        " - Else Block(optional): Runs if no exceptions occur in the `try` block.\n",
        "\n",
        " - Finally Block(optional): Always runs, whether or not an exception occurred, often used for cleanup.\n",
        "\n",
        "\n",
        "\n",
        "-Common Exceptions\n",
        "\n",
        " - ZeroDivisionError\n",
        "\n",
        " - FileNotFoundError\n",
        "\n",
        " - IndexError\n",
        "\n",
        " - KeyError\n",
        "\n",
        " - TypeError\n",
        "\n",
        " - ValueError\n",
        "\n",
        "\n",
        "-Why Use Exception Handling\n",
        "\n",
        "* Prevent program crashes.\n",
        "* Provide meaningful error messages to users.\n",
        "* Allow fallback procedures or retries.\n",
        "* Clean up resources (like file handles or network connections).\n",
        "\n",
        "\n"
      ],
      "metadata": {
        "id": "K_LjaT3gQs8J"
      }
    },
    {
      "cell_type": "markdown",
      "source": [
        "3. What is the purpose of the finally block in exception handling?\n",
        "\n",
        "Ans: The purpose of the finally block in Python's exception handling is to ensure that certain code, often cleanup tasks, is always executed, regardless of whether an exception occurred in the try block. This is useful for tasks like closing files or releasing resources that must be performed regardless of the success or failure of the try block's operations.\n",
        "\n",
        "\n",
        "\n",
        "The code within the finally block will always be executed, even if:\n",
        "\n",
        " - An exception occurs and is caught in an except block.\n",
        "\n",
        " - No exception occurs, and the else block (if present) is executed.\n",
        "\n",
        " - The try block finishes normally without raising an exception.\n",
        "\n",
        " - A return, break, or continue statement is encountered within the try block.\n",
        "\n",
        "\n",
        "-Resource cleanup:\n",
        "\n",
        "The finally block is commonly used to release resources, such as closing files, database connections, or releasing memory. This ensures that resources are properly managed even if an error occurs during the process.\n",
        "\n",
        "-Order of execution:\n",
        "\n",
        "The finally block is always executed after the try block and any except or else blocks, but before the program continues to the next statement after the try...except...finally structure.\n"
      ],
      "metadata": {
        "id": "-4GbyqSkSzH-"
      }
    },
    {
      "cell_type": "markdown",
      "source": [
        "4. What is logging in python?\n",
        "\n",
        "\n",
        "\n",
        "Ans:  Logging in Python is a way to track events that happen while your program is running. It provides a standardized system for generating log messages and directing them to various output destinations. This is incredibly\n",
        "\n",
        "-useful for:\n",
        "\n",
        " - Debugging: Understanding the flow of your program and identifying where errors occur.\n",
        "\n",
        " - Monitoring: Tracking the health and performance of your application.\n",
        "\n",
        " -Auditing: Keeping a record of significant events, such as user actions or system operations.\n",
        "\n",
        "-Key components of Python's logging system include:\n",
        "\n",
        " - Loggers: These are the main objects that you interact with to create log messages. You can have different loggers for different parts of your application.\n",
        "\n",
        " - Handlers: These determine where the log messages go (e.g., console, file, network).\n",
        "\n",
        " - Formatters: These specify the layout and content of the log messages.\n",
        "\n",
        " - Levels: These categorize log messages by severity (e.g., DEBUG, INFO, WARNING, ERROR, CRITICAL). You can configure your logger to only process messages at or above a certain level.\n",
        "\n",
        "\n",
        "By using logging, you can gain valuable insights into your program's execution without cluttering your code with print statements, which are generally not suitable for production environments."
      ],
      "metadata": {
        "id": "THdSLbKJVJQa"
      }
    },
    {
      "cell_type": "markdown",
      "source": [
        "5. What is the significance of the __del__ method in python?\n",
        "\n",
        "\n",
        "\n",
        "Ans:The __del__ method in Python is a special method, also known as a destructor or finalizer. Its significance lies in its role during object destruction. When an object's reference count drops to zero and it's about to be garbage collected, the __del__ method is called.\n",
        "\n",
        "-Here's a breakdown of its significance:\n",
        "\n",
        " - Resource Cleanup: The primary use of __del__ is to perform cleanup operations when an object is no longer needed. This is particularly important for releasing external resources that the object might hold, such as file handles, network connections, or database connections.\n",
        "\n",
        " - Last Resort: It acts as a last resort to ensure that critical cleanup is done before an object is completely removed from memory.\n",
        "\n",
        " - Alternative to finally: While finally in try...except...finally blocks is the preferred way to handle resource cleanup within a specific scope, __del__ can be useful for objects that manage resources throughout their lifetime and need cleanup when they are no longer referenced.\n",
        "\n",
        "\n",
        "-However, it's important to note the following about __del__:\n",
        "\n",
        " - Unpredictability: The exact timing of when __del__ is called is not guaranteed. This is because garbage collection in Python is not deterministic. An object might be garbage collected immediately after its reference count reaches zero, or it might be collected later.\n",
        "\n",
        " - Circular References: Circular references can prevent objects from being garbage collected, and thus __del__ might not be called.\n",
        "\n",
        " - Exceptions: If an exception occurs within __del__, it can be suppressed, leading to silent failures.\n",
        "\n",
        " - Better Alternatives: In many cases, using context managers (with the with statement) is a more reliable and recommended way to handle resource management and cleanup. Context managers ensure that cleanup code is executed consistently, even if errors occur.\n",
        "\n",
        "\n",
        " __del__ is a mechanism for performing cleanup when an object is about to be destroyed, but its unpredictable nature and potential issues with circular references and exception handling mean that it should be used with caution. Context managers are generally preferred for resource management.\n"
      ],
      "metadata": {
        "id": "RjYfwMHDhft6"
      }
    },
    {
      "cell_type": "markdown",
      "source": [
        "6. What is the difference between import and from ... import in Python?\n",
        "\n",
        "\n",
        "\n",
        "Ans:The difference between two common ways to import modules in Python. Here's a breakdown:\n",
        "\n",
        "1. import module_name\n",
        "\n",
        "-How it works:\n",
        "\n",
        " This statement imports the entire module. To access any function, class, or variable within that module, you need to use the module name followed by a dot (e.g., module_name.function_name).\n",
        "\n",
        "\n",
        "-Pros:\n",
        "\n",
        " - It's clear where a function or object is coming from, which helps prevent naming conflicts if different modules have objects with the same name.\n",
        "\n",
        " - It makes your code more readable by explicitly stating the source of imported items.\n",
        "\n",
        "\n",
        "-Cons:\n",
        "\n",
        " - Can make your code slightly more verbose if you use many functions from the same module.\n",
        "\n",
        "2. from module_name import item_name\n",
        "\n",
        "-How it works:\n",
        "\n",
        " This statement imports only a specific function, class, or variable from the module. You can then use the imported item directly without needing to prefix it with the module name.\n",
        "\n",
        "-Pros:\n",
        "\n",
        " - Can make your code more concise, especially if you use a single function or a few items from a module frequently.\n",
        "\n",
        "-Cons:\n",
        "\n",
        " - Can lead to naming conflicts if you import items with the same name from different modules.\n",
        "\n",
        " - It's less clear where an item is coming from, which can make debugging harder.\n",
        "\n",
        "When to Use Which\n",
        "\n",
        "\n",
        " - Use import module_name when you need to access multiple items from a module and want to keep the namespace clear.\n",
        "\n",
        " - Use from module_name import item_name(s) when you need only a few specific items from a module and want to avoid repetitive dot notation.\n",
        "\n",
        " - Avoid from module_name import * in most cases, as it can lead to namespace conflicts and make code harder to understand.\n",
        "\n",
        "\n",
        "Both import and from ... import are essential tools for managing code dependencies and promoting modularity in Python. Understanding their differences allows you to write cleaner, more maintainable code.\n"
      ],
      "metadata": {
        "id": "KAxMlMfWWMLh"
      }
    },
    {
      "cell_type": "markdown",
      "source": [
        "7. How can you handle multiple exceptions in Python?\n",
        "\n",
        "\n",
        "Ans:Python provides several ways to handle multiple exceptions within a try block.\n",
        "\n",
        "\n",
        "\n",
        "1. Using multiple except blocks:\n",
        "\n",
        "\n",
        " - This approach allows for different handling of various exception types.\n",
        "\n",
        " - Each except block specifies a particular exception to catch.\n",
        "\n",
        " - If an exception occurs, Python checks each except block in order. The first one matching the exception type is executed.\n",
        "\n",
        " - If no except block matches, the exception propagates.\n",
        "\n",
        " 2. Using a tuple of exceptions:\n",
        "\n",
        "\n",
        " - Multiple exceptions can be caught in a single except block using a tuple.\n",
        "\n",
        " - This approach is useful when the same handling applies to multiple exceptions.\n",
        "\n",
        "\n",
        "3. Using a parent exception class:\n",
        "\n",
        "- You can catch a broad range of exceptions using a parent class like Exception.\n",
        "\n",
        " - This approach is useful when you want to handle a general error case and don't need specific exception handling.\n",
        "\n",
        "\n",
        " 4. Using the else and finally clauses:\n",
        "\n",
        "\n",
        " - The else clause executes if no exception occurs in the try block.\n",
        "\n",
        " - The finally clause executes regardless of whether an exception occurred\n",
        "\n",
        "\n",
        "\n",
        "\n"
      ],
      "metadata": {
        "id": "cVIzb1wBYnb6"
      }
    },
    {
      "cell_type": "markdown",
      "source": [
        "8. What is the purpose of the with statement when handling files in Python?\n",
        "\n",
        "Ans:The with statement in Python is used for resource management, particularly when working with files. It guarantees that resources are properly handled, even if errors occur.\n",
        "\n",
        "Here's how it works:\n",
        "\n",
        "\n",
        " - Automatic Resource Management:\n",
        "\n",
        "When you open a file using with open(...) as file:, the with statement automatically takes care of closing the file when the block of code within the with statement is finished. This is crucial because forgetting to close files can lead to data corruption or resource leaks.\n",
        "\n",
        "\n",
        " - Exception Handling:\n",
        "\n",
        "If an exception (error) occurs while working with the file inside the with block, the with statement ensures that the file is still closed properly before the exception is raised. This prevents the file from remaining open and potentially causing issues.\n",
        "\n",
        "\n",
        " - Context Managers:\n",
        "\n",
        "The with statement works with objects called context managers. Files are context managers, which means they have special methods that are executed when the with block starts and ends. These methods handle the setup and teardown of the resource, such as opening and closing the file.\n",
        "\n",
        "\n",
        "The with statement simplifies file handling by ensuring files are closed automatically, even in the presence of errors, making code more reliable and easier to manage."
      ],
      "metadata": {
        "id": "Jp3RiMTUbFem"
      }
    },
    {
      "cell_type": "markdown",
      "source": [
        "9. What is the difference between multithreading and multiprocessing?\n",
        "\n",
        "\n",
        "Ans:Multithreading and multiprocessing are two different approaches to parallelism, both aimed at improving performance, but they differ in how they achieve this and the resources they utilize. Multithreading involves creating multiple threads within a single process, enabling concurrency, while multiprocessing involves running multiple independent processes, each with its own memory space.\n",
        "\n",
        "\n",
        "1. Multithreading:\n",
        "\n",
        " - Concurrency within a single process: Threads share the same memory space and resources of a single process.\n",
        "\n",
        " - Resource sharing: Threads can access and modify shared data without complex communication mechanisms.\n",
        "\n",
        " - Lightweight: Creating and managing threads is generally less resource-intensive than creating and managing processes.\n",
        "\n",
        " - Good for I/O-bound tasks: Threads can release the GIL (Global Interpreter Lock) in Python during I/O operations, allowing other threads to execute.\n",
        "\n",
        " - Limited parallelism: In Python, the GIL restricts true parallelism for CPU-bound tasks.\n",
        "\n",
        "2. Multiprocessing:\n",
        "\n",
        " - True parallelism:\n",
        "Processes run independently, each with its own memory space, allowing true parallel execution on multi-core systems.\n",
        "\n",
        " - Resource isolation:\n",
        "Processes don't share memory, reducing the risk of race conditions and making synchronization more complex.\n",
        "\n",
        " - Higher overhead:\n",
        "Creating and managing processes is generally more resource-intensive than creating and managing threads.\n",
        "\n",
        " - Best for CPU-bound tasks:\n",
        "Multiprocessing can leverage multiple cores to fully utilize CPU resources for CPU-intensive tasks.\n",
        "\n",
        " - Requires explicit communication:\n",
        "Processes need to communicate explicitly, often using queues or pipes.\n",
        "\n",
        " -In essence:\n",
        "\n",
        "\n",
        " - Multithreading is like having multiple cooks working in the same kitchen (sharing the same workspace).\n",
        "\n",
        " - Multiprocessing is like having multiple chefs each with their own kitchen and resources.\n",
        "\n",
        "\n",
        "Which to choose:\n",
        "\n",
        " - The choice between multithreading and multiprocessing depends on the specific task and the system's architecture.\n",
        "\n",
        " - Multithreading is suitable for I/O-bound tasks where concurrency is more important than true parallelism, while multiprocessing is better for CPU-bound tasks that can benefit from true parallel execution.\n",
        "\n",
        "- For example, in Python, multithreading is often used for network operations or file I/O, while multiprocessing is preferred for computationally intensive tasks like image processing or scientific simulations."
      ],
      "metadata": {
        "id": "5hYX8dJ5cXHL"
      }
    },
    {
      "cell_type": "markdown",
      "source": [
        "10. What are the advantages of using logging in a program?\n",
        "\n",
        "Ans:Logging provides significant advantages in program development and maintenance, primarily by enabling efficient debugging, performance monitoring, and security tracking. It helps developers gain insights into program behavior, identify issues, and make informed decisions about code optimization and system health.\n",
        "\n",
        "\n",
        "Here's a more detailed look at the Advantages:\n",
        "\n",
        "\n",
        "1. Debugging and Troubleshooting:\n",
        "\n",
        " - Tracing Execution Flow:\n",
        "Logging allows developers to track the execution path of their code, making it easier to pinpoint where errors or unexpected behavior occur.\n",
        "\n",
        "  - Identifying Root Causes:\n",
        "By examining log messages, developers can quickly determine the root cause of issues, even if they are complex or intermittent.\n",
        "\n",
        "  - Contextual Information:\n",
        "Logs can include valuable contextual information, such as variable values, function calls, and time stamps, which helps in understanding the state of the program at the time of the event.\n",
        "\n",
        "  - Reducing Time-to-Fix:\n",
        "Logging streamlines the debugging process, leading to faster identification and resolution of issues.\n",
        "\n",
        "\n",
        "2. Performance Monitoring:\n",
        "\n",
        " - Real-Time Visibility:\n",
        "Logging provides a real-time view of application performance, allowing developers to monitor system health and identify bottlenecks.\n",
        "\n",
        " - Performance Trends:\n",
        "Logs can be analyzed to identify patterns and trends in application performance, helping in optimizing code and resource utilization.\n",
        "\n",
        " -  Alerting and Notifications:\n",
        "Logging can be used to trigger alerts or notifications when certain performance thresholds are exceeded, allowing for proactive problem resolution.\n",
        "\n",
        "\n",
        "3. Security Tracking and Auditing:\n",
        "\n",
        " -  Event Tracking:\n",
        "Logs can record user activities, system events, and security-related events, providing a detailed audit trail.\n",
        "\n",
        " - Security Incident Detection:\n",
        "By analyzing log data, organizations can identify and respond to security threats more quickly, such as unauthorized access attempts or malicious activity.\n",
        "\n",
        " - Compliance:\n",
        "Logging can help organizations meet regulatory and compliance requirements by providing a record of system activity.\n",
        "\n",
        "\n",
        "4. Other Benefits:\n",
        "\n",
        " - Improved Communication:\n",
        "Logs act as a shared resource for developers, administrators, and other stakeholders, enabling effective communication about system behavior and issues.\n",
        "\n",
        " - Business Intelligence:\n",
        "Log data can be used to analyze user behavior, identify trends, and gain insights into business operations.\n",
        "\n",
        " - Centralized Logging:\n",
        "Centralized logging systems can provide a unified view of logs across multiple servers and applications, simplifying the process of monitoring and managing complex systems.\n",
        "\n",
        "\n",
        "logging is an indispensable tool for software development, offering significant advantages in debugging, performance monitoring, security tracking, and overall system management.\n",
        "\n",
        "\n"
      ],
      "metadata": {
        "id": "09yoEHgJdsE6"
      }
    },
    {
      "cell_type": "markdown",
      "source": [
        "11. What is memory management in Python?\n",
        "\n",
        "Ans:Memory management in Python is the process of allocating and deallocating memory for objects during the execution of a program. Python uses a private heap to store objects and data structures.\n",
        "\n",
        "The Python memory manager handles the allocation and deallocation of memory in this heap.\n",
        "\n",
        "\n",
        "Key Concepts:\n",
        "\n",
        "\n",
        "1. Private Heap:\n",
        "All Python objects are stored in a private heap, which is exclusive to the Python process. The operating system cannot allocate this memory to other processes.\n",
        "\n",
        "\n",
        "2. Memory Allocation:\n",
        "When a new object is created, the Python memory manager allocates memory from the private heap. The memory manager interacts with the operating system to ensure there is enough space.\n",
        "\n",
        "\n",
        "3. Memory Deallocation:\n",
        "When an object is no longer needed, the memory it occupies is deallocated.\n",
        "\n",
        "\n",
        "Python uses two main techniques for this:\n",
        "\n",
        " - Reference Counting: Each object has a reference count, which tracks how many references point to it. When this count reaches zero, the memory is released.\n",
        "\n",
        " - Garbage Collection: Python's garbage collector identifies and reclaims memory occupied by objects that are no longer accessible by the program, even if their reference count is not zero. This is important for dealing with circular references.\n",
        "\n",
        "4. Object-Specific Allocators:\n",
        "Python uses different memory management policies for different object types.\n",
        "\n",
        "For example, integers, strings, and lists are managed differently within the heap.\n",
        "\n",
        "\n",
        "5. Benefits of Automatic Memory Management:\n",
        "\n",
        "- Simplified Development:\n",
        "Developers do not need to manually manage memory, reducing the risk of memory leaks and other memory-related errors.\n",
        "\n",
        "- Increased Efficiency:\n",
        "Python's memory manager optimizes memory usage, leading to better program performance.\n",
        "\n",
        "\n",
        " Python's memory management system automatically handles memory allocation and deallocation, making it easier for developers to write efficient and reliable programs\n"
      ],
      "metadata": {
        "id": "swEnWj3hfiWg"
      }
    },
    {
      "cell_type": "markdown",
      "source": [
        "12. What are the basic steps involved in exception handling in Python?\n",
        "\n",
        "Ans:Here are the basic steps involved in exception handling in Python:\n",
        "\n",
        " - Try Block:\n",
        "This block contains the code that might raise an exception. Python attempts to execute this code.\n",
        "\n",
        " - Except Block:\n",
        "If an exception occurs within the try block, Python immediately stops executing the try block and jumps to the except block. This block specifies how to handle the exception. You can have multiple except blocks to handle different types of exceptions.\n",
        "\n",
        " - Else Block (Optional):\n",
        "This block is executed only if no exceptions are raised in the try block. It's useful for code that should run when the try block succeeds.\n",
        "\n",
        " - Finally Block (Optional):\n",
        "This block is always executed, regardless of whether an exception occurred or not. It's typically used for cleanup actions, such as closing files or releasing resources.\n",
        "\n",
        "Additional:\n",
        " - Raising Exceptions:\n",
        "You can use the raise keyword to manually raise an exception when a specific condition occurs.\n",
        "\n",
        " - Custom Exceptions:\n",
        "You can create your own exception classes by inheriting from the built-in Exception class or its subclasses.\n",
        "\n",
        " - Assert Statement:\n",
        "The assert statement is used for debugging and testing. It checks if a given condition is true. If the condition is false, it raises an AssertionError.\n",
        "\n",
        " - Logging Exceptions:\n",
        "It's good practice to log exception details to help understand and troubleshoot problems."
      ],
      "metadata": {
        "id": "qvs-M-nfi1PR"
      }
    },
    {
      "cell_type": "markdown",
      "source": [
        "13.  Why is memory management important in Python?\n",
        "\n",
        "\n",
        "Ans:Memory management is crucial in Python for several reasons:\n",
        "\n",
        " - Efficiency: Efficient memory management ensures that programs utilize resources effectively. This leads to faster execution and prevents unnecessary slowdowns.\n",
        "\n",
        " - Automatic Management: Python handles memory management automatically, unlike languages like C or C++ where you need to allocate and deallocate memory manually. This simplifies the programming process.\n",
        "\n",
        " - Garbage Collection: Python uses a garbage collector to automatically free up memory occupied by objects that are no longer in use. This prevents memory leaks, where memory is allocated but never released.\n",
        "\n",
        " - Object Allocation: When you create a new object (like a variable or list), Python allocates memory to store it. Proper management ensures that this memory is used efficiently.\n",
        "\n",
        " - Memory Protection: Memory management prevents programs from accessing memory that they are not supposed to. This helps prevent crashes and security vulnerabilities.\n",
        "\n",
        " - Performance: Effective memory management is essential for the performance of applications, especially when dealing with large amounts of data. It can prevent programs from using excessive memory, leading to sluggish performance.\n",
        "\n",
        " - Resource Optimization: Memory management optimizes the use of available system resources. This ensures that applications run smoothly without consuming more memory than necessary.\n",
        "\n",
        " - Avoiding Memory Leaks: By automatically deallocating unused memory, memory management prevents memory leaks which can cause programs to slow down or crash.\n",
        "\n",
        " - Simplified Programming: Python's automatic memory management lets developers focus on writing code rather than dealing with the complexity of manual memory allocation and deallocation.\n",
        "\n",
        " - Scalability: Proper memory management makes it easier to scale applications. This means that applications can handle larger amounts of data or more users without running out of memory or experiencing performance issues."
      ],
      "metadata": {
        "id": "BwlFowpnkBeL"
      }
    },
    {
      "cell_type": "markdown",
      "source": [
        "14. What is the role of try and except in exception handling?\n",
        "\n",
        "\n",
        "Ans:In exception handling, try and except blocks work together to gracefully handle errors that might occur during program execution. The try block contains code that might potentially raise an exception, while the except block contains the code that executes if an exception occurs within the try block.\n",
        "\n",
        "Elaboration:\n",
        "\n",
        " - try Block:\n",
        "\n",
        "The try block is where you place the code that might cause an error. If an exception occurs within the try block, the execution of the try block is immediately stopped, and the program jumps to the corresponding except block.\n",
        "\n",
        "\n",
        " - except Block:\n",
        "\n",
        "The except block is used to handle exceptions that are raised within the try block. When an exception is raised, the control flows to the first except block that specifies the exception type or a general except block if no specific exception types are specified. The code within the except block is executed to handle the error, such as printing an error message, attempting to recover from the error, or logging the error.\n",
        "\n",
        " - Purpose:\n",
        "\n",
        "Exception handling using try and except blocks allows programs to continue running even if errors occur, preventing crashes and allowing for more robust and user-friendly applications.\n",
        "\n",
        "\n",
        " - Example:\n",
        "\n",
        "If a program tries to divide a number by zero, it will raise a ZeroDivisionError exception. If this code is placed within a try block and a corresponding except ZeroDivisionError block is provided, the program can handle the error and prevent the program from crashing.\n",
        "\n"
      ],
      "metadata": {
        "id": "bfQ4sso5lBK6"
      }
    },
    {
      "cell_type": "markdown",
      "source": [
        "15. How does Python's garbage collection system work?\n",
        "\n",
        "Ans:Python uses a hybrid garbage collection system consisting of reference counting and generational garbage collection. This system automatically manages memory, freeing up space occupied by objects that are no longer in use.\n",
        "\n",
        "Here's a more detailed explanation:\n",
        "\n",
        "1. Reference Counting:\n",
        "\n",
        " - Each object in Python has a reference count, which tracks how many other objects are referencing it.\n",
        "\n",
        " - When an object's reference count reaches zero, it means no other objects are using it, and it can be safely deallocated, freeing up its memory.\n",
        "\n",
        " - This approach is simple and efficient for managing the memory of objects that are no longer needed.\n",
        "\n",
        "2. Generational Garbage Collection:\n",
        "\n",
        " - Python also uses generational garbage collection, which is a more sophisticated method.\n",
        "\n",
        " - It divides objects into generations based on how many garbage collection cycles they have survived.\n",
        "\n",
        " - Newly created objects are in the youngest generation (generation 0).\n",
        "\n",
        " - If an object survives a collection, it moves to the next older generation.\n",
        "\n",
        " - Generational garbage collection is based on the idea that most objects die young, and objects that have survived multiple collections are more likely to be long-lived.\n",
        "\n",
        " - This approach helps optimize performance by collecting the youngest generation more frequently, as it's more likely to contain garbage.\n",
        "\n",
        "-Python's garbage collection works by:\n",
        "\n",
        " - Tracking the number of references to each object using reference counting.\n",
        "\n",
        " - Reclaiming memory when an object's reference count reaches zero.\n",
        "\n",
        " - Using generational garbage collection to optimize memory management by collecting younger objects more frequently."
      ],
      "metadata": {
        "id": "KYlzBN2jl7So"
      }
    },
    {
      "cell_type": "markdown",
      "source": [
        "16. What is the purpose of the else block in exception handling?\n",
        "\n",
        "\n",
        "Ans:The else block in Python's exception handling (try...except...else...finally) is optional and serves a specific purpose.\n",
        "\n",
        "\n",
        "Purpose of the else block:\n",
        "\n",
        "The code within the else block is executed only if no exceptions are raised in the corresponding try block.\n",
        "\n",
        "Here's a breakdown of its role:\n",
        "\n",
        " - Conditional Execution: It provides a way to execute code that should only run when the operation within the try block is successful.\n",
        "\n",
        " - Separation of Concerns: It helps separate the code that might cause an error (in the try block) from the code that should run on success (in the else block).\n",
        "\n",
        " - Improved Readability: Using an else block can make your code more readable by clearly indicating which part of the code is dependent on the try block executing without errors.\n",
        "\n",
        "\n",
        "Use Cases:\n",
        "\n",
        " - Executing code after a successful operation in the try block.\n",
        "\n",
        " - Performing cleanup actions or resource management if the try block completes without issues.\n",
        "\n",
        " - Separating normal execution flow from exception handling code, improving code readability.\n",
        "\n",
        " - Avoiding the need to use flags or other mechanisms to check if an exception was raised, simplifying code."
      ],
      "metadata": {
        "id": "-bk6m2P1nbeK"
      }
    },
    {
      "cell_type": "markdown",
      "source": [
        "17. What are the common logging levels in Python?\n",
        "\n",
        "\n",
        "Ans:Here are the common logging levels in Python, ordered from least to most severe:\n",
        "\n",
        "\n",
        " - DEBUG:\n",
        "Provides detailed information useful for diagnosing issues. It is typically used during development and debugging phases.\n",
        "\n",
        " - INFO:\n",
        "Confirms that the application is running as expected. It provides general information about the program's execution.\n",
        "\n",
        " - WARNING:\n",
        "Indicates that something unexpected has occurred or may occur soon. However, the program can usually continue running.\n",
        "\n",
        " - ERROR:\n",
        "Signifies a significant issue that has prevented certain functions from executing. It suggests that the program might not be able to perform some tasks.\n",
        "\n",
        " - CRITICAL:\n",
        "Represents a severe error that might cause the program to stop running. It indicates a situation that requires immediate attention.\n",
        "\n",
        " - NOTSET:\n",
        "It is the initial default setting of a log, and it acts as a default level that allows all messages to be logged.\n",
        "\n",
        "\n",
        "Each level has an associated integer value, which determines the severity of the log message. This allows you to filter log messages based on their level. For example, setting the logging level to INFO will include INFO, WARNING, ERROR, and CRITICAL messages, but not DEBUG messages.\n"
      ],
      "metadata": {
        "id": "yyCTVArCoO1E"
      }
    },
    {
      "cell_type": "markdown",
      "source": [
        "18. What is the difference between os.fork() and multiprocessing in Python?\n",
        "\n",
        "\n",
        "Ans:os.fork() and multiprocessing are both used for creating new processes in Python, but they differ significantly in their implementation and usage.\n",
        "\n",
        "\n",
        "1. os.fork()\n",
        "\n",
        " - Low-Level:\n",
        "os.fork() is a low-level system call that directly interfaces with the operating system's process creation mechanism.\n",
        "\n",
        " - Cloning:\n",
        "It creates a new process by duplicating the existing process. This means that the child process inherits a copy of the parent process's memory, file descriptors, and other resources.\n",
        "\n",
        " - Unix-Specific:\n",
        "It is primarily available on Unix-like operating systems (Linux, macOS) and is not supported on Windows.\n",
        "\n",
        " - Limited Functionality:\n",
        "os.fork() provides a basic mechanism for process creation but lacks high-level features for managing inter-process communication and synchronization.\n",
        "\n",
        " -  Usage:\n",
        "It is typically used in scenarios where a simple process duplication is sufficient and where the user has fine-grained control over the child process's execution.\n",
        "\n",
        "2. multiprocessing\n",
        "\n",
        " - High-Level:\n",
        "multiprocessing is a high-level Python module that provides a more convenient and portable way to create and manage processes.\n",
        "\n",
        " - Process Creation:\n",
        "It uses different methods for process creation depending on the platform, including fork, spawn, and forkserver.\n",
        "\n",
        " - Portability:\n",
        "It is designed to work across different operating systems, including Windows, macOS, and Linux.\n",
        "\n",
        " -  Features:\n",
        "multiprocessing offers a rich set of features for inter-process communication (e.g., pipes, queues, shared memory), process synchronization (e.g., locks, semaphores), and process management.\n",
        "\n",
        " - Usage:\n",
        "It is preferred for applications that require more complex process management, inter-process communication, and cross-platform compatibility.\n",
        "\n",
        "\n",
        "\n",
        "\n",
        "\n",
        "Key Differences:\n",
        "\n",
        " - Portability: os.fork() is Unix-specific, while multiprocessing is cross-platform.\n",
        "\n",
        " - API: multiprocessing provides a higher-level and more convenient API for process management and IPC compared to the low-level os.fork().\n",
        "\n",
        " - Memory Management: os.fork() duplicates the parent's memory, which might be less efficient than multiprocessing, which can create new processes with their own memory spaces.\n",
        "\n",
        " - IPC: multiprocessing includes built-in IPC mechanisms, while with os.fork(), you would need to implement IPC yourself using lower-level methods."
      ],
      "metadata": {
        "id": "dpwXHfJDpx1m"
      }
    },
    {
      "cell_type": "markdown",
      "source": [
        "19. What is the importance of closing a file in Python?\n",
        "\n",
        "\n",
        "Ans: Closing a file in Python is crucial for several reasons:\n",
        "\n",
        "\n",
        "-Resource Management:\n",
        "\n",
        " - Memory Leaks:\n",
        "When a file is opened, the operating system allocates resources to manage it. If files are not closed, these resources remain in use, leading to memory leaks over time, potentially causing performance issues or crashes.\n",
        "\n",
        " - File Handles:\n",
        "Operating systems limit the number of files that can be open simultaneously. Failing to close files can exhaust these limits, preventing the program from opening new files.\n",
        "\n",
        "\n",
        "-Data Integrity:\n",
        "\n",
        " - Data Flushing:\n",
        "When data is written to a file, it is often buffered in memory before being written to disk. Closing a file ensures that all buffered data is flushed to the disk, preventing data loss or corruption.\n",
        "\n",
        "\n",
        " - File Locking:\n",
        "Some file operations require exclusive access. If a file is not closed, it may remain locked, preventing other processes or users from accessing it.\n",
        "\n",
        "\n",
        "-Best Practices:\n",
        "\n",
        " - Code Maintainability: Properly closing files is a good programming practice that improves code maintainability and makes it easier to understand how resources are managed.\n",
        "\n",
        " - Error Prevention: Closing files can prevent unexpected behavior and errors in the program.\n",
        "\n",
        "\n",
        "-How to Close Files:\n",
        "\n",
        " - Using close(): The close() method is used to explicitly close a file.\n",
        "\n",
        " - Using with statement: The with statement provides a more robust way to handle files. It automatically closes the file when the block of code is exited, even if an exception occurs. This is the recommended approach\n",
        "\n",
        "closing files ensures proper resource management, data integrity, and prevents potential issues in your Python programs.\n"
      ],
      "metadata": {
        "id": "2jOGYJGyrXTf"
      }
    },
    {
      "cell_type": "markdown",
      "source": [
        "20. What is the difference between file.read() and file.readline() in Python?\n",
        "\n",
        "\n",
        "Ans:file.read() and file.readline() are both methods used to read content from a file in Python, but they differ in how much data they read at a time.\n",
        "\n",
        "Here's a breakdown of the difference:\n",
        "\n",
        "1. file.read()\n",
        "\n",
        " - Reads the entire file: This method reads the entire content of the file as a single string.\n",
        "\n",
        " - Optional argument: You can pass an optional integer argument to read() to specify the number of characters or bytes to read from the file. If no argument is provided, it reads the entire file.\n",
        "\n",
        " - Returns a string: It returns the content read as a string.\n",
        "\n",
        "2. file.readline()\n",
        "\n",
        " - Reads a single line: This method reads one entire line from the file. A line is typically terminated by a newline character (\\n).\n",
        "\n",
        " - Includes the newline character: The returned string includes the newline character at the end of the line, unless it's the last line of the file and it doesn't end with a newline.\n",
        "\n",
        " - Returns an empty string at the end of the file: When the end of the file is reached, readline() returns an empty string ('').\n",
        "\n",
        "\n",
        "summary:\n",
        "\n",
        "\n",
        " - Use file.read() when you need to read the entire content of a file into a single string or a specific number of characters/bytes.\n",
        "\n",
        " - Use file.readline() when you need to read the file line by line, which is useful for processing files where each line represents a separate record or piece of information.\n",
        "\n"
      ],
      "metadata": {
        "id": "EAADgM6PtbSR"
      }
    },
    {
      "cell_type": "markdown",
      "source": [
        "21. What is the logging module in Python used for?\n",
        "\n",
        "\n",
        "\n",
        "Ans:Key parts of Python's logging system include:\n",
        "\n",
        " - Loggers: These are the main objects you use to create log messages.\n",
        "\n",
        " - Handlers: These decide where the log messages go.\n",
        "\n",
        " - Formatters: These control how the log messages look.\n",
        "\n",
        " - Levels: These categorize log messages based on how serious they are (DEBUG, INFO, WARNING, ERROR, CRITICAL). You can set your logger to only show messages above a certain level.\n",
        "\n",
        "The logging module in Python is a versatile tool used to track events and record information during program execution. It allows developers to identify errors, debug issues, and monitor the health of their applications.\n",
        "\n",
        "\n",
        " - Tracking Events:\n",
        "The logging module helps developers record various events occurring within their code, such as errors, warnings, informational messages, and debug statements.\n",
        "\n",
        " - Debugging:\n",
        "Logging provides valuable information for debugging, including timestamps, module names, line numbers, and log levels, making it easier to understand the flow of the program and pinpoint the source of errors.\n",
        "\n",
        " - Monitoring:\n",
        "Logging can be used to monitor application performance and identify potential bottlenecks or issues.\n",
        "\n",
        " - Troubleshooting:\n",
        "The information captured by logging helps in troubleshooting complex problems and identifying the root cause of issues, especially in large codebases.\n",
        "\n",
        " - Flexibility:\n",
        "The logging module is highly configurable, allowing developers to route log messages to different destinations (e.g., console, file, email) and customize the format of log messages.\n",
        "\n",
        " - Levels of Importance:\n",
        "Logging levels (DEBUG, INFO, WARNING, ERROR, CRITICAL) provide a way to categorize the severity of events, allowing developers to prioritize the most important information.\n",
        "\n",
        "\n",
        "\n",
        "\n",
        "Using the logging module is a better way to get information about your program's execution than using print statements, especially in applications that will be used by others.\n",
        "\n",
        "\n"
      ],
      "metadata": {
        "id": "0NMkQ78cuXn2"
      }
    },
    {
      "cell_type": "markdown",
      "source": [
        "22. What is the os module in Python used for in file handling?\n",
        "\n",
        "\n",
        "Ans:The os module in Python is a built-in module that provides a way to interact with the operating system. In the context of file handling, the os module offers a variety of functions for working with files and directories in a platform-independent manner.\n",
        "\n",
        "Here's a breakdown of what the os module is used for in file handling:\n",
        "\n",
        "1. Working with Paths: The os module provides functions to manipulate file and directory paths, such as:\n",
        "\n",
        " - os.path.join(): To construct paths in a way that is appropriate for the operating system.\n",
        "\n",
        " - os.path.exists(): To check if a path exists.\n",
        "\n",
        " - os.path.isfile(): To check if a path points to a file.\n",
        "\n",
        " - os.path.isdir(): To check if a path points to a directory.\n",
        "\n",
        " - os.path.split(): To split a path into a head and a tail.\n",
        "\n",
        " - os.path.splitext(): To split a path into a root and an extension.\n",
        "\n",
        "2. Directory Operations: You can perform operations on directories using the os module, such as:\n",
        "\n",
        " - os.mkdir(): To create a new directory.\n",
        "\n",
        " - os.makedirs(): To create directories recursively.\n",
        "\n",
        " - os.rmdir(): To remove an empty directory.\n",
        "\n",
        " - os.removedirs(): To remove directories recursively.\n",
        "\n",
        " - os.listdir(): To list the contents of a directory.\n",
        "\n",
        " - os.getcwd(): To get the current working directory.\n",
        "\n",
        " - os.chdir(): To change the current working directory.\n",
        "\n",
        "3. File Operations (Metadata): While the primary way to read from and write to files is using the built-in open() function, the os module provides functions for working with file metadata, such as:\n",
        "\n",
        " - os.stat(): To get status information about a file or directory (e.g., size, modification time).\n",
        "\n",
        " - os.rename(): To rename a file or directory.\n",
        "\n",
        " - os.remove(): To delete a file.\n",
        "Permissions: The os module can be used to work with file permissions:\n",
        "\n",
        " - os.chmod(): To change the permissions of a file.\n",
        "\n",
        "The os module in Python provides a powerful and platform-independent way to interact with the file system. While the open() function is used for reading and writing file content, the os module handles tasks related to paths, directories, and file metadata.\n",
        "\n"
      ],
      "metadata": {
        "id": "VmxSfjpJvgaI"
      }
    },
    {
      "cell_type": "markdown",
      "source": [
        "23.What are the challenges associated with memory management in Python?\n",
        "\n",
        "\n",
        "Ans:Python's memory management, while largely automatic, presents several challenges:\n",
        "\n",
        "\n",
        "\n",
        "1. Memory Leaks:\n",
        "\n",
        " - Occur when objects are no longer in use but not deallocated, leading to increased memory consumption and potential crashes.\n",
        "\n",
        " - Circular references, where objects refer to each other, can prevent the garbage collector from freeing memory.\n",
        "\n",
        "2. Garbage Collection Overhead:\n",
        "\n",
        " - Python's automatic garbage collection, while convenient, can introduce performance overhead as it periodically reclaims unused memory.\n",
        "\n",
        " - The garbage collector may not free up memory immediately, especially for large or infrequently used objects.\n",
        "\n",
        "3. Fragmentation:\n",
        "\n",
        " - Memory can become fragmented, with small blocks of free memory scattered across the heap, making it difficult to allocate larger contiguous blocks.\n",
        "\n",
        "4. Reference Counting Limitations:\n",
        "\n",
        " - While reference counting is the primary memory management technique, it struggles with circular references.\n",
        "\n",
        "5. Immutable Objects:\n",
        "\n",
        " - Strings are immutable, meaning concatenating strings repeatedly can create new objects and consume more memory.\n",
        "\n",
        "6. Large Datasets:\n",
        "\n",
        " - Handling large datasets can lead to memory errors if the program consumes more memory than available.\n",
        "\n",
        "7. Lack of Manual Control:\n",
        "\n",
        " - Python's automatic memory management provides less manual customizability compared to languages like C or C++.\n",
        "\n",
        "8. Multithreading/Multiprocessing:\n",
        "\n",
        " - Multithreading can introduce complexities in synchronizing threads, while multiprocessing can be resource-intensive due to each process requiring its own memory space.\n",
        "\n",
        "9. Memory Bloat:\n",
        "\n",
        " - Occurs when applications load excessive data into memory and fail to deallocate it, leading to higher costs and poor performance.\n",
        "\n",
        "10. Debugging Challenges:\n",
        "\n",
        " - Understanding and debugging Python's memory management can be difficult, potentially leading to memory leaks and other issues.\n",
        "\n",
        "-Mitigation Strategies:\n",
        "\n",
        " - Using weak references to break circular references.\n",
        "\n",
        " - Employing context managers to ensure resources are released.\n",
        "\n",
        " - Explicitly deleting objects when no longer needed.\n",
        "\n",
        " - Using memory profiling tools to identify inefficiencies.\n",
        "\n",
        " - Avoiding string concatenation with \"+\" in favor of .join() or format().\n",
        "\n",
        " - Being mindful of data structure choices to avoid unnecessary memory consumption\n",
        "\n"
      ],
      "metadata": {
        "id": "AsaAASzZwpHn"
      }
    },
    {
      "cell_type": "markdown",
      "source": [
        "24.How do you raise an exception manually in Python?\n",
        "\n",
        "\n",
        "Ans:In Python, the raise keyword is used to manually raise an exception. This allows you to interrupt the normal flow of the program and signal that an error or exceptional condition has occurred.\n",
        "\n",
        "\n",
        "Here's a breakdown of how to use it: basic syntax.\n",
        "\n",
        "\n",
        "\n",
        "   raise ExceptionType(\"Error message\")\n",
        "\n",
        "\n",
        " - raise: The keyword to initiate the exception.\n",
        "\n",
        " -  ExceptionType: The type of exception to raise (e.g., ValueError, TypeError, ZeroDivisionError, or a custom exception).\n",
        "\n",
        " - \"Error message\": An optional string providing details about the error.\n",
        "\n",
        "\n",
        "-Common Use Cases:\n",
        "\n",
        " - Input Validation: Raise an exception if user input is invalid.\n",
        "\n",
        " - Error Handling: Raise exceptions when a function encounters a problem that it cannot handle.\n",
        "\n",
        " - Custom Exceptions: Create custom exception classes to handle specific errors in your application.\n",
        "\n",
        "-Best Practices:\n",
        "\n",
        " - Use the most specific exception type that matches the error.\n",
        "\n",
        " - Include a clear and informative error message.\n",
        "Handle exceptions gracefully using try...except blocks.\n",
        "\n",
        "By using raise effectively, you can create more robust and reliable Python programs that handle errors gracefully.\n",
        "\n"
      ],
      "metadata": {
        "id": "ogSvLyeuxyvm"
      }
    },
    {
      "cell_type": "markdown",
      "source": [
        "25.Why is it important to use multithreading in certain applications?\n",
        "\n",
        "\n",
        "Ans:Multithreading is important in applications that benefit from concurrency, such as those involving I/O-bound tasks, real-time data processing, or where multiple tasks can run independently without blocking each other. By using multiple threads, applications can improve performance, responsiveness, and scalability.\n",
        "\n",
        "\n",
        "Here's why multithreading is crucial:\n",
        "\n",
        " - Improved Performance:\n",
        "By running multiple tasks concurrently, multithreading can significantly speed up overall processing time. For example, a web server can use multiple threads to handle simultaneous user requests.\n",
        "\n",
        "\n",
        " - Better Responsiveness:\n",
        "Multithreading allows applications to remain responsive even when a thread is blocked, such as during I/O operations. This prevents the user interface from freezing.\n",
        "\n",
        " - Enhanced Scalability:\n",
        "Multithreading can improve the scalability of an application by allowing it to take advantage of multiple processors or cores.\n",
        "\n",
        "\n",
        " - Efficient CPU Utilization:\n",
        "Multithreading can help maximize CPU utilization, especially on multi-core systems, by ensuring that the CPU is always busy processing tasks.\n",
        "\n",
        " - Real-time Processing:\n",
        "Multithreading is essential for real-time applications where tasks need to be executed with minimal delay, such as in scientific simulations or industrial control systems.\n",
        "\n",
        " - Simultaneous Task Execution:\n",
        "Multithreading allows applications to handle multiple tasks simultaneously, which can be particularly useful in scenarios where the tasks are independent or can be broken down into smaller, independent subtasks"
      ],
      "metadata": {
        "id": "-dwC6TxGy5E0"
      }
    },
    {
      "cell_type": "code",
      "source": [
        "# Practical Questions"
      ],
      "metadata": {
        "id": "73Z3D8ouzdM7"
      },
      "execution_count": null,
      "outputs": []
    },
    {
      "cell_type": "code",
      "source": [
        "# 1. How can you open a file for writing in Python and write a string to it?\n",
        "\n",
        "\n",
        "file_path = \"my_file.txt\"\n",
        "content_to_write = \"This is the string I want to write to the file.\"\n",
        "\n",
        "try:\n",
        "    with open(file_path, 'w') as file:\n",
        "        file.write(content_to_write)\n",
        "    print(f\"Successfully wrote to {file_path}\")\n",
        "except IOError as e:\n",
        "    print(f\"Error writing to file {file_path}: {e}\")\n",
        "\n",
        "\n"
      ],
      "metadata": {
        "colab": {
          "base_uri": "https://localhost:8080/"
        },
        "id": "ySz7bBqYnNWZ",
        "outputId": "13e80cf5-70cd-41b4-b42b-32846bb4d2a6"
      },
      "execution_count": null,
      "outputs": [
        {
          "output_type": "stream",
          "name": "stdout",
          "text": [
            "Successfully wrote to my_file.txt\n"
          ]
        }
      ]
    },
    {
      "source": [
        "#2.  Write a Python program to read the contents of a file and print each line?\n",
        "\n",
        "try:\n",
        "\n",
        "  file_path = 'your_file.txt'\n",
        "\n",
        "\n",
        "  with open(file_path, 'r') as file:\n",
        "\n",
        "    for line in file:\n",
        "      print(line, end='')\n",
        "\n",
        "except FileNotFoundError:\n",
        "  print(f\"Error: The file '{file_path}' was not found.\")\n",
        "except Exception as e:\n",
        "  print(f\"An error occurred: {e}\")"
      ],
      "cell_type": "code",
      "metadata": {
        "colab": {
          "base_uri": "https://localhost:8080/"
        },
        "id": "RUofRpr3raQk",
        "outputId": "f7562d32-1b4c-4f4e-f732-92fe8be5f5e5"
      },
      "execution_count": null,
      "outputs": [
        {
          "output_type": "stream",
          "name": "stdout",
          "text": [
            "Error: The file 'your_file.txt' was not found.\n"
          ]
        }
      ]
    },
    {
      "cell_type": "code",
      "source": [
        "# 3. How would you handle a case where the file doesn't exist while trying to open it for reading?\n",
        "\n",
        "\n",
        "try:\n",
        "    with open('your_file.txt', 'r') as file:\n",
        "        content = file.read()\n",
        "        print(\"File content:\")\n",
        "        print(content)\n",
        "except FileNotFoundError:\n",
        "    print(\"Error: The file does not exist.\")\n",
        "except Exception as e:\n",
        "    print(f\"An unexpected error occurred: {e}\")\n",
        "\n",
        "\n"
      ],
      "metadata": {
        "colab": {
          "base_uri": "https://localhost:8080/"
        },
        "id": "1Dh57VIirzLl",
        "outputId": "26e38c40-5d6f-4478-d9eb-aa0f8adc3676"
      },
      "execution_count": null,
      "outputs": [
        {
          "output_type": "stream",
          "name": "stdout",
          "text": [
            "Error: The file does not exist.\n"
          ]
        }
      ]
    },
    {
      "cell_type": "code",
      "source": [
        "# 4.Write a Python script that reads from one file and writes its content to another file?\n",
        "\n",
        "with open('input.txt', 'w') as f:\n",
        "    f.write('This is the first line.\\n')\n",
        "    f.write('This is the second line.\\n')\n",
        "    f.write('And this is the third line.')\n",
        "\n",
        "try:\n",
        "    with open('input.txt', 'r') as infile, open('output.txt', 'w') as outfile:\n",
        "        content = infile.read()\n",
        "        outfile.write(content)\n",
        "    print(\"Content successfully copied from input.txt to output.txt\")\n",
        "\n",
        "except FileNotFoundError:\n",
        "    print(\"Error: input.txt not found.\")\n",
        "except Exception as e:\n",
        "    print(f\"An error occurred: {e}\")\n"
      ],
      "metadata": {
        "colab": {
          "base_uri": "https://localhost:8080/"
        },
        "id": "Hct9N5SRtaNu",
        "outputId": "47fbf65a-99c4-4ec7-9629-ed13b73b66b4"
      },
      "execution_count": null,
      "outputs": [
        {
          "output_type": "stream",
          "name": "stdout",
          "text": [
            "Content successfully copied from input.txt to output.txt\n"
          ]
        }
      ]
    },
    {
      "cell_type": "code",
      "source": [
        "# 5. How would you catch and handle division by zero error in Python?\n",
        "\n",
        "\n",
        "try:\n",
        "  numerator = 10\n",
        "  denominator = 0\n",
        "  result = numerator / denominator\n",
        "  print(result)\n",
        "except ZeroDivisionError:\n",
        "  print(\"Error: Division by zero is not allowed.\")"
      ],
      "metadata": {
        "colab": {
          "base_uri": "https://localhost:8080/"
        },
        "id": "x_DSPBCIuEiN",
        "outputId": "43e70622-a7e2-44c6-c7e8-b580832268fe"
      },
      "execution_count": null,
      "outputs": [
        {
          "output_type": "stream",
          "name": "stdout",
          "text": [
            "Error: Division by zero is not allowed.\n"
          ]
        }
      ]
    },
    {
      "source": [
        " # 6.Write a Python program that logs an error message to a log file when a division by zero  exception occurs.?\n",
        "\n",
        "import logging\n",
        "\n",
        "logging.basicConfig(filename='division_errors.log', level=logging.ERROR,\n",
        "                    format='%(asctime)s - %(levelname)s - %(message)s')\n",
        "\n",
        "def divide_numbers(a, b):\n",
        "\n",
        "  try:\n",
        "    result = a / b\n",
        "    return result\n",
        "  except ZeroDivisionError:\n",
        "    logging.error(f\"Error: Attempted to divide {a} by zero.\")\n",
        "    return None\n",
        "numerator1 = 10\n",
        "denominator1 = 2\n",
        "result1 = divide_numbers(numerator1, denominator1)\n",
        "if result1 is not None:\n",
        "  print(f\"Result of {numerator1} / {denominator1}: {result1}\")\n",
        "\n",
        "numerator2 = 5\n",
        "denominator2 = 0\n",
        "result2 = divide_numbers(numerator2, denominator2)\n",
        "if result2 is None:\n",
        "  print(f\"Division by zero attempted for {numerator2} / {denominator2}. Check the log file for details.\")\n",
        "\n",
        "numerator3 = 100\n",
        "denominator3 = 10\n",
        "result3 = divide_numbers(numerator3, denominator3)\n",
        "if result3 is not None:\n",
        "    print(f\"Result of {numerator3} / {denominator3}: {result3}\")"
      ],
      "cell_type": "code",
      "metadata": {
        "colab": {
          "base_uri": "https://localhost:8080/"
        },
        "id": "USayCAEs9G60",
        "outputId": "d724715e-da39-453f-e4bf-68a9ea961693"
      },
      "execution_count": null,
      "outputs": [
        {
          "output_type": "stream",
          "name": "stderr",
          "text": [
            "ERROR:root:Error: Attempted to divide 5 by zero.\n"
          ]
        },
        {
          "output_type": "stream",
          "name": "stdout",
          "text": [
            "Result of 10 / 2: 5.0\n",
            "Division by zero attempted for 5 / 0. Check the log file for details.\n",
            "Result of 100 / 10: 10.0\n"
          ]
        }
      ]
    },
    {
      "source": [
        "# 7.How do you log information at different levels (INFO, ERROR, WARNING) in Python using the logging module?\n",
        "\n",
        "import logging\n",
        "\n",
        "logging.basicConfig(level=logging.INFO)\n",
        "\n",
        "logger = logging.getLogger('my_application')\n",
        "\n",
        "logger.info('This is an informational message.')\n",
        "logger.warning('This is a warning message.')\n",
        "logger.error('This is an error message.')\n",
        "logger.critical('This is a critical message.')\n",
        "logger.debug('This is a debug message. It will not be displayed by default.')"
      ],
      "cell_type": "code",
      "metadata": {
        "colab": {
          "base_uri": "https://localhost:8080/"
        },
        "id": "pfUoWG5G-36-",
        "outputId": "1394a16e-750d-4a25-9723-3621abde375f"
      },
      "execution_count": null,
      "outputs": [
        {
          "output_type": "stream",
          "name": "stderr",
          "text": [
            "WARNING:my_application:This is a warning message.\n",
            "ERROR:my_application:This is an error message.\n",
            "CRITICAL:my_application:This is a critical message.\n"
          ]
        }
      ]
    },
    {
      "source": [
        "# 8. Write a program to handle a file opening error using exception handling?\n",
        "\n",
        "\n",
        "def safe_file_open(filepath):\n",
        "\n",
        "  try:\n",
        "    file = open(filepath, 'r')\n",
        "    print(f\"Successfully opened file: {filepath}\")\n",
        "    return file\n",
        "  except FileNotFoundError:\n",
        "    print(f\"Error: The file '{filepath}' was not found.\")\n",
        "    return None\n",
        "file_to_open = \"my_non_existent_file.txt\"\n",
        "file_object = safe_file_open(file_to_open)\n",
        "\n",
        "if file_object:\n",
        "\n",
        "  file_object.close()"
      ],
      "cell_type": "code",
      "metadata": {
        "colab": {
          "base_uri": "https://localhost:8080/"
        },
        "id": "4tt9JBno_mS2",
        "outputId": "2aada283-ab47-4d5b-e0ec-b244d725f63b"
      },
      "execution_count": null,
      "outputs": [
        {
          "output_type": "stream",
          "name": "stdout",
          "text": [
            "Error: The file 'my_non_existent_file.txt' was not found.\n"
          ]
        }
      ]
    },
    {
      "cell_type": "code",
      "source": [
        "# 9. How can you read a file line by line and store its content in a list in Python?\n",
        "\n",
        "file_path = 'example.txt'\n",
        "\n",
        "with open(file_path, 'r') as file:\n",
        "    lines = file.readlines()\n",
        "\n",
        "print(\"Contents of the file as a list:\")\n",
        "print(lines)\n"
      ],
      "metadata": {
        "colab": {
          "base_uri": "https://localhost:8080/"
        },
        "id": "3RLGMo65C1q-",
        "outputId": "87ac546d-7528-479a-abd2-5880ea14cd9b"
      },
      "execution_count": null,
      "outputs": [
        {
          "output_type": "stream",
          "name": "stdout",
          "text": [
            "Contents of the file as a list:\n",
            "['Hello, world!']\n"
          ]
        }
      ]
    },
    {
      "source": [
        "#  10.  How can you append data to an existing file in Python?\n",
        "\n",
        "file_name = \"my_data.txt\"\n",
        "\n",
        "data_to_append = \"\\nThis line will be added to the end.\"\n",
        "\n",
        "try:\n",
        "    with open(file_name, \"a\") as file:\n",
        "\n",
        "        file.write(data_to_append)\n",
        "    print(f\"Successfully appended data to {file_name}\")\n",
        "\n",
        "except IOError as e:\n",
        "    print(f\"An error occurred while accessing the file: {e}\")"
      ],
      "cell_type": "code",
      "metadata": {
        "colab": {
          "base_uri": "https://localhost:8080/"
        },
        "id": "VSVWVZOyDkmx",
        "outputId": "eeed945a-7b11-4d69-958e-764aa7c6fe4f"
      },
      "execution_count": null,
      "outputs": [
        {
          "output_type": "stream",
          "name": "stdout",
          "text": [
            "Successfully appended data to my_data.txt\n"
          ]
        }
      ]
    },
    {
      "source": [
        "# 11. Write a Python program that uses a try-except block to handle an error when attempting to access a  dictionary key  that doesn't exist?\n",
        "\n",
        "def access_dictionary_key(data_dict, key):\n",
        "\n",
        "  try:\n",
        "    value = data_dict[key]\n",
        "    print(f\"The value for key '{key}' is: {value}\")\n",
        "  except KeyError:\n",
        "    print(f\"Error: The key '{key}' was not found in the dictionary.\")\n",
        "\n",
        "my_dict = {\"apple\": 1, \"banana\": 2, \"cherry\": 3}\n",
        "\n",
        "access_dictionary_key(my_dict, \"banana\")\n",
        "\n",
        "access_dictionary_key(my_dict, \"salma\")"
      ],
      "cell_type": "code",
      "metadata": {
        "colab": {
          "base_uri": "https://localhost:8080/"
        },
        "id": "H7GGFU8hD__H",
        "outputId": "fe6c6f0d-f06a-4569-8a89-08796d67b766"
      },
      "execution_count": null,
      "outputs": [
        {
          "output_type": "stream",
          "name": "stdout",
          "text": [
            "The value for key 'banana' is: 2\n",
            "Error: The key 'salma' was not found in the dictionary.\n"
          ]
        }
      ]
    },
    {
      "cell_type": "code",
      "source": [
        " # 12.Write a program that demonstrates using multiple except blocks to handle different types of exceptions?\n",
        "\n",
        "def main():\n",
        "    try:\n",
        "        number = int(input(\"Enter an integer: \"))\n",
        "        divisor = int(input(\"Enter a number to divide by: \"))\n",
        "        result = number / divisor\n",
        "        print(f\"Result: {result}\")\n",
        "\n",
        "        data = {\"name\": \" syed.salma\", \"age\": 21}\n",
        "        key = input(\"Enter a key to access in the dictionary (e.g., 'name', 'age'): \")\n",
        "        value = data[key]\n",
        "        print(f\"Value for '{key}': {value}\")\n",
        "\n",
        "    except ValueError:\n",
        "        print(\"Error: You must enter a valid integer.\")\n",
        "\n",
        "    except ZeroDivisionError:\n",
        "        print(\"Error: Cannot divide by zero.\")\n",
        "\n",
        "    except KeyError:\n",
        "        print(\"Error: That key does not exist in the dictionary.\")\n",
        "\n",
        "    except Exception as e:\n",
        "        print(f\"An unexpected error occurred: {e}\")\n",
        "main()\n"
      ],
      "metadata": {
        "colab": {
          "base_uri": "https://localhost:8080/"
        },
        "id": "wG25qE_rGTXc",
        "outputId": "c271284c-c7da-45a8-98bd-67ec04b1a2c8"
      },
      "execution_count": null,
      "outputs": [
        {
          "output_type": "stream",
          "name": "stdout",
          "text": [
            "Enter an integer: 40\n",
            "Enter a number to divide by: 5\n",
            "Result: 8.0\n",
            "Enter a key to access in the dictionary (e.g., 'name', 'age'): name\n",
            "Value for 'name':  syed.salma\n"
          ]
        }
      ]
    },
    {
      "cell_type": "code",
      "source": [
        "# 13.How would you check if a file exists before attempting to read it in Python?\n",
        "\n",
        "import os\n",
        "\n",
        "def read_file_if_exists(file_path):\n",
        "\n",
        "  if os.path.exists(file_path):\n",
        "    print(f\"File '{file_path}' exists. Proceeding to read.\")\n",
        "    try:\n",
        "      with open(file_path, 'r') as file:\n",
        "        content = file.read()\n",
        "        print(\"File content:\")\n",
        "        print(content)\n",
        "    except Exception as e:\n",
        "      print(f\"An error occurred while reading the file: {e}\")\n",
        "  else:\n",
        "    print(f\"File '{file_path}' does not exist.\")\n",
        "file_to_check = \"example.txt\"\n",
        "with open(file_to_check, \"w\") as f:\n",
        "    f.write(\"This is a sample file.\\n\")\n",
        "    f.write(\"It contains some text.\")\n",
        "\n",
        "read_file_if_exists(file_to_check)\n",
        "\n",
        "non_existent_file = \"non_existent_file.txt\"\n",
        "read_file_if_exists(non_existent_file)\n"
      ],
      "metadata": {
        "colab": {
          "base_uri": "https://localhost:8080/"
        },
        "id": "9MRYbE55HhBY",
        "outputId": "c53f56a9-7f2a-41cd-dd6c-c77d115f9033"
      },
      "execution_count": null,
      "outputs": [
        {
          "output_type": "stream",
          "name": "stdout",
          "text": [
            "File 'example.txt' exists. Proceeding to read.\n",
            "File content:\n",
            "This is a sample file.\n",
            "It contains some text.\n",
            "File 'non_existent_file.txt' does not exist.\n"
          ]
        }
      ]
    },
    {
      "source": [
        "# 14. Write a program that uses the logging module to log both informational and error messages?\n",
        "\n",
        "import logging\n",
        "logging.basicConfig(level=logging.INFO, format='%(asctime)s - %(levelname)s - %(message)s')\n",
        "def divide(x, y):\n",
        "  try:\n",
        "    result = x / y\n",
        "    logging.info(f\"Successfully divided {x} by {y}. Result: {result}\")\n",
        "    return result\n",
        "  except ZeroDivisionError:\n",
        "    logging.error(f\"Error: Attempted to divide by zero. Input: {x} / {y}\")\n",
        "    return None\n",
        "  except TypeError:\n",
        "    logging.error(f\"Error: Invalid input types. Input: {x}, {y}\")\n",
        "    return None\n",
        "divide(10, 2)\n",
        "divide(5, 0)\n",
        "divide(10, 'a')"
      ],
      "cell_type": "code",
      "metadata": {
        "colab": {
          "base_uri": "https://localhost:8080/"
        },
        "id": "at3m8zCZJQuJ",
        "outputId": "5ca51277-93a0-45c4-e25a-5a9ccc128c2e"
      },
      "execution_count": null,
      "outputs": [
        {
          "output_type": "stream",
          "name": "stderr",
          "text": [
            "ERROR:root:Error: Attempted to divide by zero. Input: 5 / 0\n",
            "ERROR:root:Error: Invalid input types. Input: 10, a\n"
          ]
        }
      ]
    },
    {
      "source": [
        "# 15. Write a Python program that prints the content of a file and handles the case when the file is empty?\n",
        "\n",
        "def print_file_content(filename):\n",
        "\n",
        "  try:\n",
        "    with open(filename, 'r') as file:\n",
        "      content = file.read()\n",
        "      if not content:\n",
        "        print(f\"The file '{filename}' is empty.\")\n",
        "      else:\n",
        "        print(f\"Content of '{filename}':\")\n",
        "        print(content)\n",
        "  except FileNotFoundError:\n",
        "    print(f\"Error: The file '{filename}' was not found.\")\n",
        "  except Exception as e:\n",
        "    print(f\"An error occurred: {e}\")\n",
        "\n",
        "with open(\"empty_file.txt\", \"w\") as f:\n",
        "  pass\n",
        "\n",
        "with open(\"file_with_content.txt\", \"w\") as f:\n",
        "  f.write(\"This is some content in the file.\")\n",
        "\n",
        "print_file_content(\"empty_file.txt\")\n",
        "print_file_content(\"file_with_content.txt\")\n",
        "print_file_content(\"non_existent_file.txt\")"
      ],
      "cell_type": "code",
      "metadata": {
        "colab": {
          "base_uri": "https://localhost:8080/"
        },
        "id": "nsFm-Hw1KCu8",
        "outputId": "88b35d9f-a627-4619-beef-00c55de8540e"
      },
      "execution_count": null,
      "outputs": [
        {
          "output_type": "stream",
          "name": "stdout",
          "text": [
            "The file 'empty_file.txt' is empty.\n",
            "Content of 'file_with_content.txt':\n",
            "This is some content in the file.\n",
            "Error: The file 'non_existent_file.txt' was not found.\n"
          ]
        }
      ]
    },
    {
      "cell_type": "code",
      "source": [
        " # 16. Demonstrate how to use memory profiling to check the memory usage of a small program?\n",
        "\n",
        "!pip install memory_profiler\n",
        "\n",
        "from memory_profiler import profile\n",
        "@profile\n",
        "def generate_numbers():\n",
        "    numbers = []\n",
        "    for i in range(100000):\n",
        "        numbers.append(i)\n",
        "    return numbers\n",
        "\n",
        "if __name__ == \"__main__\":\n",
        "    generate_numbers()"
      ],
      "metadata": {
        "colab": {
          "base_uri": "https://localhost:8080/"
        },
        "id": "Q8YjsN6ZN0qt",
        "outputId": "8758104e-d6a0-4de5-960a-b6ae47759948"
      },
      "execution_count": null,
      "outputs": [
        {
          "output_type": "stream",
          "name": "stdout",
          "text": [
            "Requirement already satisfied: memory_profiler in /usr/local/lib/python3.11/dist-packages (0.61.0)\n",
            "Requirement already satisfied: psutil in /usr/local/lib/python3.11/dist-packages (from memory_profiler) (5.9.5)\n",
            "ERROR: Could not find file <ipython-input-127-65484b4a5620>\n",
            "NOTE: %mprun can only be used on functions defined in physical files, and not in the IPython environment.\n"
          ]
        }
      ]
    },
    {
      "cell_type": "code",
      "source": [
        "# 17. Write a Python program to create and write a list of numbers to a file, one number per line?\n",
        "\n",
        "numbers = [1, 2, 3, 4, 5, 6, 7, 8, 9, 10]\n",
        "file_name = \"numbers.txt\"\n",
        "try:\n",
        "    with open(file_name, \"w\") as file:\n",
        "        for number in numbers:\n",
        "            file.write(str(number) + \"\\n\")\n",
        "    print(f\"Successfully wrote numbers to {file_name}\")\n",
        "except IOError as e:\n",
        "    print(f\"Error writing to file: {e}\")\n"
      ],
      "metadata": {
        "colab": {
          "base_uri": "https://localhost:8080/"
        },
        "id": "Ap2Kn9RYOTWr",
        "outputId": "6ef7e2a9-1551-4e70-d7f3-636a1d3f0f28"
      },
      "execution_count": null,
      "outputs": [
        {
          "output_type": "stream",
          "name": "stdout",
          "text": [
            "Successfully wrote numbers to numbers.txt\n"
          ]
        }
      ]
    },
    {
      "cell_type": "code",
      "source": [
        "# 18. How would you implement a basic logging setup that logs to a file with rotation after 1MB?\n",
        "\n",
        "import logging\n",
        "from logging.handlers import RotatingFileHandler\n",
        "\n",
        "log_file = 'app.log'\n",
        "handler = RotatingFileHandler(log_file, maxBytes=1 * 1024 * 1024, backupCount=3)\n",
        "handler.setLevel(logging.INFO)\n",
        "formatter = logging.Formatter('%(asctime)s - %(levelname)s - %(message)s')\n",
        "handler.setFormatter(formatter)\n",
        "logger = logging.getLogger()\n",
        "logger.setLevel(logging.INFO)\n",
        "logger.addHandler(handler)\n",
        "\n",
        "for i in range(15):\n",
        "    logger.info(f\"This is log message number {i}\")"
      ],
      "metadata": {
        "colab": {
          "base_uri": "https://localhost:8080/"
        },
        "id": "QeF70FUGOxeT",
        "outputId": "1bdef210-c6fc-448b-f750-d0da241d4afa"
      },
      "execution_count": null,
      "outputs": [
        {
          "output_type": "stream",
          "name": "stderr",
          "text": [
            "INFO:root:This is log message number 0\n",
            "INFO:root:This is log message number 1\n",
            "INFO:root:This is log message number 2\n",
            "INFO:root:This is log message number 3\n",
            "INFO:root:This is log message number 4\n",
            "INFO:root:This is log message number 5\n",
            "INFO:root:This is log message number 6\n",
            "INFO:root:This is log message number 7\n",
            "INFO:root:This is log message number 8\n",
            "INFO:root:This is log message number 9\n",
            "INFO:root:This is log message number 10\n",
            "INFO:root:This is log message number 11\n",
            "INFO:root:This is log message number 12\n",
            "INFO:root:This is log message number 13\n",
            "INFO:root:This is log message number 14\n"
          ]
        }
      ]
    },
    {
      "source": [
        "# 19.  Write a program that handles both IndexError and KeyError using a try-except block?\n",
        "\n",
        "def handle_index_and_key_errors(data, index, key):\n",
        "\n",
        "  try:\n",
        "    list_item = data[index]\n",
        "    print(f\"Accessed list item at index {index}: {list_item}\")\n",
        "\n",
        "    dict_item = data[key]\n",
        "    print(f\"Accessed dictionary item with key '{key}': {dict_item}\")\n",
        "\n",
        "  except IndexError:\n",
        "    print(f\"IndexError: List index {index} is out of range.\")\n",
        "  except KeyError:\n",
        "    print(f\"KeyError: Dictionary key '{key}' not found.\")\n",
        "  except Exception as e:\n",
        "\n",
        "    print(f\"An unexpected error occurred: {e}\")\n",
        "my_list = [1, 2, 3]\n",
        "my_dict = {\"a\": 1, \"b\": 2}\n",
        "\n",
        "handle_index_and_key_errors(my_list, 1, \"a\")\n",
        "handle_index_and_key_errors(my_list, 5, \"a\")\n",
        "handle_index_and_key_errors(my_dict, 0, \"c\")\n",
        "handle_index_and_key_errors(my_list, 1, \"c\")"
      ],
      "cell_type": "code",
      "metadata": {
        "colab": {
          "base_uri": "https://localhost:8080/"
        },
        "id": "wgNwROF-Ql3G",
        "outputId": "81edbe39-4410-4d27-fa15-ee64a38fd37d"
      },
      "execution_count": null,
      "outputs": [
        {
          "output_type": "stream",
          "name": "stdout",
          "text": [
            "Accessed list item at index 1: 2\n",
            "An unexpected error occurred: list indices must be integers or slices, not str\n",
            "IndexError: List index 5 is out of range.\n",
            "KeyError: Dictionary key 'c' not found.\n",
            "Accessed list item at index 1: 2\n",
            "An unexpected error occurred: list indices must be integers or slices, not str\n"
          ]
        }
      ]
    },
    {
      "cell_type": "code",
      "source": [
        "# 20. How would you open a file and read its contents using a context manager in Python?\n",
        "file_path = 'example.txt'\n",
        "\n",
        "try:\n",
        "    with open(file_path, 'r') as file:\n",
        "        content = file.read()\n",
        "        print(\"File contents:\")\n",
        "        print(content)\n",
        "except FileNotFoundError:\n",
        "    print(f\"Error: The file '{file_path}' does not exist.\")\n"
      ],
      "metadata": {
        "colab": {
          "base_uri": "https://localhost:8080/"
        },
        "id": "kq47LdmiRaQX",
        "outputId": "ef0b8895-0877-48bd-9ea8-fbcc066e1b69"
      },
      "execution_count": null,
      "outputs": [
        {
          "output_type": "stream",
          "name": "stdout",
          "text": [
            "File contents:\n",
            "This is a sample file.\n",
            "It contains some text.\n"
          ]
        }
      ]
    },
    {
      "source": [
        "# 21. Write a Python program that reads a file and prints the number of occurrences of a specific word?\n",
        "\n",
        "def count_word_occurrences(filepath, word):\n",
        "\n",
        "  count = 0\n",
        "  try:\n",
        "    with open(filepath, 'r') as file:\n",
        "      for line in file:\n",
        "\n",
        "        words_in_line = line.lower().split()\n",
        "        count += words_in_line.count(word.lower())\n",
        "  except FileNotFoundError:\n",
        "    print(f\"Error: File not found at {filepath}\")\n",
        "    return -1\n",
        "  except Exception as e:\n",
        "    print(f\"An error occurred: {e}\")\n",
        "    return -1\n",
        "  return count\n",
        "\n",
        "file_to_read = 'sample.txt'\n",
        "word_to_count = 'python'\n",
        "\n",
        "with open(file_to_read, 'w') as f:\n",
        "    f.write(\"Python is a great programming language.\\n\")\n",
        "    f.write(\"Learning Python is fun.\\n\")\n",
        "    f.write(\"Python is versatile.\")\n",
        "\n",
        "occurrences = count_word_occurrences(file_to_read, word_to_count)\n",
        "\n",
        "if occurrences != -1:\n",
        "  print(f\"The word '{word_to_count}' appears {occurrences} times in the file.\")"
      ],
      "cell_type": "code",
      "metadata": {
        "colab": {
          "base_uri": "https://localhost:8080/"
        },
        "id": "XQeXivX76ZIW",
        "outputId": "0d34a4dc-2e13-464a-97a8-9e744360e729"
      },
      "execution_count": 9,
      "outputs": [
        {
          "output_type": "stream",
          "name": "stdout",
          "text": [
            "The word 'python' appears 3 times in the file.\n"
          ]
        }
      ]
    },
    {
      "source": [
        "# 22.How can you check if a file is empty before attempting to read its contents?\n",
        "import os\n",
        "\n",
        "def check_and_read_file(file_path):\n",
        "\n",
        "  if not os.path.exists(file_path):\n",
        "    print(f\"Error: File not found at '{file_path}'\")\n",
        "    return\n",
        "\n",
        "  if os.path.getsize(file_path) == 0:\n",
        "    print(f\"File '{file_path}' is empty. No content to read.\")\n",
        "  else:\n",
        "    print(f\"File '{file_path}' is not empty. Reading content:\")\n",
        "    try:\n",
        "      with open(file_path, 'r') as file:\n",
        "        content = file.read()\n",
        "        print(content)\n",
        "    except Exception as e:\n",
        "      print(f\"An error occurred while reading the file: {e}\")\n",
        "\n",
        "empty_file_name = \"empty_test_file.txt\"\n",
        "with open(empty_file_name, \"w\") as f:\n",
        "  pass\n",
        "\n",
        "non_empty_file_name = \"non_empty_test_file.txt\"\n",
        "with open(non_empty_file_name, \"w\") as f:\n",
        "  f.write(\"This is some content in the file.\\n\")\n",
        "  f.write(\"This is another line.\")\n",
        "\n",
        "check_and_read_file(empty_file_name)\n",
        "\n",
        "print(\"-\" * 20)\n",
        "\n",
        "check_and_read_file(non_empty_file_name)\n",
        "\n",
        "print(\"-\" * 20)\n",
        "\n",
        "check_and_read_file(\"non_existent_file.txt\")\n",
        "\n",
        "os.remove(empty_file_name)\n",
        "os.remove(non_empty_file_name)"
      ],
      "cell_type": "code",
      "metadata": {
        "colab": {
          "base_uri": "https://localhost:8080/"
        },
        "id": "dd8ufbM-8UrM",
        "outputId": "4046ed9d-5c6a-45db-a4ac-fe3d4e6fe965"
      },
      "execution_count": 14,
      "outputs": [
        {
          "output_type": "stream",
          "name": "stdout",
          "text": [
            "File 'empty_test_file.txt' is empty. No content to read.\n",
            "--------------------\n",
            "File 'non_empty_test_file.txt' is not empty. Reading content:\n",
            "This is some content in the file.\n",
            "This is another line.\n",
            "--------------------\n",
            "Error: File not found at 'non_existent_file.txt'\n"
          ]
        }
      ]
    },
    {
      "source": [
        "# 23.  Write a Python program that writes to a log file when an error occurs during file handling.?\n",
        "\n",
        "import logging\n",
        "\n",
        "logging.basicConfig(filename='file_errors.log', level=logging.ERROR,\n",
        "                    format='%(asctime)s:%(levelname)s:%(message)s')\n",
        "def write_to_file(filename, content):\n",
        "  \"\"\"Writes content to a file and logs an error if it fails.\"\"\"\n",
        "  try:\n",
        "    with open(filename, 'w') as f:\n",
        "      f.write(content)\n",
        "    print(f\"Successfully wrote to {filename}\")\n",
        "  except IOError as e:\n",
        "    logging.error(f\"Error writing to file {filename}: {e}\")\n",
        "    print(f\"Failed to write to {filename}. Check file_errors.log for details.\")\n",
        "\n",
        "write_to_file(\"nonexistent_directory/my_file.txt\", \"This is some content.\")\n",
        "\n",
        "write_to_file(\"successful_file.txt\", \"This content should be written.\")"
      ],
      "cell_type": "code",
      "metadata": {
        "colab": {
          "base_uri": "https://localhost:8080/"
        },
        "id": "YefDEKMO-Cth",
        "outputId": "e951e1c9-f9b3-499f-8689-387ed5a7ea94"
      },
      "execution_count": 20,
      "outputs": [
        {
          "output_type": "stream",
          "name": "stderr",
          "text": [
            "ERROR:root:Error writing to file nonexistent_directory/my_file.txt: [Errno 2] No such file or directory: 'nonexistent_directory/my_file.txt'\n"
          ]
        },
        {
          "output_type": "stream",
          "name": "stdout",
          "text": [
            "Failed to write to nonexistent_directory/my_file.txt. Check file_errors.log for details.\n",
            "Successfully wrote to successful_file.txt\n"
          ]
        }
      ]
    }
  ]
}