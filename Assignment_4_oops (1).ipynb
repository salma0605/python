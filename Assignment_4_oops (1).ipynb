{
  "nbformat": 4,
  "nbformat_minor": 0,
  "metadata": {
    "colab": {
      "provenance": []
    },
    "kernelspec": {
      "name": "python3",
      "display_name": "Python 3"
    },
    "language_info": {
      "name": "python"
    }
  },
  "cells": [
    {
      "cell_type": "markdown",
      "source": [
        "# Python OOPS Assignment Questions"
      ],
      "metadata": {
        "id": "n2RC0xsv8-fb"
      }
    },
    {
      "cell_type": "markdown",
      "source": [
        "# Python OOPS Questions"
      ],
      "metadata": {
        "id": "2N-KhnU49K1i"
      }
    },
    {
      "cell_type": "markdown",
      "source": [
        "1. What is Object -Oriented Programming (OOP)?\n",
        "\n",
        "Ans:-Object-Oriented Programming (OOP) is a programming paradigm that uses \"objects\" to design applications and computer programs. These objects are instances of \"classes,\" which act as blueprints.\n",
        "\n",
        "Here are the core concepts of OOP:\n",
        "\n",
        " 1. Classes: A blueprint for creating objects. It defines the attributes (data) and methods (functions) that objects of that class will possess.\n",
        "\n",
        " 2. Objects: An instance of a class. It's a concrete entity that has the attributes and methods defined by its class.\n",
        "\n",
        " 3. Encapsulation: Bundling data (attributes) and methods (functions) that operate on the data into a single unit (the object). It hides the internal details and only exposes what is necessary.\n",
        "\n",
        " 4. Abstraction: Hiding complex implementation details and showing only the essential features of an object.\n",
        "\n",
        " 5. Inheritance: A mechanism where a new class (subclass/derived class) can inherit properties and behaviors from an existing class (superclass/base class). This promotes code reusability.\n",
        "\n",
        " 6. Polymorphism: The ability of objects of different classes to respond to the same method call in their own way. This allows for more flexible and dynamic code.\n",
        "\n",
        "\n",
        "\n",
        "OOP aims to improve code organization, reusability, and maintainability.\n",
        "\n"
      ],
      "metadata": {
        "id": "eI7qVKGO9bM2"
      }
    },
    {
      "cell_type": "markdown",
      "source": [
        "2. What is a class in oop?\n",
        "\n",
        "Ans:- A blueprint for creating objects. A class in Python is a user-defined template for creating objects. It bundles data and functions together, making it easier to manage and use them. When we create a new class, we define a new type of object. We can then create multiple instances of this object type.\n",
        "\n",
        "Classes are created using class keyword. Attributes are variables defined inside the class and represent the properties of the class. Attributes can be accessed using the dot . operator (e.g., MyClass.my_attribute)\n",
        "\n",
        "\n",
        "Key aspects of a class in Python:\n",
        "\n",
        "\n",
        "   - Definition:\n",
        "Classes are defined using the class keyword followed by the class name.\n",
        "\n",
        " - Attributes:\n",
        "These are variables that hold data associated with the class. They represent the state of an object.\n",
        "\n",
        " - Methods:\n",
        "These are functions defined within the class that define the behavior or actions that objects of the class can perform.\n",
        "\n",
        " - Constructor (__init__):\n",
        "A special method that initializes the object's attributes when an object is created.\n",
        "\n",
        " -  Instance:\n",
        "An object created from a class is called an instance. Each instance has its own copy of the attributes.\n",
        "\n",
        " - Self:\n",
        "A reference to the current instance of the class, used to access attributes and methods within the class.\n"
      ],
      "metadata": {
        "id": "h3_c5qRt-0Am"
      }
    },
    {
      "cell_type": "markdown",
      "source": [
        "3.  What is an  object in oop?\n",
        "\n",
        "Ans:-In Python, an object is a fundamental concept of object-oriented programming (OOP) that represents an instance of a class. It is a self-contained entity that encapsulates both data (attributes) and behavior (methods).\n",
        "\n",
        "An object  consists of:\n",
        "\n",
        "  - State: Represented by attributes, which are variables that store data associated with the object.\n",
        "\n",
        "  -  Behavior: Represented by methods, which are functions that define the actions an object can perform.\n",
        "\n",
        "  - Identity: A unique identifier that distinguishes one object from another.\n",
        "\n",
        "  class Car:\n",
        "    def __init__(self, model, price):\n",
        "        self.model = model\n",
        "        self.price = price\n",
        "\n",
        "Audi = Car(\"R8\", 100000)\n",
        "print(Audi.model)\n",
        "print(Audi.price)\n",
        "\n",
        "\n",
        "out put:\n",
        "\n",
        "R8\n",
        "100000\n",
        "\n",
        "\n"
      ],
      "metadata": {
        "id": "bt-z7PbSB2gl"
      }
    },
    {
      "cell_type": "markdown",
      "source": [
        "4. What is the difference between abstraction and encapsulation?\n",
        "\n",
        "\n",
        "Ans:-Here's a breakdown of the difference:\n",
        "\n",
        "  - Encapsulation: Focuses on bundling data and methods together within a class and hiding the internal implementation details from the outside. It's about controlling access to the data. Think of it like a capsule that holds everything related to an object inside, protecting it from external interference.\n",
        "\n",
        "\n",
        "  -  Abstraction: Focuses on simplifying complex systems by showing only the essential features and hiding the unnecessary details. It's about providing a clear and concise interface for interacting with an object, without exposing the intricate inner workings. Think of it like a remote control for a TV – you only need to know which button does what (the essential features), not the complex circuitry inside (the hidden details).\n",
        "\n",
        "\n",
        "\n",
        "\n",
        " - Encapsulation is about how you package and protect your data and methods.\n",
        " - Abstraction is about what you expose to the user and how you simplify the interaction.\n",
        "\n",
        "They often work together. Encapsulation provides the mechanism to hide the complexity, while abstraction uses this hiding to present a simplified view.\n",
        "\n",
        "\n",
        "\n",
        " - For example:\n",
        "\n",
        " consider a BankAccount class. Encapsulation would involve making the balance attribute private and providing public methods like deposit and withdraw to control access to it. Abstraction would involve providing a simplified interface to the user, such as a get_balance method, without exposing the underlying implementation details of how the balance is stored or updated.\n",
        "\n",
        "encapsulation is used to protect the __balance attribute from direct access, while abstraction is used to provide a simplified interface for interacting with the account through the get_balance, deposit and withdraw methods."
      ],
      "metadata": {
        "id": "te42yQKhEXxy"
      }
    },
    {
      "cell_type": "markdown",
      "source": [
        "5. What are dunder methods in Python ?\n",
        "\n",
        "-Ans:-Dunder methods, also known as magic methods, are special methods in Python that begin and end with double underscores (e.g., __init__, __str__, __len__).\n",
        "\n",
        " They allow classes to define how they behave with built-in functions and operators. These methods provide a way to implement operator overloading and customize object behavior.\n",
        "\n",
        "\n",
        "\n",
        "-Some commonly used dunder methods include:\n",
        "\n",
        "\n",
        "  - __init__(self, ...): Constructor for the\n",
        "   class, called when an object is created.\n",
        "\n",
        " - __str__(self): Returns a string representation of the object, used by the str() function and print() statement.\n",
        "\n",
        " - __repr__(self): Returns a string representation of the object, used for debugging and development.\n",
        "\n",
        " - __len__(self): Returns the length of the object, used by the len() function.\n",
        "\n",
        " - __getitem__(self, key): Enables indexing and slicing, used when accessing elements with square brackets (e.g., obj[key]).\n",
        "\n",
        " - __setitem__(self, key, value): Enables assignment to indexed elements (e.g., obj[key] = value).\n",
        "\n",
        " - __delitem__(self, key): Enables deletion of indexed elements (e.g., del obj[key]).\n",
        "\n",
        " - __add__(self, other): Implements addition, used with the + operator.\n",
        "\n",
        " - __sub__(self, other): Implements subtraction, used with the - operator.\n",
        "\n",
        " - __mul__(self, other): Implements multiplication, used with the * operator.\n",
        "   \n",
        " - __eq__(self, other): Implements equality comparison, used with the == operator.\n",
        "\n",
        " - __call__(self, ...): Allows an object to be called like a function.\n",
        "\n",
        "\n",
        "\n",
        "Dunder methods are automatically called by the Python interpreter when their corresponding operations are performed. They enable seamless integration of custom classes with Python's built-in functionalities.\n",
        "\n"
      ],
      "metadata": {
        "id": "oIQrYJ9UGwyW"
      }
    },
    {
      "cell_type": "markdown",
      "source": [
        "6. Explain the concept of inheritance in OOP?\n",
        "\n",
        "\n",
        "Ans:-Inheritance is a fundamental concept in Object-Oriented Programming (OOP) that allows a new class (called the subclass or derived class) to inherit properties (attributes) and behaviors (methods) from an existing class (called the superclass or base class). This promotes code reusability and organization.\n",
        "\n",
        "In Python, you create a subclass by specifying the superclass in parentheses after the subclass name during the class definition:\n",
        "\n",
        "class Superclass:\n",
        "\n",
        "    pass\n",
        "class Subclass(Superclass):\n",
        "    \n",
        "    pass\n",
        "\n",
        "Types of Inheritance in Python:\n",
        "\n",
        "\n",
        "\n",
        "Python supports several types of inheritance:\n",
        "\n",
        " 1. Single Inheritance:\n",
        "\n",
        "\n",
        "This is the simplest type of inheritance.\n",
        "A subclass inherits from only one superclass.\n",
        "\n",
        "This creates a direct parent-child relationship between classes.\n",
        "\n",
        "class Parent:\n",
        "        def parent_method(self):\n",
        "            print(\"This is the parent method.\")\n",
        "\n",
        "    class Child(Parent):\n",
        "        def child_method(self):\n",
        "            print(\"This is the child method.\")\n",
        "\n",
        "    # Child inherits from Parent\n",
        "    c = Child()\n",
        "    c.parent_method()\n",
        "    c.child_method()\n",
        "\n",
        "  2. Multiple Inheritance:\n",
        "\n",
        "\n",
        "A subclass inherits from more than one superclass.\n",
        "\n",
        "This allows a class to combine features from multiple parent classes.\n",
        "The order in which you list the superclasses in the parentheses matters for resolving method calls (Method Resolution Order - MRO)\n",
        "\n",
        "\n",
        "class ClassA:\n",
        "        def method_a(self):\n",
        "            print(\"Method from ClassA\")\n",
        "\n",
        "    class ClassB:\n",
        "        def method_b(self):\n",
        "            print(\"Method from ClassB\")\n",
        "\n",
        "    class ClassC(ClassA, ClassB):\n",
        "        def method_c(self):\n",
        "            print(\"Method from ClassC\")\n",
        "\n",
        "  \n",
        "    c = ClassC()\n",
        "    c.method_a()\n",
        "    c.method_b()\n",
        "    c.method_c()\n",
        "\n",
        " 3. Multilevel Inheritance:\n",
        "\n",
        "\n",
        "A class inherits from a class that itself inherits from another class.\n",
        "This forms a chain of inheritance.\n",
        "class Grandparent:\n",
        "        def grandparent_method(self):\n",
        "            print(\"This is the grandparent method.\")\n",
        "\n",
        "    class Parent(Grandparent):\n",
        "        def parent_method(self):\n",
        "            print(\"This is the parent method.\")\n",
        "\n",
        "    class Child(Parent):\n",
        "        def child_method(self):\n",
        "            print(\"This is the child method.\")\n",
        "\n",
        "    \n",
        "    c = Child()\n",
        "    c.grandparent_method()\n",
        "    c.parent_method()\n",
        "    c.child_method()\n",
        "\n",
        " 4. Hierarchical Inheritance:\n",
        "\n",
        "\n",
        "Multiple subclasses inherit from a single superclass.\n",
        "This is useful when you have a base class with common features and multiple variations or specializations of that base class.\n",
        "\n",
        "class Animal:\n",
        "        def speak(self):\n",
        "            pass\n",
        "\n",
        "    class Dog(Animal):\n",
        "        def speak(self):\n",
        "            print(\"Woof!\")\n",
        "\n",
        "    class Cat(Animal):\n",
        "        def speak(self):\n",
        "            print(\"Meow!\")\n",
        "\n",
        "  \n",
        "    d = Dog()\n",
        "    c = Cat()\n",
        "    d.speak()\n",
        "    c.speak()\n",
        "\n",
        "Benefits of Inheritance:\n",
        "\n",
        " - Code Reusability: Reduces code duplication.\n",
        "\n",
        " - Maintainability: Easier to manage and update code.\n",
        "\n",
        " - Extensibility: Allows you to build upon existing classes.\n"
      ],
      "metadata": {
        "id": "bB6S5eHtJLvX"
      }
    },
    {
      "cell_type": "markdown",
      "source": [
        "7.What is polymorphism in OOP?\n",
        "\n",
        "Ans:-Polymorphism is a key concept in Object-Oriented Programming (OOP) that means \"many forms\". In the context of Python, it allows objects of different classes to respond to the same method call in a way that is specific to their own class. This enables you to write more flexible and dynamic code.\n",
        "\n",
        "Here's how polymorphism works in Python:\n",
        "\n",
        " 1. Different objects, same method name: You can have different classes that all define a method with the same name.\n",
        "\n",
        " 2. Behavior varies: When you call this method on an object, the specific implementation that is executed depends on the object's class.\n",
        "\n",
        "\n",
        "This allows you to treat objects of different types in a uniform way, as long as they support the common method.\n",
        "\n",
        "There are a few ways polymorphism is achieved in Python:\n",
        "\n",
        " - Duck Typing: This is a core concept in Python. If an object \"walks like a duck and quacks like a duck,\" then Python treats it like a duck. This means that if different objects have methods with the same name, you can call that method without needing to know the exact type of the object, as long as the method exists.\n",
        "\n",
        "\n",
        " - Method Overriding: Subclasses can provide their own implementation of a method that is already defined in their superclass. When the method is called on an instance of the subclass, the subclass's implementation is used.\n",
        "\n",
        "\n",
        "\n",
        " - Method Overloading (Less direct in Python): While not a strict feature like in some other languages, you can achieve a similar effect in Python using default arguments or variable-length arguments to make a single method handle different numbers or types of arguments.\n",
        "\n"
      ],
      "metadata": {
        "id": "uubiYLgeMucU"
      }
    },
    {
      "cell_type": "markdown",
      "source": [
        "8. How is encapsulation achived in python?\n",
        "\n",
        "\n",
        "\n",
        "Ans:-Encapsulation is the process of hiding the internal state of an object and requiring all interactions to be performed through an object's methods. This approach:\n",
        "\n",
        " - Provides better control over data.\n",
        "\n",
        " - Prevents accidental modification of data.\n",
        "\n",
        " - Promotes modular programming.\n",
        "\n",
        "\n",
        "\n",
        " How Encapsulation Works :\n",
        "\n",
        " - Data Hiding: The variables (attributes) are kept private or protected, meaning they are not accessible directly from outside the class. Instead, they can only be accessed or modified through the methods.\n",
        "\n",
        " - Access through Methods: Methods act as the interface through which external code interacts with the data stored in the variables. For instance, getters and setters are common methods used to retrieve and update the value of a private variable.\n",
        "\n",
        " - Control and Security: By encapsulating the variables and only allowing their manipulation via methods, the class can enforce rules on how the variables are accessed or modified, thus maintaining control and security over the data.\n",
        "\n",
        "\n",
        "Example of Encapsulation\n",
        "\n",
        "\n",
        "Encapsulation in Python is like having a bank account system where your account balance (data) is kept private. You can't directly change your balance by accessing the account database. Instead, the bank provides you with methods (functions) like deposit and withdraw to modify your balance safely.\n",
        "\n",
        " - Private Data (Balance): Your balance is stored securely. Direct access from outside is not allowed, ensuring the data is protected from unauthorized changes.\n",
        "\n",
        " - Public Methods (Deposit and Withdraw): These are the only ways to modify your balance. They check if your requests (like withdrawing money) follow the rules (e.g., you have enough balance) before allowing changes.\n",
        "\n",
        "\n",
        " 1.Public Members\n",
        "Public members are accessible from anywhere, both inside and outside the class. These are the default members in Python.\n",
        "\n",
        " 2.Protected members\n",
        "Protected members are identified with a single underscore (_). They are meant to be accessed only within the class or its subclasses.\n",
        "\n",
        "\n",
        "\n",
        "3.Private members\n",
        "Private members are identified with a double underscore (__) and cannot be accessed directly from outside the class. Python uses name mangling to make private members inaccessible by renaming them internally.\n"
      ],
      "metadata": {
        "id": "yRAHc-gmzqls"
      }
    },
    {
      "cell_type": "markdown",
      "source": [
        "9. What is a constructor in Python?\n",
        "\n",
        "\n",
        "Ans:-A constructor in Python is a special method that gets called automatically when you create a new object of a class. It is mainly used to initialize the object's attributes.\n",
        "\n",
        "  In Python, the constructor method is named __init__().\n",
        "\n",
        "\n",
        "\n",
        "\n",
        " Syntax:\n",
        "\n",
        "class ClassName:\n",
        "    def __init__(self, parameters):\n",
        "        self.attribute = value\n",
        "\n",
        "\n",
        "\n",
        " Types of Constructors in Python\n",
        "Python supports three types of constructors:\n",
        "\n",
        "1. Default Constructor:\n",
        "\n",
        "\n",
        " - A constructor with no parameters (except self).\n",
        "\n",
        " -Initializes object with default values.\n",
        "\n",
        "\n",
        "2. Parameterized Constructor:\n",
        "\n",
        "\n",
        "\n",
        " - A constructor that takes arguments.\n",
        "\n",
        " - Allows initializing the object with user-defined values.\n",
        "\n",
        "3. . Constructor Overloading (Simulated):\n",
        "\n",
        "\n",
        " - Python does not support multiple constructors directly (like Java).\n",
        "\n",
        " - But you can simulate overloading using:\n",
        "\n",
        " Default values *args and **kwargs\n",
        "\n"
      ],
      "metadata": {
        "id": "17G0E1Z65Hr-"
      }
    },
    {
      "cell_type": "markdown",
      "source": [
        "10. What are class and static methond in python?\n",
        "\n",
        "\n",
        "Ans:-In python,both class methods and static methods are types of methods that can be defined  within a class, but they differ in how they are defined\n",
        " and what they can access.\n",
        "\n",
        " Here's a breakdown of each:\n",
        "\n",
        "1. Class Methods:\n",
        "\n",
        " - Definition: A class method is bound to the class and receives the class itself as the first argument, conventionally named cls.\n",
        "\n",
        " - Usage: Class methods are often used to create factory methods that create instances of the class or its subclasses. They can access and modify class-level attributes.\n",
        "\n",
        " - Decorator: Class methods are defined using the @classmethod decorator.\n",
        "\n",
        "\n",
        "\n",
        " 2. Static Methods:\n",
        "\n",
        "  - Definition: A static method is not bound to the class or an instance. It doesn't receive any implicit first argument (like self or cls).\n",
        "\n",
        "  -  Usage: Static methods are like regular functions that are placed within a class because they have some logical connection to the class, but they don't need to access or modify class or instance state.\n",
        "\n",
        "  - Decorator: Static methods are defined using the @staticmethod decorator.\n",
        "\n",
        "\n",
        "\n",
        "\n",
        "\n",
        "\n",
        "Key Differences:\n",
        "\n",
        " - First Argument: Class methods receive the class (cls) as the first argument, while static methods do not receive any implicit first argument.\n",
        "\n",
        " - Access to State: Class methods can access and modify class-level attributes, while static methods cannot access class or instance-level state.\n",
        "\n",
        " - Purpose: Class methods are typically used for factory methods or methods that operate on class-level data. Static methods are for utility functions that are related to the class but don't need access to its state.\n",
        "\n",
        "\n",
        "\n",
        " class methods are useful when you need to interact with the class itself or create instances, while static methods are more like independent functions grouped within a class for organizational purposes\n",
        "\n",
        "\n",
        "\n",
        "\n",
        "\n"
      ],
      "metadata": {
        "id": "icpL7rCI8h-k"
      }
    },
    {
      "cell_type": "markdown",
      "source": [
        "11. What is method overloading in python?\n",
        "\n",
        "\n",
        "Ans:-Method overloading means having multiple methods with the same name but different parameters. In many programming languages, this is directly supported, but Python does not support method overloading in the traditional sense.\n",
        "\n",
        "Instead, Python simulates method overloading using:\n",
        "\n",
        " 1. Default arguments:\n",
        "\n",
        " You can define a method with optional parameters by providing default values for them. This allows the method to be called with fewer arguments than defined, effectively acting like multiple methods with the same name but varying parameters.\n",
        "\n",
        "\n",
        "\n",
        "\n",
        "\n",
        " 2. *args (variable-length arguments):\n",
        "\n",
        "  These are used to define methods that can accept a variable number of positional arguments (args) and keyword arguments (*kwargs`). By using these, a single method can handle different numbers and types of inputs, mimicking the behavior of overloaded methods.\n",
        "\n",
        "\n",
        "\n",
        "\n",
        "\n",
        "\n",
        "Key Point:\n",
        "\n",
        "\n",
        " - Only one method with a given name can exist in a Python class.\n",
        "\n",
        " - You can't define multiple versions of a method like in Java. Instead, use flexible parameter techniques to achieve similar behavior."
      ],
      "metadata": {
        "id": "QWxo1LKFwSSF"
      }
    },
    {
      "cell_type": "markdown",
      "source": [
        "12. What is method overriding in OOP?\n",
        "\n",
        "\n",
        "Ans:-Method overriding in Object-Oriented Programming (OOP) is a concept where a subclass provides its own specific implementation for a method that is already defined in its superclass.\n",
        "\n",
        "Here's a breakdown of method overriding in Python:\n",
        "\n",
        " 1. Superclass Method:\n",
        "\n",
        "  An existing class (superclass or base class) has a method defined with a specific name and signature.\n",
        "\n",
        " 2. Subclass Implementation:\n",
        "\n",
        "  A new class (subclass or derived class) inherits from the superclass and defines a method with the exact same name and signature as the method in the superclass.\n",
        "\n",
        " 3. Overriding Behavior:\n",
        "\n",
        "\n",
        " When you call this method on an object of the subclass, the implementation provided in the subclass is executed, rather than the implementation in the superclass.\n",
        "\n",
        "Example:\n",
        "\n",
        "Consider a Animal superclass with a speak method and a Dog subclass that inherits from Animal. The Dog subclass can override the speak method to provide its own specific sound.\n",
        "\n",
        "\n",
        "Method overriding is a form of polymorphism, allowing objects of different classes to respond to the same method call in a way that is specific to their own class. It is a key mechanism for achieving dynamic behavior and specializing inherited methods in OOP."
      ],
      "metadata": {
        "id": "skEeveW50FhK"
      }
    },
    {
      "cell_type": "markdown",
      "source": [
        "13. What is a property decorator in Python?\n",
        "\n",
        "\n",
        "Ans:-A property decorator in Python is a built-in decorator that allows you to define methods in a class that behave like attributes. This provides a way to manage the access to instance attributes (getting, setting, and deleting) without needing to explicitly call methods.\n",
        "\n",
        "Here's how it works:\n",
        "\n",
        "1. The @property decorator:\n",
        "\n",
        " When you apply the @property decorator to a method, that method becomes a \"getter\" for an attribute with the same name as the method. This means you can access the method's return value as if it were a simple attribute.\n",
        "\n",
        " 2. Defining setters and deleters:\n",
        "\n",
        "  To control how the attribute is set or deleted, you can define corresponding \"setter\" and \"deleter\" methods using the\n",
        "   @<attribute_name>.setter and @<attribute_name>.deleter decorators. These methods will be automatically called when you assign a value to the attribute or use the del keyword on it.\n",
        "\n",
        "Benefits of using @property:\n",
        "\n",
        " - Encapsulation: It helps in encapsulating data by providing controlled access to attributes. You can add logic within the getter, setter, and deleter methods to validate data or perform other actions when the attribute is accessed or modified.\n",
        "\n",
        "\n",
        " - Readability and Maintainability: It makes your code more readable and easier to maintain because you can change the internal implementation of how an attribute is stored or computed without affecting the code that uses the attribute.\n",
        "\n",
        " - Backward Compatibility: If you initially implemented an attribute as a simple public attribute and later decide to add validation or other logic, you can change it to a property without changing how other parts of your code access it.\n",
        "\n"
      ],
      "metadata": {
        "id": "BXjvWKbP1m9K"
      }
    },
    {
      "cell_type": "markdown",
      "source": [
        "14. Why is polymorphism important in OOP?\n",
        "\n",
        "\n",
        "Ans:-Polymorphism is crucial in Object-Oriented Programming (OOP) because it enables code reuse, flexibility, and extensibility. It allows objects of different classes to be treated as objects of a common type, simplifying code and making it easier to adapt to new situations.\n",
        "\n",
        "Here's why polymorphism is important:\n",
        "\n",
        "  1. Code Reusability:\n",
        "\n",
        "Polymorphism allows you to use the same method name for different classes, reducing redundancy and promoting code reuse.\n",
        "\n",
        "2. Flexibility and Adaptability:\n",
        "\n",
        "It enables you to write generic code that can work with multiple types of objects without needing to know their specific classes, making your code more flexible and adaptable to changing requirements.\n",
        "\n",
        " 3. Extensibility:\n",
        "\n",
        "Polymorphism makes it easy to add new classes to your code without having to modify existing code, as long as the new classes adhere to the same interface.\n",
        "\n",
        " 4. Improved Readability:\n",
        "\n",
        "By using a single method name for different actions, polymorphism can improve the readability and maintainability of your code.\n",
        "\n",
        "5. Dynamic Method Dispatch:\n",
        "\n",
        "Polymorphism allows for dynamic method dispatch, where the specific method to be called is determined at runtime based on the object's actual type, according to PW Skills.\n",
        "\n",
        "6. Abstraction:\n",
        "\n",
        "Polymorphism allows you to work at a higher level of abstraction, dealing with objects of a common type without needing to know their specific implementation details.\n",
        "\n",
        "7. Reduced Conditional Statements:\n",
        "\n",
        "Polymorphism can replace multiple conditional statements (like if-else blocks) with a single method call, simplifying the code.\n",
        "\n",
        "In essence, polymorphism is a core principle of OOP that allows you to write more efficient, flexible, and maintainable code."
      ],
      "metadata": {
        "id": "dx2x3gbK207U"
      }
    },
    {
      "cell_type": "markdown",
      "source": [
        "15. What is an abstract class in Python?\n",
        "\n",
        "\n",
        "Ans:-An abstract class in Python serves as a blueprint for other classes. It defines methods that any class inheriting from it must include, but it doesn't provide the actual code for those methods.\n",
        "\n",
        "\n",
        "\n",
        "Here's a breakdown:\n",
        "\n",
        "1. Cannot be Instantiated: You cannot create an object directly from an abstract class.\n",
        "\n",
        "2. Contains Abstract Methods: Abstract classes often contain abstract methods. These are methods declared without any implementation.\n",
        "\n",
        "3. Subclasses Must Implement: Any concrete class that inherits from an abstract class must provide an implementation for all the abstract methods defined in the abstract class.\n",
        "\n",
        "4. Provides a Common Interface: Abstract classes are used to define a common interface for a group of related classes, ensuring that they all have certain required methods.\n",
        "\n",
        "\n",
        "\n",
        "\n",
        "Abstract classes are useful for:\n",
        "\n",
        " - Defining a common interface for a set of related classes.\n",
        "\n",
        " - Ensuring that subclasses provide specific implementations for certain methods.\n",
        "\n",
        " - Promoting code organization and consistency."
      ],
      "metadata": {
        "id": "AIZ5-Wod4G4B"
      }
    },
    {
      "cell_type": "markdown",
      "source": [
        "16. What are the advantages of OOp?\n",
        "\n",
        "Ans:-Object-Oriented Programming (OOP) offers several advantages in Python, including improved code organization, reusability, and maintainability. It allows for the creation of modular, scalable, and flexible applications.\n",
        "\n",
        "\n",
        "Key advantages of OOP in Python:\n",
        "\n",
        "\n",
        "1. Modularity:\n",
        "OOP promotes a modular approach, breaking down complex systems into smaller, manageable units (classes and objects). This makes it easier to manage, troubleshoot, and collaborate on projects.\n",
        "\n",
        "2. Reusability:\n",
        "OOP encourages code reusability through inheritance and polymorphism, reducing redundancy and saving development time.\n",
        "\n",
        "3. Scalability:\n",
        "OOP makes it easier to extend and scale applications by adding new functionalities without disrupting existing code.\n",
        "\n",
        "4. Maintainability:\n",
        "OOP simplifies code maintenance by isolating changes to specific objects or classes, reducing the impact on other parts of the system.\n",
        "\n",
        "5. Security:\n",
        "OOP features like encapsulation and abstraction help to enhance security by controlling data access and hiding implementation details.\n",
        "\n",
        "6. Flexibility:\n",
        "OOP provides flexibility through polymorphism, allowing objects to behave differently based on their type, making it easier to adapt to changing requirements.\n",
        "\n",
        "7. Problem-Solving:\n",
        "OOP aids in solving complex problems by breaking them down into smaller, more manageable parts.\n",
        "\n",
        "8. Productivity:\n",
        "OOP frameworks, like those in Python, provide a structured way to organize code, and they often leverage existing libraries, saving development time and boosting productivity.\n",
        "\n",
        "\n",
        "\n",
        "\n",
        "\n",
        "9. Improved Code Organization: OOP helps structure code by grouping related data and methods within classes. This makes the code more organized and easier to understand.\n",
        "\n",
        "10. Code Reusability: Inheritance is a core OOP concept that allows new classes to inherit properties and behaviors from existing classes . This promotes code reusability and reduces redundancy.\n",
        "\n",
        "\n",
        "11. Enhanced Maintainability: With code organized into objects and classes, it becomes easier to maintain and update the code. Changes can often be isolated to specific classes.\n",
        "\n",
        "12. Increased Extensibility: OOP makes it easier to extend the functionality of your code by creating new classes that inherit from or interact with existing ones.\n",
        "\n",
        "13. Abstraction and Simplification: Abstraction allows hiding complex implementation details and showing only the essential features. This simplifies the interaction with objects.\n",
        "\n",
        "14. Encapsulation and Data Protection: Encapsulation bundles data and methods together and can hide the internal details. This provides better control over data and helps prevent accidental modification.\n",
        "\n",
        "15. Polymorphism and Flexibility: Polymorphism allows objects of different classes to respond to the same method call in their own way. This makes code more flexible and dynamic."
      ],
      "metadata": {
        "id": "-JiuNU7l6jPf"
      }
    },
    {
      "cell_type": "markdown",
      "source": [
        "17. What is the difference between a class variable and an instance variable?\n",
        "\n",
        "\n",
        "Ans:-1. Class Variables\n",
        "\n",
        " - Definition: Class variables are declared directly inside the class definition, but outside of any method.\n",
        "\n",
        " - Scope: They belong to the class itself.\n",
        "\n",
        " - Memory: There is only one copy of a class variable, and it is shared among all instances (objects) of that class.\n",
        "\n",
        " - Access: You can access class variables using either the class name (e.g., ClassName.class_variable) or an instance of the class (e.g., instance_name.class_variable). However, it's generally better practice to access them using the class name to emphasize that it's a class-level attribute.\n",
        "\n",
        " - Use Cases: Class variables are useful for storing data that is common to all objects of a class,\n",
        "\n",
        "\n",
        "\n",
        "such as:\n",
        "\n",
        "\n",
        "  - Constants that are relevant to the class.\n",
        "\n",
        "  - Default values for attributes.\n",
        "\n",
        "  - Counters to track the number of instances created.\n",
        "\n",
        "  - Shared resources or configurations.\n",
        "\n",
        "\n",
        "\n",
        "2. Instance Variables\n",
        "\n",
        "- Definition: Instance variables are typically defined within the __init__ method (the constructor) of a class using the self keyword (e.g., self.instance_variable = value). They can also be defined in other methods, but it's less common and can make the code harder to follow.\n",
        "- Scope: They belong to a specific instance (object) of the class.\n",
        "Memory: Each instance of the class has its own separate copy of the instance variables.\n",
        "\n",
        "- Access: You can only access instance variables using an instance of the class (e.g., instance_name.instance_variable). Trying to access an instance variable using the class name will result in an error unless a class variable with the same name exists.\n",
        "\n",
        "- Use Cases: Instance variables are used to store data that is unique to each object of a class, representing the state or characteristics of that individual object.\n",
        "\n",
        "-Examples include:\n",
        " - Name, age, or specific properties of an object.\n",
        " - Configuration settings that vary for each instance.\n",
        " - Any data that defines the unique state of an object.\n",
        "\n",
        "\n",
        "Understanding the difference between class and instance variables is fundamental to writing correct and efficient object-oriented code in Python. It helps you decide where to store your data based on whether it should be shared or unique to each object."
      ],
      "metadata": {
        "id": "BXPq1Y3e9GBc"
      }
    },
    {
      "cell_type": "markdown",
      "source": [
        "18.What is multiple inheritance in Python?\n",
        "\n",
        "\n",
        "Ans:-Multiple inheritance is a concept in Object-Oriented Programming (OOP) where a new class (called the subclass or derived class) can inherit properties and behaviors from more than one existing class (called the superclasses or base classes).\n",
        "\n",
        " This means a class can be a \"child\" of multiple \"parent\" classes. This allows the subclass to combine features, such as attributes and methods, from all of its parent classes.\n",
        "\n",
        "In Python, you achieve multiple inheritance by listing the superclasses in parentheses after the subclass name when defining the class.\n",
        "\n",
        "\n",
        "\n",
        "key point:\n",
        "\n",
        "\n",
        " - regarding multiple inheritance is the Method Resolution Order (MRO). When you call a method that exists in more than one of the parent classes, Python needs a way to determine which class's implementation to use.\n",
        "  \n",
        " - The MRO is the order in which Python searches the inheritance hierarchy to find the method. This order is determined by the way the classes are listed in the subclass definition and Python's C3 linearization algorithm.\n",
        "\n",
        "- multiple inheritance in Python provides a mechanism to build classes that are a combination of features from multiple sources, promoting code reuse and allowing for more complex class relationships.\n"
      ],
      "metadata": {
        "id": "LxOONeLk_iKk"
      }
    },
    {
      "cell_type": "markdown",
      "source": [
        "19.  Explain the purpose of ‘’__str__’ and ‘__repr__’ ‘ methods in Python?\n",
        "\n",
        "\n",
        "\n",
        "\n",
        "\n",
        "Ans:-The purpose of the __str__ and __repr__ methods in Python.\n",
        "\n",
        "These are both dunder (double underscore) methods that provide string representations of objects, but they serve different purposes:\n",
        "\n",
        "1. __str__ (for \"string\")\n",
        "\n",
        " - Purpose: To provide a user-friendly, informal string representation of an object.\n",
        "\n",
        " - Goal: To be readable and understandable by humans.\n",
        "\n",
        " - Used by:\n",
        "The built-in str() function.\n",
        "The print() function.\n",
        "\n",
        " - Typical Output: A string that is easy for a user to understand and that might omit some details for clarity.\n",
        "\n",
        "\n",
        "\n",
        "\n",
        "2. __repr__ (for \"representation\")\n",
        "\n",
        " - Purpose: To provide an unambiguous, formal string representation of an object.\n",
        "\n",
        " - Goal: To be helpful for developers and debugging. Ideally, the __repr__ output should be a valid Python expression that could be used to recreate the object (though this is not always possible or practical).\n",
        "\n",
        " - Used by:\n",
        "The built-in repr() function.\n",
        "The interactive Python interpreter (when you simply type an object's name and press Enter).\n",
        "Logging and debugging tools.\n",
        "\n",
        " - Typical Output: A string that clearly shows the object's type and its key attributes, often in a format that could be evaluated to reproduce the object.\n",
        "\n",
        "\n",
        "\n",
        "Key Differences Summarized:\n",
        "\n",
        "- Audience: __str__ is for users; __repr__ is for developers.\n",
        "\n",
        "- Goal: __str__ is for readability; __repr__ is for unambiguity and debugging.\n",
        "\n",
        "- Fallback: If __str__ is not defined for a class, Python will use __repr__ as a fallback. However, if __repr__ is not defined, there is no fallback for __str__.\n",
        "\n",
        "- Recommendation: It's generally good practice to define both __str__ and __repr__ for your classes. If you only define one, define __repr__ because it can be used as a fallback for __str__.\n",
        "\n"
      ],
      "metadata": {
        "id": "ktbUWIOLAv3Q"
      }
    },
    {
      "cell_type": "markdown",
      "source": [
        "20. What is the significance of the ‘super()’ function in Python?\n",
        "\n",
        "\n",
        "Ans:-In Python, the super() function is primarily used in the context of inheritance. Its main significance is to provide a way to call methods defined in the superclass (parent class) from within a subclass (child class).\n",
        "\n",
        "Here's a breakdown of its significance:\n",
        "\n",
        "1. Calling Superclass Methods:\n",
        "\n",
        "\n",
        " The most common use of super() is to call the __init__ method of the superclass from the __init__ method of the subclass. This ensures that the superclass's attributes are properly initialized when a subclass object is created.\n",
        "\n",
        "2. Accessing Superclass Functionality:\n",
        "\n",
        "\n",
        " super() allows you to access other methods of the superclass as well. This is useful when you want to extend or modify the behavior of a superclass method in the subclass, but still want to use the original functionality.\n",
        "\n",
        "3. Working with Multiple Inheritance:\n",
        "\n",
        "\n",
        " In scenarios with multiple inheritance, super() plays a crucial role in determining the Method Resolution Order (MRO). It ensures that the methods of all parent classes are called in the correct sequence, preventing potential conflicts and ensuring proper initialization and method execution.\n",
        "\n",
        "4. Promoting Code Reusability:\n",
        "\n",
        "\n",
        "\n",
        "By allowing you to call methods from the superclass, super() promotes code reusability. You can leverage the existing functionality of the parent class instead of rewriting it in the subclass.\n",
        "\n",
        " super() is a fundamental tool in Python for working with inheritance. It enables you to interact with the superclass, ensuring proper initialization, accessing parent class functionality, and managing method calls in complex inheritance hierarchies."
      ],
      "metadata": {
        "id": "T8qheTnCCP4q"
      }
    },
    {
      "cell_type": "markdown",
      "source": [
        "21.  What is the significance of the __del__ method in Python?\n",
        "\n",
        "\n",
        "\n",
        "Ans:-The ____del____ method in Python, also known as the destructor, is a special method that gets called when an object is about to be garbage collected (i.e., when the object is no longer referenced). Its significance lies in performing cleanup operations before an object is destroyed.\n",
        "\n",
        "Here's a breakdown of its significance:\n",
        "\n",
        "1. Resource Cleanup: The primary purpose of ____del____ is to release external resources that the object might be holding.\n",
        "\n",
        "\n",
        " This includes things like:\n",
        "\n",
        " - Closing file handles\n",
        " - Closing network connections\n",
        " - Releasing memory or other resources allocated by the object\n",
        "\n",
        "\n",
        "\n",
        "2. Finalization: It allows you to perform finalization tasks before the object's memory is reclaimed. This could involve saving data, logging information, or performing any other actions necessary before the object ceases to exist.\n",
        "\n",
        "3. Unpredictable Execution: It's important to note that the timing of __del__ calls can be unpredictable. Python's garbage collector determines when objects are no longer needed and when to call their __del__ method. This means you cannot rely on __del__ being called immediately after an object is no longer referenced.\n",
        "\n",
        "4. Potential Issues: Due to the unpredictable nature of garbage collection and __del__ calls, using __del__ for critical resource management can sometimes lead to issues. It's generally recommended to use context managers (with the with statement) for reliable resource cleanup when possible.\n",
        "\n",
        "The __del__ method is significant for cleaning up resources and performing finalization tasks when an object is about to be destroyed. However, its unpredictable execution timing means it should be used with caution for critical resource management, and context managers are often a more reliable alternative."
      ],
      "metadata": {
        "id": "o_msvrxdDJ9V"
      }
    },
    {
      "cell_type": "markdown",
      "source": [
        "22.  What is the difference between @staticmethod and @classmethod in Python?\n",
        "\n",
        "\n",
        "\n",
        " - The  difference between @staticmethod and @classmethod in Python:\n",
        "\n",
        "1. @classmethod:\n",
        "\n",
        " - Bound to the class.\n",
        " - Receives the class itself as the first argument (conventionally cls).\n",
        " - Can access and modify class-level attributes.\n",
        " - Often used for factory methods to create instances of the class or its subclasses.\n",
        " - Defined using the @classmethod decorator.\n",
        "\n",
        "2. @staticmethod:\n",
        "\n",
        " - Not bound to the class or an instance.\n",
        " - Does not receive any implicit first argument (self or cls).\n",
        " - Cannot access class or instance-level state directly.\n",
        " - Used for utility functions that have a logical connection to the class but don't need to interact with its state.\n",
        " - Defined using the @staticmethod decorator."
      ],
      "metadata": {
        "id": "BWP5S7OcED8u"
      }
    },
    {
      "cell_type": "markdown",
      "source": [
        "23. How does polymorphism work in Python with inheritance?\n",
        "\n",
        "\n",
        "\n",
        "Ans:-Understanding Polymorphism with Inheritance\n",
        "\n",
        "\n",
        "\n",
        "In Python, polymorphism enables a single function or method to operate on objects of different classes, as long as they share a common interface. This is often achieved through inheritance, where a base class defines a method, and derived classes override this method to provide specific implementations.\n",
        "\n",
        "\n",
        "polymorphism works in Python with inheritance:\n",
        "\n",
        "1. Common Method in Base Class:\n",
        "\n",
        "A base class defines a method (e.g., a speak method in an Animal class).\n",
        "\n",
        " 2. Subclasses Override the Method:\n",
        "\n",
        "\n",
        " Subclasses that inherit from the base class (e.g., Dog and Cat inheriting from Animal) provide their own specific implementations for that same method.\n",
        "\n",
        " 3. Objects of Different Classes Respond Differently:\n",
        "\n",
        "  When you call this method on objects of the different subclasses, each object executes its own overridden implementation.\n",
        "\n",
        "This allows you to treat objects of different classes uniformly through the common method name defined in the base class, while still getting behavior specific to each subclass. The provided text mentions this is a key mechanism for achieving dynamic behavior and specializing inherited methods in OOP.\n",
        "\n",
        "\n",
        "\n",
        "\n",
        "\n",
        "\n"
      ],
      "metadata": {
        "id": "TRKMj5BOFVwJ"
      }
    },
    {
      "cell_type": "markdown",
      "source": [
        "24. What is method chaining in Python OOP?\n",
        "\n",
        "\n",
        "Ans:-Method chaining in Python OOP is a technique where you call multiple methods on an object in a single line of code. Each method in the chain returns the object itself, or a modified version of the object, allowing you to call the next method directly on the result of the previous one.\n",
        "\n",
        "Here's how it typically works:\n",
        "\n",
        "1. Methods return self: For method chaining to work, the methods you want to chain must return the instance of the class (self) after they perform their operation.\n",
        "\n",
        "2. Consecutive calls: You can then call another method on the returned object, and continue chaining as long as each method returns an object that supports the next method call.\n",
        "\n",
        "\n",
        "Benefits of Method Chaining:\n",
        "\n",
        " - Readability: It can make your code more concise and easier to read, especially when performing a sequence of operations on an object.\n",
        "\n",
        " - Fluent Interface: It can create a more \"fluent\" interface for your classes, making them feel more natural to use.\n",
        "\n",
        " - Reduced Temporary Variables: It can reduce the need for temporary variable\n",
        " s to store intermediate results.\n",
        "\n",
        "\n",
        "When to use Method Chaining:\n",
        "\n",
        "Method chaining is particularly useful when:\n",
        "\n",
        " - The methods you are chaining are modifying the state of the object.\n",
        "\n",
        " - The sequence of operations is clear and logical.\n",
        "\n",
        " - You want to create a concise and readable expression for a series of actions.\n",
        "\n",
        "\n",
        "It's important not to overuse method chaining, as it can sometimes make complex operations less clear. Consider readability and maintainability when deciding whether to use method chaining."
      ],
      "metadata": {
        "id": "dBKHHhIpOtjt"
      }
    },
    {
      "cell_type": "markdown",
      "source": [
        "25. What is the purpose of the __call__ method in Python?\n",
        "\n",
        "\n",
        "Ans:-The __call__ method is a special method in Python, also known as a dunder or magic method. Its main purpose is to make instances of a class callable like a function.\n",
        "\n",
        "Here's a breakdown:\n",
        "\n",
        "1. Callable Objects:\n",
        "\n",
        " In Python, anything that can be called using parentheses () is considered a \"callable.\" This includes functions, methods, and objects of classes that define the __call__ method.\n",
        "\n",
        "2. Enabling Function-like Behavior:\n",
        "\n",
        " When you define the __call__ method within a class, you give the objects created from that class the ability to be invoked as if they were functions.\n",
        "\n",
        "3. How it Works:\n",
        "\n",
        " When you call an object instance (e.g., my_object(arg1, arg2)) and the class of that object has a __call__ method, Python internally executes the __call__ method of that object. The arguments passed in the parentheses are passed to the __call__ method.\n",
        "\n",
        "\n",
        "\n",
        "The __call__(self, ...) method and states that it \"Allows an object to be called like a function\". This is the core purpose of this dunder method. It allows you to add a layer of abstraction and make objects behave in a more intuitive way for certain use cases, such as creating objects that act as transformers or functions with internal state."
      ],
      "metadata": {
        "id": "hM03295FPsge"
      }
    },
    {
      "cell_type": "markdown",
      "source": [
        "# Practical questions"
      ],
      "metadata": {
        "id": "357Zw5ggQi8L"
      }
    },
    {
      "source": [
        "# 1. Create a parent class Animal with a method speak() that prints a generic message. Create a child class Dog that override the speak() method to print\"Brik!\"?.\n",
        "\n",
        "\n",
        "\n",
        "class Animal:\n",
        "    def speak(self):\n",
        "        print(\"Generic animal sound\")\n",
        "\n",
        "class Dog(Animal):\n",
        "    def speak(self):\n",
        "        print(\"Bark!\")\n",
        "\n",
        "# Example usage:\n",
        "animal = Animal()\n",
        "animal.speak()\n",
        "\n",
        "dog = Dog()\n",
        "dog.speak()"
      ],
      "cell_type": "code",
      "metadata": {
        "colab": {
          "base_uri": "https://localhost:8080/"
        },
        "id": "mzUpqxSAR3G_",
        "outputId": "daa0703c-5fa2-4b9a-a0e1-46a288115456"
      },
      "execution_count": null,
      "outputs": [
        {
          "output_type": "stream",
          "name": "stdout",
          "text": [
            "Generic animal sound\n",
            "Bark!\n"
          ]
        }
      ]
    },
    {
      "source": [
        "\n",
        " # 2. Write a program to create an abstract class shape with a method  area(). Derive classes cricle and Rectangle from it and implement the area() method in both.?\n",
        "\n",
        "import abc\n",
        "\n",
        "class Shape(abc.ABC):\n",
        "    \"\"\"\n",
        "    Abstract base class for shapes.\n",
        "    \"\"\"\n",
        "    @abc.abstractmethod\n",
        "    def area(self):\n",
        "        \"\"\"\n",
        "        Abstract method to calculate the area of the shape.\n",
        "        \"\"\"\n",
        "        pass\n",
        "\n",
        "class Circle(Shape):\n",
        "    \"\"\"\n",
        "    Derived class for a circle.\n",
        "    \"\"\"\n",
        "    def __init__(self, radius):\n",
        "        if radius < 0:\n",
        "            raise ValueError(\"Radius cannot be negative\")\n",
        "        self.radius = radius\n",
        "\n",
        "    def area(self):\n",
        "        \"\"\"\n",
        "        Calculates the area of the circle.\n",
        "        \"\"\"\n",
        "        return 3.14159 * self.radius * self.radius\n",
        "\n",
        "class Rectangle(Shape):\n",
        "    \"\"\"\n",
        "    Derived class for a rectangle.\n",
        "    \"\"\"\n",
        "    def __init__(self, width, height):\n",
        "        if width < 0 or height < 0:\n",
        "            raise ValueError(\"Width and height cannot be negative\")\n",
        "        self.width = width\n",
        "        self.height = height\n",
        "\n",
        "    def area(self):\n",
        "        \"\"\"\n",
        "        Calculates the area of the rectangle.\n",
        "        \"\"\"\n",
        "        return self.width * self.height\n",
        "\n",
        "\n",
        "try:\n",
        "    circle = Circle(5)\n",
        "    rectangle = Rectangle(4, 6)\n",
        "\n",
        "    print(f\"Area of Circle: {circle.area()}\")\n",
        "    print(f\"Area of Rectangle: {rectangle.area()}\")\n",
        "\n",
        "\n",
        "\n",
        "except ValueError as e:\n",
        "    print(f\"Error: {e}\")"
      ],
      "cell_type": "code",
      "metadata": {
        "colab": {
          "base_uri": "https://localhost:8080/"
        },
        "id": "8LjhCTjxTdWf",
        "outputId": "69d84e3d-fc42-459e-ffd2-4aaa8438389b"
      },
      "execution_count": null,
      "outputs": [
        {
          "output_type": "stream",
          "name": "stdout",
          "text": [
            "Area of Circle: 78.53975\n",
            "Area of Rectangle: 24\n"
          ]
        }
      ]
    },
    {
      "source": [
        "# 3.  Implement a multi-level inheritance scenario where a class Vehicle has an attribute type. Derive a class car and further derive a class Electric Car that adds a battery attribute.?\n",
        "\n",
        "class Vehicle:\n",
        "    def __init__(self, vehicle_type):\n",
        "        self.type = vehicle_type\n",
        "\n",
        "class Car(Vehicle):\n",
        "    def __init__(self, vehicle_type, brand):\n",
        "        super().__init__(vehicle_type)\n",
        "        self.brand = brand\n",
        "\n",
        "class ElectricCar(Car):\n",
        "    def __init__(self, vehicle_type, brand, battery_capacity):\n",
        "        super().__init__(vehicle_type, brand)\n",
        "        self.battery = battery_capacity\n",
        "\n",
        "\n",
        "my_electric_car = ElectricCar(\"Electric Car\", \"Tesla\", \"100 kWh\")\n",
        "\n",
        "\n",
        "print(f\"Vehicle Type: {my_electric_car.type}\")\n",
        "print(f\"Car Brand: {my_electric_car.brand}\")\n",
        "print(f\"Battery Capacity: {my_electric_car.battery}\")"
      ],
      "cell_type": "code",
      "metadata": {
        "colab": {
          "base_uri": "https://localhost:8080/"
        },
        "id": "Etpoz9SrU06M",
        "outputId": "d2189b05-62d6-4a9b-81c9-3dd27544bdf0"
      },
      "execution_count": null,
      "outputs": [
        {
          "output_type": "stream",
          "name": "stdout",
          "text": [
            "Vehicle Type: Electric Car\n",
            "Car Brand: Tesla\n",
            "Battery Capacity: 100 kWh\n"
          ]
        }
      ]
    },
    {
      "cell_type": "code",
      "source": [
        "# 4. Demonstrate polymorphism by creating a base class Bird with a method fly(). Create two derived classes Sparrow and Penguin that override the fly() method\n",
        "\n",
        "\n",
        "class Bird:\n",
        "    def fly(self):\n",
        "        print(\"Bird is flying\")\n",
        "\n",
        "class Sparrow(Bird):\n",
        "    def fly(self):\n",
        "        print(\"Sparrow flies high in the sky\")\n",
        "\n",
        "class Penguin(Bird):\n",
        "    def fly(self):\n",
        "        print(\"Penguins can't fly, but they swim well\")\n",
        "\n",
        "\n",
        "def bird_fly(bird):\n",
        "    bird.fly()\n",
        "\n",
        "\n",
        "sparrow = Sparrow()\n",
        "penguin = Penguin()\n",
        "\n",
        "\n",
        "bird_fly(sparrow)\n",
        "bird_fly(penguin)\n"
      ],
      "metadata": {
        "colab": {
          "base_uri": "https://localhost:8080/"
        },
        "id": "y4O4QRp_VoL0",
        "outputId": "90f2aedc-64e4-4c6b-d7cd-d456d3dc8889"
      },
      "execution_count": null,
      "outputs": [
        {
          "output_type": "stream",
          "name": "stdout",
          "text": [
            "Sparrow flies high in the sky\n",
            "Penguins can't fly, but they swim well\n"
          ]
        }
      ]
    },
    {
      "cell_type": "code",
      "source": [
        "# 5. Write a program to demonstrate encapsulation by creating a class BankAccount with private attributes balance and methods to deposit, withdraw, and check balance?\n",
        "\n",
        "\n",
        "account = BankAccount(\"salma syed\", 10000.0)\n",
        "\n",
        "\n",
        "print(f\"Account Holder: {account.get_account_holder()}\")\n",
        "print(f\"Current Balance: ₹{account.get_balance():.2f}\")\n",
        "\n",
        "\n",
        "account.deposit(600)\n",
        "account.withdraw(300)\n",
        "account.withdraw(1400)\n",
        "\n",
        "print(f\"Final Balance: ₹{account.get_balance():.2f}\")\n"
      ],
      "metadata": {
        "colab": {
          "base_uri": "https://localhost:8080/"
        },
        "id": "ZGQ9OdZ8WdqE",
        "outputId": "561c184d-a44e-4de1-9c76-b1f33b5dfc82"
      },
      "execution_count": null,
      "outputs": [
        {
          "output_type": "stream",
          "name": "stdout",
          "text": [
            "Account Holder: salma syed\n",
            "Current Balance: ₹10000.00\n",
            "Deposited ₹600.00. New balance: ₹10600.00\n",
            "Withdrew ₹300.00. New balance: ₹10300.00\n",
            "Withdrew ₹1400.00. New balance: ₹8900.00\n",
            "Final Balance: ₹8900.00\n"
          ]
        }
      ]
    },
    {
      "cell_type": "code",
      "source": [
        "#6. Demonstrate runtime polymorphism using a method play() in a base class Instrument. Derive classes Guitar and Piano that implement their own version of play()\n",
        "\n",
        "class Instrument:\n",
        "    def play(self):\n",
        "        print(\"Playing an instrument\")\n",
        "\n",
        "class Guitar(Instrument):\n",
        "    def play(self):\n",
        "        print(\"Strumming the guitar\")\n",
        "\n",
        "class Piano(Instrument):\n",
        "    def play(self):\n",
        "        print(\"Playing the piano\")\n",
        "\n",
        "def perform(instrument):\n",
        "    instrument.play()\n",
        "\n",
        "guitar = Guitar()\n",
        "piano = Piano()\n",
        "\n",
        "perform(guitar)\n",
        "perform(piano)\n",
        "\n"
      ],
      "metadata": {
        "colab": {
          "base_uri": "https://localhost:8080/"
        },
        "id": "1fXgXCRNXfJU",
        "outputId": "e9564c30-273c-47c5-eec8-81fbecfacecd"
      },
      "execution_count": null,
      "outputs": [
        {
          "output_type": "stream",
          "name": "stdout",
          "text": [
            "Strumming the guitar\n",
            "Playing the piano\n"
          ]
        }
      ]
    },
    {
      "cell_type": "code",
      "source": [
        "# 7.Create a class MathOperations with a class method add_numbers() to add two numbers and a static method subtract_numbers() to subtract two numbers\n",
        "\n",
        "sum_result = MathOperations.add_numbers(10, 5)\n",
        "print(f\"Sum: {sum_result}\")\n",
        "\n",
        "subtract = MathOperations.subtract_numbers(10, 5)\n",
        "print(f\"subtract:{subtract}\")\n",
        "\n"
      ],
      "metadata": {
        "id": "zawriUu_Yhqd",
        "colab": {
          "base_uri": "https://localhost:8080/"
        },
        "outputId": "cb10a313-1cd4-4f38-d4b6-cdc301ca96e0"
      },
      "execution_count": null,
      "outputs": [
        {
          "output_type": "stream",
          "name": "stdout",
          "text": [
            "Sum: 15\n",
            "subtract:5\n"
          ]
        }
      ]
    },
    {
      "cell_type": "code",
      "source": [
        "# 8.  Implement a class Person with a class method to count the total number of persons created.\n",
        "\n",
        "class Person:\n",
        "\n",
        "    person_count = 0\n",
        "\n",
        "    def __init__(self, name):\n",
        "        self.name = name\n",
        "\n",
        "        Person.person_count += 1\n",
        "\n",
        "    @classmethod\n",
        "    def get_person_count(cls):\n",
        "\n",
        "        return cls.person_count\n",
        "\n",
        "p1 = Person(\"salma\")\n",
        "p2 = Person(\"nimmi\")\n",
        "p3 = Person(\" simbha\")\n",
        "\n",
        "print(Person.get_person_count())\n",
        "\n"
      ],
      "metadata": {
        "colab": {
          "base_uri": "https://localhost:8080/"
        },
        "id": "-Kw5hHAGlyoK",
        "outputId": "a7314ccb-18f0-45f3-d860-86e6b836992d"
      },
      "execution_count": null,
      "outputs": [
        {
          "output_type": "stream",
          "name": "stdout",
          "text": [
            "3\n"
          ]
        }
      ]
    },
    {
      "source": [
        "# 9.  Write a class Fraction with attributes numerator and denominator. Override the str method to display the fraction as \"numerator/denominator.\n",
        "\n",
        "\n",
        "fraction1 = Fraction(3, 4)\n",
        "print(fraction1)\n",
        "\n",
        "fraction2 = Fraction(7, 2)\n",
        "print(fraction2)"
      ],
      "cell_type": "code",
      "metadata": {
        "colab": {
          "base_uri": "https://localhost:8080/"
        },
        "id": "PtckZt63pX4R",
        "outputId": "fcb172e0-c391-4119-b0ba-d96edce5a3d5"
      },
      "execution_count": null,
      "outputs": [
        {
          "output_type": "stream",
          "name": "stdout",
          "text": [
            "3/4\n",
            "7/2\n"
          ]
        }
      ]
    },
    {
      "cell_type": "code",
      "source": [
        "# 10. Demonstrate operator overloading by creating a class Vector and overriding the add method to add two  vectors.\n",
        "\n",
        "class Vector:\n",
        "    def __init__(self, x, y):\n",
        "        self.x = x\n",
        "        self.y = y\n",
        "\n",
        "    def __str__(self):\n",
        "        return f\"Vector({self.x}, {self.y})\"\n",
        "\n",
        "    def __add__(self, other):\n",
        "        if isinstance(other, Vector):\n",
        "            return Vector(self.x + other.x, self.y + other.y)\n",
        "        else:\n",
        "            raise TypeError(\"Unsupported operand type for +\")\n",
        "\n",
        "\n",
        "\n",
        "vector1 = Vector(2, 3)\n",
        "vector2 = Vector(5, 7)\n",
        "\n",
        "sum_vector = vector1 + vector2\n",
        "\n",
        "print(sum_vector)"
      ],
      "metadata": {
        "colab": {
          "base_uri": "https://localhost:8080/"
        },
        "id": "Tw65PW6rp3nM",
        "outputId": "13c76ce4-3987-43f8-f5d7-79b93389b3d8"
      },
      "execution_count": null,
      "outputs": [
        {
          "output_type": "stream",
          "name": "stdout",
          "text": [
            "Vector(7, 10)\n"
          ]
        }
      ]
    },
    {
      "cell_type": "code",
      "source": [
        "# 11. Create a class Person with attributes name and age. Add a method greet() that prints \"Hello, my name is {name} and I am {age} years old.\"?\n",
        "\n",
        "\n",
        "class Person:\n",
        "    def __init__(self, name, age):\n",
        "        self.name = name\n",
        "        self.age = age\n",
        "\n",
        "    def greet(self):\n",
        "        print(f\"Hello, my name is {self.name} and I am {self.age} years old.\")\n",
        "\n",
        "person1 = Person(\"syed salma\", 21)\n",
        "person1.greet()\n"
      ],
      "metadata": {
        "colab": {
          "base_uri": "https://localhost:8080/"
        },
        "id": "sXFUPCFPqeoe",
        "outputId": "f73daba8-3d0f-4b69-a400-dedf3a779f9c"
      },
      "execution_count": null,
      "outputs": [
        {
          "output_type": "stream",
          "name": "stdout",
          "text": [
            "Hello, my name is syed salma and I am 21 years old.\n"
          ]
        }
      ]
    },
    {
      "cell_type": "code",
      "source": [
        "# 12. Implement a class Student with attributes name and grades. Create a method average_grade() to compute the average of the grades.\n",
        "\n",
        "\n",
        "class Student:\n",
        "    def __init__(self, name, grades):\n",
        "        self.name = name\n",
        "        self.grades = grades\n",
        "\n",
        "    def average_grade(self):\n",
        "        \"\"\"\n",
        "        Computes the average of the student's grades.\n",
        "        \"\"\"\n",
        "        if not self.grades:\n",
        "            return\n",
        "        return sum(self.grades) / len(self.grades)\n",
        "\n",
        "\n",
        "student1 = Student(\"salma\", [90, 85, 92, 88])\n",
        "print(f\"{student1.name}'s average grade: {student1.average_grade()}\")\n",
        "\n",
        "student2 = Student(\"syed\", [78, 82, 75])\n",
        "print(f\"{student2.name}'s average grade: {student2.average_grade()}\")\n",
        "\n",
        "student3 = Student(\"Nimmi\", [20])\n",
        "print(f\"{student3.name}'s average grade: {student3.average_grade()}\")\n"
      ],
      "metadata": {
        "colab": {
          "base_uri": "https://localhost:8080/"
        },
        "id": "8UuWClPzrSRC",
        "outputId": "adfdef33-fdb3-4994-9de4-c4af62e132ca"
      },
      "execution_count": null,
      "outputs": [
        {
          "output_type": "stream",
          "name": "stdout",
          "text": [
            "salma's average grade: 88.75\n",
            "syed's average grade: 78.33333333333333\n",
            "Nimmi's average grade: 20.0\n"
          ]
        }
      ]
    },
    {
      "cell_type": "code",
      "source": [
        "# 13.  Create a class Rectangle with methods set_dimensions() to set the dimensions and area() to calculate the area.\n",
        "\n",
        "\n",
        "\n",
        "class Rectangle:\n",
        "    def __init__(self):\n",
        "        self.length = 0\n",
        "        self.width = 0\n",
        "\n",
        "    def set_dimensions(self, length, width):\n",
        "        \"\"\"Sets the length and width of the rectangle.\"\"\"\n",
        "        self.length = length\n",
        "        self.width = width\n",
        "\n",
        "    def area(self):\n",
        "        \"\"\"Calculates and returns the area of the rectangle.\"\"\"\n",
        "        return self.length * self.width\n",
        "\n",
        "# Example usage:\n",
        "my_rectangle = Rectangle()\n",
        "my_rectangle.set_dimensions(10, 5)\n",
        "rectangle_area = my_rectangle.area()\n",
        "print(f\"The area of the rectangle is: {rectangle_area}\")\n",
        "\n"
      ],
      "metadata": {
        "colab": {
          "base_uri": "https://localhost:8080/"
        },
        "id": "-wb2JEwmsD9X",
        "outputId": "b34e7353-4a9e-479f-ba32-9d7a9442fc24"
      },
      "execution_count": null,
      "outputs": [
        {
          "output_type": "stream",
          "name": "stdout",
          "text": [
            "The area of the rectangle is: 50\n"
          ]
        }
      ]
    },
    {
      "cell_type": "code",
      "source": [
        "# 14. Create a class Employee with a method calculate_salary() that computes the salary based on hours worked and hourly rate. Create a derived class Manager that adds a bonus to the salary.\n",
        "\n",
        "\n",
        "class Employee:\n",
        "    def __init__(self, hours_worked, hourly_rate):\n",
        "        self.hours_worked = hours_worked\n",
        "        self.hourly_rate = hourly_rate\n",
        "\n",
        "    def calculate_salary(self):\n",
        "        \"\"\"Calculates the salary based on hours worked and hourly rate.\"\"\"\n",
        "        return self.hours_worked * self.hourly_rate\n",
        "\n",
        "class Manager(Employee):\n",
        "    def __init__(self, hours_worked, hourly_rate, bonus):\n",
        "        super().__init__(hours_worked, hourly_rate)\n",
        "        self.bonus = bonus\n",
        "\n",
        "    def calculate_salary(self):\n",
        "        \"\"\"Calculates the salary including a bonus.\"\"\"\n",
        "        base_salary = super().calculate_salary()\n",
        "        return base_salary + self.bonus\n",
        "\n",
        "employee1 = Employee(30, 25)\n",
        "print(f\"Employee Salary: ${employee1.calculate_salary()}\")\n",
        "\n",
        "manager1 = Manager(40, 20, 700)\n",
        "print(f\"Manager Salary: ${manager1.calculate_salary()}\")\n",
        "\n",
        "\n",
        "\n",
        "\n"
      ],
      "metadata": {
        "colab": {
          "base_uri": "https://localhost:8080/"
        },
        "id": "vU3AmsRI_agp",
        "outputId": "b17ce2e2-383b-4324-8fda-964bd65bc654"
      },
      "execution_count": 2,
      "outputs": [
        {
          "output_type": "stream",
          "name": "stdout",
          "text": [
            "Employee Salary: $750\n",
            "Manager Salary: $1500\n"
          ]
        }
      ]
    },
    {
      "cell_type": "code",
      "source": [
        "# 15. Create a class Product with attributes name, price, and quantity. Implement a method total_price() that calculates the total price of the product.\n",
        "\n",
        "\n",
        "class Product:\n",
        "    def __init__(self, name, price, quantity):\n",
        "        self.name = name\n",
        "        self.price = price\n",
        "        self.quantity = quantity\n",
        "\n",
        "    def total_price(self):\n",
        "        \"\"\"Calculates the total price of the product.\"\"\"\n",
        "        return self.price * self.quantity\n",
        "\n",
        "product1 = Product(\"Laptop\", 1200, 2)\n",
        "\n",
        "total = product1.total_price()\n",
        "\n",
        "print(f\"The total price of {product1.name} is: ${total}\")\n",
        "\n",
        "product2 = Product(\"Mouse\", 25, 10)\n",
        "total2 = product2.total_price()\n",
        "print(f\"The total price of {product2.name} is: ${total2}\")\n",
        "\n"
      ],
      "metadata": {
        "colab": {
          "base_uri": "https://localhost:8080/"
        },
        "id": "oHul8TVrALnE",
        "outputId": "67064c01-3252-423a-e3ad-b4c577024eef"
      },
      "execution_count": 3,
      "outputs": [
        {
          "output_type": "stream",
          "name": "stdout",
          "text": [
            "The total price of Laptop is: $2400\n",
            "The total price of Mouse is: $250\n"
          ]
        }
      ]
    },
    {
      "cell_type": "code",
      "source": [
        "# 16. Create a class Animal with an abstract method sound(). Create two derived classes Cow and Sheep that implement the sound() method\n",
        "\n",
        "\n",
        "from abc import ABC, abstractmethod\n",
        "\n",
        "class Animal(ABC):\n",
        "    @abstractmethod\n",
        "    def sound(self):\n",
        "        pass\n",
        "\n",
        "class Cow(Animal):\n",
        "    def sound(self):\n",
        "        return \"Moo\"\n",
        "\n",
        "class Sheep(Animal):\n",
        "    def sound(self):\n",
        "        return \"Baa\"\n",
        "\n",
        "cow = Cow()\n",
        "sheep = Sheep()\n",
        "\n",
        "print(cow.sound())\n",
        "print(sheep.sound())\n",
        "\n",
        "\n",
        "\n"
      ],
      "metadata": {
        "colab": {
          "base_uri": "https://localhost:8080/"
        },
        "id": "u_rKhjI0AxNa",
        "outputId": "30b191c1-4109-4e24-a10c-b8922e4e5750"
      },
      "execution_count": 4,
      "outputs": [
        {
          "output_type": "stream",
          "name": "stdout",
          "text": [
            "Moo\n",
            "Baa\n"
          ]
        }
      ]
    },
    {
      "cell_type": "code",
      "source": [
        "# 17. Create a class Book with attributes title, author, and year_published. Add a method get_book_info() that returns a formatted string with the book's details.\n",
        "\n",
        "\n",
        "class Book:\n",
        "    def __init__(self, title, author, year_published):\n",
        "        self.title = title\n",
        "        self.author = author\n",
        "        self.year_published = year_published\n",
        "\n",
        "    def get_book_info(self):\n",
        "        return f\"Title: {self.title}, Author: {self.author}, Year Published: {self.year_published}\"\n",
        "\n",
        "my_book = Book(\"The Hitchhiker's Guide to the Galaxy\", \"Douglas Adams\", 1979)\n",
        "print(my_book.get_book_info())\n",
        "\n"
      ],
      "metadata": {
        "colab": {
          "base_uri": "https://localhost:8080/"
        },
        "id": "Mf_jLQJUBM9r",
        "outputId": "7d5f99d0-ca81-4042-af7f-21cc7644e525"
      },
      "execution_count": 6,
      "outputs": [
        {
          "output_type": "stream",
          "name": "stdout",
          "text": [
            "Title: The Hitchhiker's Guide to the Galaxy, Author: Douglas Adams, Year Published: 1979\n"
          ]
        }
      ]
    },
    {
      "cell_type": "code",
      "source": [
        "#18. Create a class House with attributes address and price. Create a derived class Mansion that adds an attribute number_of_rooms.\n",
        "\n",
        "\n",
        "class House:\n",
        "    def __init__(self, address, price):\n",
        "        self.address = address\n",
        "        self.price = price\n",
        "\n",
        "    def display_info(self):\n",
        "        print(f\"Address: {self.address}\")\n",
        "        print(f\"Price: ₹{self.price}\")\n",
        "\n",
        "class Mansion(House):\n",
        "    def __init__(self, address, price, number_of_rooms):\n",
        "        super().__init__(address, price)\n",
        "        self.number_of_rooms = number_of_rooms\n",
        "\n",
        "    def display_info(self):\n",
        "        super().display_info()\n",
        "        print(f\"Number of Rooms: {self.number_of_rooms}\")\n",
        "\n",
        "\n",
        "\n",
        "\n",
        "        my_house = House(\"123 Main Street, guntur\", 5000000)\n",
        "        my_house.display_info()\n",
        "\n",
        "my_mansion = Mansion(\"456 Elite Avenue, guntur\", 25000000, 12)\n",
        "my_mansion.display_info()\n",
        "\n",
        "\n",
        "\n"
      ],
      "metadata": {
        "colab": {
          "base_uri": "https://localhost:8080/"
        },
        "id": "Vf-K4bL9Buld",
        "outputId": "27fe11ff-bb6b-4f29-ce61-ab19ad37cf9d"
      },
      "execution_count": 24,
      "outputs": [
        {
          "output_type": "stream",
          "name": "stdout",
          "text": [
            "Address: 456 Elite Avenue, guntur\n",
            "Price: ₹25000000\n",
            "Number of Rooms: 12\n",
            "Address: 123 Main Street, guntur\n",
            "Price: ₹5000000\n"
          ]
        }
      ]
    }
  ]
}