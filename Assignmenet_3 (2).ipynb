{
  "nbformat": 4,
  "nbformat_minor": 0,
  "metadata": {
    "colab": {
      "provenance": []
    },
    "kernelspec": {
      "name": "python3",
      "display_name": "Python 3"
    },
    "language_info": {
      "name": "python"
    }
  },
  "cells": [
    {
      "cell_type": "markdown",
      "source": [
        "# Functions Assignment"
      ],
      "metadata": {
        "id": "jh_lLKK9xsDB"
      }
    },
    {
      "cell_type": "markdown",
      "source": [
        " 1. What is the difference between a function and method in python?\n",
        "\n",
        "Function:\n",
        "\n",
        "- A function is a block of code that perfoms a specific task.\n",
        "- It is defined using the def keyword.\n",
        "\n",
        "- I can be calles independently.\n",
        "\n",
        "Method:\n",
        "\n",
        " - A method is a function that is associated with an object.\n",
        " - It is defined within a class.\n",
        " - It is called using the dot operator (.) on an object of the class.\n",
        "\n",
        "Key Differences:\n",
        "\n",
        " - Association: Functions are independent, while methods are associated with objects.\n",
        " - Calling: Functions are called directly, while methods are called on objects.\n",
        " - Syntax: Methods have an implicit first argument self which refers to the object itself."
      ],
      "metadata": {
        "id": "ac0I-o0CyGgl"
      }
    },
    {
      "cell_type": "markdown",
      "source": [
        "2. Explain the concept of function arguments and parameters in Python?\n",
        "\n",
        "Parameters:\n",
        "\n",
        " - Parameters are the names used when defining a function. They act as placeholders for the values that will be passed to the function when it is called.\n",
        " - They are defined inside the parentheses of the function definition.\n",
        " - For example, in the function definition def greet(name):, name is a parameter.\n",
        "\n",
        "\n",
        "Arguments\n",
        "\n",
        "  - Arguments are the actual values that are passed to a function when it is called.\n",
        "\n",
        "  - They are placed inside the parentheses of the function call.\n",
        "\n",
        "  - For example, in the function call greet(\"Alice\"), \"Alice\" is an argument.\n",
        "\n",
        "\n",
        " In simpler terms:\n",
        "\n",
        "Imagine a function as a machine that needs ingredients (parameters) to work. When you provide the actual ingredients (arguments), the machine can then run and produce a result.\n",
        "\n",
        "\n"
      ],
      "metadata": {
        "id": "uGOUWgYY0X3g"
      }
    },
    {
      "cell_type": "markdown",
      "source": [
        "3. What are the different ways to define and call a function in Python?\n",
        "\n",
        "\n",
        "-  Defining a Function\n",
        "\n",
        "  1. Using the def keyword:\n",
        "  \n",
        "def greet(name):\n",
        "        \"\"\"\n",
        "        This function greets the person passed in as a parameter.\n",
        "        \"\"\"\n",
        "        print(f\"Hello, {name}!\")\n",
        "\n",
        "\n",
        "-   The `def` keyword signifies the start of a function definition.\n",
        "-   `greet` is the chosen name for this function.\n",
        "-   `name` acts as a placeholder, representing a value that will be provided when the function is called. This is called a parameter.\n",
        "-   The code within the function, indented for clarity, is executed when the function is invoked.\n",
        "-   The docstring, enclosed in triple quotes (`\"\"\"...\"\"\"`), provides a brief description of the function's purpose.\n",
        "\n",
        "\n",
        "  2. Using the lambda keyword (for anonymous functions):\n",
        "\n",
        "greet = lambda name: print(f\"Hello, {name}!\")\n",
        "\n",
        "-   `lambda` creates a compact, nameless function known as an anonymous function.\n",
        "-   `name` serves as the input parameter for this lambda function.\n",
        "-   The code following the colon (`:`) constitutes the function's body, which is executed when the function is called.\n",
        "\n",
        "\n",
        "Calling a Function\n",
        "\n",
        "  1.By name:\n",
        "\n",
        "greet(\"Alice\")  # Output: Hello, Alice!\n",
        "Use code with caution\n",
        "-   To execute a function, use its name followed by parentheses `()`.\n",
        "-   Arguments, the actual values passed to the function, are placed within the parentheses.\n",
        "\n",
        "\n",
        "  2. Using a variable:\n",
        "\n",
        "my_function = greet\n",
        "    my_function(\"Bob\")  # Output: Hello, Bob!\n",
        "\n",
        "-   Functions can be assigned to variables, allowing you to refer to them using the variable name.\n",
        "-   Calling the function through the variable name is equivalent to calling it by its original name.\n",
        "\n",
        " 3. Nested function calls:\n",
        "\n",
        "def outer_function(x):\n",
        "        def inner_function(y):\n",
        "            return x + y\n",
        "        return inner_function\n",
        "\n",
        "    add_five = outer_function(5)  # add_five is now a function that adds 5 to its argument\n",
        "    result = add_five(3)  # result will be 8\n",
        "    print(result)  # Output: 8\n",
        "\n",
        "- Functions can be nested, where one function is defined inside another.\n",
        "- Inner functions can access variables from the outer function's scope.\n",
        "\n",
        " 4. Recursive function calls:\n",
        "\n",
        "def factorial(n):\n",
        "        if n == 0:\n",
        "            return 1\n",
        "        else:\n",
        "            return n * factorial(n - 1)\n",
        "\n",
        "    result = factorial(5)  # result will be 120\n",
        "    print(result)  # Output: 120\n",
        "\n",
        "- A recursive function calls itself within its own definition.\n",
        "- There must be a base case to stop the recurs"
      ],
      "metadata": {
        "id": "1gCu0pD_2Qxs"
      }
    },
    {
      "cell_type": "markdown",
      "source": [
        "4. What is the purpose of the `return` statement in a Python function ?\n",
        "\n",
        "\n",
        "- The return statement in Python serves two main purposes:\n",
        "\n",
        " - 1. Terminating Function Execution:\n",
        "\n",
        "  When a return statement is encountered within a function, the function's execution immediately stops, regardless of any remaining code within the function. This means the control flow returns to the point where the function was initially called.\n",
        "\n",
        " - 2. Returning a Value (Optional):\n",
        "\n",
        "  You can include a value or expression after the return keyword. This value is then sent back as the result of calling the function. If no value is specified, None is implicitly returned.\n",
        "\n",
        "Here's a breakdown:\n",
        "\n",
        "1. Basic return:\n",
        "\n",
        "def my_function():\n",
        "    print(\"This will be printed.\")\n",
        "    return  # Function ends here\n",
        "    print(\"This will NOT be printed.\")\n",
        "\n",
        "my_function() # Prints: \"This will be printed.\"\n",
        "\n",
        "2. return with a value:\n",
        "\n",
        "def add_numbers(a, b):\n",
        "    result = a + b\n",
        "    return result\n",
        "\n",
        "sum_result = add_numbers(5, 3)\n",
        "print(sum_result)  # Prints: 8\n",
        "\n",
        "\n",
        "\n",
        "Key takeaways:\n",
        "\n",
        "return ends the execution of a function.\n",
        "return can send data back to the place where the function was called.\n",
        "Without an explicit return, functions implicitly return None.\n",
        "\n",
        "\n",
        "\n",
        "\n"
      ],
      "metadata": {
        "id": "zAlv5O8X5M1H"
      }
    },
    {
      "cell_type": "markdown",
      "source": [
        "5.  What are iterators in Python and how do they differ from iterables?\n",
        "\n",
        " - Iterables\n",
        "\n",
        "In Python, an iterable is any object that can be looped over. This means you can step through its elements one by one.\n",
        "\n",
        " - Examples: Lists, tuples, strings, dictionaries, sets, and files are all iterables.\n",
        "\n",
        " - Mechanism: They implement the __iter__() method, which returns an iterator when called.\n",
        "\n",
        "    - Iterators:\n",
        "\n",
        "An iterator is an object that represents a stream of data. It keeps track of its current position within the iterable and provides a way to fetch the next element in the sequence.\n",
        "\n",
        " - Mechanism: Iterators implement two essential methods:\n",
        "\n",
        "__iter__(): Returns the iterator object itself (allowing it to be used in loops directly).\n",
        "__next__(): Returns the next item in the sequence. When there are no more items, it raises a StopIteration exception to signal the end of the iteration.\n",
        "\n",
        "\n",
        "\n",
        "In essence:\n",
        "\n",
        " - Iterables are objects you can loop through.\n",
        " - Iterators are the objects that handle the iteration process, remembering the position and giving you the next element when asked."
      ],
      "metadata": {
        "id": "idfqF7i_6H_N"
      }
    },
    {
      "cell_type": "markdown",
      "source": [
        "6. Explain the concept of generators in Python and how they are defined.?\n",
        "\n",
        " - Concept of Generators\n",
        "\n",
        "Generators are a special type of iterator in Python that produce a sequence of values on demand, one at a time, instead of storing the entire sequence in memory. This makes them memory-efficient, especially when dealing with large datasets. They are defined using functions but use the yield keyword instead of return to produce a series of values.\n",
        "\n",
        " -  How Generators Are Defined:\n",
        "\n",
        "Here's a breakdown of how generators are defined:\n",
        "\n",
        "  1.Function Definition:\n",
        "\n",
        " - Generators are defined using the standard function syntax with the def keyword.\n",
        " - The key difference is the presence of the yield keyword within the function body.\n",
        "\n",
        " 2.The yield Keyword:\n",
        "\n",
        " - Instead of return, generators use the yield keyword to return a value and pause execution.\n",
        " - When the generator is called again, it resumes execution from where it left off, remembering its previous state.\n",
        "\n",
        " 3.Creating a Generator Object:\n",
        "\n",
        " - Calling a generator function doesn't execute the function's code immediately.\n",
        " - Instead, it creates a generator object that can be iterated over.\n",
        "\n",
        "\n",
        "Benefits of Generators:\n",
        "\n",
        " - Memory Efficiency: Generators only produce values when needed, saving memory compared to storing an entire sequence.\n",
        "\n",
        " - Lazy Evaluation: Values are generated on demand, making them suitable for processing large datasets or infinite sequences.\n",
        "\n",
        " - Improved Readability: Generators can simplify code for iterating over complex sequences.\n",
        "\n",
        " - Pipeline Creation: Generators can be chained together to form efficient data processing pipelines."
      ],
      "metadata": {
        "id": "ZI99zmKu7Egd"
      }
    },
    {
      "cell_type": "markdown",
      "source": [
        " 7.What are the advantages of using generators over regular functions?\n",
        "\n",
        "\n",
        "\n",
        " 1. Memory Efficiency: This is a primary advantage, especially in Colab where memory is often a constraint.\n",
        "\n",
        "  - Regular Functions: Store the entire output sequence in memory before returning it. This can lead to memory issues with large datasets.\n",
        "  - Generators: Yield values one at a time, only when requested. They don't store the entire sequence, saving\n",
        "  - significant memory. This is known as \"lazy evaluation.\"\n",
        "\n",
        "2. Lazy Evaluation:\n",
        "\n",
        " - Regular Functions: Compute all values at once, even if you only need a few.\n",
        " - Generators: Compute and yield values on demand. This is efficient when you might not need to process all elements or when dealing with infinite sequences.\n",
        "\n",
        " 3. Improved Readability:\n",
        "\n",
        " - Regular Functions: Can become complex when handling iterations within the function.\n",
        " - Generators: Encapsulate the iteration logic, making the code cleaner and more readable.\n",
        "\n",
        "4. Pipeline Creation:\n",
        "\n",
        " - Regular Functions: Require intermediate storage for outputs when chaining multiple operations.\n",
        " - Generators: Can be chained together seamlessly, forming efficient data processing pipelines without the need for temporary storage.\n",
        "\n",
        " 5. Representing Infinite Sequences:\n",
        "\n",
        " - Regular Functions: Cannot represent infinite sequences as they would require infinite memory.\n",
        " - Generators: Can represent infinite sequences by dynamically generating the next element as needed.\n"
      ],
      "metadata": {
        "id": "TS9H92ZE8OAY"
      }
    },
    {
      "cell_type": "markdown",
      "source": [
        "8.What is a lambda function in Python and when is it typically used?\n",
        "\n",
        "\n",
        " - A lambda function is a small, anonymous function defined using the lambda keyword. It can have any number of arguments but can only have one expression. The expression is evaluated and returned when the function is called. Lambda functions are also known as anonymous functions because they don't have a name like regular functions defined with the def keyword.\n",
        "\n",
        "Here's the basic syntax of a lambda function:\n",
        "\n",
        "lambda arguments: expression\n",
        "\n",
        " - arguments: These are the input parameters to the function, similar to regular functions.\n",
        " - expression: This is a single expression that is evaluated and returned when the function is called.\n",
        "\n",
        "When is it typically used:\n",
        "\n",
        "Lambda functions are typically used in scenarios where you need a small, one-time-use function without formally defining it with def.\n",
        "\n",
        " Here are some common use cases:\n",
        "\n",
        " 1. Short and Simple Operations: Lambda functions are ideal for performing simple operations that can be expressed in a single line of code. For instance, you can use them to define simple mathematical calculations or string manipulations.\n",
        "\n",
        " 2. Higher-Order Functions: Lambda functions are often used as arguments to higher-order functions like map, filter, and reduce. These higher-order functions take other functions as input and apply them to iterables. Lambda functions provide a concise way to define these input functions on the fly.\n",
        "\n",
        " 3. Callbacks: Lambda functions can be used as callback functions, which are functions that are executed when a specific event occurs. For example, in GUI programming, you might use a lambda function as a callback for a button click event.\n",
        "\n",
        "4. Creating Closures: Lambda functions can be used to create closures, which are functions that remember the values of variables from their enclosing scope, even after the outer function has finished executing."
      ],
      "metadata": {
        "id": "f9X5LLiB-FH6"
      }
    },
    {
      "cell_type": "markdown",
      "source": [
        "9.  Explain the purpose and usage of the `map()` function in Python?\n",
        "\n",
        "\n",
        " -Purpose:\n",
        "\n",
        "The map() function applies a given function to each item of an iterable (like a list, tuple, or string) and returns an iterator containing the results. Essentially, it's a way to process and transform a sequence of data using a function.\n",
        "\n",
        "Usage:\n",
        "\n",
        "map(function, iterable, [iterable2, iterable3,...])\n",
        "\n",
        " - function: The function to apply to each item of the iterable.\n",
        "\n",
        " - iterable: The iterable (e.g., list, tuple, string) whose elements you want to process.\n",
        "\n",
        "  -[iterable2, iterable3,...]: Optional. If you provide multiple iterables, the function must take that many arguments, and it's applied to items from all iterables in parallel\n",
        "\n",
        "Benefits of using map():\n",
        "\n",
        " - Concise: It provides a compact way to apply a function to a sequence of data.\n",
        "\n",
        " - Efficient: It's often faster than writing a loop to achieve the same result.\n",
        "\n",
        " - Functional: It promotes a functional programming style, making your code more readable and maintainable.\n",
        "\n",
        "\n",
        "When to use it:\n",
        "\n",
        "Consider using map() when you need to apply the same transformation to every element in an iterable. It's especially useful when dealing with collections of data and can be integrated into other functional programming constructs like lambda functions and list comprehensions for even greater flexibility."
      ],
      "metadata": {
        "id": "tw3byeZv_Wjl"
      }
    },
    {
      "cell_type": "markdown",
      "source": [
        "10.What is the difference between `map()`, `reduce()`, and `filter()` functions in python?\n",
        "\n",
        "\n",
        "- The differences between map(), reduce(), and filter() in Python, along with examples to illustrate their usage:\n",
        "\n",
        "1. map()\n",
        "\n",
        " - Purpose: Applies a given function to each item of an iterable (e.g., list, tuple) and returns an iterator containing the results.\n",
        "\n",
        "   - Example:\n",
        "    numbers = [1, 2, 3, 4, 5]\n",
        "   squared_numbers = map(lambda x: x**2, numbers)  # Applying a lambda function to square each number\n",
        "   #To see the output, run the code.\n",
        "   #Output: squared_numbers will be an iterator containing [1, 4, 9, 16, 25]\n",
        "\n",
        "2. reduce()\n",
        "\n",
        " - Purpose: Applies a function cumulatively to the items of an iterable, reducing them to a single value. It's part of the functools module in Python 3.\n",
        "\n",
        " - Example:\n",
        "from functools import reduce\n",
        "   numbers = [1, 2, 3, 4, 5]\n",
        "   product = reduce(lambda x, y: x * y, numbers)  # Calculating the product of all numbers\n",
        "  #To see the output, run the code.\n",
        "  #Output: product will be 120\n",
        "\n",
        "3. filter()\n",
        "\n",
        " - Purpose: Filters elements from an iterable based on a given function. It returns an iterator containing only the elements for which the function returns True.\n",
        "\n",
        " - Example:\n",
        "numbers = [1, 2, 3, 4, 5]\n",
        "   even_numbers = filter(lambda x: x % 2 == 0, numbers)  # Filtering even numbers\n",
        "   #To see the output, run the code.\n",
        "   #Output:even_numbers will be an iterator containing [2, 4]\n"
      ],
      "metadata": {
        "id": "Z1URaAicAlps"
      }
    },
    {
      "cell_type": "markdown",
      "source": [
        "11. using pen & paper write the internal mechanism for sum operation using reduce function on this give list:[47,11,42,13];"
      ],
      "metadata": {
        "id": "nLiRcHW4CE-B"
      }
    },
    {
      "cell_type": "markdown",
      "source": [
        "![WhatsApp Image 2025-05-14 at 2.28.40 PM.jpeg](data:image/jpeg;base64,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)\n",
        "\n",
        "\n",
        "\n"
      ],
      "metadata": {
        "id": "Ny5cO4PNmnht"
      }
    },
    {
      "cell_type": "markdown",
      "source": [
        "# Practical questions:\n"
      ],
      "metadata": {
        "id": "suLFjPWJnQQJ"
      }
    },
    {
      "cell_type": "code",
      "source": [
        "\n",
        "# 1. Write a Python function that takes a list of numbers as input and returns the sum of all even numbers in the list?\n",
        "\n",
        "\n",
        "list_numbers = [1,2,3,4,5,6,7,8,9,20,10,30]\n",
        "\n",
        "def even_numbers(numbers):\n",
        "  even_nums = []\n",
        "  for num in numbers:\n",
        "    if num % 2 == 0:\n",
        "      even_nums.append(num)\n",
        "  return even_nums\n",
        "\n",
        "print(even_numbers(list_numbers))"
      ],
      "metadata": {
        "colab": {
          "base_uri": "https://localhost:8080/"
        },
        "id": "uDLWGfVY6juX",
        "outputId": "51ca5869-39e1-4fcd-aae5-b662476f3f07"
      },
      "execution_count": null,
      "outputs": [
        {
          "output_type": "stream",
          "name": "stdout",
          "text": [
            "[2, 4, 6, 8, 20, 10, 30]\n"
          ]
        }
      ]
    },
    {
      "source": [
        "# 2.Create a Python function that accepts a string and returns the reverse of that string?\n",
        "\n",
        "def reverse_string(input_string):\n",
        "  return input_string[::-1]\n",
        "\n",
        "string_to_reverse = \"hello\"\n",
        "reversed_string = reverse_string(string_to_reverse)\n",
        "print(reversed_string)"
      ],
      "cell_type": "code",
      "metadata": {
        "colab": {
          "base_uri": "https://localhost:8080/"
        },
        "id": "rGHL3nMGFgM9",
        "outputId": "13031701-a64f-44b2-de87-ff9f512d11ce"
      },
      "execution_count": null,
      "outputs": [
        {
          "output_type": "stream",
          "name": "stdout",
          "text": [
            "olleh\n"
          ]
        }
      ]
    },
    {
      "cell_type": "code",
      "source": [
        "# 3.  Implement a Python function that takes a list of integers and returns a new list containing the squares of each number?\n",
        "\n",
        "def square_numbers(numbers):\n",
        "\n",
        "  squared_numbers = []\n",
        "  for number in numbers:\n",
        "    squared_numbers.append(number**2)\n",
        "  return squared_numbers\n",
        "\n",
        "numbers = [1, 2, 3, 4, 5]\n",
        "squared_list = square_numbers(numbers)\n",
        "print(squared_list)\n",
        "\n"
      ],
      "metadata": {
        "colab": {
          "base_uri": "https://localhost:8080/"
        },
        "id": "xo2e2vJAF6WN",
        "outputId": "9d48f702-47c0-4783-d726-8bf1089c545b"
      },
      "execution_count": null,
      "outputs": [
        {
          "output_type": "stream",
          "name": "stdout",
          "text": [
            "[1, 4, 9, 16, 25]\n"
          ]
        }
      ]
    },
    {
      "cell_type": "code",
      "source": [
        "# 4.Write a Python function that checks if a given number is prime or not from 1 to 200\n",
        "\n",
        "def is_prime(number):\n",
        "\n",
        "  if number <= 1:\n",
        "    return False\n",
        "\n",
        "  for i in range(2, int(number**0.5) + 1):\n",
        "    if number % i == 0:\n",
        "      return False\n",
        "\n",
        "  return True\n",
        "\n",
        "for num in range(1, 201):\n",
        "  if is_prime(num):\n",
        "    print(num, \"is prime\")\n"
      ],
      "metadata": {
        "colab": {
          "base_uri": "https://localhost:8080/"
        },
        "id": "9Zgvu20RGsIg",
        "outputId": "38c1a9c2-aa3c-4eee-cf40-8d9bb76c7c8b"
      },
      "execution_count": null,
      "outputs": [
        {
          "output_type": "stream",
          "name": "stdout",
          "text": [
            "2 is prime\n",
            "3 is prime\n",
            "5 is prime\n",
            "7 is prime\n",
            "11 is prime\n",
            "13 is prime\n",
            "17 is prime\n",
            "19 is prime\n",
            "23 is prime\n",
            "29 is prime\n",
            "31 is prime\n",
            "37 is prime\n",
            "41 is prime\n",
            "43 is prime\n",
            "47 is prime\n",
            "53 is prime\n",
            "59 is prime\n",
            "61 is prime\n",
            "67 is prime\n",
            "71 is prime\n",
            "73 is prime\n",
            "79 is prime\n",
            "83 is prime\n",
            "89 is prime\n",
            "97 is prime\n",
            "101 is prime\n",
            "103 is prime\n",
            "107 is prime\n",
            "109 is prime\n",
            "113 is prime\n",
            "127 is prime\n",
            "131 is prime\n",
            "137 is prime\n",
            "139 is prime\n",
            "149 is prime\n",
            "151 is prime\n",
            "157 is prime\n",
            "163 is prime\n",
            "167 is prime\n",
            "173 is prime\n",
            "179 is prime\n",
            "181 is prime\n",
            "191 is prime\n",
            "193 is prime\n",
            "197 is prime\n",
            "199 is prime\n"
          ]
        }
      ]
    },
    {
      "cell_type": "code",
      "source": [
        "# 5.  Create an iterator class in Python that generates the Fibonacci sequence up to a specified number of terms?\n",
        "\n",
        "class FibonacciIterator:\n",
        "    def __init__(self, max_terms):\n",
        "        self.max_terms = max_terms\n",
        "        self.current_term = 0\n",
        "        self.a = 0\n",
        "        self.b = 1\n",
        "\n",
        "    def __iter__(self):\n",
        "        return self\n",
        "\n",
        "    def __next__(self):\n",
        "        if self.current_term < self.max_terms:\n",
        "            result = self.a\n",
        "            self.a, self.b = self.b, self.a + self.b\n",
        "            self.current_term += 1\n",
        "            return result\n",
        "        else:\n",
        "            raise StopIteration\n",
        "\n",
        "fib_iter = FibonacciIterator(10)\n",
        "\n",
        "for num in fib_iter:\n",
        "    print(num)\n",
        "\n"
      ],
      "metadata": {
        "colab": {
          "base_uri": "https://localhost:8080/"
        },
        "id": "QWmONusQHOTj",
        "outputId": "d9aa8eec-9daf-4c59-ef83-413fb54f4694"
      },
      "execution_count": null,
      "outputs": [
        {
          "output_type": "stream",
          "name": "stdout",
          "text": [
            "0\n",
            "1\n",
            "1\n",
            "2\n",
            "3\n",
            "5\n",
            "8\n",
            "13\n",
            "21\n",
            "34\n"
          ]
        }
      ]
    },
    {
      "source": [
        "# 6.Write a generator function in Python that yields the powers of 2 up to a given exponent\n",
        "\n",
        "def powers_of_2(exponent):\n",
        "\n",
        "  for i in range(exponent + 1):\n",
        "    yield 2**i\n",
        "\n",
        "\n",
        "for power in powers_of_2(5):\n",
        "  print(power)"
      ],
      "cell_type": "code",
      "metadata": {
        "colab": {
          "base_uri": "https://localhost:8080/"
        },
        "id": "Ue4rM7gOIaqO",
        "outputId": "ed6e1a9f-7b43-4428-e908-ae7e15f2929b"
      },
      "execution_count": null,
      "outputs": [
        {
          "output_type": "stream",
          "name": "stdout",
          "text": [
            "1\n",
            "2\n",
            "4\n",
            "8\n",
            "16\n",
            "32\n"
          ]
        }
      ]
    },
    {
      "cell_type": "code",
      "source": [
        "# 7.Implement a generator function that reads a file line by line and yields each line as a string?\n",
        "\n",
        "def  read_file_by_line(filepath):\n",
        "\n",
        "    try:\n",
        "        with open(filepath, 'r') as file:\n",
        "            for line in file:\n",
        "                yield line.rstrip('\\n')\n",
        "    except FileNotFoundError:\n",
        "        yield f\"File not found: {filepath}\"\n",
        "    except Exception as e:\n",
        "        yield f\"An error occurred: {e}\"\n",
        "\n",
        "filepath = \"my_file.txt\"\n",
        "\n",
        "\n",
        "with open(filepath, 'w') as f:\n",
        "    f.write(\"This is line 1.\\n\")\n",
        "    f.write(\"This is line 2.\\n\")\n",
        "    f.write(\"This is line 3.\\n\")\n",
        "\n",
        "for line in read_file_by_line(filepath):\n",
        "    print(line)\n"
      ],
      "metadata": {
        "colab": {
          "base_uri": "https://localhost:8080/"
        },
        "id": "gvwm-lOlIzLN",
        "outputId": "359b7fdc-3247-4921-e82e-67d55c9e53f1"
      },
      "execution_count": null,
      "outputs": [
        {
          "output_type": "stream",
          "name": "stdout",
          "text": [
            "This is line 1.\n",
            "This is line 2.\n",
            "This is line 3.\n"
          ]
        }
      ]
    },
    {
      "cell_type": "code",
      "source": [
        "# 8. Use a lambda function in Python to sort a list of tuples based on the second element of each tuple?\n",
        "\n",
        "def sort_tuples_by_second_element(list_of_tuples):\n",
        "\n",
        "  return sorted(list_of_tuples, key=lambda x: x[1])\n",
        "\n",
        "\n",
        "my_list = [(1, 'z'), (2, 'a'), (3, 'b')]\n",
        "sorted_list = sort_tuples_by_second_element(my_list)\n",
        "print(sorted_list)\n",
        "\n",
        "\n",
        "\n"
      ],
      "metadata": {
        "colab": {
          "base_uri": "https://localhost:8080/"
        },
        "id": "il5bmxMCMxBO",
        "outputId": "9d409b84-fa47-4255-bfc3-c9f02b459239"
      },
      "execution_count": null,
      "outputs": [
        {
          "output_type": "stream",
          "name": "stdout",
          "text": [
            "[(2, 'a'), (3, 'b'), (1, 'z')]\n"
          ]
        }
      ]
    },
    {
      "cell_type": "code",
      "source": [
        "# 9.Write a Python program that uses `map()` to convert a list of temperatures from Celsius to Fahrenheit.?\n",
        "\n",
        "\n",
        "\n",
        "def celsius_to_fahrenheit(celsius):\n",
        "\n",
        "    return (celsius * 9/5) + 32\n",
        "\n",
        "celsius_temps = [0, 10, 20, 30, 40]\n",
        "fahrenheit_temps = list(map(celsius_to_fahrenheit, celsius_temps))\n",
        "\n",
        "print(\"Celsius Temperatures:\", celsius_temps)\n",
        "print(\"Fahrenheit Temperatures:\", fahrenheit_temps)\n"
      ],
      "metadata": {
        "id": "ZRi4x8HlNtF3",
        "colab": {
          "base_uri": "https://localhost:8080/"
        },
        "outputId": "1411ac82-ff17-4892-c8e3-ebc16bc4a962"
      },
      "execution_count": null,
      "outputs": [
        {
          "output_type": "stream",
          "name": "stdout",
          "text": [
            "Celsius Temperatures: [0, 10, 20, 30, 40]\n",
            "Fahrenheit Temperatures: [32.0, 50.0, 68.0, 86.0, 104.0]\n"
          ]
        }
      ]
    },
    {
      "cell_type": "code",
      "source": [
        "# 10. Create a Python program that uses `filter()` to remove all the vowels from a given string?\n",
        "\n",
        "string = \" I am a student of pwskills\"\n",
        "\n",
        "vowels = ['a', 'e', 'i', 'o', 'u', 'A', 'E', 'I', 'O', 'U']\n",
        "result = \"\"\n",
        "\n",
        "for i in range(len(string)):\n",
        "    if string[i] not in vowels:\n",
        "        result = result + string[i]\n",
        "\n",
        "print(\"\\nAfter removing Vowels: \", result)\n",
        "\n"
      ],
      "metadata": {
        "colab": {
          "base_uri": "https://localhost:8080/"
        },
        "id": "Zuw7Gm9bUGBk",
        "outputId": "b49bcc32-6fed-4bfb-884e-e40b08dcf971"
      },
      "execution_count": null,
      "outputs": [
        {
          "output_type": "stream",
          "name": "stdout",
          "text": [
            "\n",
            "After removing Vowels:    m  stdnt f pwsklls\n"
          ]
        }
      ]
    },
    {
      "cell_type": "code",
      "source": [
        "# 11.Imagine an accounting routine used in a book shop. It works on a list with sublists, which look like this?\n",
        "\n",
        "# Order Number      Book title and author                     Quantity        Peice Per Item\n",
        "\n",
        "  # 34587             Learning python, Mark Lutz                  4            40.95\n",
        "  # 98762             Programming python, Mark Lutz               5            56.80\n",
        "  # 77226              Head first python, Paul Barry              3            32.95\n",
        "  # 88112              Einfuhrung in python3, Bernd Klein         3            24.99\n",
        "\n",
        "#Write a Python program, which returns a list with 2-tuples. Each tuple consists of the order number and the\n",
        "# product of the price per item and the quantity. The product should be increased by 10,- € if the value of the\n",
        "# order is smaller than 100,00 €.\n",
        "#Write a Python program using lambda and map\n",
        "\n",
        "\n",
        "\n",
        "orders = [\n",
        "    [\"34587\", \"Learning Python, Mark Lutz\", 4, 40.95],\n",
        "    [\"98762\", \"Programming Python, Mark Lutz\", 5, 56.80],\n",
        "    [\"77226\", \"Head First Python, Paul Barry\", 3, 32.95],\n",
        "    [\"88112\", \"Einfuhrung in python, Bernd klein\", 3, 24.99]\n",
        "]\n",
        "\n",
        "result = list(map(lambda x: (x[0], x[2] * x[3] + 10 if x[2] * x[3] < 100 else x[2] * x[3]), orders))\n",
        "\n",
        "print(result)\n",
        "\n",
        "\n",
        "\n",
        "\n",
        "\n"
      ],
      "metadata": {
        "id": "Hjl_8CJyUy_q",
        "colab": {
          "base_uri": "https://localhost:8080/"
        },
        "outputId": "404b866e-61e4-43e3-d8cb-4767f7ec8119"
      },
      "execution_count": null,
      "outputs": [
        {
          "output_type": "stream",
          "name": "stdout",
          "text": [
            "[('34587', 163.8), ('98762', 284.0), ('77226', 108.85000000000001), ('88112', 84.97)]\n"
          ]
        }
      ]
    }
  ]
}