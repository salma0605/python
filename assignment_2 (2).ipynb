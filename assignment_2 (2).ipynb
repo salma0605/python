{
  "nbformat": 4,
  "nbformat_minor": 0,
  "metadata": {
    "colab": {
      "provenance": []
    },
    "kernelspec": {
      "name": "python3",
      "display_name": "Python 3"
    },
    "language_info": {
      "name": "python"
    }
  },
  "cells": [
    {
      "cell_type": "markdown",
      "source": [
        "# # Data types and structures Questions\n"
      ],
      "metadata": {
        "id": "BNQO6w1wHA8X"
      }
    },
    {
      "cell_type": "markdown",
      "source": [
        "1. what are data structures , and why are they important?\n",
        "- A Data structure is a specialized way to organize and store data in a computer so that it can used efficiently.This arrangement makes it easier to perform certain operations on the data, like searching, sorting, or accessing specific elements. They are some common Data structures in python List,Tuples,Dictionaries,Sets,Arrays(using numPy)\n",
        "\n",
        "Data structure Importantace:\n",
        "\n",
        "*.Efficiency\n",
        "\n",
        "*.Organization\n",
        "\n",
        "*.Problem solving\n",
        "\n"
      ],
      "metadata": {
        "id": "fxIph-LqHTts"
      }
    },
    {
      "cell_type": "markdown",
      "source": [
        "2. Explain the difference between mutable and immutable data types with examples?\n",
        "\n",
        "-  The diffrence between mutable and immutable data types in python\n",
        "\n",
        "Mutable Data types:Mutable data types are thouse whouse values can be changed after they are created.This means you can modify the internal state of the object without creating a new one.\n",
        "\n",
        "Examples:\n",
        "\n",
        "1.List: we ccan add, remove, or change elements in a liast after it's creation.\n",
        "\n",
        "2.Dictionaries:We can add,remove, or update key-value pairs in a dictionary.\n",
        "\n",
        "3.Sets:we can add, remove elements fromm a set.\n",
        "\n",
        "\n",
        "Immutable Data types:Immutable data types are thouse whose value cannot be changes after they are created. IF you try to modify an immutable object,a new object is created with the modified value.\n",
        "\n",
        "Examples:\n",
        "\n",
        "1.Integers:We cannot change the value of an integer once it's assigned.\n",
        "\n",
        "2.Floats:simmiar to intergers, floats are immutable.\n",
        "\n",
        "3.Strings:We cannot modify individual characters in a string.\n",
        "\n",
        "4.Tuples:similar to strings,tuples are immutable sequences.\n",
        "\n",
        "\n"
      ],
      "metadata": {
        "id": "6wlnasn-Mkd3"
      }
    },
    {
      "cell_type": "markdown",
      "source": [
        "3. what are the main difference between list and tuples?\n",
        "\n",
        "- 1. Lists: A List is an ordered, mutuable collection of items.\n",
        "\n",
        "\n",
        " - Mutuble: Lists are mutable, meaning you can change their contents(add, remove, or modify elements) after they are created.\n",
        "\n",
        "\n",
        " - Defined with square brackets: my_lsit=[1,2,3]\n",
        "\n",
        "\n",
        " - Methods for modification: Lists have methods like append(), insert(), remove(), and others to change their elements.\n",
        "\n",
        "\n",
        "2. Tuples: A Tuple is an ordered, immutable collecction of items.\n",
        "\n",
        "\n",
        " - Immutable: Tuples are immutable, meaning their elements cannot be changed after creation.\n",
        "\n",
        "\n",
        " - Defined with parantheses: my_tuple=(1,2,3)\n",
        "\n",
        "\n",
        "no methods for modification: Tuples lack methods to add, remove or change elements."
      ],
      "metadata": {
        "id": "GIthZi3Wfj6w"
      }
    },
    {
      "cell_type": "markdown",
      "source": [
        "4. Describe how dictionaries store data?\n",
        "- Dectionary store data as key-value pairs. Each key is unique and immutable , while the corresponding value can be of any data type.\n",
        "\n",
        " - Internal structure: python dictionaries are implemented as hash tables. This means that when you store a key-value is hashed to generate a unique index.  \n",
        " The value is stored at the index corresponding to the key's hash. To get a value, the key is hashed again to find the index, and the value is retrived from that location.\n"
      ],
      "metadata": {
        "id": "AXXljGCvj8Ge"
      }
    },
    {
      "cell_type": "markdown",
      "source": [
        "5.  why might you use a set instead of a list in python?\n",
        "\n",
        "- Using a set inside a list  in python is benefical when the need arises to maintain a collection of unique elements  while also preseving the order of insertion or allowing for duplicates at the list level.Set, by their nature, enforce uniqueness among their elements,which can be advantageous for filtering or managing distinct values.\n",
        "\n",
        "\n",
        " Combining sets within  a list provides a structure  where each set within the list contains only unique elements,but the list itself can contain multiple sets,potentially with overlapping or distinct elements.\n",
        "\n",
        "\n",
        "This approach allows for easy access to the unique element to each source while preserving the order of processing.\n",
        "\n"
      ],
      "metadata": {
        "id": "vgpsGil-l6H7"
      }
    },
    {
      "cell_type": "markdown",
      "source": [
        "6. What is a string in python,and how is it different from list?\n",
        "\n",
        "- 1. String\n",
        "\n",
        "In Python, a string is a sequence of characters. It is an immutable data type, meaning that once a string is created, it cannot be changed. Strings are typically used to represent text. They are enclosed in single quotes ('...') or double quotes (\"...\").\n",
        "\n",
        "\n",
        "  2. List\n",
        "\n",
        "A list is a mutable, ordered sequence of items. Lists can contain items of different data types, including numbers, strings, and even other lists. Lists are enclosed in square brackets ([...]).\n",
        "\n",
        "\n",
        "\n"
      ],
      "metadata": {
        "id": "ZT_nPxlsqO_n"
      }
    },
    {
      "cell_type": "markdown",
      "source": [
        "7. How do tuples ensure data integrity in python?\n",
        "\n",
        "\n",
        "-\n",
        "\n",
        "Tuples: Tuples are immutable, which means their elements cannot be changed after creation. This is the key to their role in data integrity.\n",
        "\n",
        "\n",
        "How it Works: Once a tuple is defined, you can't add, remove, or modify its elements. Any attempt to do so will result in an error.\n",
        "\n",
        "\n",
        "\n",
        "\n",
        "\n",
        "\n",
        "\n",
        "Use Cases for Data Integrity with Tuples\n",
        "\n",
        " - Protecting Sensitive Information: If you have data that should not be altered, like configuration settings or constants, storing it in a tuple ensures it remains untouched.\n",
        "\n",
        "\n",
        " - Data Integrity in Function Arguments: When passing data to functions, using tuples can prevent unexpected modifications within the function, ensuring the original data stays intact.\n",
        "\n",
        "\n",
        " - Dictionaries: Tuples are frequently used as keys in dictionaries because keys must be immutable to maintain the integrity of the dictionary's structure."
      ],
      "metadata": {
        "id": "WI_hz91tsBKw"
      }
    },
    {
      "cell_type": "markdown",
      "source": [
        "8. What is a  hash table,and how does it related to dictionaries in python?\n",
        "\n",
        "\n",
        "\n",
        "-\n",
        "\n",
        "A hash table is a data structure that stores data in key-value pairs. It uses a hash function to compute an index into an array of slots, from which the desired value can be fetched.\n",
        "\n",
        "How it works:\n",
        "\n",
        "\n",
        "\n",
        "\n",
        "\n",
        " - Hash Function: When you insert a key-value pair into a hash table, a hash function is applied to the key. This function generates a unique index (hash code) for the key.\n",
        "\n",
        "\n",
        " - Storing the Value: The hash code is used to determine the position (slot or bucket) in the hash table where the value will be stored.\n",
        "\n",
        "\n",
        " - Retrieving the Value: To retrieve a value, you provide the key again. The same hash function is applied to the key to generate the index, and the value is retrieved from the corresponding slot in the hash table.\n",
        "\n",
        "\n",
        "\n",
        "\n",
        "\n",
        "\n",
        "Relationship with Dictionaries in Python:\n",
        "\n",
        " - In Python, dictionaries are implemented using hash tables. This means that when you store a key-value pair in a dictionary, Python uses a hash function to calculate the position where the value will be stored in the underlying hash table.\n",
        "\n",
        "\n",
        "\n",
        "Benefits of using hash tables for dictionaries\n",
        "\n",
        " - Fast Lookups: Hash tables provide constant-time average complexity for key lookups, insertions, and deletions.\n",
        "\n",
        "\n",
        " -  Efficient Storage: Hash tables can store a large number of key-value pairs without significant performance degradation."
      ],
      "metadata": {
        "id": "SYKSBcb2tNyS"
      }
    },
    {
      "cell_type": "markdown",
      "source": [
        "9.Can lists contain different data types in Python ?\n",
        "\n",
        "\n",
        "-lists in Python can contain different data types.\n",
        "\n",
        " - Flexibility of Lists\n",
        "\n",
        "Lists in Python are very versatile and can store a mix of data types within the same list. This includes:\n",
        "\n",
        " - Numbers (integers, floats)\n",
        " - Strings\n",
        " - Booleans\n",
        " - Other lists (nested lists)\n",
        " - Tuples\n",
        " - Dictionaries\n",
        " - And more\n",
        "\n",
        "\n",
        "Reasoning\n",
        "\n",
        " - Python's dynamic typing system allows for this flexibility. It doesn't require you to declare the data type of a variable beforehand, so you can store different types of data within the same list without any issues.\n",
        "\n",
        " - This feature is particularly helpful when dealing with real-world data, which often comes in a variety of formats. It makes Python lists a powerful tool for data analysis and manipulation.\n",
        "\n",
        "\n",
        "\n"
      ],
      "metadata": {
        "id": "EBAArYikuq6X"
      }
    },
    {
      "cell_type": "markdown",
      "source": [
        "10. Explain why strings are immutable in Python ?\n",
        "\n",
        "\n",
        "\n",
        "  -Immutability of Strings in Python\n",
        "\n",
        "In Python, strings are immutable, meaning their contents cannot be changed after they are created. This is a fundamental characteristic of strings in the language.\n",
        "\n",
        "Reasons for Immutability:\n",
        "\n",
        " - Performance: Immutability allows for various performance optimizations. For example, since strings cannot be changed, Python can store them more efficiently in memory. This also makes operations like string comparison faster.\n",
        "\n",
        "\n",
        " - Security: Immutable objects are generally considered more secure because they cannot be modified unexpectedly. This is particularly important in multi-threaded environments where multiple parts of a program might access the same string. If strings were mutable, one thread could change the string, potentially causing unexpected behavior in other threads.\n",
        "\n",
        "\n",
        " - Hashing: Strings are often used as keys in dictionaries, and immutability is a requirement for dictionary keys. Dictionary keys need to be hashable, which means they have a fixed hash value. If strings were mutable, their hash value could change, breaking the dictionary's internal structure.\n",
        "\n",
        "\n",
        " - Sharing: Immutable strings can be shared safely between different parts of a program without the risk of one part modifying the string and affecting the other parts. This can save memory and improve performance.\n",
        "\n",
        "\n",
        "Example\n",
        "\n",
        "If you try to change a character in a string, Python will create a new string with the modification instead of changing the original string.\n",
        "\n",
        "\n",
        "\n"
      ],
      "metadata": {
        "id": "4zEJaoKGwQFf"
      }
    },
    {
      "cell_type": "markdown",
      "source": [
        "11. What advantages do dictionaries offer over lists for certain tasks?\n",
        "\n",
        "\n",
        "- 1. Dictionaries:\n",
        "\n",
        " - Key-based access: Dictionaries allow you to access elements using meaningful keys (e.g., names, IDs) instead of numerical indices. This makes data retrieval more intuitive and efficient.\n",
        "\n",
        "\n",
        "\n",
        " - Fast lookups: Dictionaries use a hash table implementation, providing fast lookups (average time complexity of O(1)). This means that retrieving a value based on its key is very quick, regardless of the dictionary's size.\n",
        "\n",
        "\n",
        "\n",
        " - Data organization: Dictionaries excel at representing structured data where each piece of information has a descriptive label (key). This makes your code more readable and easier to understand.\n",
        "\n",
        "\n",
        "\n",
        " - Flexibility: Keys in dictionaries can be of different immutable data types (e.g., strings, numbers, tuples), allowing for more flexible data representation.\n",
        "Membership testing: Checking if a key exists in a dictionary is also very efficient (average time complexity of O(1)).\n",
        "\n",
        "\n",
        " 2. Lists:\n",
        "\n",
        " - Ordered collection: Lists maintain the order of elements as they are inserted.\n",
        "\n",
        "\n",
        " - Sequential access: Elements in lists are accessed using their numerical index (starting from 0), suitable for sequential processing.\n",
        "\n",
        "\n",
        " - Duplicate values: Lists can store duplicate elements.\n",
        "\n",
        "\n",
        "When to use dictionaries vs. lists\n",
        "\n",
        "\n",
        "\n",
        "Use dictionaries when:\n",
        "\n",
        " - You need to store data with descriptive labels (keys).\n",
        " - You need fast lookups and membership testing based on keys.\n",
        " - You want to represent structured data.\n",
        "\n",
        "\n",
        "\n",
        "Use lists when:\n",
        "\n",
        " - You need to maintain the order of elements.\n",
        " - You need to store a collection of items where order matters.\n",
        " - You need to allow for duplicate values."
      ],
      "metadata": {
        "id": "lrfnYJodyFyI"
      }
    },
    {
      "cell_type": "markdown",
      "source": [
        "12. Describe a scenario where using a tuple would be preferable over a list?\n",
        "\n",
        "  -Scenario: Representing Coordinates\n",
        "\n",
        "Imagine you need to store the coordinates of a point in 2D space. A tuple would be a great choice for this because:\n",
        "\n",
        " - Immutability: Coordinates are often fixed values and should not be accidentally modified. Tuples, being immutable, provide this inherent protection against unintended changes.\n",
        "\n",
        " - Data Integrity: Tuples ensure that the coordinates remain consistent and unchanged throughout the program's execution. This is crucial for maintaining the accuracy and reliability of calculations or operations involving the coordinates.\n",
        "\n",
        " - Semantic Clarity: Using a tuple clearly conveys the intent that the data represents a single, fixed entity (a point in this case). This improves code readability and understanding.\n",
        "\n",
        "Other Scenarios\n",
        "\n",
        "Besides coordinates, tuples are also preferred in cases where:\n",
        "\n",
        " - You want to represent a fixed collection of items, like configuration settings or constants.\n",
        " - You need to use the data as a dictionary key (keys must be immutable).\n",
        " - You want to ensure that the data remains unchanged when passed to functions or other parts of the program."
      ],
      "metadata": {
        "id": "LUkGLlKGzVek"
      }
    },
    {
      "cell_type": "markdown",
      "source": [
        "13. How do sets handle duplicate values in Python?\n",
        "\n",
        "-Sets and Uniqueness\n",
        "\n",
        " - In Python, sets are unordered collections of unique elements. This means that sets automatically handle duplicate values by ensuring that only one instance of each element is stored.\n",
        "\n",
        "\n",
        "\n",
        "How Sets Remove Duplicates:\n",
        "\n",
        " - When you create a set or add elements to an existing set, Python uses a hashing mechanism to check for duplicates. If a duplicate element is encountered, it is simply ignored, and only the unique elements are retained within the set.\n",
        "\n",
        "\n",
        "\n",
        "Benefits of Set's Duplicate Handling:\n",
        "\n",
        "This automatic duplicate removal offers several advantages:\n",
        "\n",
        " - Ensuring Uniqueness: Sets guarantee that all elements are unique, making them useful for tasks where uniqueness is important, such as removing duplicates from a list.\n",
        "\n",
        " - Membership Testing: Sets provide efficient membership testing using the in operator, allowing you to quickly check if an element exists in the set.\n",
        "\n",
        " - Mathematical Operations: Sets support mathematical operations like union, intersection, and difference, which can be useful for various data analysis tasks.\n",
        "\n",
        "Use Cases\n",
        "\n",
        "Here are some scenarios where sets are particularly helpful due to their duplicate handling:\n",
        "\n",
        " - Removing duplicates from a list.\n",
        " - Checking for the presence of an element in a collection.\n",
        " - Performing mathematical set operations on data.\n",
        "\n",
        "\n"
      ],
      "metadata": {
        "id": "_87hkN6z0jls"
      }
    },
    {
      "cell_type": "markdown",
      "source": [
        "14.How does the “in” keyword work differently for lists and dictionaries?\n",
        "\n",
        "- 1. Lists:\n",
        "\n",
        " - Linear Search: When used with lists, the in keyword performs a linear search. It iterates through each element of the list and checks if it matches the specified value.\n",
        "\n",
        "\n",
        "\n",
        "\n",
        " - Time Complexity: The time complexity of using in with lists is O(n), where n is the number of elements in the list. This means that the search time increases linearly with the size of the list.\n",
        "\n",
        " 2. Dictionaries:\n",
        "\n",
        " - Hash Table Lookup: When used with dictionaries, the in keyword checks if the specified value is present as a key in the dictionary. This is done using a hash table lookup, which is very efficient.\n",
        "\n",
        "\n",
        " - Time Complexity: The time complexity of using in with dictionaries is O(1) on average. This means that the lookup time remains relatively constant regardless of the size of the dictionary.\n",
        "\n",
        "\n",
        "\n",
        "Key Difference:\n",
        "\n",
        " - The key difference is that in with lists checks for the presence of a value within the list's elements, while in with dictionaries checks for the presence of a key within the dictionary's key"
      ],
      "metadata": {
        "id": "ch5l7ffw1x2L"
      }
    },
    {
      "cell_type": "markdown",
      "source": [
        "15. Can you modify the elements of a tuple? Explain why or why not?\n",
        "\n",
        " - Here's an explanation of why you can't modify the elements of a tuple in Python:\n",
        "\n",
        "Tuples are immutable\n",
        "\n",
        " - This means that once a tuple is created, its elements cannot be changed. You can't add, remove, or modify the elements within the tuple.\n",
        "\n",
        "\n",
        "Reason for immutability\n",
        "\n",
        " - Immutability is a core characteristic of tuples that provides several benefits, including:\n",
        "\n",
        " - Data integrity: Tuples ensure that the data they contain remains unchanged, protecting it from accidental or unintended modifications.\n",
        "\n",
        "\n",
        " - Performance: Immutability allows for various performance optimizations, as Python can store tuples more efficiently in memory.\n",
        "\n",
        " - Hashing: Tuples can be used as keys in dictionaries because they are immutable and hashable (meaning they have a fixed hash value). Dictionary keys need to be immutable to maintain the integrity of the dictionary's structure.\n",
        "\n",
        "\n",
        "\n",
        "What if you need to modify data:\n",
        "\n",
        " - If you need to modify data, you should use a list instead of a tuple. Lists are mutable, so you can freely change their elements. You can convert a tuple to a list, make the necessary modifications, and then convert it back to a tuple if needed.\n"
      ],
      "metadata": {
        "id": "RctkJmJs2lUn"
      }
    },
    {
      "cell_type": "markdown",
      "source": [
        "16. What is a nested dictionary, and give an example of its use case?\n",
        "\n",
        "\n",
        "-Here's an explanation of nested dictionaries in Python and an example use case:\n",
        "\n",
        "What is a nested dictionary:\n",
        "\n",
        "  - A nested dictionary is a dictionary where the values are themselves dictionaries. This creates a hierarchical structure to store and organize data with multiple levels of information.\n",
        "\n",
        "\n",
        "\n",
        "Use Case: Representing Complex Data Structures\n",
        "\n",
        "  - Nested dictionaries are useful for representing complex data structures where information is naturally organized in a hierarchical way.\n",
        "\n",
        "\n",
        "\n",
        "Accessing Data in Nested Dictionaries\n",
        "\n",
        "  - You can access data in nested dictionaries using multiple key lookups:\n",
        "\n",
        "\n",
        "Reasoning:\n",
        "\n",
        " - Nested dictionaries provide a way to organize data logically and represent relationships between different pieces of information. They are often used in scenarios where data has multiple levels of detail or a hierarchical structure.\n",
        "\n",
        "\n"
      ],
      "metadata": {
        "id": "_5zOhmJZ3f36"
      }
    },
    {
      "cell_type": "markdown",
      "source": [
        "17. Describe the time complexity of accessing elements in a dictionary?\n",
        "\n",
        "\n",
        "- The time complexity of accessing elements in a dictionary in Python.\n",
        "\n",
        "Time Complexity: Average Case - O(1), Worst Case - O(n)\n",
        "\n",
        "Explanation:\n",
        "\n",
        " 1. Average Case: O(1) - Constant Time Dictionaries in Python are implemented using hash tables. This underlying structure enables extremely fast access to elements. When you use a key to retrieve a value from a dictionary, Python applies a hash function to the key to compute an index into an array where the value is stored. This lookup process typically takes a constant amount of time, regardless of the dictionary's size.\n",
        "\n",
        "\n",
        " 2. Worst Case: O(n) - Linear Time While dictionaries are designed for efficiency, there's a theoretical worst-case scenario where access time becomes linear (proportional to the number of elements). This happens when there are many collisions – multiple keys hashing to the same index in the hash table. However, Python employs techniques like collision resolution and hash table resizing to mitigate this, making the worst-case scenario relatively rare in practice.\n",
        "\n",
        "Reasoning:\n",
        "\n",
        " - Hash Tables: The fundamental reason behind the speed of dictionary access is the use of hash tables. They allow direct access to elements using keys, avoiding the need to search through the entire dictionary.\n",
        "\n",
        "\n",
        "Average vs. Worst Case:\n",
        "\n",
        "\n",
        "  - In most real-world situations, you'll experience the constant-time access benefit of dictionaries.\n",
        "\n",
        "\n",
        "   - The worst-case scenario is more of a theoretical consideration, and Python's internal mechanisms strive to minimize its impact."
      ],
      "metadata": {
        "id": "eXeVNUlz4-Qc"
      }
    },
    {
      "cell_type": "markdown",
      "source": [
        "18. In what situations are lists preferred over dictionaries?\n",
        "\n",
        "\n",
        "-Is a breakdown of situations where lists are generally preferred over dictionaries in Python:\n",
        "\n",
        "1. When Order Matters:\n",
        "\n",
        " - Reasoning: Lists maintain the order of elements as they are inserted, while dictionaries do not guarantee any specific order.\n",
        "\n",
        "2. Storing Collections with Duplicates:\n",
        "\n",
        " - Reasoning: Lists allow duplicate elements, whereas dictionaries only store unique keys.\n",
        "\n",
        "\n",
        "3. Sequential Access:\n",
        "\n",
        " - Reasoning: Lists are efficient for accessing elements sequentially using their index.\n",
        "\n",
        "4. Dynamic Size and Modification:\n",
        "\n",
        " - Reasoning: Lists are mutable, meaning you can easily add, remove, or modify elements.\n",
        "\n",
        "5. When Index-Based Access Is Convenient:\n",
        "\n",
        " - Reasoning: Elements in lists are accessed by their numerical index, which can be useful in some cases.\n",
        "\n",
        "\n",
        "Choose lists when:\n",
        "\n",
        " - You need to preserve the order of elements.\n",
        " - You need to store duplicates.\n",
        " - You primarily access elements sequentially or by index.\n",
        " - You require frequent modifications to the collection.\n",
        "\n",
        "\n",
        "Choose dictionaries when:\n",
        "\n",
        " - You need fast lookups and membership testing using keys.\n",
        " - You want to represent structured data with key-value pairs.\n",
        " - You need to access elements by meaningful labels (keys)."
      ],
      "metadata": {
        "id": "KAsnIR4r7NNf"
      }
    },
    {
      "cell_type": "markdown",
      "source": [
        "19. Why are dictionaries considered unordered, and how does that affect data retrieval ?\n",
        "\n",
        "\n",
        "-Here's an explanation of why dictionaries are considered unordered in Python and how it affects data retrieval:\n",
        "\n",
        "1. Why Dictionaries are Unordered\n",
        "\n",
        "  - Hashing: Dictionaries in Python are implemented using hash tables. Hash tables store key-value pairs based on the hash value of the key. This hash value is used to quickly find the location of the value in memory. However, hash tables do not inherently maintain the order in which elements were added. The focus is on efficient access, not on preserving order.\n",
        "\n",
        "\n",
        "\n",
        "- No Indexing by Position: Dictionaries do not have numerical indices like lists. You can't access items by position (e.g., the 1st element, 2nd element). You can only retrieve elements using their keys.\n",
        "\n",
        "\n",
        "\n",
        " 2.How Unordered Nature Affects Retrieval\n",
        "\n",
        "  - Retrieval by Key: Data retrieval in dictionaries relies entirely on the keys. You provide the key, and the hash table is used to find the corresponding value quickly. This lookup process is generally very fast (average time complexity of O(1)).\n",
        "\n",
        "\n",
        "\n",
        "Order Not Guaranteed: Since the order is not guaranteed, the order in which elements are stored or retrieved might not be the same as the order they were inserted\n",
        "\n",
        "\n",
        " - Iteration Order Unpredictable: If you iterate through a dictionary using a loop, the order in which elements are processed is also not guaranteed. It may vary across different Python versions or executions.\n",
        "Reasoning\n",
        "\n",
        " - Efficiency: The main reason dictionaries are unordered is to optimize for lookup performance. Hash tables and key-based access provide very fast retrieval times, which is essential for many common tasks.\n",
        "\n",
        "\n",
        " - Flexibility: The unordered nature gives the dictionary implementation more flexibility to optimize storage and organization internally.\n",
        "\n",
        "\n",
        "\n"
      ],
      "metadata": {
        "id": "LOCcn7fI8cHK"
      }
    },
    {
      "cell_type": "markdown",
      "source": [
        "20. Explain the difference between a list and a dictionary in terms of data retrieval?\n",
        "\n",
        "-Is an explanation of the difference between a list and a dictionary in terms of data retrieval in Python:\n",
        "\n",
        "1. Lists\n",
        "\n",
        "- Data Retrieval Method: Elements in a list are accessed by their position or index, which starts from 0. You use the index within square brackets to retrieve a specific element.\n",
        "\n",
        "\n",
        "Example: my_list = [10, 20, 30] To get the value 20, you'd use my_list[1].\n",
        "\n",
        "\n",
        "- Time Complexity: Accessing an element in a list has a time complexity of O(1), meaning it takes a constant amount of time regardless of the list's size.\n",
        "\n",
        "\n",
        "- Sequential Access: Lists are well-suited for sequential processing where you need to access elements in order or iterate through them.\n",
        "\n",
        " 2.  Dictionaries\n",
        "\n",
        " -  Data Retrieval Method: Elements in a dictionary are accessed using their keys. You provide the key within square brackets to get the associated value.\n",
        "\n",
        "Example: my_dict = {'name': 'Alice', 'age': 30} To get the value associated with 'name', you'd use my_dict['name'].\n",
        "\n",
        "\n",
        " - Time Complexity: Accessing an element in a dictionary has an average time complexity of O(1) due to its implementation using hash tables. This makes lookups very efficient.\n",
        "\n",
        " - Key-Based Access: Dictionaries are optimized for retrieving values based on specific keys.\n",
        "\n",
        "\n",
        "\n",
        "\n",
        "Key Differences\n",
        "\n",
        " - Data Structure: Lists are ordered collections of items, while dictionaries are unordered collections of key-value pairs.\n",
        "\n",
        "\n",
        "- Retrieval Method: Lists use index-based retrieval, while dictionaries use key-based retrieval.\n",
        "\n",
        "\n",
        " - Use Cases: Lists are preferred for sequential access or when order is important. Dictionaries are preferred for fast lookups by key and for representing structured data.\n"
      ],
      "metadata": {
        "id": "dcbCs1rx9RfQ"
      }
    },
    {
      "cell_type": "markdown",
      "source": [
        " # Practical Questions"
      ],
      "metadata": {
        "id": "yKTaKhatxRGl"
      }
    },
    {
      "cell_type": "code",
      "source": [
        "# 1. Write a code to create string with your name and print it.?\n",
        "\n",
        "my_name = \"syed.salma\"\n",
        "print(my_name)\n"
      ],
      "metadata": {
        "colab": {
          "base_uri": "https://localhost:8080/"
        },
        "id": "-Nw9-0Z7xuyg",
        "outputId": "a007dbd5-2705-4ef4-90b2-0b7e76316ea6"
      },
      "execution_count": null,
      "outputs": [
        {
          "output_type": "stream",
          "name": "stdout",
          "text": [
            "syed.salma\n"
          ]
        }
      ]
    },
    {
      "cell_type": "code",
      "source": [
        "# 2. Write a code to find  the length of the string \"Hellow World\".?\n",
        "\n",
        "\n",
        "str =  (\"Hellow World\")\n",
        "print(len( str))"
      ],
      "metadata": {
        "colab": {
          "base_uri": "https://localhost:8080/"
        },
        "id": "wx-NjCFEzHdt",
        "outputId": "55170a34-35a9-435d-cbf5-ae0a8eed063b"
      },
      "execution_count": null,
      "outputs": [
        {
          "output_type": "stream",
          "name": "stdout",
          "text": [
            "12\n"
          ]
        }
      ]
    },
    {
      "cell_type": "code",
      "source": [
        "# 3. Write a code to slice the first 3 characters from the string \"python programming\".?\n",
        "\n",
        "str = (\"python programming\")\n",
        "print(str[0:3])\n"
      ],
      "metadata": {
        "colab": {
          "base_uri": "https://localhost:8080/"
        },
        "id": "Gwd5FoRw0AkD",
        "outputId": "feb2bf87-224f-42fc-83c6-048adba71556"
      },
      "execution_count": null,
      "outputs": [
        {
          "output_type": "stream",
          "name": "stdout",
          "text": [
            "pyt\n"
          ]
        }
      ]
    },
    {
      "cell_type": "code",
      "source": [
        "# 4. Write a code to convert the string \"hello\" to uppercase.?\n",
        "\n",
        "string  = (\"hello\")\n",
        "print(string.upper())"
      ],
      "metadata": {
        "colab": {
          "base_uri": "https://localhost:8080/"
        },
        "id": "Kd0-u8nQ1Ku1",
        "outputId": "01b21f70-fe31-4bfd-e44f-71bb89d51428"
      },
      "execution_count": null,
      "outputs": [
        {
          "output_type": "stream",
          "name": "stdout",
          "text": [
            "HELLO\n"
          ]
        }
      ]
    },
    {
      "cell_type": "code",
      "source": [
        "# 5. Write a code to replace the word \"apple\" with \"orange\" in the string \" i like apple\".?\n",
        "\n",
        "\n",
        "str  = ( \"i like apple\")\n",
        "\n",
        "print(str.replace(\"apple\",\"orange\"))\n",
        "\n"
      ],
      "metadata": {
        "colab": {
          "base_uri": "https://localhost:8080/"
        },
        "id": "XCzYrFm_2JHJ",
        "outputId": "84fc84a3-99f7-43bc-dbd5-5b64f5b8f1f2"
      },
      "execution_count": null,
      "outputs": [
        {
          "output_type": "stream",
          "name": "stdout",
          "text": [
            "i like orange\n"
          ]
        }
      ]
    },
    {
      "cell_type": "code",
      "source": [
        " # 6. Write a code to create a list with  numbers 1 to 5 and print it.?\n",
        "\n",
        "my_list = [1,2,3,4,5]\n",
        "print(my_list)"
      ],
      "metadata": {
        "colab": {
          "base_uri": "https://localhost:8080/"
        },
        "id": "eqncyO-F3amb",
        "outputId": "b5671cf4-5369-4a6b-ea83-cdae78161f2e"
      },
      "execution_count": null,
      "outputs": [
        {
          "output_type": "stream",
          "name": "stdout",
          "text": [
            "[1, 2, 3, 4, 5]\n"
          ]
        }
      ]
    },
    {
      "cell_type": "code",
      "source": [
        " # 7. Write a code to append the number 10 to the list[1,2,3,4].?\n",
        "\n",
        "my_list = [1,2,3,4]\n",
        "my_list.append(10)\n",
        "print(my_list)\n"
      ],
      "metadata": {
        "colab": {
          "base_uri": "https://localhost:8080/"
        },
        "id": "3KHJYIoc4b4f",
        "outputId": "a47db79c-b363-4dee-90fa-adbb1498e9ae"
      },
      "execution_count": null,
      "outputs": [
        {
          "output_type": "stream",
          "name": "stdout",
          "text": [
            "[1, 2, 3, 4, 10]\n"
          ]
        }
      ]
    },
    {
      "cell_type": "code",
      "source": [
        "# 8.Write a  code to remove the number 3 from the list[1,2,3,4,5]?\n",
        "\n",
        "my_list = [1,2,3,4,5]\n",
        "my_list.remove(3)\n",
        "print(my_list)\n"
      ],
      "metadata": {
        "colab": {
          "base_uri": "https://localhost:8080/"
        },
        "id": "--XzjQ4E5NJ0",
        "outputId": "6d9a4626-8169-498e-cfcc-a84783ddb830"
      },
      "execution_count": null,
      "outputs": [
        {
          "output_type": "stream",
          "name": "stdout",
          "text": [
            "[1, 2, 4, 5]\n"
          ]
        }
      ]
    },
    {
      "cell_type": "code",
      "source": [
        "# 9. Write a code to access the second element in the list['a','b','c','d'].?\n",
        "\n",
        "my_list = ['a','b','c','d']\n",
        "print(my_list[1])"
      ],
      "metadata": {
        "colab": {
          "base_uri": "https://localhost:8080/"
        },
        "id": "Bv8wVgHe6Hbr",
        "outputId": "4bb5ea8b-b0ba-4cda-c69b-584f0e229c9e"
      },
      "execution_count": null,
      "outputs": [
        {
          "output_type": "stream",
          "name": "stdout",
          "text": [
            "b\n"
          ]
        }
      ]
    },
    {
      "cell_type": "code",
      "source": [
        "# 10. Write a code to reverse the list [10,20,30,40,50]?\n",
        "\n",
        "\n",
        "numbers = [10,20,30,40,50]\n",
        "reversed_numbers = numbers[::-1]\n",
        "print(\"reversed list:\", reversed_numbers)"
      ],
      "metadata": {
        "colab": {
          "base_uri": "https://localhost:8080/"
        },
        "id": "7Owt2PWi69ku",
        "outputId": "b751781c-7aeb-4bcd-b2d8-1c83b7f19165"
      },
      "execution_count": null,
      "outputs": [
        {
          "output_type": "stream",
          "name": "stdout",
          "text": [
            "reversed list: [50, 40, 30, 20, 10]\n"
          ]
        }
      ]
    },
    {
      "cell_type": "code",
      "source": [
        "# 11. Write a code to create a tuple with the elements 100,200,300 and print it?\n",
        "\n",
        "my_tuple = (100,200,300)\n",
        "print(my_tuple)\n"
      ],
      "metadata": {
        "colab": {
          "base_uri": "https://localhost:8080/"
        },
        "id": "3pWcQPLn9XaE",
        "outputId": "bd7371cf-6274-4ffc-a6b5-8c6574b80d61"
      },
      "execution_count": null,
      "outputs": [
        {
          "output_type": "stream",
          "name": "stdout",
          "text": [
            "(100, 200, 300)\n"
          ]
        }
      ]
    },
    {
      "cell_type": "code",
      "source": [
        "# 12. Write a code to access the second-to-last element of the tuple('red','green','blue','yellow')?\n",
        "\n",
        "my_tuple = (\"red\",\"green\",\"blue\",\"yellow\")\n",
        "print(my_tuple[ -2])\n"
      ],
      "metadata": {
        "colab": {
          "base_uri": "https://localhost:8080/"
        },
        "id": "zTw1oqhG98qp",
        "outputId": "c8669a32-5be6-459d-e9cf-307407210746"
      },
      "execution_count": null,
      "outputs": [
        {
          "output_type": "stream",
          "name": "stdout",
          "text": [
            "blue\n"
          ]
        }
      ]
    },
    {
      "cell_type": "code",
      "source": [
        " # 13. Write a code to find the minimum numbers in the tuple(10,20,5,15)?\n",
        "\n",
        "my_tuple = (10,20,5,15)\n",
        "print(min(my_tuple))"
      ],
      "metadata": {
        "colab": {
          "base_uri": "https://localhost:8080/"
        },
        "id": "bS-_Y4Pb_E-M",
        "outputId": "7852efb1-1848-4353-b999-5b1826ec8cf8"
      },
      "execution_count": null,
      "outputs": [
        {
          "output_type": "stream",
          "name": "stdout",
          "text": [
            "5\n"
          ]
        }
      ]
    },
    {
      "cell_type": "code",
      "source": [
        "# 14. Write a code to find the index of the element\"cat\" in the tuple('dog','cat','rabbit')?\n",
        "\n",
        "my_tuple = (\"dog\",\"cat\",\"rabbit\")\n",
        "print(my_tuple.index(\"cat\"))\n",
        "\n"
      ],
      "metadata": {
        "colab": {
          "base_uri": "https://localhost:8080/"
        },
        "id": "qa1c3Kz8AGYE",
        "outputId": "f53c2770-2bb3-47a2-df96-c09810ace554"
      },
      "execution_count": null,
      "outputs": [
        {
          "output_type": "stream",
          "name": "stdout",
          "text": [
            "1\n"
          ]
        }
      ]
    },
    {
      "cell_type": "code",
      "source": [
        "# 15. Write a code to create a tuple containing three diffrent fruits and check if \"kiwi\" is in it?\n",
        "\n",
        "my_tuple = (\"apple\",\"banana\",\"kiwi\")\n",
        "print(\"kiwi\" in my_tuple)\n",
        "\n"
      ],
      "metadata": {
        "colab": {
          "base_uri": "https://localhost:8080/"
        },
        "id": "-5ipg2hXA_0R",
        "outputId": "254d6fc4-2cc7-4093-d46a-ef8e3756fe77"
      },
      "execution_count": null,
      "outputs": [
        {
          "output_type": "stream",
          "name": "stdout",
          "text": [
            "True\n"
          ]
        }
      ]
    },
    {
      "cell_type": "code",
      "source": [
        "# 16.  Write a code to create a set with the elements 'a', 'b', 'c' and print it?\n",
        "\n",
        "\n",
        "# Create a set with elements 'a', 'b', 'c'\n",
        "my_set = {'a', 'b', 'c'}\n",
        "\n",
        "# Print the set\n",
        "print(my_set)"
      ],
      "metadata": {
        "colab": {
          "base_uri": "https://localhost:8080/"
        },
        "id": "--tblSCpCEuT",
        "outputId": "69baa77a-4e7e-4945-e280-872b9111003b"
      },
      "execution_count": null,
      "outputs": [
        {
          "output_type": "stream",
          "name": "stdout",
          "text": [
            "{'c', 'b', 'a'}\n"
          ]
        }
      ]
    },
    {
      "cell_type": "code",
      "source": [
        "# 17. write a code to clear all elements from the set{1,2,3,4,5}.\n",
        "my_set ={1,2,3,4,5}\n",
        "my_set.clear()\n",
        "print(my_set)"
      ],
      "metadata": {
        "colab": {
          "base_uri": "https://localhost:8080/"
        },
        "id": "viQ55vByE6Hb",
        "outputId": "3ef0d93f-7f0f-4a31-eac9-91c1abce68d8"
      },
      "execution_count": null,
      "outputs": [
        {
          "output_type": "stream",
          "name": "stdout",
          "text": [
            "set()\n"
          ]
        }
      ]
    },
    {
      "cell_type": "code",
      "source": [
        "# 18. write a code tp remove the element 4 from the set{1,2,3,4}.\n",
        "my_set = {1,2,3,4}\n",
        "my_set.remove(4)\n",
        "print (my_set)"
      ],
      "metadata": {
        "colab": {
          "base_uri": "https://localhost:8080/"
        },
        "id": "wpJIdB9uGHq5",
        "outputId": "22f9455f-c129-4be7-fb8a-c679697d1db1"
      },
      "execution_count": null,
      "outputs": [
        {
          "output_type": "stream",
          "name": "stdout",
          "text": [
            "{1, 2, 3}\n"
          ]
        }
      ]
    },
    {
      "cell_type": "code",
      "source": [
        "# 19. write a code to find the unionn of two sets{1,2,3} and {3,4,5}.\n",
        "set1={1,2,3}\n",
        "set2={3,4,5}\n",
        "union_set=set1.union(set2)\n",
        "print(union_set)"
      ],
      "metadata": {
        "colab": {
          "base_uri": "https://localhost:8080/"
        },
        "id": "qGW37pVKGvXc",
        "outputId": "f64676fd-9c79-41ff-f052-2a15df947039"
      },
      "execution_count": null,
      "outputs": [
        {
          "output_type": "stream",
          "name": "stdout",
          "text": [
            "{1, 2, 3, 4, 5}\n"
          ]
        }
      ]
    },
    {
      "cell_type": "code",
      "source": [
        "# 20. Write a code to find the intersection of two sets {1, 2, 3} and {2, 3, 4}\n",
        "set1={1,2,3}\n",
        "set2={2,3,4}\n",
        "intersection_set=set1.intersection(set2)\n",
        "print(intersection_set)"
      ],
      "metadata": {
        "colab": {
          "base_uri": "https://localhost:8080/"
        },
        "id": "plJ4LJ0bHi4U",
        "outputId": "e05377ad-aefc-49c5-8271-213377079d2c"
      },
      "execution_count": null,
      "outputs": [
        {
          "output_type": "stream",
          "name": "stdout",
          "text": [
            "{2, 3}\n"
          ]
        }
      ]
    },
    {
      "cell_type": "code",
      "source": [
        "# 21. Write a code to create a dictionary with the keys \"name\", \"age\", and \"city\", and print it.\n",
        "my_dict={\"name\",\"age\" ,\"city\"}\n",
        "print(my_dict)"
      ],
      "metadata": {
        "colab": {
          "base_uri": "https://localhost:8080/"
        },
        "id": "FW2kOO5jH75D",
        "outputId": "fa1898e4-fa14-4ae1-f4eb-476975623b3a"
      },
      "execution_count": null,
      "outputs": [
        {
          "output_type": "stream",
          "name": "stdout",
          "text": [
            "{'age', 'name', 'city'}\n"
          ]
        }
      ]
    },
    {
      "cell_type": "code",
      "source": [
        "# 22.Write a code to add a new key-value pair \"country\": \"USA\" to the dictionary {'name': 'John', 'age': 25}.\n",
        "my_dict={'name':'john', 'age':'25'}\n",
        "my_dict[\"country\"]=(\"USA\")\n",
        "print(my_dict)\n"
      ],
      "metadata": {
        "colab": {
          "base_uri": "https://localhost:8080/"
        },
        "id": "M5lQ84zrJqku",
        "outputId": "c0147383-2540-43a2-c4fc-9258296a0835"
      },
      "execution_count": null,
      "outputs": [
        {
          "output_type": "stream",
          "name": "stdout",
          "text": [
            "{'name': 'john', 'age': '25', 'country': 'USA'}\n"
          ]
        }
      ]
    },
    {
      "cell_type": "code",
      "source": [
        "# 23.Write a code to access the value associated with the key \"name\" in the dictionary {'name': 'Alice', 'age': 30}\n",
        "my_dict={'name': 'alice', 'age':'30'}\n",
        "my_dict['name']"
      ],
      "metadata": {
        "colab": {
          "base_uri": "https://localhost:8080/",
          "height": 36
        },
        "id": "1WDVH7LrKpzv",
        "outputId": "c5c318da-0bbc-4a7d-9c89-6929e26ce707"
      },
      "execution_count": null,
      "outputs": [
        {
          "output_type": "execute_result",
          "data": {
            "text/plain": [
              "'alice'"
            ],
            "application/vnd.google.colaboratory.intrinsic+json": {
              "type": "string"
            }
          },
          "metadata": {},
          "execution_count": 77
        }
      ]
    },
    {
      "cell_type": "code",
      "source": [
        "# 24. Write a code to remove the key \"age\" from the dictionary {'name': 'Bob', 'age': 22, 'city': 'New York'}\n",
        "my_dict={'name':'Bob', 'age':'22', 'city':'New york'}\n",
        "del my_dict['age']\n",
        "print(my_dict)"
      ],
      "metadata": {
        "colab": {
          "base_uri": "https://localhost:8080/"
        },
        "id": "RFAxo8dvLRLP",
        "outputId": "7732ce3f-55a6-4edf-ff56-0a2a90308078"
      },
      "execution_count": null,
      "outputs": [
        {
          "output_type": "stream",
          "name": "stdout",
          "text": [
            "{'name': 'Bob', 'city': 'New york'}\n"
          ]
        }
      ]
    },
    {
      "cell_type": "code",
      "source": [
        "# 25.write a code to check if the key \"city\" exists in the dictionary {'name': 'Alice', 'city': 'Paris'}.\n",
        "my_dict={'name':'Alice', 'city':'paris'}\n",
        "print('city' in my_dict)\n"
      ],
      "metadata": {
        "colab": {
          "base_uri": "https://localhost:8080/"
        },
        "id": "rjzY93D_L8mT",
        "outputId": "54fe1352-6f8c-4a3c-d9b4-d0cde51e2d4a"
      },
      "execution_count": null,
      "outputs": [
        {
          "output_type": "stream",
          "name": "stdout",
          "text": [
            "True\n"
          ]
        }
      ]
    },
    {
      "cell_type": "code",
      "source": [
        "# 26.6. Write a code to create a list, a tuple, and a dictionary, and print them all.\n",
        "my_list = [1,2,3,4,5]\n",
        "print(my_list)\n",
        "my_tuple = (6,7,8,9,0)\n",
        "print(my_tuple)\n",
        "my_dict = {'name': 'syed salma', 'age':'20'}\n",
        "my_dict"
      ],
      "metadata": {
        "colab": {
          "base_uri": "https://localhost:8080/"
        },
        "id": "FcHQQq2NMop4",
        "outputId": "78034f9f-2408-4b62-9dcb-f9c9d215bbff"
      },
      "execution_count": null,
      "outputs": [
        {
          "output_type": "stream",
          "name": "stdout",
          "text": [
            "[1, 2, 3, 4, 5]\n",
            "(6, 7, 8, 9, 0)\n"
          ]
        },
        {
          "output_type": "execute_result",
          "data": {
            "text/plain": [
              "{'name': 'syed salma', 'age': '20'}"
            ]
          },
          "metadata": {},
          "execution_count": 83
        }
      ]
    },
    {
      "cell_type": "code",
      "source": [
        "# 27. Write a code to create a list of 5 random numbers between 1 and 100, sort it in ascending order, and print the\n",
        "#result.(replaced)\n",
        "import random\n",
        "random_numbers = [random.randint(1,100) for _ in range(5)]\n",
        "random_numbers.sort()\n",
        "print(random_numbers)\n"
      ],
      "metadata": {
        "colab": {
          "base_uri": "https://localhost:8080/"
        },
        "id": "v1RneVvHNigU",
        "outputId": "14964322-8c20-48e7-dbcb-9e8f02a9815c"
      },
      "execution_count": null,
      "outputs": [
        {
          "output_type": "stream",
          "name": "stdout",
          "text": [
            "[3, 17, 64, 88, 99]\n"
          ]
        }
      ]
    },
    {
      "cell_type": "code",
      "source": [
        "# 28. Write a code to create a list with strings and print the element at the third index\n",
        "my_list = [\"apple\", \"banana\", \"orange\",\"avacado\"]\n",
        "print(my_list[2]) # third index number"
      ],
      "metadata": {
        "colab": {
          "base_uri": "https://localhost:8080/"
        },
        "id": "TH9Lkd-ROVCK",
        "outputId": "93b469cc-6d90-4896-f782-f86f9281c825"
      },
      "execution_count": null,
      "outputs": [
        {
          "output_type": "stream",
          "name": "stdout",
          "text": [
            "orange\n"
          ]
        }
      ]
    },
    {
      "cell_type": "code",
      "source": [
        "# 29. Write a code to combine two dictionaries into one and print the result.\n",
        "my_dict1= {'name':'salma', 'age':'20'}\n",
        "my_dict2={'city': 'hyderabad', 'country':'India'}\n",
        "combined_dict ={**my_dict1,**my_dict2}\n",
        "print(combined_dict)\n"
      ],
      "metadata": {
        "colab": {
          "base_uri": "https://localhost:8080/"
        },
        "id": "8zcsR79hPJRl",
        "outputId": "458efa00-e98f-4cdd-a337-8a2185c9da85"
      },
      "execution_count": null,
      "outputs": [
        {
          "output_type": "stream",
          "name": "stdout",
          "text": [
            "{'name': 'salma', 'age': '20', 'city': 'hyderabad', 'country': 'India'}\n"
          ]
        }
      ]
    },
    {
      "cell_type": "code",
      "source": [
        "# 30. Write a code to convert a list of strings into a set.\n",
        "my_list =[\"apple\", \"banana\"]\n",
        "my_set =set(my_list)\n",
        "print(my_set)"
      ],
      "metadata": {
        "colab": {
          "base_uri": "https://localhost:8080/"
        },
        "id": "Ms2BuDQHQW_O",
        "outputId": "e0b0cca3-a834-4239-d2c7-31af4325e7fb"
      },
      "execution_count": null,
      "outputs": [
        {
          "output_type": "stream",
          "name": "stdout",
          "text": [
            "{'apple', 'banana'}\n"
          ]
        }
      ]
    }
  ]
}