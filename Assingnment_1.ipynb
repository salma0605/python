{
  "nbformat": 4,
  "nbformat_minor": 0,
  "metadata": {
    "colab": {
      "provenance": []
    },
    "kernelspec": {
      "name": "python3",
      "display_name": "Python 3"
    },
    "language_info": {
      "name": "python"
    }
  },
  "cells": [
    {
      "cell_type": "markdown",
      "source": [
        "# phython basic quesitions"
      ],
      "metadata": {
        "id": "m3XgH-qkZNZm"
      }
    },
    {
      "cell_type": "markdown",
      "source": [
        "1. what is phython,and why it is popular?\n",
        "\n",
        "- phython is a interpreted programming language.It is a versatile,high-level,general purpose programming language. It is popular due to its simple syntax,extensive libraries,and wide applicatoins in fileds like web developement,data science,and machine learning."
      ],
      "metadata": {
        "id": "Fwo0HhsoaUZd"
      }
    },
    {
      "cell_type": "markdown",
      "source": [
        "2. what is an interpreter in phython?\n",
        "\n",
        "- An Interpreter is a program that reads and executes phython code line by line.It translates the phython code into machine-readable bytcode,which is then executed by the python virtual machine."
      ],
      "metadata": {
        "id": "Kazi3XLjcK2D"
      }
    },
    {
      "cell_type": "markdown",
      "source": [
        "3. what are pre-defined keywords in python?\n",
        "\n",
        "- keywords are reserved words in python that have specific meanings and purposes, and they cannot be used as identifiers, function names, or variable names. There are 36 keywords.They are\n",
        "\n",
        " flase, none, true, and, as, assert, async, await, break, class, continue, def, del, elif, else, except, finally, for, from, global, if, import, in, is, lambda, nonlocal, not, or, pass, raise, return, try, while, with, yield, match, and, case."
      ],
      "metadata": {
        "id": "WFE5BLVj67ws"
      }
    },
    {
      "cell_type": "markdown",
      "source": [
        "4. Can keywords be used as variable names?\n",
        "- No, keywords cannot be used as variable names in most programming languages,inculding python,java,c,etc.\n",
        "keywords are reserved words that have special meaning in the language syntax.Attempting to use a keyword as a variable name will typically cause a syntax error."
      ],
      "metadata": {
        "id": "QGyGLNxF9Yem"
      }
    },
    {
      "cell_type": "markdown",
      "source": [
        " 5. what is mutability in python?\n",
        "\n",
        "  - Refers to the ability of an object to be changed after it is created. In simpler terms,if an object can be modified after its creation,it is considered mutable.modifying a mutable object does not create a new object.\n",
        "examples:lists,dictionaries,sets."
      ],
      "metadata": {
        "id": "mzwO2O3UAUxY"
      }
    },
    {
      "cell_type": "markdown",
      "source": [
        "6. why are lists mutable,but tuples are immutable?\n",
        "\n",
        "- tuples and list are the same in every way except two,tuples use parentheses instead of square brackests,and the items in tuples cannot be modified .But the items in list can be modified. we often call lists mutable (they can be changed) and tuples immutable( they cannot changed).\n",
        "\n"
      ],
      "metadata": {
        "id": "8OCOUauQCvA5"
      }
    },
    {
      "cell_type": "markdown",
      "source": [
        "7. what is the difference between \"==\"and \"is\" operators in python?\n",
        "\n",
        "- The \"== \"and is operators in python serve distinct comparison purposes.The \"==\" operator checks for value equality,while the \"is\" operator checks for object identity.\n",
        "\n",
        "\"==\" evaluates whether the values of two objects are equal.It compares the content or data held by the objects.\n",
        "\n",
        "\"is\" Determines if two variables refer to the same objexts in memory.It checks if the references point to the same memory address.\n"
      ],
      "metadata": {
        "id": "l694uSZaEx5g"
      }
    },
    {
      "cell_type": "markdown",
      "source": [
        "8. what are the logical   operators in python?\n",
        "\n",
        "- In python, logical operators are used to combine or modify boolean values.There are three main logical operators:and,or,not.\n",
        "\n",
        "\n",
        "and:Returns True if both operands are True, otherwise returns False.\n",
        "\n",
        "or:Returns Ture if  at least one of the operands is True,returns False only if both are False.\n",
        "\n",
        "not:Returna the opposite boolean value of the operand.If the operand is True, it returns False, and vice-versa.\n",
        "\n"
      ],
      "metadata": {
        "id": "6sCq9cRdHk2I"
      }
    },
    {
      "cell_type": "markdown",
      "source": [
        "9. what is type casting in python?\n",
        "\n",
        "- Type casting in python, also known as type conversion, refers to the process of changing a variables's data type.It allows you to convert values from one type to another, such as from an integer to a string or a float to an integer.Type casting is useful when you want to represent data in a different format.\n",
        "\n",
        "python supports two types of type casting:\n",
        "\n",
        "Explicit Type casting: This is done manually by the programmer using built-in functoins.\n",
        "\n",
        "Implicit Type casting: This is done  automatically by the python interpreter."
      ],
      "metadata": {
        "id": "pivLZpx3KBKU"
      }
    },
    {
      "cell_type": "markdown",
      "source": [
        "10. what is the difference detween implicit and explicit type casting?\n",
        "\n",
        "- type casting ,or type conversion. Is the process of changing a variable's data type to another.\n",
        "\n",
        "1.Impilicit type casting: Also known as coercion,implicit type casting is performed automatically by the python interpreter without requiring user intervention.This usally occurs when python atttempts to convert one type to another to make the operation compatible.It generally converts to a higher data type to prevent data loss.\n",
        "\n",
        "2.Explicit type casting:Also known as the type conversion,explicit type casting is performed manually by the programmer using built-in functions to another.It is used when the programmer wants to control the data type conversion explicitly."
      ],
      "metadata": {
        "id": "0I_MCUk6nng4"
      }
    },
    {
      "cell_type": "markdown",
      "source": [
        "11.  what is the purpose of the conditional  statements in python?\n",
        "\n",
        "- The if statement in python is used for conditional execution of code. It allows a program to make decisions based on whether a certain condition is true or flase .If the condition evaluates to true,the code block within the if statement is executed.Otherwise, the code block is skipped.There are some types of conditional statements like if statement,if-else statement,if-elif-else statement,nested if statement."
      ],
      "metadata": {
        "id": "W1sOtqE3roN7"
      }
    },
    {
      "cell_type": "markdown",
      "source": [
        "12. How does the elif statement work?\n",
        "\n",
        "- The elif statement in python is used in conjunction with if and else statements to create a chain of conditional checks. It allows  the program to evaluate multiple conditions sequentially and execute the code block associated with the first condition that evaluates to True.\n",
        "\n",
        "When an if statement's condition is False, the program proceeds to check the condition of the subsequent elif statement.If the elif condition is true,its corresponding code block is executed, and the rest of the elif and else blocks are skipped.If all elif conditions are False, and an else block is present, the else block's code is executed. If no else block is present, and all conditions are False, no code block is executed."
      ],
      "metadata": {
        "id": "O_M1GJ0Oulr_"
      }
    },
    {
      "cell_type": "markdown",
      "source": [
        "13 .what is the difference  between for and while loops?\n",
        "\n",
        "- The primary difference between for and while loops in python lies in their structure and control flow.\n",
        "\n",
        "\n",
        "For loop :Designed for iterating over a sequence(like a list,tuple,string,or range) or other iterable objects.It executes a block of code for each item in the sequence. The number of iterations is known in advance.\n",
        "\n",
        "While loops :Designed for repeating a block of code as long as a condition is true.The number of iterations is not necessarily known in advance and depends on when the condition becomes false.\n",
        "\n",
        "choosing between for and while loops depends on the specific task. Use a for loop when you know how many times you need to iterate, and use a while loop when you need to repeat until a certain condition is met."
      ],
      "metadata": {
        "id": "M2pj9Njkwy0m"
      }
    },
    {
      "cell_type": "markdown",
      "source": [
        "14 .Describe a scenario where a while loop is more suitable than a for loop?\n",
        "\n",
        "\n",
        "- A scenario where a while loop is more suitable than a for loop is when the number of iterations is not known beforehand and depends on a certain condition being met. For example, consider a program that prompts the user for input until they enter a specific word, such as \"quit.\" A while loop is ideal for this situation because the number of times the loop needs to run is not fixed.\n",
        "\n",
        "In this case, the loop continues to execute as long as the user does not enter \"quit.\" A for loop would not be suitable here bacause the number of iterations is not determined in advance."
      ],
      "metadata": {
        "id": "9fkFzXUfzoED"
      }
    },
    {
      "cell_type": "markdown",
      "source": [
        "#Practical questions"
      ],
      "metadata": {
        "id": "T3y12AMZ2Dho"
      }
    },
    {
      "cell_type": "code",
      "source": [
        "# 1. Write a python  program to print\"Hello,World!\"\n",
        "\n",
        "print(\"Hello,World!\")\n",
        "\n"
      ],
      "metadata": {
        "colab": {
          "base_uri": "https://localhost:8080/"
        },
        "id": "xS3OKEt15Voc",
        "outputId": "2fa5d86b-873e-43ae-d161-dabae5bdc1b8"
      },
      "execution_count": null,
      "outputs": [
        {
          "output_type": "stream",
          "name": "stdout",
          "text": [
            "Hello,World!\n"
          ]
        }
      ]
    },
    {
      "cell_type": "code",
      "source": [
        "# 2.  write a python program that display your name and age\n",
        "\n",
        "\n",
        "#Display the information\n",
        "print(\"my name salma syed\"  )\n",
        "print(\"my age\",22)"
      ],
      "metadata": {
        "colab": {
          "base_uri": "https://localhost:8080/"
        },
        "id": "HxjTi2ya9ZbN",
        "outputId": "dd40a530-f99a-42ea-bc54-fa5387e7a824"
      },
      "execution_count": null,
      "outputs": [
        {
          "output_type": "stream",
          "name": "stdout",
          "text": [
            "my name salma syed\n",
            "my age 22\n"
          ]
        }
      ]
    },
    {
      "cell_type": "code",
      "source": [
        "# 3. Write a code to print all the pre-defined keywords in python using the keyword library.\n",
        "\n",
        "\n",
        "import keyword\n",
        "\n",
        "#Get the list of all python keywords\n",
        "keywords_list=keyword.kwlist\n",
        "\n",
        "# print the keywords\n",
        "print(\"python keywords:\")\n",
        "for kw in keywords_list:\n",
        "  print(kw)"
      ],
      "metadata": {
        "colab": {
          "base_uri": "https://localhost:8080/"
        },
        "id": "EZGE7O61_GzK",
        "outputId": "413bcdec-0c66-4101-ad1f-d24a3b569262"
      },
      "execution_count": null,
      "outputs": [
        {
          "output_type": "stream",
          "name": "stdout",
          "text": [
            "python keywords:\n",
            "False\n",
            "None\n",
            "True\n",
            "and\n",
            "as\n",
            "assert\n",
            "async\n",
            "await\n",
            "break\n",
            "class\n",
            "continue\n",
            "def\n",
            "del\n",
            "elif\n",
            "else\n",
            "except\n",
            "finally\n",
            "for\n",
            "from\n",
            "global\n",
            "if\n",
            "import\n",
            "in\n",
            "is\n",
            "lambda\n",
            "nonlocal\n",
            "not\n",
            "or\n",
            "pass\n",
            "raise\n",
            "return\n",
            "try\n",
            "while\n",
            "with\n",
            "yield\n"
          ]
        }
      ]
    },
    {
      "cell_type": "code",
      "source": [
        "#  4. Write a program that checks if a given word is  a python keyword\n",
        "\n",
        "import keyword\n",
        "\n",
        "#Get input from the user\n",
        "word=input(\"enter a word to check if it's a python keyword:\")\n",
        "\n",
        "# checks if it's a keyword\n",
        "if keyword.iskeyword(word):\n",
        "   print(f\"'{word}'  is a python keyword.\")\n"
      ],
      "metadata": {
        "colab": {
          "base_uri": "https://localhost:8080/"
        },
        "id": "sLWy2ljcAfZj",
        "outputId": "dfeafa19-24cd-4612-f08a-56f597f0a677"
      },
      "execution_count": null,
      "outputs": [
        {
          "output_type": "stream",
          "name": "stdout",
          "text": [
            "enter a word to check if it's a python keyword:not\n",
            "'not'  is a python keyword.\n"
          ]
        }
      ]
    },
    {
      "cell_type": "code",
      "source": [
        "# 5.create a list and tuple in python, and demonstrate how attempting to change an elecment works differently for each.\n",
        "\n",
        "# Creating a list and a tuple\n",
        "my_list=[10,20,30]\n",
        "print(\"original list:\",my_list)\n",
        "\n",
        "# Modifying the second element\n",
        "my_list[1]=200\n",
        "print(\"Modified list:\",my_list)\n",
        "\n",
        "# Creating a tuple\n",
        "my_tuple=(10,20,30)\n",
        "print(\"original tuple:\", my_tuple)\n",
        "\n",
        "my_tuple[1]=200"
      ],
      "metadata": {
        "colab": {
          "base_uri": "https://localhost:8080/",
          "height": 228
        },
        "id": "s-7Xm-SwCoxS",
        "outputId": "b774fceb-2180-4168-b8e4-a0f2669416f7"
      },
      "execution_count": null,
      "outputs": [
        {
          "output_type": "stream",
          "name": "stdout",
          "text": [
            "original list: [10, 20, 30]\n",
            "Modified list: [10, 200, 30]\n",
            "original tuple: (10, 20, 30)\n"
          ]
        },
        {
          "output_type": "error",
          "ename": "TypeError",
          "evalue": "'tuple' object does not support item assignment",
          "traceback": [
            "\u001b[0;31m---------------------------------------------------------------------------\u001b[0m",
            "\u001b[0;31mTypeError\u001b[0m                                 Traceback (most recent call last)",
            "\u001b[0;32m<ipython-input-31-903a3d1bb803>\u001b[0m in \u001b[0;36m<cell line: 0>\u001b[0;34m()\u001b[0m\n\u001b[1;32m     13\u001b[0m \u001b[0mprint\u001b[0m\u001b[0;34m(\u001b[0m\u001b[0;34m\"original tuple:\"\u001b[0m\u001b[0;34m,\u001b[0m \u001b[0mmy_tuple\u001b[0m\u001b[0;34m)\u001b[0m\u001b[0;34m\u001b[0m\u001b[0;34m\u001b[0m\u001b[0m\n\u001b[1;32m     14\u001b[0m \u001b[0;34m\u001b[0m\u001b[0m\n\u001b[0;32m---> 15\u001b[0;31m \u001b[0mmy_tuple\u001b[0m\u001b[0;34m[\u001b[0m\u001b[0;36m1\u001b[0m\u001b[0;34m]\u001b[0m\u001b[0;34m=\u001b[0m\u001b[0;36m200\u001b[0m\u001b[0;34m\u001b[0m\u001b[0;34m\u001b[0m\u001b[0m\n\u001b[0m",
            "\u001b[0;31mTypeError\u001b[0m: 'tuple' object does not support item assignment"
          ]
        }
      ]
    },
    {
      "cell_type": "code",
      "source": [
        "# 6.Write a function to demonstrate the behavior of mutable and immutable arguments.\n",
        "\n",
        "\n",
        "def  demonstrate_mutable_immutable(num,num_list):\n",
        "     print(\"Before modification:\")\n",
        "     print(f\"immutable (num):{num}\")\n",
        "     print(f\"Mutable(num_list): {num_list}\")\n",
        "\n",
        "     num+=10 # Immutable-creates a new object\n",
        "     num_list.append(100) # Mutable-modifies the original object\n",
        "\n",
        "     print(\"\\nAfter modification inside function:\")\n",
        "     print(f\"Immutable (num):{num}\")\n",
        "     print(f\"Mutable (num_list):{num_list}\")\n",
        "\n",
        "\n",
        "#Example usage\n",
        "original_num=5\n",
        "original_list=[1,2,3]\n",
        "\n",
        "demonstrate_mutable_immutable(original_num,original_list)\n",
        "\n",
        "print(\"\\nAfter function call:\")\n",
        "print(\"immutable (oroginal_num):{original_num}:\")\n",
        "  # still 5\n",
        "print(f\"Mutable (original_list):{original_list}\")\n",
        "\n",
        "\n"
      ],
      "metadata": {
        "colab": {
          "base_uri": "https://localhost:8080/"
        },
        "id": "X4v8TevQGpFZ",
        "outputId": "d08f3bbe-7bc0-4ec5-c37e-c23d2150100e"
      },
      "execution_count": null,
      "outputs": [
        {
          "output_type": "stream",
          "name": "stdout",
          "text": [
            "Before modification:\n",
            "immutable (num):5\n",
            "Mutable(num_list): [1, 2, 3]\n",
            "\n",
            "After modification inside function:\n",
            "Immutable (num):15\n",
            "Mutable (num_list):[1, 2, 3, 100]\n",
            "\n",
            "After function call:\n",
            "immutable (oroginal_num):{original_num}:\n",
            "Mutable (original_list):[1, 2, 3, 100]\n"
          ]
        }
      ]
    },
    {
      "cell_type": "code",
      "source": [
        "\n",
        " # 7. Write a program that performs basic arithematic operations on  two  user input numbers.\n",
        "\n",
        " # Arithmetic operations\n",
        " # Input numebers\n",
        "a= float(input(\"enter first number: \"))\n",
        "b=float(input(\"enter second number: \"))\n",
        "# calculations\n",
        "print(\"Addition: \", a+b)\n",
        "print(\"subtraction: \", a-b)\n",
        "print(\"multiplication: \", a*b)\n",
        "# Division with zero check\n",
        "if b!=0:\n",
        "  print(\"division: \", a/b)\n",
        "else:\n",
        "    print(\"division: cannot divide by zero.\")\n"
      ],
      "metadata": {
        "colab": {
          "base_uri": "https://localhost:8080/"
        },
        "id": "EmTrd7AnduAw",
        "outputId": "f27f7166-2bb5-4a43-840b-25cde2759e9a"
      },
      "execution_count": null,
      "outputs": [
        {
          "output_type": "stream",
          "name": "stdout",
          "text": [
            "enter first number: 5\n",
            "enter second number: 6\n",
            "Addition:  11.0\n",
            "subtraction:  -1.0\n",
            "multiplication:  30.0\n",
            "division:  0.8333333333333334\n"
          ]
        }
      ]
    },
    {
      "cell_type": "code",
      "source": [
        "# 8. Write a program to demonstrate the use of logical operators.\n",
        "# logical operstors Demonstration\n",
        "# Get input from user\n",
        "a=int(input(\"Enter a number: \"))\n",
        "# Demonstrating logical operators\n",
        "print(\"Is the number greater than 0 and less than 10?\")\n",
        "print(a>0 and a<0)\n",
        "print(\"is the number less than 0 or greater than 100?\")\n",
        "print(a<0 or a>100)\n",
        "print(\"Is the number NOT equsl to 5?\")\n",
        "print(not a==5)"
      ],
      "metadata": {
        "colab": {
          "base_uri": "https://localhost:8080/"
        },
        "id": "ORp8QbyXibZz",
        "outputId": "61846846-be53-49e7-e02d-bf1d9caefaaf"
      },
      "execution_count": null,
      "outputs": [
        {
          "output_type": "stream",
          "name": "stdout",
          "text": [
            "Enter a number: 67\n",
            "Is the number greater than 0 and less than 10?\n",
            "False\n",
            "is the number less than 0 or greater than 100?\n",
            "False\n",
            "Is the number NOT equsl to 5?\n",
            "True\n"
          ]
        }
      ]
    },
    {
      "cell_type": "code",
      "source": [
        "# 9. write a python program to convert user input from string to integer, float, and boolean types.\n",
        "# Get user input\n",
        "user_input= input(\"Enter something: \")\n",
        "# convert to string\n",
        "str_value= str(user_input)\n",
        "print(\"As string\" , str_value)\n",
        "\n",
        "#convert to float try:\n",
        "\n",
        "float_value= float(user_input)\n",
        "print(\"As float:\" ,float_value)\n",
        "#convert to boolean\n",
        "bool_value=bool(user_input)\n",
        "print(\"As Boolean:\" , bool_value)"
      ],
      "metadata": {
        "colab": {
          "base_uri": "https://localhost:8080/"
        },
        "id": "1S6jAYRamAJE",
        "outputId": "3058a4b7-f445-47c0-d910-f4efcfcf4351"
      },
      "execution_count": null,
      "outputs": [
        {
          "output_type": "stream",
          "name": "stdout",
          "text": [
            "Enter something: 10\n",
            "As string 10\n",
            "As float: 10.0\n",
            "As Boolean: True\n"
          ]
        }
      ]
    },
    {
      "cell_type": "code",
      "source": [
        "# 10. Write  code to demonstarate type casting with list elements\n",
        "\n",
        "\n",
        "# List with string numbers\n",
        "str_list= ['10','20','30','40']\n",
        "\n",
        "\n",
        "# Convert to integers\n",
        "int_list =[int(item) for item in str_list]\n",
        "print(\"integer list:\", int_list)\n",
        "\n",
        "# Convert to floats\n",
        "float_list =[float(item) for item in str_list]\n",
        "print(\"float list:\", float_list)\n",
        "\n",
        "# Convert to booleans\n",
        "bool_list = [bool(item) for item in str_list]\n",
        "print(\"Boolean list:\",bool_list)\n",
        "\n",
        "\n",
        "\n"
      ],
      "metadata": {
        "colab": {
          "base_uri": "https://localhost:8080/"
        },
        "id": "vGZzthtytIlB",
        "outputId": "bee6eb5a-714e-41ef-c336-fc646d36f34e"
      },
      "execution_count": null,
      "outputs": [
        {
          "output_type": "stream",
          "name": "stdout",
          "text": [
            "integer list: [10, 20, 30, 40]\n",
            "float list: [10.0, 20.0, 30.0, 40.0]\n",
            "Boolean list: [True, True, True, True]\n"
          ]
        }
      ]
    },
    {
      "cell_type": "code",
      "source": [
        "# 11. write a program that checks if a number is positive, negative, or zero.\n",
        "\n",
        "# check if a number is positive, negative or zero\n",
        "num= float(input(\"enter a number\"))\n",
        "if num > 0:\n",
        "  print(\"the nummber is positive\")\n",
        "elif num < 0:\n",
        "  print(\"negative number\")\n",
        "else:\n",
        "    print(\"zero\")"
      ],
      "metadata": {
        "colab": {
          "base_uri": "https://localhost:8080/"
        },
        "id": "3z6DuNpxwanc",
        "outputId": "72f30bdf-97b4-4eb3-9e5d-3be0d2ba40eb"
      },
      "execution_count": null,
      "outputs": [
        {
          "output_type": "stream",
          "name": "stdout",
          "text": [
            "enter a number12\n",
            "the nummber is positive\n"
          ]
        }
      ]
    },
    {
      "cell_type": "code",
      "source": [
        "# 12.  write a for loop to print numbers from 1 to 10.\n",
        "# print numbers from 1 to 10 using for loop\n",
        "for i in range(1,11):\n",
        "  print(i)"
      ],
      "metadata": {
        "colab": {
          "base_uri": "https://localhost:8080/"
        },
        "id": "7S6OSZqEzqJ5",
        "outputId": "0804932c-55fe-45f0-e834-3167a70ea688"
      },
      "execution_count": null,
      "outputs": [
        {
          "output_type": "stream",
          "name": "stdout",
          "text": [
            "1\n",
            "2\n",
            "3\n",
            "4\n",
            "5\n",
            "6\n",
            "7\n",
            "8\n",
            "9\n",
            "10\n"
          ]
        }
      ]
    },
    {
      "cell_type": "code",
      "source": [
        "#  13. write a python program to  find the sum of all even numbers between 1 and 50\n",
        " # Initialize sum variable\n",
        "even_sum = 0\n",
        "\n",
        "  # Loop through numbers from 1 to 50\n",
        "for number in range (1,51):\n",
        "    if number % 2==0:\n",
        "      even_sum += number\n",
        "\n",
        "      # print the result\n",
        "      print(\"the sum of all even numbers between 1 and 50 is : \" , even_sum)\n"
      ],
      "metadata": {
        "colab": {
          "base_uri": "https://localhost:8080/"
        },
        "id": "YY3eYVAc09Rl",
        "outputId": "c3ada56a-87ba-4d13-a10a-c4f1356e7607"
      },
      "execution_count": null,
      "outputs": [
        {
          "output_type": "stream",
          "name": "stdout",
          "text": [
            "the sum of all even numbers between 1 and 50 is :  2\n",
            "the sum of all even numbers between 1 and 50 is :  6\n",
            "the sum of all even numbers between 1 and 50 is :  12\n",
            "the sum of all even numbers between 1 and 50 is :  20\n",
            "the sum of all even numbers between 1 and 50 is :  30\n",
            "the sum of all even numbers between 1 and 50 is :  42\n",
            "the sum of all even numbers between 1 and 50 is :  56\n",
            "the sum of all even numbers between 1 and 50 is :  72\n",
            "the sum of all even numbers between 1 and 50 is :  90\n",
            "the sum of all even numbers between 1 and 50 is :  110\n",
            "the sum of all even numbers between 1 and 50 is :  132\n",
            "the sum of all even numbers between 1 and 50 is :  156\n",
            "the sum of all even numbers between 1 and 50 is :  182\n",
            "the sum of all even numbers between 1 and 50 is :  210\n",
            "the sum of all even numbers between 1 and 50 is :  240\n",
            "the sum of all even numbers between 1 and 50 is :  272\n",
            "the sum of all even numbers between 1 and 50 is :  306\n",
            "the sum of all even numbers between 1 and 50 is :  342\n",
            "the sum of all even numbers between 1 and 50 is :  380\n",
            "the sum of all even numbers between 1 and 50 is :  420\n",
            "the sum of all even numbers between 1 and 50 is :  462\n",
            "the sum of all even numbers between 1 and 50 is :  506\n",
            "the sum of all even numbers between 1 and 50 is :  552\n",
            "the sum of all even numbers between 1 and 50 is :  600\n",
            "the sum of all even numbers between 1 and 50 is :  650\n"
          ]
        }
      ]
    },
    {
      "cell_type": "code",
      "source": [
        "# 14. write a program to reverse a string using a while loop.\n",
        "\n",
        "\n",
        "\n",
        "def reverse_string(text):\n",
        "    reversed_text=\"\"\n",
        "    index =len(text)-1\n",
        "    while index>=0:\n",
        "      reversed_text+=text[index]\n",
        "      index-=1\n",
        "    return reversed_text\n",
        "\n",
        "my_string=\"vijayawada\"\n",
        "reversed_string=reverse_string(my_string)\n",
        "print(f\"Original string:{my_string}\")\n",
        "print(f\"reversed string:{reversed_string}\")\n",
        "\n",
        "\n",
        "\n",
        "\n",
        "\n",
        "\n",
        "\n"
      ],
      "metadata": {
        "colab": {
          "base_uri": "https://localhost:8080/"
        },
        "id": "kCDusvyo3aod",
        "outputId": "408d0972-105f-40c9-84d1-57b78b44af67"
      },
      "execution_count": null,
      "outputs": [
        {
          "output_type": "stream",
          "name": "stdout",
          "text": [
            "Original string:vijayawada\n",
            "reversed string:adawayajiv\n"
          ]
        }
      ]
    },
    {
      "cell_type": "code",
      "source": [
        "# 15.Write a python program to calculate the factorial of a number provided by the user using a while loop\n",
        "\n",
        "\n",
        "# Get input from user\n",
        "num = int(input(\"Enter a number to calculate its factorial: \"))\n",
        "\n",
        "# Initialize varibles\n",
        "factorial=1\n",
        "n = num\n",
        "\n",
        "# Calculate factorial using while loop\n",
        "while n > 0:\n",
        "   factorial *= n\n",
        "   n -= 1\n",
        "\n",
        "\n",
        "# Display the results\n",
        "print(f\"The factorial of {num} is {factorial}\")\n",
        "\n",
        "\n",
        "\n",
        "\n",
        "\n"
      ],
      "metadata": {
        "colab": {
          "base_uri": "https://localhost:8080/"
        },
        "id": "3LccRpeo6J1j",
        "outputId": "497d1bb3-2706-4150-bf2d-464049dd9b4b"
      },
      "execution_count": null,
      "outputs": [
        {
          "output_type": "stream",
          "name": "stdout",
          "text": [
            "Enter a number to calculate its factorial: 5\n",
            "The factorial of 5 is 120\n"
          ]
        }
      ]
    }
  ]
}