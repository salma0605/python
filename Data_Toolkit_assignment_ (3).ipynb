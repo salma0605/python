{
  "nbformat": 4,
  "nbformat_minor": 0,
  "metadata": {
    "colab": {
      "provenance": []
    },
    "kernelspec": {
      "name": "python3",
      "display_name": "Python 3"
    },
    "language_info": {
      "name": "python"
    }
  },
  "cells": [
    {
      "cell_type": "markdown",
      "source": [
        "# Data toolkit assignment questions"
      ],
      "metadata": {
        "id": "M1PkFDK1O9Dr"
      }
    },
    {
      "cell_type": "markdown",
      "source": [
        "1. What is NumPy, and why is it widely used in Python?\n",
        "\n",
        "\n",
        "Ans:NumPy,is a fundamental library for numerical and scientific computing in Python. It provides support for multi-dimensional arrays, along with a collection of mathematical functions to operate on these arrays efficiently.\n",
        "\n",
        "NumPy is widely used in Python due to several reasons:\n",
        "\n",
        " - Efficient Data Structures:\n",
        "NumPy introduces the ndarray, an n-dimensional array object that is highly efficient for storing and manipulating large datasets of homogeneous data types.\n",
        "\n",
        " - Performance:\n",
        "NumPy arrays are stored at one continuous place in memory, allowing for faster access and manipulation compared to Python lists. This is known as locality of reference.\n",
        "\n",
        " - Vectorized Operations:\n",
        "NumPy enables element-wise operations on arrays without needing explicit loops, leading to faster code execution.\n",
        "\n",
        " - Mathematical Functions:\n",
        "NumPy provides a wide range of mathematical functions for operations like linear algebra, Fourier transforms, and statistical analysis.\n",
        "\n",
        " - Integration:\n",
        "NumPy is the foundation for many other scientific and data analysis libraries in Python, such as SciPy, Matplotlib, and Pandas, making it a crucial tool for data science and machine learning.\n",
        "\n",
        " - Open Source:\n",
        "NumPy is an open-source project, allowing users to freely use and contribute to the library.\n",
        "\n",
        "\n",
        "\n",
        " - Foundation for other Libraries: Many other popular scientific and data analysis libraries in Python, such as SciPy, pandas, and scikit-learn, are built on top of NumPy."
      ],
      "metadata": {
        "id": "_TkpSoAIPMOd"
      }
    },
    {
      "cell_type": "markdown",
      "source": [
        "2. How does broadcasting work in NumPy?\n",
        "\n",
        "Ans:Broadcasting in NumPy allows us to perform arithmetic operations on arrays of different shapes without reshaping them. It automatically adjusts the smaller array to match the larger array's shape by replicating its values along the necessary dimensions. This makes element-wise operations more efficient by reducing memory usage and eliminating the need for loops.\n",
        "\n",
        "\n",
        "\n",
        "The Broadcasting Rules:\n",
        "\n",
        "\n",
        " 1. Dimension Matching: NumPy starts by comparing the shapes of arrays from the trailing (rightmost) dimension and works its way left.\n",
        "\n",
        "2. Compatibility: Two dimensions are considered compatible if: They are equal in size, or one of them has size 1.\n",
        "\n",
        "3. Broadcasting Axis: If a dimension is 1, it's stretched (repeated) to match the size of the corresponding dimension in the other array.\n",
        "\n",
        "4. Rank Adjustment: If the arrays have different ranks (number of dimensions), NumPy will virtually add a “wrapper dimension” to the shape of the lower-rank array until the ranks match.\n",
        "\n",
        "5. ValueError: If the dimensions cannot be aligned using these rules, you'll encounter a ValueError.\n",
        "\n",
        "\n",
        "\n",
        "\n",
        "\n",
        "\n",
        "\n",
        "\n",
        "Here's a general idea of how it works:\n",
        "\n",
        "Rule 1: Dimensions are aligned from the end. NumPy compares the dimensions of the two arrays starting from the trailing (last) dimension.\n",
        "\n",
        "\n",
        "\n",
        "Rule 2: Dimensions with size 1 can be stretched. If the dimension of one array is 1 and the dimension of the other array is greater than 1, the array with size 1 is stretched to match the larger dimension.\n",
        "\n",
        "\n",
        "\n",
        "Rule 3: Dimensions must be equal or one must be 1. For a dimension to be compatible, either the sizes of the dimensions must be equal, or one of the dimensions must have a size of 1. If these conditions are not met, a ValueError is raised.\n",
        "\n",
        "\n",
        "\n",
        "Benefits of Broadcasting\n",
        " - Efficiency: Reduces memory usage by avoiding unnecessary data replication.\n",
        "\n",
        " - Simplicity: Eliminates the need for explicit loops in array operations.\n",
        "\n",
        " - Performance: Leverages optimized C-level implementations for faster computations.\n",
        "\n"
      ],
      "metadata": {
        "id": "hlul-ftTRAio"
      }
    },
    {
      "cell_type": "markdown",
      "source": [
        "3. What is a Pandas DataFrame?\n",
        "\n",
        "\n",
        "\n",
        "\n",
        "Ans:A Pandas DataFrame is a two-dimensional, size-mutable, and potentially heterogeneous tabular data structure with labeled axes (rows and columns). It is a fundamental data structure in the Pandas library, widely used for data manipulation and analysis in Python.\n",
        "\n",
        "\n",
        "\n",
        "\n",
        "DataFrame as a spreadsheet or a SQL table. It consists of:\n",
        "\n",
        "1. Rows: Each row represents an observation or record.\n",
        "\n",
        "2. Columns: Each column represents a variable or feature, and they can hold different data types (e.g., integers, floats, strings, booleans).\n",
        "\n",
        "3. Index: The index provides labels for the rows, allowing you to access specific rows.\n",
        "\n",
        "4. Column Labels: The column labels provide names for the columns, allowing you to access specific columns.\n",
        "\n",
        "\n",
        "\n",
        "\n",
        "\n",
        "Here's a breakdown of its key characteristics:\n",
        "\n",
        " - Two-dimensional: Data is organized in rows and columns, similar to a table or spreadsheet.\n",
        "\n",
        " - Size-mutable: You can add or remove rows and columns after creation.\n",
        "\n",
        " - Potentially heterogeneous: Columns can have different data types (e.g., numeric, string, boolean).\n",
        "\n",
        " - Labeled axes: Both rows and columns have labels, allowing for easy data access and manipulation.\n",
        "\n",
        " - Data alignment: Arithmetic operations automatically align data based on row and column labels.\n",
        "\n",
        "\n",
        "DataFrames can be created from various sources, including:\n",
        "\n",
        " - Dictionaries of lists, NumPy arrays, or Series.\n",
        "\n",
        " - Two-dimensional NumPy arrays.\n",
        "CSV files, Excel files, SQL databases, and more.\n",
        "\n",
        "DataFrames provide a rich set of functionalities for data manipulation, such as:\n",
        "\n",
        " - Selecting, filtering, and sorting data.\n",
        "\n",
        " - Adding, removing, and renaming columns.\n",
        "\n",
        " - Grouping and aggregating data.\n",
        "Handling missing values.\n",
        "\n",
        " - Merging and joining data from multiple sources.\n",
        "\n",
        " - Performing statistical analysis.\n",
        "Visualizing data.\n",
        "\n",
        "Pandas DataFrames are essential for data scientists, analysts, and anyone working with structured data in Python. They offer a powerful and flexible way to organize, analyze, and prepare data for further processing or modeling"
      ],
      "metadata": {
        "id": "-PBTykKHVUAh"
      }
    },
    {
      "cell_type": "markdown",
      "source": [
        "4.  Explain the use of the groupby() method in Pandas?\n",
        "\n",
        "\n",
        "Ans:The groupby() method in Pandas is a powerful tool used for data analysis, allowing you to group data based on one or more columns. It enables you to perform operations on subsets of your data, such as aggregating, transforming, or filtering groups.\n",
        "\n",
        "Key Functionalities:\n",
        "\n",
        " - Splitting:\n",
        "The groupby() method splits the DataFrame into groups based on the unique values in the specified column(s).\n",
        "\n",
        " - Applying:\n",
        "After grouping, you can apply a function to each group independently. This could be an aggregation function (like sum, mean, count, min, max), a transformation function, or a filtering operation.\n",
        "\n",
        " - Combining:\n",
        "Finally, the results of the applied function are combined into a new data structure.\n",
        "\n",
        "Common Use Cases:\n",
        "\n",
        " -  Aggregation:\n",
        "Calculating summary statistics for each group, such as the average sales per region or the total number of customers in each category.\n",
        "\n",
        " - Transformation:\n",
        "Modifying values within each group, such as standardizing data within a specific group.\n",
        "\n",
        " - Filtering:\n",
        "Keeping or discarding groups based on specific conditions, such as selecting groups with a total sales above a certain threshold\n",
        "\n",
        "\n",
        "\n",
        "The groupby() method is a versatile tool for exploring and summarizing data, allowing you to gain insights by analyzing data at different levels of granularity"
      ],
      "metadata": {
        "id": "ZB4SmwJuZyHO"
      }
    },
    {
      "cell_type": "markdown",
      "source": [
        "5. Why is Seaborn preferred for statistical visualizations?\n",
        "\n",
        "\n",
        "Ans:Seaborn is often preferred for statistical visualizations in Python for several reasons:\n",
        "\n",
        " 1. Built on Matplotlib: Seaborn is a high-level interface that is built on top of Matplotlib. This means you can use the power and flexibility of Matplotlib while benefiting from Seaborn's streamlined functions for statistical plotting.\n",
        "\n",
        " 2. Attractive Default Themes: Seaborn provides appealing default plot themes that look good out of the box, reducing the need for extensive customization to make your visualizations presentable.\n",
        "\n",
        "3. Focus on Statistical Plots: Seaborn is designed with statistical visualization in mind. It offers a variety of specialized plot types (like scatter plots, line plots, bar plots, box plots, violin plots, heatmaps, etc.) that are well-suited for exploring relationships between variables and visualizing distributions.\n",
        "\n",
        "4. Integration with Pandas DataFrames: Seaborn works seamlessly with Pandas DataFrames. You can directly pass DataFrames to Seaborn plotting functions, and Seaborn can automatically map columns to visual attributes like color, size, and shape, making it easier to create complex plots from structured data.\n",
        "\n",
        "5. Handling of Categorical Data: Seaborn has excellent support for plotting with categorical variables, offering various ways to visualize relationships between numerical and categorical data.\n",
        "\n",
        "6. Concise Syntax: Seaborn generally provides a more concise and intuitive syntax for creating common statistical plots compared to directly using Matplotlib.\n",
        "\n",
        " Seaborn simplifies the process of creating informative and aesthetically pleasing statistical visualizations by providing a high-level interface, attractive defaults, and specialized plot types, especially when working with Pandas DataFrames."
      ],
      "metadata": {
        "id": "hm9VWxF3bpG6"
      }
    },
    {
      "cell_type": "markdown",
      "source": [
        "6. What are the differences between NumPy arrays and Python lists?\n",
        "\n",
        "\n",
        "Ans:NumPy arrays and Python lists are both used to store collections of items, but they differ significantly in terms of functionality and performance.\n",
        "\n",
        "\n",
        "Here's a breakdown of their key differences:\n",
        "\n",
        "1. Data Type:\n",
        "\n",
        " - Python Lists:\n",
        "Can store elements of different data types (e.g., integers, strings, floats) within the same list.\n",
        "\n",
        " - NumPy Arrays:\n",
        "Typically store elements of the same data type. This homogeneity allows for more efficient storage and computation.\n",
        "\n",
        "2. Memory Efficiency:\n",
        "\n",
        " - Python Lists:\n",
        "Store elements in non-contiguous memory locations, which can lead to higher memory consumption, especially for large datasets.\n",
        "\n",
        " - NumPy Arrays:\n",
        "Store elements in contiguous memory blocks, making them more memory-efficient, particularly for numerical data.\n",
        "\n",
        "3. Performance:\n",
        "\n",
        " - Python Lists:\n",
        "Slower for numerical computations due to their dynamic nature and lack of vectorized operations.\n",
        "\n",
        " - NumPy Arrays:\n",
        "Optimized for numerical operations, enabling faster computations through vectorized operations and C-based implementation.\n",
        "\n",
        "4. Functionality:\n",
        "\n",
        " - Python Lists:\n",
        "Offer flexibility for general-purpose tasks, with methods for adding, removing, and modifying elements.\n",
        "\n",
        " - NumPy Arrays:\n",
        "Provide powerful tools for numerical analysis, including mathematical functions, broadcasting, and multi-dimensional array handling.\n",
        "\n",
        "5. Flexibility:\n",
        "\n",
        " - Python Lists:\n",
        "More flexible, allowing easy modification of data and elements of different types.\n",
        "\n",
        " - NumPy Arrays:\n",
        "Less flexible, as they require homogeneous data types and are less straightforward to modify.\n",
        "\n",
        "6. Use Cases:\n",
        "\n",
        " - Python Lists:\n",
        "Suitable for general-purpose tasks, storing mixed data types, and when flexibility is prioritized.\n",
        "\n",
        " - NumPy Arrays:\n",
        "Ideal for numerical computations, handling large datasets, and when performance and memory efficiency are critical.\n",
        "\n",
        "\n",
        "7. Size Mutability:\n",
        "\n",
        " - NumPy Arrays: Generally fixed in size after creation. While you can change the shape of a NumPy array, adding or removing elements often requires creating a new array.\n",
        "\n",
        " -  Python Lists: Dynamic in size and can easily grow or shrink by adding or removing elements\n",
        "\n",
        "\n",
        "\n",
        "\n",
        "Other Key Differences:\n",
        "\n",
        " - Size: NumPy arrays have a fixed size, while Python lists can be dynamically resized.\n",
        "\n",
        " - Printing: Python lists can be printed directly, while NumPy arrays may require loops for printing elements\n",
        " .\n",
        " - Operations: NumPy arrays support arithmetic operations, while Python lists do not.\n",
        "\n",
        " Python lists are more versatile and flexible, while NumPy arrays excel in numerical computations and large dataset handling due to their efficiency and optimized operations."
      ],
      "metadata": {
        "id": "zC2jhFmdc1Sd"
      }
    },
    {
      "cell_type": "markdown",
      "source": [
        "7. What is a heatmap, and when should it be used?\n",
        "\n",
        "\n",
        "Ans:A heatmap is a visualization technique that uses color to represent data values, with darker colors indicating higher values and lighter colors indicating lower values. It's commonly used to display trends, patterns, and variations within a dataset, making it easy to spot hotspots and outliers. Heatmaps are versatile and can be used in various fields, including website analysis, data visualization, and even to analyze crime data.\n",
        "\n",
        "Here's a more detailed breakdown:\n",
        "\n",
        "When to use a heatmap:\n",
        "\n",
        " - Website Analysis:\n",
        "To understand user behavior on a website, such as where users click, how far they scroll, or which elements they interact with most.\n",
        "\n",
        " - Data Visualization:\n",
        "To represent complex data sets in a visually appealing and easy-to-understand way, highlighting trends, patterns, and correlations.\n",
        "\n",
        " - Retail:\n",
        "To analyze foot traffic in stores, optimize layouts, and improve resource allocation.\n",
        "\n",
        " - Manufacturing:\n",
        "To monitor production bay performance, identify defects, and optimize processes.\n",
        "\n",
        " - Crime Analytics:\n",
        "To identify crime hotspots and understand crime patterns.\n",
        "\n",
        " -\n",
        " Product Design:\n",
        "To understand user engagement with different elements of a product and identify areas for improvement.\n",
        "\n",
        " - Marketing:\n",
        "To gauge the effectiveness of ads and campaigns, and optimize ad placement.\n",
        "\n",
        " - Population Studies:\n",
        "To analyze population density, per-capita income, and other demographic data.\n",
        "\n",
        " - Scientific Research:\n",
        "To study relationships between variables and identify patterns in complex data sets.\n",
        "\n",
        "Benefits of using heatmaps:\n",
        "\n",
        "  - Visual Appeal: Heatmaps make data easy to understand and quickly identify trends and patterns.\n",
        "  \n",
        "  \n",
        "  \n",
        "  \n",
        "  - Efficiency: They allow for quick analysis of large datasets.\n",
        "Decision Making: They provide insights that can inform decisions about website design, marketing campaigns, and other strategies.\n",
        "\n",
        "  - Problem Solving: They can help identify issues and areas that need improvement.\n",
        "\n",
        "Heatmaps are a powerful tool for visualizing and analyzing data, providing insights that can be used to make informed decisions and improve various aspects of a business or organization."
      ],
      "metadata": {
        "id": "g5CnMqX5ejC-"
      }
    },
    {
      "cell_type": "markdown",
      "source": [
        "8. What does the term “vectorized operation” mean in NumPy?\n",
        "\n",
        "\n",
        "Ans:In NumPy, a vectorized operation refers to performing an operation on an entire array (or multiple arrays) without explicitly looping through individual elements. This approach leverages NumPy's optimized C implementation, resulting in significantly faster and more efficient computations compared to traditional Python loops.\n",
        "\n",
        "\n",
        "Key Concepts:\n",
        "\n",
        " - Element-wise Operations:\n",
        "Vectorized operations typically apply the same operation to corresponding elements of the input arrays.\n",
        "\n",
        " - No Explicit Loops:\n",
        "Instead of using for loops, NumPy's built-in functions and operators handle the iteration internally.\n",
        "\n",
        " - Performance Boost:\n",
        "By avoiding Python's interpreted nature and utilizing optimized C code, vectorized operations achieve substantial speed improvements, especially for large arrays.\n",
        "\n",
        " - Concise Syntax:\n",
        "Vectorized operations often lead to more readable and concise code, reducing the need for verbose loops.\n",
        "\n",
        "\n",
        "Benefits of Vectorized Operations:\n",
        "\n",
        " - Speed: Faster execution due to optimized C implementations.\n",
        "\n",
        " - Efficiency: Reduced overhead from Python loops.\n",
        "\n",
        " - Readability: More concise and easier-to-understand code.\n",
        "\n",
        " - Conciseness: Less code to write for complex operations.\n",
        "\n",
        "\n",
        "Vectorized operations are a fundamental concept in NumPy and are crucial for efficient numerical computations in Python."
      ],
      "metadata": {
        "id": "jUkJh6Y00WXR"
      }
    },
    {
      "cell_type": "markdown",
      "source": [
        "9. How does Matplotlib differ from Plotly?\n",
        "\n",
        "Ans:Matplotlib and Plotly are both Python libraries used for data visualization, but they differ in several key aspects:\n",
        "\n",
        "Matplotlib\n",
        "\n",
        " - Nature:\n",
        "Primarily a static plotting library. It generates figures in various formats like PNG, JPG, and PDF.\n",
        "\n",
        " - Interactivity:\n",
        "Limited interactivity. While it can create basic interactive elements, it's not its strength.\n",
        "\n",
        " - Customization:\n",
        "Offers extensive control over plot elements, allowing for highly customized and publication-quality figures.\n",
        "\n",
        " - Use Cases:\n",
        "Suitable for generating static visualizations, especially in scientific publications and reports. It is also used for creating custom charts, where detailed control is needed.\n",
        "\n",
        " - Syntax:\n",
        "Uses a more traditional, script-based approach with separate functions for customization.\n",
        "\n",
        " - Web Integration:\n",
        "Requires additional libraries or complex setups to integrate with web frameworks.\n",
        "\n",
        "Plotly\n",
        "\n",
        " - Nature: Designed for interactive web-based visualizations. It creates plots that can be explored and manipulated in a web browser.\n",
        "\n",
        " - Interactivity: Excellent interactivity, including hover effects, zooming, and panning.\n",
        "\n",
        " - Customization: Offers good customization options, but not to the same extent as Matplotlib.\n",
        "\n",
        " - Use Cases: Ideal for building dashboards, web applications, and exploratory data analysis. It is also used when dynamic presentations are required.\n",
        "\n",
        " - Syntax: Employs dictionaries extensively for customization, which can sometimes lead to complex code.\n",
        "\n",
        " - Web Integration: Provides a built-in approach for creating web-ready graphics.\n",
        "\n",
        "\n",
        " Choosing Between Matplotlib and Plotly\n",
        "\n",
        " - Choose Matplotlib if:\n",
        "You need static, high-quality visualizations with extensive customization and control over plot elements.\n",
        "\n",
        " - Choose Plotly if:\n",
        "You need interactive, dynamic visualizations for web applications or dashboards with built-in interactivity.\n",
        "\n",
        "Both libraries are powerful tools for data visualization, but they cater to different needs and preferences. Understanding their strengths will help you choose the right one for your specific project.\n"
      ],
      "metadata": {
        "id": "FmDNnX8Z2ME2"
      }
    },
    {
      "cell_type": "markdown",
      "source": [
        "10. What is the significance of hierarchical indexing in Pandas?\n",
        "\n",
        "\n",
        "Ans:Hierarchical indexing, also known as MultiIndexing, is a powerful feature in Pandas that allows you to have multiple levels of indexing on an axis (row or column). It enables you to represent higher-dimensional data within one-dimensional Series and two-dimensional DataFrame objects. This is particularly useful when working with complex datasets that have multiple levels of categorization.\n",
        "\n",
        "Here's a breakdown of its significance:\n",
        "\n",
        "1. Representing Multi-Dimensional Data:\n",
        "Hierarchical indexing allows you to represent data with more than one or two key dimensions within the standard Pandas Series and DataFrame structures.\n",
        "This is crucial for datasets where data is naturally organized into multiple categories or levels.\n",
        "\n",
        "\n",
        "2. Efficient Data Selection and Subsetting:\n",
        "MultiIndexes enable you to select and subset data based on multiple criteria using the loc method.\n",
        "This makes it easier to extract specific portions of the data based on hierarchical relationships.\n",
        "\n",
        "\n",
        "3. Grouping and Aggregation:\n",
        "Hierarchical indexing allows you to group data by multiple variables simultaneously, facilitating complex data analysis.\n",
        "You can easily perform aggregation operations (e.g., sum, mean, count) across different levels of the index.\n",
        "\n",
        "\n",
        "4. Enhanced Data Organization:\n",
        "MultiIndexing helps to organize data in a more structured and intuitive way.\n",
        "It allows you to create tree-like relationships between data items using parent-child links.\n",
        "\n",
        "\n",
        "5. Improved Data Analysis:\n",
        "Hierarchical indexing makes complex data analysis more manageable and understandable.\n",
        "It provides a more efficient way to query, slice, and aggregate data.\n",
        "\n",
        "6. Flexibility in Data Manipulation:\n",
        "MultiIndexes offer flexibility when creating queries that cover large, complex DataFrames.\n",
        "They can be used to reshape, pivot, and transform data for different analytical purposes.\n",
        "\n",
        "7. Representing Hierarchical Relationships:\n",
        "MultiIndexes are useful for representing data with natural hierarchical relationships, such as geographical location, organizational structure, or time series data with multiple levels of granularity.\n",
        "\n",
        "\n",
        "Hierarchical indexing in Pandas is a crucial tool for handling complex, multi-dimensional data. It allows you to organize, analyze, and manipulate your data more effectively, leading to more insightful and efficient data analysis."
      ],
      "metadata": {
        "id": "ypepKQgu3jj7"
      }
    },
    {
      "cell_type": "markdown",
      "source": [
        "11. What is the role of Seaborn’s pairplot() function?\n",
        "\n",
        "\n",
        "Ans:The pairplot() function in Seaborn is a high-level interface for creating a matrix of scatter plots, which helps to visualize the relationships between multiple variables in a dataset.\n",
        "\n",
        " Here's a breakdown of its role:\n",
        "\n",
        "\n",
        "Exploratory Data Analysis (EDA):\n",
        "\n",
        " - Relationship Visualization:\n",
        "It allows for the visualization of pairwise relationships between all numerical variables in a dataset. This helps in identifying trends, clusters, and correlations.\n",
        "\n",
        " - Distribution Analysis:\n",
        "Along the diagonal of the matrix, it displays the distribution of each individual variable, typically using histograms or kernel density plots. This provides insights into the shape and spread of each variable's data.\n",
        "\n",
        " - Pattern Recognition:\n",
        "By examining the scatter plots, you can identify linear or non-linear relationships, potential outliers, and groupings within your data.\n",
        "\n",
        "Key Features:\n",
        "\n",
        " - Matrix Format:\n",
        "It generates a grid of subplots, with each subplot showing the relationship between two different variables.\n",
        "\n",
        " - Automatic Plotting:\n",
        "It automates the process of creating multiple bivariate plots, saving time and effort.\n",
        "\n",
        " - Customization:\n",
        "While it's a high-level function, it allows customization of plot types, colors, and other visual aspects.\n",
        "\n",
        " - Integration with Pandas:\n",
        "It works seamlessly with Pandas DataFrames, making it easy to analyze data.\n",
        "\n",
        "Use Cases:\n",
        "\n",
        " - Feature Selection:\n",
        "Identifying variables that are highly correlated or show strong relationships can help in feature selection for machine learning models.\n",
        "\n",
        " - Hypothesis Generation:\n",
        "Discovering patterns and relationships in data can lead to the formulation of hypotheses for further investigation.\n",
        "\n",
        " - Data Understanding:\n",
        "It provides a comprehensive overview of the dataset, aiding in understanding the distribution and relationships between variables.\n",
        "\n",
        "Seaborn's pairplot() is a powerful tool for quickly exploring relationships and distributions in a dataset, making it an essential component of exploratory data analysis."
      ],
      "metadata": {
        "id": "dN_WcFyT4O4A"
      }
    },
    {
      "cell_type": "markdown",
      "source": [
        "12. What is the purpose of the describe() function in Pandas?  \n",
        "\n",
        "\n",
        "\n",
        "Ans:The describe() function in Pandas is used to generate descriptive statistics of a DataFrame or Series.\n",
        "\n",
        "key statistical measures, including:\n",
        "\n",
        "\n",
        " - count: The number of non-null values.\n",
        "\n",
        " - mean: The average value.\n",
        "\n",
        " - std: The standard deviation.\n",
        "\n",
        " - min: The minimum value.\n",
        "\n",
        " - 25%: The 25th percentile.\n",
        "\n",
        " - 50%: The median (50th percentile).\n",
        "\n",
        " - 75%: The 75th percentile.\n",
        "\n",
        " - max: The maximum value.\n",
        "\n",
        "By default, describe() only works with numerical data. However, it can also handle categorical data by including the parameter include='all'.\n",
        "\n",
        " For categorical data, the output includes:\n",
        "\n",
        " - count: The number of non-null values.\n",
        "\n",
        " - unique: The number of unique values.\n",
        "\n",
        " - top: The most frequent value.\n",
        "\n",
        " - freq: The frequency of the most frequent value.\n",
        "\n",
        "\n",
        "The describe() function is a valuable tool for understanding the distribution, central tendency, and dispersion of your data, allowing for a quick initial assessment of your dataset.\n",
        "\n",
        "Here's why it's useful:\n",
        "\n",
        "\n",
        " - Data Overview: It gives you a high-level view of the numerical columns by showing the count, mean, standard deviation, minimum, maximum, and quartile values. For non-numeric columns, it provides the count, unique values, top occurring value, and its frequency.\n",
        "\n",
        " - Identifying Data Characteristics: By looking at the output of describe(), you can quickly spot potential issues or interesting characteristics in your data, such as:\n",
        "\n",
        " - Missing values (if the count is less than the total number of rows).\n",
        "Outliers (by examining the minimum and maximum values in relation to the quartiles).\n",
        "\n",
        " - Data distribution (by comparing the mean and median (50%) and looking at the range between quartiles).\n",
        "\n",
        " - Initial Data Exploration: It's often one of the first functions you'll use when you start working with a new dataset in Pandas, as it provides essential information to guide your further analysis.\n",
        "\n",
        "\n",
        "\n",
        "\n"
      ],
      "metadata": {
        "id": "4Gqc7K6p5Y2i"
      }
    },
    {
      "cell_type": "markdown",
      "source": [
        "13.  Why is handling missing data important in Pandas?\n",
        "\n",
        "\n",
        "Ans:Handling missing data in Pandas is crucial because it ensures the accuracy and reliability of data analysis. Missing values, often represented as NaN, can lead to incorrect results and misleading conclusions if not addressed properly.\n",
        "\n",
        "\n",
        "Here's why it's important:\n",
        "\n",
        " - Prevents Errors:\n",
        "Many machine learning algorithms and statistical analyses cannot process datasets with missing values. Handling them avoids errors and allows for the use of these tools.\n",
        "\n",
        " - Maintains Data Integrity:\n",
        "Missing data can skew analysis, leading to inaccurate insights. Addressing missing values ensures the dataset is complete and reliable for analysis.\n",
        "\n",
        "\n",
        "\n",
        "\n",
        "\n",
        " - Algorithm Compatibility: Some functions and algorithms in Python libraries like Pandas, NumPy, and scikit-learn cannot handle missing data directly. You need to address the missing values before using these functions.\n",
        "\n",
        " - Improves Model Performance:\n",
        "For machine learning models, missing data can negatively impact the accuracy and performance. Addressing missing values is essential for building unbiased and effective models.\n",
        "\n",
        " - Avoids Loss of Information:\n",
        "Removing rows or columns with missing values can result in a significant loss of valuable data. Proper handling techniques allow for the preservation of useful information.\n",
        "\n",
        " - Reduces Bias:\n",
        "If missing values are not handled properly, it can introduce bias into the dataset, leading to skewed results and incorrect conclusions.\n",
        "\n",
        "\n",
        "Pandas provides various tools for handling missing data, such as:\n",
        "\n",
        "  - Identifying missing values: Using isna() or isnull() to detect missing values.\n",
        "\n",
        "  - Filling missing values: Using fillna() to replace missing values with a specific value, mean, median, or other methods.\n",
        "\n",
        "  - Dropping missing values: Using dropna() to remove rows or columns with missing values.\n",
        "\n",
        "  - Interpolation: Using interpolate() to estimate missing values based on surrounding data.\n",
        "\n",
        "Choosing the appropriate method for handling missing data depends on the nature of the dataset and the specific analysis being performed.\n"
      ],
      "metadata": {
        "id": "ZgfPcsAW7H3I"
      }
    },
    {
      "cell_type": "markdown",
      "source": [
        "14.  What are the benefits of using Plotly for data visualization?\n",
        "\n",
        "Ans:Plotly is a popular data visualization library in Python, known for its interactive and web-based plots. Here are some of the key benefits of using Plotly:\n",
        "\n",
        " 1. Interactivity: Plotly's main strength is its interactive features. Plots generated by Plotly allow users to zoom, pan, hover over data points to see details, and select data, making data exploration more dynamic and engaging.\n",
        "\n",
        " 2. Web-Based Output: Plotly produces visualizations in HTML format, which can be easily embedded in web applications, dashboards, and websites. This is particularly useful for sharing interactive plots with others who may not have a Python environment.\n",
        "\n",
        " 3. Rich Set of Plot Types: Plotly supports a wide variety of plot types, including scatter plots, line plots, bar charts, histograms, box plots, heatmaps, contour plots, 3D plots, and more. This versatility allows you to visualize different types of data and relationships effectively.\n",
        "\n",
        " 4. High-Quality Graphics: Plotly generates aesthetically pleasing and high-quality graphics that are suitable for presentations, reports, and online publications.\n",
        "\n",
        " 5. Integration with Pandas: Plotly integrates well with Pandas DataFrames, making it easy to create plots directly from your structured data. You can simply pass your DataFrame to Plotly functions and specify the columns to be used for the x-axis, y-axis, color, size, and other visual attributes.\n",
        "\n",
        " 6. Dash Framework: Plotly is the foundation for Dash, a powerful framework for building analytical web applications in Python. Dash allows you to create interactive dashboards and data-driven applications using Plotly plots.\n",
        "\n",
        " 7. Community and Support: Plotly has a strong community and provides good documentation and support, making it easier to learn and use the library.\n",
        "\n",
        "Plotly is an excellent choice for creating interactive, web-based visualizations in Python, especially when you need to share your plots online or build analytical web applications."
      ],
      "metadata": {
        "id": "ryA8h46C8RiB"
      }
    },
    {
      "cell_type": "markdown",
      "source": [
        " 15.  How does NumPy handle multidimensional arrays ?\n",
        "\n",
        "\n",
        " Ans:NumPy's core functionality revolves around the ndarray, a powerful N-dimensional array object.\n",
        "\n",
        "  Here's how NumPy handles multidimensional arrays:\n",
        "\n",
        "\n",
        "1. Homogeneous Data:\n",
        "NumPy arrays store elements of the same data type. This homogeneity allows for efficient storage and computation.\n",
        "\n",
        "2. N-Dimensional Structure:\n",
        "NumPy arrays can have multiple dimensions (1D, 2D, 3D, etc.).\n",
        "The shape of an array defines its dimensions and the size of each dimension. For example, a 2x3 array has 2 rows and 3 columns.\n",
        "\n",
        "3. Efficient Memory Storage:\n",
        "NumPy arrays are stored contiguously in memory, unlike Python lists. This contiguous storage enables faster access and manipulation of array elements.\n",
        "\n",
        "4. Creating Multidimensional Arrays:\n",
        "The np.array() function is used to create arrays from Python lists or tuples. Nested lists can be used to create multidimensional arrays.\n",
        "\n",
        "\n",
        "   \n",
        "5. Indexing and Slicing:\n",
        "Elements in multidimensional arrays can be accessed using integer indices or slicing.\n",
        "Slicing enables selecting specific ranges or sub-arrays.\n",
        "\n",
        "6. Array Operations:\n",
        "NumPy provides a rich set of functions for performing element-wise operations, linear algebra, statistical analysis, and more on multidimensional arrays.\n",
        "\n",
        "7. Strides:\n",
        "NumPy uses strides to navigate through the array's memory. Strides define the number of bytes to jump to move to the next element in each dimension.\n",
        "\n",
        "8. Data Type:\n",
        "NumPy arrays have an associated data type (dtype) that specifies the type of elements stored in the array.\n",
        "NumPy supports various data types, such as integers, floats, and booleans.\n",
        "\n",
        "NumPy's ndarray provides an efficient and versatile way to handle multidimensional data in Python. Its homogeneous nature, contiguous memory storage, and powerful functionalities make it a cornerstone of scientific computing and data analysis."
      ],
      "metadata": {
        "id": "xslFKujR_hgl"
      }
    },
    {
      "cell_type": "markdown",
      "source": [
        "16.  What is the role of Bokeh in data visualization?\n",
        "\n",
        "\n",
        "Ans:Bokeh is a Python library that facilitates the creation of interactive visualizations in web browsers. Its primary role is to enable data scientists and developers to build dynamic and engaging plots, charts, and dashboards.\n",
        "\n",
        "Here are some key aspects of Bokeh's role:\n",
        "\n",
        " - Interactive Visualizations:\n",
        "Bokeh excels at generating interactive plots that allow users to zoom, pan, hover, and explore data in real-time. This enhances the user experience and facilitates a deeper understanding of the data.\n",
        "\n",
        " - Web-Based Output:\n",
        "Bokeh renders visualizations using HTML and JavaScript, making them compatible with modern web browsers. This allows for easy embedding of plots in web applications and dashboards.\n",
        "\n",
        " - Customization:\n",
        "Bokeh offers a high degree of customization, enabling users to tailor the look and feel of their visualizations to meet specific needs.\n",
        "\n",
        " - High-Performance:\n",
        "Bokeh is designed for high-performance rendering of large datasets, making it suitable for complex data analysis and exploration.\n",
        "\n",
        " - Integration with Python Ecosystem:\n",
        "Bokeh integrates seamlessly with other Python libraries such as NumPy, Pandas, and SciPy, providing a powerful toolchain for data analysis and visualization.\n",
        "\n",
        " - Various Output Options:\n",
        "Bokeh visualizations can be outputted in various formats including HTML, notebooks, and server applications, providing flexibility in deployment.\n",
        "\n",
        " - Dashboard Creation:\n",
        "Bokeh is well-suited for creating interactive dashboards with multiple plots and widgets, allowing users to explore and analyze data from different perspectives.\n",
        "\n",
        " - Data Exploration:\n",
        "Bokeh's interactive features make it a valuable tool for exploring and gaining insights from complex datasets.\n",
        "\n",
        " - Communication of Results:\n",
        "Bokeh's ability to create visually appealing and interactive plots makes it an effective tool for communicating data insights to a broader audience.\n",
        "\n",
        " - Three Interface Levels:\n",
        "Bokeh supports different interface levels that can be used by users: a low-level, an intermediate-level, and a high-level interface.\n",
        "\n",
        "Bokeh plays a crucial role in bridging the gap between data analysis and interactive visualization, enabling users to explore, understand, and communicate data insights effectively."
      ],
      "metadata": {
        "id": "BpGPT4EJAW8S"
      }
    },
    {
      "cell_type": "markdown",
      "source": [
        "17.Explain the difference between apply() and map() in Pandas?\n",
        "\n",
        "Ans:apply() and map() are both powerful functions in Pandas, but they operate differently and are used in different contexts.\n",
        "\n",
        " Here's a breakdown of their key distinctions:\n",
        "\n",
        "\n",
        "1. Scope of Application:\n",
        "\n",
        " - map():\n",
        "This function is specifically designed for Pandas Series. It applies a function, dictionary, or another Series to each element of the Series, transforming or replacing values.\n",
        "\n",
        " - apply():\n",
        "This function is more versatile and can be used on both Series and DataFrames. When used on a Series, it operates element-wise similar to map(). When used on a DataFrame, it applies a function along an axis (either rows or columns).\n",
        "\n",
        "\n",
        "2. Function Usage:\n",
        "\n",
        " - map():\n",
        "Typically used for simple element-wise transformations or value substitutions within a Series.\n",
        "\n",
        " - apply():\n",
        "Can handle more complex operations, including those that require access to multiple columns or rows (in the case of DataFrames). It can also change the shape of the DataFrame.\n",
        "\n",
        "\n",
        "3. Input Types:\n",
        "\n",
        " - map():\n",
        "Accepts a function, a dictionary, or another Series as input. When used with a dictionary, it substitutes values based on the dictionary's key-value pairs.\n",
        "\n",
        " - apply():\n",
        "Accepts a function as input. This function can be a simple lambda function or a more complex custom function.\n",
        "\n",
        "\n",
        "4. Performance:\n",
        "\n",
        " - map(): Generally faster for simple element-wise operations on Series.\n",
        "\n",
        " - apply(): Can be slower, especially on large DataFrames, as it doesn't take advantage of multiple CPU cores. However, it can be more efficient for row or column-wise operations on DataFrames.\n",
        "\n",
        "\n",
        "\n",
        "5. Use Cases:\n",
        "\n",
        " - map():\n",
        "Replacing specific values in a Series.\n",
        "Applying a simple mathematical operation to each element in a Series.\n",
        "Mapping categories to numerical values.\n",
        "\n",
        " - apply():\n",
        "Applying a function to each row or column of a DataFrame.\n",
        "Performing complex calculations that involve multiple columns or rows.\n",
        "Creating new columns based on existing column values.\n",
        "Changing the shape of the DataFrame.\n",
        "\n",
        "\n",
        "\n",
        "map() is the go-to choice for simple Series transformations, while apply() is more flexible and suitable for complex operations on both Series and DataFrames"
      ],
      "metadata": {
        "id": "RaA3xUFFB0Cs"
      }
    },
    {
      "cell_type": "markdown",
      "source": [
        "18. What are some advanced features of NumPy?\n",
        "\n",
        "\n",
        "Ans:NumPy is a powerful Python library for numerical computations, offering a wide array of advanced features that go beyond basic array manipulation.\n",
        "\n",
        " Here are some key advanced features:\n",
        "\n",
        "\n",
        "1. Broadcasting: NumPy's broadcasting allows for arithmetic operations between arrays of different shapes. It automatically expands the smaller array to match the shape of the larger array, enabling element-wise operations without explicit loops.\n",
        "\n",
        "2. Universal Functions (ufuncs): These functions operate element-wise on arrays, providing fast and efficient ways to perform mathematical, logical, and bitwise operations. NumPy includes a wide range of ufuncs, and users can also create their own.\n",
        "\n",
        "3. Advanced Indexing: NumPy provides sophisticated indexing techniques beyond basic slicing. This includes:\n",
        "Integer array indexing: Selecting elements based on integer arrays.\n",
        "Boolean array indexing: Selecting elements based on boolean masks.\n",
        "Fancy indexing: Using arrays of indices to select elements.\n",
        "\n",
        "4. Linear Algebra: NumPy has a comprehensive linear algebra module with functions for matrix multiplication, eigenvalue calculations, determinants, solving linear equations, and more.\n",
        "\n",
        "5. Fourier Transforms: NumPy provides functions for performing Fast Fourier Transforms (FFTs) and related operations, essential for signal processing and other applications.\n",
        "\n",
        "6. Random Number Generation: NumPy's random module offers a variety of functions for generating random numbers from different distributions, crucial for simulations and statistical analysis.\n",
        "\n",
        "7. Array Manipulation: NumPy provides advanced functions for manipulating arrays, including: Reshaping: Changing the dimensions of an array, Stacking: Combining arrays along different axes, Splitting: Dividing arrays into sub-arrays, and Tiling: Repeating array elements.\n",
        "\n",
        "8. Masking: Masking is a technique to extract, modify, count, or manipulate elements in an array based on certain criteria. It uses boolean arrays to select elements where the condition is true.\n",
        "\n",
        "9. Structured Arrays: NumPy allows the creation of structured arrays with fields of different data types, similar to records in a database.\n",
        "\n",
        "10. Performance Optimization: NumPy arrays are stored in contiguous memory locations, enabling faster computations than Python lists. Additionally, many NumPy operations are implemented in C, resulting in significant performance gains.\n",
        "\n",
        "\n",
        "These advanced features make NumPy a cornerstone of scientific computing in Python, enabling complex numerical operations with efficiency and ease."
      ],
      "metadata": {
        "id": "AGRxvGBEDhPX"
      }
    },
    {
      "cell_type": "markdown",
      "source": [
        "19. How does Pandas simplify time series analysis?\n",
        "\n",
        "\n",
        "Ans:Handling time series data can be complex, but Pandas provides powerful tools to simplify the process in Python. Here's how:\n",
        "\n",
        " - Specialized Data Structures: Pandas introduces the Timestamp and DatetimeIndex objects, which are specifically designed to handle time-based data. These objects understand concepts like time zones, leap years, and time differences, making it easier to work with dates and times accurately.\n",
        "\n",
        " - Time-based Indexing: You can set a DatetimeIndex as the index of your DataFrame or Series. This allows you to easily select data based on time ranges, such as specific dates, months, or years. This is much more convenient than using numerical indices.\n",
        "\n",
        " - Resampling: Pandas allows you to easily change the frequency of your time series data using resample(). You can aggregate data to a lower frequency (e.g., daily to weekly) or upsample to a higher frequency (e.g., hourly to minute-ly), making it simple to analyze trends at different granularities.\n",
        "\n",
        " - Time Zone Handling: Pandas provides built-in support for handling time zones. You can localize your time series data to a specific time zone and convert between time zones effortlessly, which is essential for working with global data.\n",
        "\n",
        " - Date and Time Operations: Pandas offers a rich set of functions for performing various operations on dates and times, such as extracting components (year, month, day), calculating time differences, and shifting or lagging data.\n",
        "\n",
        " - Handling Missing Data: Time series data often has missing values. Pandas provides various methods for handling missing data in time series, such as forward filling, backward filling, or interpolating values.\n",
        "\n",
        " - Rolling and Expanding Windows: You can apply functions to rolling or expanding windows of your time series data using rolling() and expanding(). This is useful for calculating moving averages, rolling correlations, or other time-dependent statistics.\n",
        "\n",
        " - Integration with Other Libraries: Pandas integrates well with other libraries commonly used in time series analysis, such as NumPy and Matplotlib, allowing you to perform numerical computations and visualize your time series data effectively.\n",
        "\n",
        "Pandas simplifies time series analysis by providing a dedicated set of tools and functionalities that are optimized for working with time-based data, making it a powerful and efficient library for anyone dealing with time series in Python."
      ],
      "metadata": {
        "id": "Uy3_gyMUEcnB"
      }
    },
    {
      "cell_type": "markdown",
      "source": [
        "20.What is the role of a pivot table in Pandas?\n",
        "\n",
        "\n",
        "Ans:In Pandas, a pivot table is a powerful tool for summarizing and analyzing data in a structured format, similar to a pivot table in spreadsheet software like Excel. Its primary role is to reorganize data from a \"long\" format (where each row represents a single observation) into a \"wide\" format (where rows and columns represent categories, and the cell values represent aggregated data).\n",
        "\n",
        "Here's a breakdown of its role and how it works:\n",
        "\n",
        " - Data Aggregation and Summarization: The main purpose of a pivot table is to aggregate data based on specific categories. You can choose which columns to use as indices (rows), columns, and values. The values in the pivot table are typically the result of an aggregation function (like sum, mean, count, etc.) applied to the original data within each category.\n",
        "\n",
        " - Creating a Spreadsheet-Style View: Pivot tables present data in a clear, cross-tabular format, making it easy to see relationships and trends between different categories. This format is often more intuitive for analysis and reporting than the original long format of the data.\n",
        "\n",
        " - Handling Hierarchical Data: As mentioned in your notebook, Pandas supports hierarchical indexing (MultiIndex). Pivot tables leverage this to create multi-level row and column indexes, allowing you to summarize data based on multiple levels of categorization.\n",
        "\n",
        " - Analyzing Data from Different Perspectives: By changing the columns used for the index, columns, and values, you can quickly generate different views of your data. This allows you to explore your data from various angles and gain different insights.\n",
        "\n",
        " - Simplifying Data Analysis: Pivot tables simplify complex data analysis tasks by providing a structured way to group, aggregate, and summarize data. Instead of writing complex code with groupby() and aggregation functions, you can often achieve the same result more concisely with pivot_table().\n",
        "\n",
        "A pivot table in Pandas helps you transform and summarize your data to make it more understandable and suitable for analysis and reporting. It allows you to quickly calculate summary statistics for different categories and visualize relationships within your dataset."
      ],
      "metadata": {
        "id": "V-UohfZIFHni"
      }
    },
    {
      "cell_type": "markdown",
      "source": [
        "21. Why is NumPy's array slicing faster than Python's list slicing?\n",
        "\n",
        "\n",
        "\n",
        "Ans:NumPy array slicing is generally faster than Python list slicing primarily due to the underlying differences in how these data structures are stored and handled in memory.\n",
        "\n",
        "\n",
        " Here's a breakdown of the key reasons:\n",
        "\n",
        " - Contiguous Memory Allocation: NumPy arrays store elements in contiguous blocks of memory. This means that all elements of the array are located one after another in memory. When you slice a NumPy array, the operation can be performed very efficiently because the system knows exactly where to find the elements in memory. It can simply calculate the memory address of the starting and ending elements of the slice and access them directly.\n",
        "\n",
        " - Non-Contiguous Memory Allocation: Python lists, on the other hand, store references to objects, and these objects can be scattered throughout memory. A Python list itself is a collection of these references, not the data directly. When you slice a Python list, the interpreter needs to follow each reference to access the actual data. This process involves more overhead and is slower than accessing contiguous memory.\n",
        "\n",
        " - Data Type Homogeneity: NumPy arrays are typically homogeneous, meaning all elements in an array have the same data type. This allows NumPy to perform operations, including slicing, on the raw data in memory using optimized, low-level C code. The system doesn't need to check the data type of each element individually during slicing.\n",
        "\n",
        " - Data Type Heterogeneity: Python lists can store elements of different data types. This heterogeneity requires Python to store more information about each element (like its type), and operations like slicing involve checking the type of each element. This adds overhead and slows down the process.\n",
        "\n",
        " - Optimized C Implementation: Many NumPy operations, including slicing, are implemented in C. This allows them to run much faster than equivalent operations performed in pure Python, which is an interpreted language.\n",
        "\n",
        "NumPy's contiguous memory layout and homogeneous data types allow for highly optimized, low-level C implementations of slicing, resulting in significant speed advantages over Python list slicing, which deals with scattered memory and heterogeneous data types\n",
        "\n",
        "\n"
      ],
      "metadata": {
        "id": "sidE-SRHFsIC"
      }
    },
    {
      "cell_type": "markdown",
      "source": [
        "22. What are some common use cases for Seaborn?\n",
        "\n",
        "\n",
        "\n",
        "Ans:Seaborn is a Python data visualization library built on top of Matplotlib. It provides a high-level interface for creating informative and attractive statistical graphics.\n",
        "\n",
        "Here are some common use cases for Seaborn:\n",
        "\n",
        "\n",
        "1. Data Exploration and Analysis:\n",
        "\n",
        " - Visualizing Distributions:\n",
        "Seaborn can create histograms, kernel density plots, and rug plots to show the distribution of single variables.\n",
        "\n",
        " - Comparing Distributions:\n",
        "It allows for comparing distributions between subsets of data using box plots, violin plots, and swarm plots.\n",
        "\n",
        " - Analyzing Relationships:\n",
        "Seaborn helps visualize relationships between multiple variables using scatter plots, line plots, and pair plots.\n",
        "\n",
        " - Categorical Data:\n",
        "It provides tools for visualizing categorical data through bar plots, count plots, and point plots.\n",
        "\n",
        "2. Statistical Analysis:\n",
        "\n",
        " - Regression Analysis:\n",
        "Seaborn can create regression plots to visualize linear relationships between variables and highlight patterns in data.\n",
        "\n",
        " - Correlation Matrices:\n",
        "It generates heatmaps to display correlation matrices, which are useful for understanding the relationships between multiple variables.\n",
        "\n",
        "3. Data Presentation:\n",
        "\n",
        " - Publication-Quality Graphics:\n",
        "Seaborn can create visually appealing plots with minimal customization, making it suitable for generating graphics for publications and reports.\n",
        "\n",
        " - Customizable Themes:\n",
        "It offers built-in themes and color palettes that can be easily customized to match specific styles.\n",
        "\n",
        " - Interactive Plots:\n",
        "Seaborn can be used in conjunction with other libraries like Plotly and Bokeh to create interactive visualizations.\n",
        "\n",
        "4.  Specific Plot Types:\n",
        "Scatter plots: Used to visualize the relationship between two variables.\n",
        "\n",
        " - Line plots: Used to visualize trends over time or continuous data.\n",
        "\n",
        " - Histograms: Used to visualize the distribution of a single variable.\n",
        "\n",
        " - Box plots: Used to compare the distribution of a variable across different categories.\n",
        "\n",
        " - Violin plots: Similar to box plots but also show the probability density of the data.\n",
        "\n",
        " - Heatmaps: Used to visualize matrices of data, such as correlation matrices.\n",
        "\n",
        " - Pair plots: Used to visualize the relationships between all pairs of variables in a dataset.\n",
        "\n",
        " - Swarm plots: Used to visualize distributions of categorical variables, avoiding overlapping data points.\n",
        "\n",
        " - Count plots: Used to show the counts of unique categories in the data.\n",
        "\n",
        "\n",
        "Seaborn is often used in conjunction with other Python libraries like Pandas and NumPy for data manipulation and analysis. It is a powerful tool for data scientists, analysts, and anyone who needs to visualize data effectively."
      ],
      "metadata": {
        "id": "pqdA5nGdGL5E"
      }
    },
    {
      "cell_type": "markdown",
      "source": [
        "Practical questions\n"
      ],
      "metadata": {
        "id": "Jq_UzXOOa4Us"
      }
    },
    {
      "cell_type": "code",
      "source": [
        "# 1. How do you create a 2D NumPy array and calculate the summ of each row?\n",
        "\n",
        "import numpy as np\n",
        "\n",
        "array_2d = np.array([[1, 2, 3],\n",
        "                     [4, 5, 6],\n",
        "                     [7, 8, 9]])\n",
        "\n",
        "row_sums = np.sum(array_2d, axis=1)\n",
        "\n",
        "print(\"2D Array:\")\n",
        "print(array_2d)\n",
        "print(\"\\nSum of each row:\")\n",
        "print(row_sums)\n"
      ],
      "metadata": {
        "colab": {
          "base_uri": "https://localhost:8080/"
        },
        "id": "s2MpMM1aa9sK",
        "outputId": "2cc8ea84-ff6d-4778-96d5-1e38f25c6740"
      },
      "execution_count": null,
      "outputs": [
        {
          "output_type": "stream",
          "name": "stdout",
          "text": [
            "2D Array:\n",
            "[[1 2 3]\n",
            " [4 5 6]\n",
            " [7 8 9]]\n",
            "\n",
            "Sum of each row:\n",
            "[ 6 15 24]\n"
          ]
        }
      ]
    },
    {
      "cell_type": "code",
      "source": [
        "# 2. Write a Pandas script to find the mean of a specific column in a DataFrame?\n",
        "\n",
        "import pandas as pd\n",
        "\n",
        "data = {\n",
        "    'Name': ['salma', 'Nazma', 'shaheena', 'shakeera'],\n",
        "    'Age': [25, 30, 35, 40],\n",
        "    'Score': [85, 90, 95, 88]\n",
        "}\n",
        "df = pd.DataFrame(data)\n",
        "\n",
        "mean_score = df['Score'].mean()\n",
        "\n",
        "print(\"DataFrame:\")\n",
        "print(df)\n",
        "print(\"\\nMean of 'Score' column:\", mean_score)\n"
      ],
      "metadata": {
        "colab": {
          "base_uri": "https://localhost:8080/"
        },
        "id": "yjq_k9h7cNlF",
        "outputId": "6ec95f5b-065c-413f-f3c0-583f75a8bee0"
      },
      "execution_count": null,
      "outputs": [
        {
          "output_type": "stream",
          "name": "stdout",
          "text": [
            "DataFrame:\n",
            "       Name  Age  Score\n",
            "0     salma   25     85\n",
            "1     Nazma   30     90\n",
            "2  shaheena   35     95\n",
            "3  shakeera   40     88\n",
            "\n",
            "Mean of 'Score' column: 89.5\n"
          ]
        }
      ]
    },
    {
      "source": [
        "# 3.Create a scatter plot using Matplotlib?\n",
        "\n",
        "import numpy as np\n",
        "\n",
        "x_data = np.random.rand(50) * 10\n",
        "y_data = np.random.rand(50) * 10\n",
        "\n",
        "plt.scatter(x_data, y_data)\n",
        "\n",
        "plt.xlabel(\"X-axis Label\")\n",
        "plt.ylabel(\"Y-axis Label\")\n",
        "plt.title(\"Simple Scatter Plot\")\n",
        "\n",
        "plt.show()"
      ],
      "cell_type": "code",
      "metadata": {
        "colab": {
          "base_uri": "https://localhost:8080/",
          "height": 472
        },
        "id": "fH8LycWidbMt",
        "outputId": "167094a1-886f-40d6-accf-1feb969c3930"
      },
      "execution_count": null,
      "outputs": [
        {
          "output_type": "display_data",
          "data": {
            "text/plain": [
              "<Figure size 640x480 with 1 Axes>"
            ],
            "image/png": "[encoded data removed]"
          },
          "metadata": {}
        }
      ]
    },
    {
      "cell_type": "code",
      "source": [
        "\n",
        "# 4.  How do you calculate the correlation matrix using Seaborn and visualize it with a heatmap?\n",
        "\n",
        "import pandas as pd\n",
        "import seaborn as sns\n",
        "import matplotlib.pyplot as plt\n",
        "\n",
        "data = {\n",
        "    'Botany': [55, 85, 82, 98, 80],\n",
        "\n",
        "    'Physics': [70, 78, 80, 70, 82],\n",
        "\n",
        "    'zoology': [88, 85, 91, 89, 84]\n",
        "}\n",
        "\n",
        "df = pd.DataFrame(data)\n",
        "correlation_matrix = df.corr()\n",
        "print(\"Correlation Matrix:\")\n",
        "print(correlation_matrix)\n",
        "sns.heatmap(correlation_matrix, annot=True, cmap='coolwarm', fmt=\".2f\")\n",
        "plt.title(\"Correlation Matrix Heatmap\")\n",
        "plt.show()\n"
      ],
      "metadata": {
        "colab": {
          "base_uri": "https://localhost:8080/",
          "height": 539
        },
        "id": "oPjQGhXqfAaJ",
        "outputId": "71326758-c169-4557-d1bb-630d9d33c7ba"
      },
      "execution_count": null,
      "outputs": [
        {
          "output_type": "stream",
          "name": "stdout",
          "text": [
            "Correlation Matrix:\n",
            "           Botany   Physics   zoology\n",
            "Botany   1.000000  0.169581  0.049946\n",
            "Physics  0.169581  1.000000 -0.368161\n",
            "zoology  0.049946 -0.368161  1.000000\n"
          ]
        },
        {
          "output_type": "display_data",
          "data": {
            "text/plain": [
              "<Figure size 640x480 with 2 Axes>"
            ],
            "image/png": "[encoded data removed]"
          },
          "metadata": {}
        }
      ]
    },
    {
      "cell_type": "code",
      "source": [
        "# 5. Generate a bar plot using Plotly?\n",
        "\n",
        "import plotly.express as px\n",
        "\n",
        "data = {\n",
        "    'Subjects': ['Arabic', 'social', 'English', 'History', 'Botany'],\n",
        "    'Scores': [98, 60, 80, 70, 90]\n",
        "}\n",
        "\n",
        "fig = px.bar(data, x='Subjects', y='Scores', title='Student Scores by Subject', color='Subjects')\n",
        "fig.show()\n"
      ],
      "metadata": {
        "colab": {
          "base_uri": "https://localhost:8080/",
          "height": 542
        },
        "id": "nAAQXBVtgI09",
        "outputId": "362b404b-841a-4f0a-8882-18b74e820f89"
      },
      "execution_count": null,
      "outputs": [
        {
          "output_type": "display_data",
          "data": {
            "text/html": [
              "<html>\n",
              "<head><meta charset=\"utf-8\" /></head>\n",
              "<body>\n",
              "    <div>            <script src=\"https://cdnjs.cloudflare.com/ajax/libs/mathjax/2.7.5/MathJax.js?config=TeX-AMS-MML_SVG\"></script><script type=\"text/javascript\">if (window.MathJax && window.MathJax.Hub && window.MathJax.Hub.Config) {window.MathJax.Hub.Config({SVG: {font: \"STIX-Web\"}});}</script>                <script type=\"text/javascript\">window.PlotlyConfig = {MathJaxConfig: 'local'};</script>\n",
              "        <script charset=\"utf-8\" src=\"https://cdn.plot.ly/plotly-2.35.2.min.js\"></script>                <div id=\"04442e5c-8b2f-42a0-ab27-16db18745cd3\" class=\"plotly-graph-div\" style=\"height:525px; width:100%;\"></div>            <script type=\"text/javascript\">                                    window.PLOTLYENV=window.PLOTLYENV || {};                                    if (document.getElementById(\"04442e5c-8b2f-42a0-ab27-16db18745cd3\")) {                    Plotly.newPlot(                        \"04442e5c-8b2f-42a0-ab27-16db18745cd3\",                        [{\"alignmentgroup\":\"True\",\"hovertemplate\":\"Subjects=%{x}\\u003cbr\\u003eScores=%{y}\\u003cextra\\u003e\\u003c\\u002fextra\\u003e\",\"legendgroup\":\"Arabic\",\"marker\":{\"color\":\"#636efa\",\"pattern\":{\"shape\":\"\"}},\"name\":\"Arabic\",\"offsetgroup\":\"Arabic\",\"orientation\":\"v\",\"showlegend\":true,\"textposition\":\"auto\",\"x\":[\"Arabic\"],\"xaxis\":\"x\",\"y\":[98],\"yaxis\":\"y\",\"type\":\"bar\"},{\"alignmentgroup\":\"True\",\"hovertemplate\":\"Subjects=%{x}\\u003cbr\\u003eScores=%{y}\\u003cextra\\u003e\\u003c\\u002fextra\\u003e\",\"legendgroup\":\"social\",\"marker\":{\"color\":\"#EF553B\",\"pattern\":{\"shape\":\"\"}},\"name\":\"social\",\"offsetgroup\":\"social\",\"orientation\":\"v\",\"showlegend\":true,\"textposition\":\"auto\",\"x\":[\"social\"],\"xaxis\":\"x\",\"y\":[60],\"yaxis\":\"y\",\"type\":\"bar\"},{\"alignmentgroup\":\"True\",\"hovertemplate\":\"Subjects=%{x}\\u003cbr\\u003eScores=%{y}\\u003cextra\\u003e\\u003c\\u002fextra\\u003e\",\"legendgroup\":\"English\",\"marker\":{\"color\":\"#00cc96\",\"pattern\":{\"shape\":\"\"}},\"name\":\"English\",\"offsetgroup\":\"English\",\"orientation\":\"v\",\"showlegend\":true,\"textposition\":\"auto\",\"x\":[\"English\"],\"xaxis\":\"x\",\"y\":[80],\"yaxis\":\"y\",\"type\":\"bar\"},{\"alignmentgroup\":\"True\",\"hovertemplate\":\"Subjects=%{x}\\u003cbr\\u003eScores=%{y}\\u003cextra\\u003e\\u003c\\u002fextra\\u003e\",\"legendgroup\":\"History\",\"marker\":{\"color\":\"#ab63fa\",\"pattern\":{\"shape\":\"\"}},\"name\":\"History\",\"offsetgroup\":\"History\",\"orientation\":\"v\",\"showlegend\":true,\"textposition\":\"auto\",\"x\":[\"History\"],\"xaxis\":\"x\",\"y\":[70],\"yaxis\":\"y\",\"type\":\"bar\"},{\"alignmentgroup\":\"True\",\"hovertemplate\":\"Subjects=%{x}\\u003cbr\\u003eScores=%{y}\\u003cextra\\u003e\\u003c\\u002fextra\\u003e\",\"legendgroup\":\"Botany\",\"marker\":{\"color\":\"#FFA15A\",\"pattern\":{\"shape\":\"\"}},\"name\":\"Botany\",\"offsetgroup\":\"Botany\",\"orientation\":\"v\",\"showlegend\":true,\"textposition\":\"auto\",\"x\":[\"Botany\"],\"xaxis\":\"x\",\"y\":[90],\"yaxis\":\"y\",\"type\":\"bar\"}],                        {\"template\":{\"data\":{\"histogram2dcontour\":[{\"type\":\"histogram2dcontour\",\"colorbar\":{\"outlinewidth\":0,\"ticks\":\"\"},\"colorscale\":[[0.0,\"#0d0887\"],[0.1111111111111111,\"#46039f\"],[0.2222222222222222,\"#7201a8\"],[0.3333333333333333,\"#9c179e\"],[0.4444444444444444,\"#bd3786\"],[0.5555555555555556,\"#d8576b\"],[0.6666666666666666,\"#ed7953\"],[0.7777777777777778,\"#fb9f3a\"],[0.8888888888888888,\"#fdca26\"],[1.0,\"#f0f921\"]]}],\"choropleth\":[{\"type\":\"choropleth\",\"colorbar\":{\"outlinewidth\":0,\"ticks\":\"\"}}],\"histogram2d\":[{\"type\":\"histogram2d\",\"colorbar\":{\"outlinewidth\":0,\"ticks\":\"\"},\"colorscale\":[[0.0,\"#0d0887\"],[0.1111111111111111,\"#46039f\"],[0.2222222222222222,\"#7201a8\"],[0.3333333333333333,\"#9c179e\"],[0.4444444444444444,\"#bd3786\"],[0.5555555555555556,\"#d8576b\"],[0.6666666666666666,\"#ed7953\"],[0.7777777777777778,\"#fb9f3a\"],[0.8888888888888888,\"#fdca26\"],[1.0,\"#f0f921\"]]}],\"heatmap\":[{\"type\":\"heatmap\",\"colorbar\":{\"outlinewidth\":0,\"ticks\":\"\"},\"colorscale\":[[0.0,\"#0d0887\"],[0.1111111111111111,\"#46039f\"],[0.2222222222222222,\"#7201a8\"],[0.3333333333333333,\"#9c179e\"],[0.4444444444444444,\"#bd3786\"],[0.5555555555555556,\"#d8576b\"],[0.6666666666666666,\"#ed7953\"],[0.7777777777777778,\"#fb9f3a\"],[0.8888888888888888,\"#fdca26\"],[1.0,\"#f0f921\"]]}],\"heatmapgl\":[{\"type\":\"heatmapgl\",\"colorbar\":{\"outlinewidth\":0,\"ticks\":\"\"},\"colorscale\":[[0.0,\"#0d0887\"],[0.1111111111111111,\"#46039f\"],[0.2222222222222222,\"#7201a8\"],[0.3333333333333333,\"#9c179e\"],[0.4444444444444444,\"#bd3786\"],[0.5555555555555556,\"#d8576b\"],[0.6666666666666666,\"#ed7953\"],[0.7777777777777778,\"#fb9f3a\"],[0.8888888888888888,\"#fdca26\"],[1.0,\"#f0f921\"]]}],\"contourcarpet\":[{\"type\":\"contourcarpet\",\"colorbar\":{\"outlinewidth\":0,\"ticks\":\"\"}}],\"contour\":[{\"type\":\"contour\",\"colorbar\":{\"outlinewidth\":0,\"ticks\":\"\"},\"colorscale\":[[0.0,\"#0d0887\"],[0.1111111111111111,\"#46039f\"],[0.2222222222222222,\"#7201a8\"],[0.3333333333333333,\"#9c179e\"],[0.4444444444444444,\"#bd3786\"],[0.5555555555555556,\"#d8576b\"],[0.6666666666666666,\"#ed7953\"],[0.7777777777777778,\"#fb9f3a\"],[0.8888888888888888,\"#fdca26\"],[1.0,\"#f0f921\"]]}],\"surface\":[{\"type\":\"surface\",\"colorbar\":{\"outlinewidth\":0,\"ticks\":\"\"},\"colorscale\":[[0.0,\"#0d0887\"],[0.1111111111111111,\"#46039f\"],[0.2222222222222222,\"#7201a8\"],[0.3333333333333333,\"#9c179e\"],[0.4444444444444444,\"#bd3786\"],[0.5555555555555556,\"#d8576b\"],[0.6666666666666666,\"#ed7953\"],[0.7777777777777778,\"#fb9f3a\"],[0.8888888888888888,\"#fdca26\"],[1.0,\"#f0f921\"]]}],\"mesh3d\":[{\"type\":\"mesh3d\",\"colorbar\":{\"outlinewidth\":0,\"ticks\":\"\"}}],\"scatter\":[{\"fillpattern\":{\"fillmode\":\"overlay\",\"size\":10,\"solidity\":0.2},\"type\":\"scatter\"}],\"parcoords\":[{\"type\":\"parcoords\",\"line\":{\"colorbar\":{\"outlinewidth\":0,\"ticks\":\"\"}}}],\"scatterpolargl\":[{\"type\":\"scatterpolargl\",\"marker\":{\"colorbar\":{\"outlinewidth\":0,\"ticks\":\"\"}}}],\"bar\":[{\"error_x\":{\"color\":\"#2a3f5f\"},\"error_y\":{\"color\":\"#2a3f5f\"},\"marker\":{\"line\":{\"color\":\"#E5ECF6\",\"width\":0.5},\"pattern\":{\"fillmode\":\"overlay\",\"size\":10,\"solidity\":0.2}},\"type\":\"bar\"}],\"scattergeo\":[{\"type\":\"scattergeo\",\"marker\":{\"colorbar\":{\"outlinewidth\":0,\"ticks\":\"\"}}}],\"scatterpolar\":[{\"type\":\"scatterpolar\",\"marker\":{\"colorbar\":{\"outlinewidth\":0,\"ticks\":\"\"}}}],\"histogram\":[{\"marker\":{\"pattern\":{\"fillmode\":\"overlay\",\"size\":10,\"solidity\":0.2}},\"type\":\"histogram\"}],\"scattergl\":[{\"type\":\"scattergl\",\"marker\":{\"colorbar\":{\"outlinewidth\":0,\"ticks\":\"\"}}}],\"scatter3d\":[{\"type\":\"scatter3d\",\"line\":{\"colorbar\":{\"outlinewidth\":0,\"ticks\":\"\"}},\"marker\":{\"colorbar\":{\"outlinewidth\":0,\"ticks\":\"\"}}}],\"scattermapbox\":[{\"type\":\"scattermapbox\",\"marker\":{\"colorbar\":{\"outlinewidth\":0,\"ticks\":\"\"}}}],\"scatterternary\":[{\"type\":\"scatterternary\",\"marker\":{\"colorbar\":{\"outlinewidth\":0,\"ticks\":\"\"}}}],\"scattercarpet\":[{\"type\":\"scattercarpet\",\"marker\":{\"colorbar\":{\"outlinewidth\":0,\"ticks\":\"\"}}}],\"carpet\":[{\"aaxis\":{\"endlinecolor\":\"#2a3f5f\",\"gridcolor\":\"white\",\"linecolor\":\"white\",\"minorgridcolor\":\"white\",\"startlinecolor\":\"#2a3f5f\"},\"baxis\":{\"endlinecolor\":\"#2a3f5f\",\"gridcolor\":\"white\",\"linecolor\":\"white\",\"minorgridcolor\":\"white\",\"startlinecolor\":\"#2a3f5f\"},\"type\":\"carpet\"}],\"table\":[{\"cells\":{\"fill\":{\"color\":\"#EBF0F8\"},\"line\":{\"color\":\"white\"}},\"header\":{\"fill\":{\"color\":\"#C8D4E3\"},\"line\":{\"color\":\"white\"}},\"type\":\"table\"}],\"barpolar\":[{\"marker\":{\"line\":{\"color\":\"#E5ECF6\",\"width\":0.5},\"pattern\":{\"fillmode\":\"overlay\",\"size\":10,\"solidity\":0.2}},\"type\":\"barpolar\"}],\"pie\":[{\"automargin\":true,\"type\":\"pie\"}]},\"layout\":{\"autotypenumbers\":\"strict\",\"colorway\":[\"#636efa\",\"#EF553B\",\"#00cc96\",\"#ab63fa\",\"#FFA15A\",\"#19d3f3\",\"#FF6692\",\"#B6E880\",\"#FF97FF\",\"#FECB52\"],\"font\":{\"color\":\"#2a3f5f\"},\"hovermode\":\"closest\",\"hoverlabel\":{\"align\":\"left\"},\"paper_bgcolor\":\"white\",\"plot_bgcolor\":\"#E5ECF6\",\"polar\":{\"bgcolor\":\"#E5ECF6\",\"angularaxis\":{\"gridcolor\":\"white\",\"linecolor\":\"white\",\"ticks\":\"\"},\"radialaxis\":{\"gridcolor\":\"white\",\"linecolor\":\"white\",\"ticks\":\"\"}},\"ternary\":{\"bgcolor\":\"#E5ECF6\",\"aaxis\":{\"gridcolor\":\"white\",\"linecolor\":\"white\",\"ticks\":\"\"},\"baxis\":{\"gridcolor\":\"white\",\"linecolor\":\"white\",\"ticks\":\"\"},\"caxis\":{\"gridcolor\":\"white\",\"linecolor\":\"white\",\"ticks\":\"\"}},\"coloraxis\":{\"colorbar\":{\"outlinewidth\":0,\"ticks\":\"\"}},\"colorscale\":{\"sequential\":[[0.0,\"#0d0887\"],[0.1111111111111111,\"#46039f\"],[0.2222222222222222,\"#7201a8\"],[0.3333333333333333,\"#9c179e\"],[0.4444444444444444,\"#bd3786\"],[0.5555555555555556,\"#d8576b\"],[0.6666666666666666,\"#ed7953\"],[0.7777777777777778,\"#fb9f3a\"],[0.8888888888888888,\"#fdca26\"],[1.0,\"#f0f921\"]],\"sequentialminus\":[[0.0,\"#0d0887\"],[0.1111111111111111,\"#46039f\"],[0.2222222222222222,\"#7201a8\"],[0.3333333333333333,\"#9c179e\"],[0.4444444444444444,\"#bd3786\"],[0.5555555555555556,\"#d8576b\"],[0.6666666666666666,\"#ed7953\"],[0.7777777777777778,\"#fb9f3a\"],[0.8888888888888888,\"#fdca26\"],[1.0,\"#f0f921\"]],\"diverging\":[[0,\"#8e0152\"],[0.1,\"#c51b7d\"],[0.2,\"#de77ae\"],[0.3,\"#f1b6da\"],[0.4,\"#fde0ef\"],[0.5,\"#f7f7f7\"],[0.6,\"#e6f5d0\"],[0.7,\"#b8e186\"],[0.8,\"#7fbc41\"],[0.9,\"#4d9221\"],[1,\"#276419\"]]},\"xaxis\":{\"gridcolor\":\"white\",\"linecolor\":\"white\",\"ticks\":\"\",\"title\":{\"standoff\":15},\"zerolinecolor\":\"white\",\"automargin\":true,\"zerolinewidth\":2},\"yaxis\":{\"gridcolor\":\"white\",\"linecolor\":\"white\",\"ticks\":\"\",\"title\":{\"standoff\":15},\"zerolinecolor\":\"white\",\"automargin\":true,\"zerolinewidth\":2},\"scene\":{\"xaxis\":{\"backgroundcolor\":\"#E5ECF6\",\"gridcolor\":\"white\",\"linecolor\":\"white\",\"showbackground\":true,\"ticks\":\"\",\"zerolinecolor\":\"white\",\"gridwidth\":2},\"yaxis\":{\"backgroundcolor\":\"#E5ECF6\",\"gridcolor\":\"white\",\"linecolor\":\"white\",\"showbackground\":true,\"ticks\":\"\",\"zerolinecolor\":\"white\",\"gridwidth\":2},\"zaxis\":{\"backgroundcolor\":\"#E5ECF6\",\"gridcolor\":\"white\",\"linecolor\":\"white\",\"showbackground\":true,\"ticks\":\"\",\"zerolinecolor\":\"white\",\"gridwidth\":2}},\"shapedefaults\":{\"line\":{\"color\":\"#2a3f5f\"}},\"annotationdefaults\":{\"arrowcolor\":\"#2a3f5f\",\"arrowhead\":0,\"arrowwidth\":1},\"geo\":{\"bgcolor\":\"white\",\"landcolor\":\"#E5ECF6\",\"subunitcolor\":\"white\",\"showland\":true,\"showlakes\":true,\"lakecolor\":\"white\"},\"title\":{\"x\":0.05},\"mapbox\":{\"style\":\"light\"}}},\"xaxis\":{\"anchor\":\"y\",\"domain\":[0.0,1.0],\"title\":{\"text\":\"Subjects\"},\"categoryorder\":\"array\",\"categoryarray\":[\"Arabic\",\"social\",\"English\",\"History\",\"Botany\"]},\"yaxis\":{\"anchor\":\"x\",\"domain\":[0.0,1.0],\"title\":{\"text\":\"Scores\"}},\"legend\":{\"title\":{\"text\":\"Subjects\"},\"tracegroupgap\":0},\"title\":{\"text\":\"Student Scores by Subject\"},\"barmode\":\"relative\"},                        {\"responsive\": true}                    ).then(function(){\n",
              "                            \n",
              "var gd = document.getElementById('04442e5c-8b2f-42a0-ab27-16db18745cd3');\n",
              "var x = new MutationObserver(function (mutations, observer) {{\n",
              "        var display = window.getComputedStyle(gd).display;\n",
              "        if (!display || display === 'none') {{\n",
              "            console.log([gd, 'removed!']);\n",
              "            Plotly.purge(gd);\n",
              "            observer.disconnect();\n",
              "        }}\n",
              "}});\n",
              "\n",
              "// Listen for the removal of the full notebook cells\n",
              "var notebookContainer = gd.closest('#notebook-container');\n",
              "if (notebookContainer) {{\n",
              "    x.observe(notebookContainer, {childList: true});\n",
              "}}\n",
              "\n",
              "// Listen for the clearing of the current output cell\n",
              "var outputEl = gd.closest('.output');\n",
              "if (outputEl) {{\n",
              "    x.observe(outputEl, {childList: true});\n",
              "}}\n",
              "\n",
              "                        })                };                            </script>        </div>\n",
              "</body>\n",
              "</html>"
            ]
          },
          "metadata": {}
        }
      ]
    },
    {
      "source": [
        "# 6.  Create a DataFrame and add a new column based on an existing column?\n",
        "\n",
        "import pandas as pd\n",
        "\n",
        "data = {'col1': [1, 2, 3, 4],\n",
        "        'col2': [10, 20, 30, 40]}\n",
        "df = pd.DataFrame(data)\n",
        "\n",
        "df['col3'] = df['col1'] * 2\n",
        "\n",
        "print(df)"
      ],
      "cell_type": "code",
      "metadata": {
        "colab": {
          "base_uri": "https://localhost:8080/"
        },
        "id": "IzlcHJOdhNrp",
        "outputId": "ef01b0b6-4ddb-48a4-9506-351b78536a68"
      },
      "execution_count": null,
      "outputs": [
        {
          "output_type": "stream",
          "name": "stdout",
          "text": [
            "   col1  col2  col3\n",
            "0     1    10     2\n",
            "1     2    20     4\n",
            "2     3    30     6\n",
            "3     4    40     8\n"
          ]
        }
      ]
    },
    {
      "cell_type": "code",
      "source": [
        "# 7. Write a program to perform element-wise multiplication of two NumPy arrays?\n",
        "\n",
        "import numpy as np\n",
        "array1 = np.array([1, 2, 3, 4])\n",
        "array2 = np.array([5, 6, 7, 8])\n",
        "result = array1 * array2\n",
        "\n",
        "print(\"Array 1:\", array1)\n",
        "print(\"Array 2:\", array2)\n",
        "print(\"Element-wise multiplication result:\", result)\n"
      ],
      "metadata": {
        "colab": {
          "base_uri": "https://localhost:8080/"
        },
        "id": "lQdlWjXdizHL",
        "outputId": "9e73996f-5046-488e-c233-ac0b9dbe12f6"
      },
      "execution_count": null,
      "outputs": [
        {
          "output_type": "stream",
          "name": "stdout",
          "text": [
            "Array 1: [1 2 3 4]\n",
            "Array 2: [5 6 7 8]\n",
            "Element-wise multiplication result: [ 5 12 21 32]\n"
          ]
        }
      ]
    },
    {
      "cell_type": "code",
      "source": [
        "# 8. Create a line plot with multiple lines using Matplotlib?\n",
        "\n",
        "import matplotlib.pyplot as plt\n",
        "import numpy as np\n",
        "\n",
        "x = np.linspace(0, 10, 100)\n",
        "y1 = np.sin(x)\n",
        "y2 = np.cos(x)\n",
        "y3 = np.sin(x) * np.cos(x)\n",
        "\n",
        "plt.figure(figsize=(10, 6))\n",
        "plt.plot(x, y1, label='sin(x)', color='red', linestyle='-')\n",
        "plt.plot(x, y2, label='cos(x)', color='green', linestyle='--')\n",
        "plt.plot(x, y3, label='sin(x) * cos(x)', color='yellow', linestyle='-.')\n",
        "\n",
        "plt.xlabel('X-axis')\n",
        "plt.ylabel('Y-axis')\n",
        "plt.title('Line Plot with Multiple Lines')\n",
        "\n",
        "plt.legend()\n",
        "\n",
        "plt.grid(True)\n",
        "\n",
        "plt.show()\n"
      ],
      "metadata": {
        "colab": {
          "base_uri": "https://localhost:8080/",
          "height": 521
        },
        "id": "YxR2YdS2jZYD",
        "outputId": "cfb27e7d-2c29-44d7-e2b8-c86bd373c79f"
      },
      "execution_count": null,
      "outputs": [
        {
          "output_type": "display_data",
          "data": {
            "text/plain": [
              "<Figure size 1000x600 with 1 Axes>"
            ],
            "image/png": "[encoded data removed]"
          },
          "metadata": {}
        }
      ]
    },
    {
      "cell_type": "code",
      "source": [
        "# 9. Generate a Pandas DataFrame and filter rows where a column value is greater than a threshold?\n",
        "\n",
        "import pandas as pd\n",
        "\n",
        "data = {'col1': [1, 2, 3, 4, 5],\n",
        "        'col2': [10, 20, 30, 40, 50]}\n",
        "df = pd.DataFrame(data)\n",
        "\n",
        "threshold = 3\n",
        "\n",
        "filtered_df = df[df['col1'] > threshold]\n",
        "\n",
        "print(filtered_df)\n",
        "\n"
      ],
      "metadata": {
        "colab": {
          "base_uri": "https://localhost:8080/"
        },
        "id": "Sr4U-uOBkxop",
        "outputId": "0090df43-86cb-47bb-ef4e-4b27e49db9df"
      },
      "execution_count": null,
      "outputs": [
        {
          "output_type": "stream",
          "name": "stdout",
          "text": [
            "   col1  col2\n",
            "3     4    40\n",
            "4     5    50\n"
          ]
        }
      ]
    },
    {
      "cell_type": "code",
      "source": [
        "# 10 Create a histogram using Seaborn to visualize a distribution?\n",
        "\n",
        "import seaborn as sns\n",
        "import matplotlib.pyplot as plt\n",
        "data = [55, 80, 60, 65, 70, 72, 71, 65, 79, 80, 88, 85, 90, 92, 91, 95, 98, 100]\n",
        "\n",
        "sns.histplot(data, bins=8, kde=True, color='green')\n",
        "plt.xlabel('Scores')\n",
        "plt.ylabel('Frequency')\n",
        "plt.title('Distribution of Exam Scores')\n",
        "plt.show()\n"
      ],
      "metadata": {
        "colab": {
          "base_uri": "https://localhost:8080/",
          "height": 472
        },
        "id": "37DKlQJcnp3a",
        "outputId": "66a9122e-610a-45c7-dc58-44388313359a"
      },
      "execution_count": null,
      "outputs": [
        {
          "output_type": "display_data",
          "data": {
            "text/plain": [
              "<Figure size 640x480 with 1 Axes>"
            ],
            "image/png": "[encoded data removed]"
          },
          "metadata": {}
        }
      ]
    },
    {
      "cell_type": "code",
      "source": [
        "# 11.  Perform matrix multiplication using NumPy?\n",
        "\n",
        "import numpy as np\n",
        "A = np.array([[1, 2],\n",
        "              [3, 4]])\n",
        "\n",
        "B = np.array([[5, 6],\n",
        "              [7, 8]])\n",
        "C = A @ B\n",
        "\n",
        "C_dot = np.dot(A, B)\n",
        "\n",
        "C_matmul = np.matmul(A, B)\n",
        "\n",
        "print(\"Result using @ operator:\\n\", C)\n",
        "print(\"Result using np.dot:\\n\", C_dot)\n",
        "print(\"Result using np.matmul:\\n\", C_matmul)"
      ],
      "metadata": {
        "colab": {
          "base_uri": "https://localhost:8080/"
        },
        "id": "ro-466HiET1z",
        "outputId": "eced2ad6-679d-4d89-f93e-dff04267e92f"
      },
      "execution_count": null,
      "outputs": [
        {
          "output_type": "stream",
          "name": "stdout",
          "text": [
            "Result using @ operator:\n",
            " [[19 22]\n",
            " [43 50]]\n",
            "Result using np.dot:\n",
            " [[19 22]\n",
            " [43 50]]\n",
            "Result using np.matmul:\n",
            " [[19 22]\n",
            " [43 50]]\n"
          ]
        }
      ]
    },
    {
      "cell_type": "code",
      "source": [
        "# 12. Use Pandas to load a CSV file and display its first 5 rows?\n",
        "\n",
        "import pandas as pd\n",
        "\n",
        "csv_url = 'https://raw.githubusercontent.com/mwaskom/seaborn-data/master/titanic.csv'\n",
        "\n",
        "df = pd.read_csv(csv_url)\n",
        "\n",
        "print(df.head(5))\n",
        "\n",
        "\n"
      ],
      "metadata": {
        "colab": {
          "base_uri": "https://localhost:8080/"
        },
        "id": "bjRuDozAEzXe",
        "outputId": "75aaa42b-967d-4fb1-f1a2-55b2d44090aa"
      },
      "execution_count": null,
      "outputs": [
        {
          "output_type": "stream",
          "name": "stdout",
          "text": [
            "   survived  pclass     sex   age  sibsp  parch     fare embarked  class  \\\n",
            "0         0       3    male  22.0      1      0   7.2500        S  Third   \n",
            "1         1       1  female  38.0      1      0  71.2833        C  First   \n",
            "2         1       3  female  26.0      0      0   7.9250        S  Third   \n",
            "3         1       1  female  35.0      1      0  53.1000        S  First   \n",
            "4         0       3    male  35.0      0      0   8.0500        S  Third   \n",
            "\n",
            "     who  adult_male deck  embark_town alive  alone  \n",
            "0    man        True  NaN  Southampton    no  False  \n",
            "1  woman       False    C    Cherbourg   yes  False  \n",
            "2  woman       False  NaN  Southampton   yes   True  \n",
            "3  woman       False    C  Southampton   yes  False  \n",
            "4    man        True  NaN  Southampton    no   True  \n"
          ]
        }
      ]
    },
    {
      "cell_type": "code",
      "source": [
        "# 13. Create a 3D scatter plot using Plotly?\n",
        "\n",
        "import plotly.graph_objects as go\n",
        "import numpy as np\n",
        "\n",
        "np.random.seed(42)\n",
        "x = np.random.randn(100)\n",
        "y = np.random.randn(100)\n",
        "z = np.random.randn(100)\n",
        "\n",
        "fig = go.Figure(data=[go.Scatter3d(\n",
        "    x=x,\n",
        "    y=y,\n",
        "    z=z,\n",
        "    mode='markers',\n",
        "    marker=dict(\n",
        "        size=6,\n",
        "        color=z,\n",
        "        colorscale='Viridis',\n",
        "        opacity=0.8\n",
        "    )\n",
        ")])\n",
        "\n",
        "fig.update_layout(\n",
        "    scene=dict(\n",
        "        xaxis_title='X Axis',\n",
        "        yaxis_title='Y Axis',\n",
        "        zaxis_title='Z Axis'\n",
        "    ),\n",
        "    title='3D Scatter Plot with Plotly'\n",
        ")\n",
        "\n",
        "fig.show()"
      ],
      "metadata": {
        "colab": {
          "base_uri": "https://localhost:8080/",
          "height": 542
        },
        "id": "KC3l6pGZHREP",
        "outputId": "6472ba09-c9e3-4b15-8b26-cfd19ba3f9e4"
      },
      "execution_count": 38,
      "outputs": [
        {
          "output_type": "display_data",
          "data": {
            "text/html": [
              "<html>\n",
              "<head><meta charset=\"utf-8\" /></head>\n",
              "<body>\n",
              "    <div>            <script src=\"https://cdnjs.cloudflare.com/ajax/libs/mathjax/2.7.5/MathJax.js?config=TeX-AMS-MML_SVG\"></script><script type=\"text/javascript\">if (window.MathJax && window.MathJax.Hub && window.MathJax.Hub.Config) {window.MathJax.Hub.Config({SVG: {font: \"STIX-Web\"}});}</script>                <script type=\"text/javascript\">window.PlotlyConfig = {MathJaxConfig: 'local'};</script>\n",
              "        <script charset=\"utf-8\" src=\"https://cdn.plot.ly/plotly-2.35.2.min.js\"></script>                <div id=\"0c54a563-c15f-47ab-bf67-042dbb29a860\" class=\"plotly-graph-div\" style=\"height:525px; width:100%;\"></div>            <script type=\"text/javascript\">                                    window.PLOTLYENV=window.PLOTLYENV || {};                                    if (document.getElementById(\"0c54a563-c15f-47ab-bf67-042dbb29a860\")) {                    Plotly.newPlot(                        \"0c54a563-c15f-47ab-bf67-042dbb29a860\",                        [{\"marker\":{\"color\":[0.3577873603482833,0.5607845263682344,1.083051243175277,1.053802052034903,-1.377669367957091,-0.9378250399151228,0.5150352672086598,0.5137859509122088,0.5150476863060479,3.852731490654721,0.570890510693167,1.135565640180599,0.9540017634932023,0.651391251305798,-0.3152692446403456,0.7589692204932674,-0.7728252145375718,-0.23681860674000887,-0.48536354782910346,0.08187413938632256,2.3146585666735087,-1.867265192591748,0.6862601903745135,-1.6127158711896517,-0.47193186578943347,1.088950596967366,0.06428001909546277,-1.0777447779293061,-0.7153037092599682,0.6795977489346758,-0.7303666317171367,0.21645858958197486,0.045571839903813784,-0.6516003476058171,2.1439440893253257,0.6339190223180112,-2.025142586657607,0.18645431476942764,-0.661786464768388,0.852433334796224,-0.7925207384327007,-0.11473644146689901,0.5049872789804571,0.8657551941701215,-1.2002964070557762,-0.3345012358409484,-0.4749453111609562,-0.6533292325737119,1.7654542402810969,0.40498171096095553,-1.2608839543350452,0.9178619470547761,2.1221561970126332,1.0324652605511468,-1.5193699659540134,-0.48423407286625136,1.2669111491866227,-0.7076694656187807,0.44381942814622843,0.7746340534293368,-0.926930471578083,-0.05952535606180008,-3.2412673400690726,-1.0243876413342898,-0.2525681513931603,-1.2477831819648495,1.6324113039316352,-1.4301413779606327,-0.44004448669698376,0.13074057728609134,1.4412732890661155,-1.4358621511794394,1.1631637521549596,0.010233061019587049,-0.9815086510479509,0.46210347426327075,0.19905969557347003,-0.6002168771587947,0.06980208499001891,-0.3853135968617602,0.11351734525124804,0.6621306745210467,1.586016816145352,-1.237815498826849,2.1330333746562666,-1.9520877995225019,-0.15178509503558332,0.5883172064845765,0.28099186773503265,-0.6226995198205938,-0.20812225035727522,-0.4930009346588328,-0.5893647569442115,0.8496020970210246,0.35701548596504734,-0.6929095952606542,0.8995998754332507,0.30729952087660933,0.8128621188389601,0.6296288419236122],\"colorscale\":[[0.0,\"#440154\"],[0.1111111111111111,\"#482878\"],[0.2222222222222222,\"#3e4989\"],[0.3333333333333333,\"#31688e\"],[0.4444444444444444,\"#26828e\"],[0.5555555555555556,\"#1f9e89\"],[0.6666666666666666,\"#35b779\"],[0.7777777777777778,\"#6ece58\"],[0.8888888888888888,\"#b5de2b\"],[1.0,\"#fde725\"]],\"opacity\":0.8,\"size\":6},\"mode\":\"markers\",\"x\":[0.4967141530112327,-0.13826430117118466,0.6476885381006925,1.5230298564080254,-0.23415337472333597,-0.23413695694918055,1.5792128155073915,0.7674347291529088,-0.4694743859349521,0.5425600435859647,-0.46341769281246226,-0.46572975357025687,0.24196227156603412,-1.913280244657798,-1.7249178325130328,-0.5622875292409727,-1.0128311203344238,0.3142473325952739,-0.9080240755212109,-1.4123037013352915,1.465648768921554,-0.22577630048653566,0.06752820468792384,-1.4247481862134568,-0.5443827245251827,0.11092258970986608,-1.1509935774223028,0.37569801834567196,-0.600638689918805,-0.2916937497932768,-0.6017066122293969,1.8522781845089378,-0.013497224737933921,-1.0577109289559004,0.822544912103189,-1.2208436499710222,0.2088635950047554,-1.9596701238797756,-1.3281860488984305,0.19686123586912352,0.7384665799954104,0.1713682811899705,-0.11564828238824053,-0.3011036955892888,-1.4785219903674274,-0.7198442083947086,-0.4606387709597875,1.0571222262189157,0.3436182895684614,-1.763040155362734,0.324083969394795,-0.38508228041631654,-0.6769220003059587,0.6116762888408679,1.030999522495951,0.9312801191161986,-0.8392175232226385,-0.3092123758512146,0.33126343140356396,0.9755451271223592,-0.47917423784528995,-0.18565897666381712,-1.1063349740060282,-1.1962066240806708,0.812525822394198,1.356240028570823,-0.07201012158033385,1.0035328978920242,0.36163602504763415,-0.6451197546051243,0.36139560550841393,1.5380365664659692,-0.03582603910995154,1.5646436558140062,-2.6197451040897444,0.8219025043752238,0.08704706823817122,-0.29900735046586746,0.0917607765355023,-1.9875689146008928,-0.21967188783751193,0.3571125715117464,1.477894044741516,-0.5182702182736474,-0.8084936028931876,-0.5017570435845365,0.9154021177020741,0.32875110965968446,-0.5297602037670388,0.5132674331133561,0.09707754934804039,0.9686449905328892,-0.7020530938773524,-0.3276621465977682,-0.39210815313215763,-1.4635149481321186,0.29612027706457605,0.26105527217988933,0.00511345664246089,-0.23458713337514692],\"y\":[-1.4153707420504142,-0.42064532276535904,-0.3427145165267695,-0.8022772692216189,-0.16128571166600914,0.4040508568145384,1.8861859012105302,0.17457781283183896,0.25755039072276437,-0.07444591576616721,-1.9187712152990415,-0.026513875449216878,0.06023020994102644,2.463242112485286,-0.19236096478112252,0.30154734233361247,-0.03471176970524331,-1.168678037619532,1.1428228145150205,0.7519330326867741,0.7910319470430469,-0.9093874547947389,1.4027943109360992,-1.4018510627922809,0.5868570938002703,2.1904556258099785,-0.9905363251306883,-0.5662977296027719,0.09965136508764122,-0.5034756541161992,-1.5506634310661327,0.06856297480602733,-1.0623037137261049,0.4735924306351816,-0.9194242342338032,1.5499344050175394,-0.7832532923362371,-0.3220615162056756,0.8135172173696698,-1.2308643164339552,0.22745993460412942,1.307142754282428,-1.6074832345612275,0.1846338585323042,0.25988279424842353,0.7818228717773104,-1.236950710878082,-1.3204566130842763,0.5219415656168976,0.29698467323318606,0.25049285034587654,0.3464482094969757,-0.6800247215784908,0.23225369716100355,0.29307247329868125,-0.7143514180263678,1.8657745111447566,0.4738329209117875,-1.1913034972026486,0.6565536086338297,-0.9746816702273214,0.787084603742452,1.158595579007404,-0.8206823183517105,0.9633761292443218,0.4127809269364983,0.82206015999449,1.8967929826539474,-0.2453881160028705,-0.7537361643574896,-0.8895144296255233,-0.8158102849654383,-0.0771017094141042,0.3411519748166439,0.27669079933001905,0.8271832490360238,0.01300189187790702,1.4535340771573169,-0.2646568332379561,2.720169166589619,0.6256673477650062,-0.8571575564162826,-1.0708924980611123,0.4824724152431853,-0.2234627853258509,0.714000494092092,0.47323762457354485,-0.07282891265687277,-0.846793718068405,-1.5148472246858646,-0.4465149520670211,0.8563987943234723,0.21409374413020396,-1.245738778711988,0.173180925851182,0.3853173797288368,-0.883857436201133,0.1537251059455279,0.058208718445999896,-1.142970297830623],\"z\":[0.3577873603482833,0.5607845263682344,1.083051243175277,1.053802052034903,-1.377669367957091,-0.9378250399151228,0.5150352672086598,0.5137859509122088,0.5150476863060479,3.852731490654721,0.570890510693167,1.135565640180599,0.9540017634932023,0.651391251305798,-0.3152692446403456,0.7589692204932674,-0.7728252145375718,-0.23681860674000887,-0.48536354782910346,0.08187413938632256,2.3146585666735087,-1.867265192591748,0.6862601903745135,-1.6127158711896517,-0.47193186578943347,1.088950596967366,0.06428001909546277,-1.0777447779293061,-0.7153037092599682,0.6795977489346758,-0.7303666317171367,0.21645858958197486,0.045571839903813784,-0.6516003476058171,2.1439440893253257,0.6339190223180112,-2.025142586657607,0.18645431476942764,-0.661786464768388,0.852433334796224,-0.7925207384327007,-0.11473644146689901,0.5049872789804571,0.8657551941701215,-1.2002964070557762,-0.3345012358409484,-0.4749453111609562,-0.6533292325737119,1.7654542402810969,0.40498171096095553,-1.2608839543350452,0.9178619470547761,2.1221561970126332,1.0324652605511468,-1.5193699659540134,-0.48423407286625136,1.2669111491866227,-0.7076694656187807,0.44381942814622843,0.7746340534293368,-0.926930471578083,-0.05952535606180008,-3.2412673400690726,-1.0243876413342898,-0.2525681513931603,-1.2477831819648495,1.6324113039316352,-1.4301413779606327,-0.44004448669698376,0.13074057728609134,1.4412732890661155,-1.4358621511794394,1.1631637521549596,0.010233061019587049,-0.9815086510479509,0.46210347426327075,0.19905969557347003,-0.6002168771587947,0.06980208499001891,-0.3853135968617602,0.11351734525124804,0.6621306745210467,1.586016816145352,-1.237815498826849,2.1330333746562666,-1.9520877995225019,-0.15178509503558332,0.5883172064845765,0.28099186773503265,-0.6226995198205938,-0.20812225035727522,-0.4930009346588328,-0.5893647569442115,0.8496020970210246,0.35701548596504734,-0.6929095952606542,0.8995998754332507,0.30729952087660933,0.8128621188389601,0.6296288419236122],\"type\":\"scatter3d\"}],                        {\"template\":{\"data\":{\"histogram2dcontour\":[{\"type\":\"histogram2dcontour\",\"colorbar\":{\"outlinewidth\":0,\"ticks\":\"\"},\"colorscale\":[[0.0,\"#0d0887\"],[0.1111111111111111,\"#46039f\"],[0.2222222222222222,\"#7201a8\"],[0.3333333333333333,\"#9c179e\"],[0.4444444444444444,\"#bd3786\"],[0.5555555555555556,\"#d8576b\"],[0.6666666666666666,\"#ed7953\"],[0.7777777777777778,\"#fb9f3a\"],[0.8888888888888888,\"#fdca26\"],[1.0,\"#f0f921\"]]}],\"choropleth\":[{\"type\":\"choropleth\",\"colorbar\":{\"outlinewidth\":0,\"ticks\":\"\"}}],\"histogram2d\":[{\"type\":\"histogram2d\",\"colorbar\":{\"outlinewidth\":0,\"ticks\":\"\"},\"colorscale\":[[0.0,\"#0d0887\"],[0.1111111111111111,\"#46039f\"],[0.2222222222222222,\"#7201a8\"],[0.3333333333333333,\"#9c179e\"],[0.4444444444444444,\"#bd3786\"],[0.5555555555555556,\"#d8576b\"],[0.6666666666666666,\"#ed7953\"],[0.7777777777777778,\"#fb9f3a\"],[0.8888888888888888,\"#fdca26\"],[1.0,\"#f0f921\"]]}],\"heatmap\":[{\"type\":\"heatmap\",\"colorbar\":{\"outlinewidth\":0,\"ticks\":\"\"},\"colorscale\":[[0.0,\"#0d0887\"],[0.1111111111111111,\"#46039f\"],[0.2222222222222222,\"#7201a8\"],[0.3333333333333333,\"#9c179e\"],[0.4444444444444444,\"#bd3786\"],[0.5555555555555556,\"#d8576b\"],[0.6666666666666666,\"#ed7953\"],[0.7777777777777778,\"#fb9f3a\"],[0.8888888888888888,\"#fdca26\"],[1.0,\"#f0f921\"]]}],\"heatmapgl\":[{\"type\":\"heatmapgl\",\"colorbar\":{\"outlinewidth\":0,\"ticks\":\"\"},\"colorscale\":[[0.0,\"#0d0887\"],[0.1111111111111111,\"#46039f\"],[0.2222222222222222,\"#7201a8\"],[0.3333333333333333,\"#9c179e\"],[0.4444444444444444,\"#bd3786\"],[0.5555555555555556,\"#d8576b\"],[0.6666666666666666,\"#ed7953\"],[0.7777777777777778,\"#fb9f3a\"],[0.8888888888888888,\"#fdca26\"],[1.0,\"#f0f921\"]]}],\"contourcarpet\":[{\"type\":\"contourcarpet\",\"colorbar\":{\"outlinewidth\":0,\"ticks\":\"\"}}],\"contour\":[{\"type\":\"contour\",\"colorbar\":{\"outlinewidth\":0,\"ticks\":\"\"},\"colorscale\":[[0.0,\"#0d0887\"],[0.1111111111111111,\"#46039f\"],[0.2222222222222222,\"#7201a8\"],[0.3333333333333333,\"#9c179e\"],[0.4444444444444444,\"#bd3786\"],[0.5555555555555556,\"#d8576b\"],[0.6666666666666666,\"#ed7953\"],[0.7777777777777778,\"#fb9f3a\"],[0.8888888888888888,\"#fdca26\"],[1.0,\"#f0f921\"]]}],\"surface\":[{\"type\":\"surface\",\"colorbar\":{\"outlinewidth\":0,\"ticks\":\"\"},\"colorscale\":[[0.0,\"#0d0887\"],[0.1111111111111111,\"#46039f\"],[0.2222222222222222,\"#7201a8\"],[0.3333333333333333,\"#9c179e\"],[0.4444444444444444,\"#bd3786\"],[0.5555555555555556,\"#d8576b\"],[0.6666666666666666,\"#ed7953\"],[0.7777777777777778,\"#fb9f3a\"],[0.8888888888888888,\"#fdca26\"],[1.0,\"#f0f921\"]]}],\"mesh3d\":[{\"type\":\"mesh3d\",\"colorbar\":{\"outlinewidth\":0,\"ticks\":\"\"}}],\"scatter\":[{\"fillpattern\":{\"fillmode\":\"overlay\",\"size\":10,\"solidity\":0.2},\"type\":\"scatter\"}],\"parcoords\":[{\"type\":\"parcoords\",\"line\":{\"colorbar\":{\"outlinewidth\":0,\"ticks\":\"\"}}}],\"scatterpolargl\":[{\"type\":\"scatterpolargl\",\"marker\":{\"colorbar\":{\"outlinewidth\":0,\"ticks\":\"\"}}}],\"bar\":[{\"error_x\":{\"color\":\"#2a3f5f\"},\"error_y\":{\"color\":\"#2a3f5f\"},\"marker\":{\"line\":{\"color\":\"#E5ECF6\",\"width\":0.5},\"pattern\":{\"fillmode\":\"overlay\",\"size\":10,\"solidity\":0.2}},\"type\":\"bar\"}],\"scattergeo\":[{\"type\":\"scattergeo\",\"marker\":{\"colorbar\":{\"outlinewidth\":0,\"ticks\":\"\"}}}],\"scatterpolar\":[{\"type\":\"scatterpolar\",\"marker\":{\"colorbar\":{\"outlinewidth\":0,\"ticks\":\"\"}}}],\"histogram\":[{\"marker\":{\"pattern\":{\"fillmode\":\"overlay\",\"size\":10,\"solidity\":0.2}},\"type\":\"histogram\"}],\"scattergl\":[{\"type\":\"scattergl\",\"marker\":{\"colorbar\":{\"outlinewidth\":0,\"ticks\":\"\"}}}],\"scatter3d\":[{\"type\":\"scatter3d\",\"line\":{\"colorbar\":{\"outlinewidth\":0,\"ticks\":\"\"}},\"marker\":{\"colorbar\":{\"outlinewidth\":0,\"ticks\":\"\"}}}],\"scattermapbox\":[{\"type\":\"scattermapbox\",\"marker\":{\"colorbar\":{\"outlinewidth\":0,\"ticks\":\"\"}}}],\"scatterternary\":[{\"type\":\"scatterternary\",\"marker\":{\"colorbar\":{\"outlinewidth\":0,\"ticks\":\"\"}}}],\"scattercarpet\":[{\"type\":\"scattercarpet\",\"marker\":{\"colorbar\":{\"outlinewidth\":0,\"ticks\":\"\"}}}],\"carpet\":[{\"aaxis\":{\"endlinecolor\":\"#2a3f5f\",\"gridcolor\":\"white\",\"linecolor\":\"white\",\"minorgridcolor\":\"white\",\"startlinecolor\":\"#2a3f5f\"},\"baxis\":{\"endlinecolor\":\"#2a3f5f\",\"gridcolor\":\"white\",\"linecolor\":\"white\",\"minorgridcolor\":\"white\",\"startlinecolor\":\"#2a3f5f\"},\"type\":\"carpet\"}],\"table\":[{\"cells\":{\"fill\":{\"color\":\"#EBF0F8\"},\"line\":{\"color\":\"white\"}},\"header\":{\"fill\":{\"color\":\"#C8D4E3\"},\"line\":{\"color\":\"white\"}},\"type\":\"table\"}],\"barpolar\":[{\"marker\":{\"line\":{\"color\":\"#E5ECF6\",\"width\":0.5},\"pattern\":{\"fillmode\":\"overlay\",\"size\":10,\"solidity\":0.2}},\"type\":\"barpolar\"}],\"pie\":[{\"automargin\":true,\"type\":\"pie\"}]},\"layout\":{\"autotypenumbers\":\"strict\",\"colorway\":[\"#636efa\",\"#EF553B\",\"#00cc96\",\"#ab63fa\",\"#FFA15A\",\"#19d3f3\",\"#FF6692\",\"#B6E880\",\"#FF97FF\",\"#FECB52\"],\"font\":{\"color\":\"#2a3f5f\"},\"hovermode\":\"closest\",\"hoverlabel\":{\"align\":\"left\"},\"paper_bgcolor\":\"white\",\"plot_bgcolor\":\"#E5ECF6\",\"polar\":{\"bgcolor\":\"#E5ECF6\",\"angularaxis\":{\"gridcolor\":\"white\",\"linecolor\":\"white\",\"ticks\":\"\"},\"radialaxis\":{\"gridcolor\":\"white\",\"linecolor\":\"white\",\"ticks\":\"\"}},\"ternary\":{\"bgcolor\":\"#E5ECF6\",\"aaxis\":{\"gridcolor\":\"white\",\"linecolor\":\"white\",\"ticks\":\"\"},\"baxis\":{\"gridcolor\":\"white\",\"linecolor\":\"white\",\"ticks\":\"\"},\"caxis\":{\"gridcolor\":\"white\",\"linecolor\":\"white\",\"ticks\":\"\"}},\"coloraxis\":{\"colorbar\":{\"outlinewidth\":0,\"ticks\":\"\"}},\"colorscale\":{\"sequential\":[[0.0,\"#0d0887\"],[0.1111111111111111,\"#46039f\"],[0.2222222222222222,\"#7201a8\"],[0.3333333333333333,\"#9c179e\"],[0.4444444444444444,\"#bd3786\"],[0.5555555555555556,\"#d8576b\"],[0.6666666666666666,\"#ed7953\"],[0.7777777777777778,\"#fb9f3a\"],[0.8888888888888888,\"#fdca26\"],[1.0,\"#f0f921\"]],\"sequentialminus\":[[0.0,\"#0d0887\"],[0.1111111111111111,\"#46039f\"],[0.2222222222222222,\"#7201a8\"],[0.3333333333333333,\"#9c179e\"],[0.4444444444444444,\"#bd3786\"],[0.5555555555555556,\"#d8576b\"],[0.6666666666666666,\"#ed7953\"],[0.7777777777777778,\"#fb9f3a\"],[0.8888888888888888,\"#fdca26\"],[1.0,\"#f0f921\"]],\"diverging\":[[0,\"#8e0152\"],[0.1,\"#c51b7d\"],[0.2,\"#de77ae\"],[0.3,\"#f1b6da\"],[0.4,\"#fde0ef\"],[0.5,\"#f7f7f7\"],[0.6,\"#e6f5d0\"],[0.7,\"#b8e186\"],[0.8,\"#7fbc41\"],[0.9,\"#4d9221\"],[1,\"#276419\"]]},\"xaxis\":{\"gridcolor\":\"white\",\"linecolor\":\"white\",\"ticks\":\"\",\"title\":{\"standoff\":15},\"zerolinecolor\":\"white\",\"automargin\":true,\"zerolinewidth\":2},\"yaxis\":{\"gridcolor\":\"white\",\"linecolor\":\"white\",\"ticks\":\"\",\"title\":{\"standoff\":15},\"zerolinecolor\":\"white\",\"automargin\":true,\"zerolinewidth\":2},\"scene\":{\"xaxis\":{\"backgroundcolor\":\"#E5ECF6\",\"gridcolor\":\"white\",\"linecolor\":\"white\",\"showbackground\":true,\"ticks\":\"\",\"zerolinecolor\":\"white\",\"gridwidth\":2},\"yaxis\":{\"backgroundcolor\":\"#E5ECF6\",\"gridcolor\":\"white\",\"linecolor\":\"white\",\"showbackground\":true,\"ticks\":\"\",\"zerolinecolor\":\"white\",\"gridwidth\":2},\"zaxis\":{\"backgroundcolor\":\"#E5ECF6\",\"gridcolor\":\"white\",\"linecolor\":\"white\",\"showbackground\":true,\"ticks\":\"\",\"zerolinecolor\":\"white\",\"gridwidth\":2}},\"shapedefaults\":{\"line\":{\"color\":\"#2a3f5f\"}},\"annotationdefaults\":{\"arrowcolor\":\"#2a3f5f\",\"arrowhead\":0,\"arrowwidth\":1},\"geo\":{\"bgcolor\":\"white\",\"landcolor\":\"#E5ECF6\",\"subunitcolor\":\"white\",\"showland\":true,\"showlakes\":true,\"lakecolor\":\"white\"},\"title\":{\"x\":0.05},\"mapbox\":{\"style\":\"light\"}}},\"scene\":{\"xaxis\":{\"title\":{\"text\":\"X Axis\"}},\"yaxis\":{\"title\":{\"text\":\"Y Axis\"}},\"zaxis\":{\"title\":{\"text\":\"Z Axis\"}}},\"title\":{\"text\":\"3D Scatter Plot with Plotly\"}},                        {\"responsive\": true}                    ).then(function(){\n",
              "                            \n",
              "var gd = document.getElementById('0c54a563-c15f-47ab-bf67-042dbb29a860');\n",
              "var x = new MutationObserver(function (mutations, observer) {{\n",
              "        var display = window.getComputedStyle(gd).display;\n",
              "        if (!display || display === 'none') {{\n",
              "            console.log([gd, 'removed!']);\n",
              "            Plotly.purge(gd);\n",
              "            observer.disconnect();\n",
              "        }}\n",
              "}});\n",
              "\n",
              "// Listen for the removal of the full notebook cells\n",
              "var notebookContainer = gd.closest('#notebook-container');\n",
              "if (notebookContainer) {{\n",
              "    x.observe(notebookContainer, {childList: true});\n",
              "}}\n",
              "\n",
              "// Listen for the clearing of the current output cell\n",
              "var outputEl = gd.closest('.output');\n",
              "if (outputEl) {{\n",
              "    x.observe(outputEl, {childList: true});\n",
              "}}\n",
              "\n",
              "                        })                };                            </script>        </div>\n",
              "</body>\n",
              "</html>"
            ]
          },
          "metadata": {}
        }
      ]
    }
  ]
}